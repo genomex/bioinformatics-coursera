{
 "cells": [
  {
   "cell_type": "markdown",
   "metadata": {},
   "source": [
    "### Pattern to Number"
   ]
  },
  {
   "cell_type": "code",
   "execution_count": 5,
   "metadata": {
    "collapsed": true
   },
   "outputs": [],
   "source": [
    "def PatternToNumber(Pattern):\n",
    "    \n",
    "    def SymbolToNumber(symbol):\n",
    "        for s in enumerate([\"A\",\"C\",\"G\",\"T\"]):\n",
    "            if s[1]==symbol:\n",
    "                return s[0]\n",
    "            \n",
    "    if len(Pattern)==0:\n",
    "        return 0\n",
    "    \n",
    "    symbol = Pattern[-1]\n",
    "    Prefix = Pattern[0:-1]\n",
    "    \n",
    "    #print(Prefix,symbol)\n",
    "    \n",
    "    return 4*PatternToNumber(Prefix)+SymbolToNumber(symbol)"
   ]
  },
  {
   "cell_type": "code",
   "execution_count": 6,
   "metadata": {},
   "outputs": [
    {
     "data": {
      "text/plain": [
       "3"
      ]
     },
     "execution_count": 6,
     "metadata": {},
     "output_type": "execute_result"
    }
   ],
   "source": [
    "PatternToNumber(\"AT\")"
   ]
  },
  {
   "cell_type": "code",
   "execution_count": 7,
   "metadata": {},
   "outputs": [
    {
     "data": {
      "text/plain": [
       "921"
      ]
     },
     "execution_count": 7,
     "metadata": {},
     "output_type": "execute_result"
    }
   ],
   "source": [
    "PatternToNumber(\"ATGCGC\")"
   ]
  },
  {
   "cell_type": "code",
   "execution_count": 70,
   "metadata": {
    "collapsed": true
   },
   "outputs": [],
   "source": [
    "def NumberToSymbol(n):\n",
    "    if n==0:\n",
    "        return \"A\"\n",
    "    elif n==1:\n",
    "        return \"C\"\n",
    "    elif n==2:\n",
    "        return \"G\"\n",
    "    else:\n",
    "        return \"T\"   "
   ]
  },
  {
   "cell_type": "code",
   "execution_count": 71,
   "metadata": {},
   "outputs": [
    {
     "data": {
      "text/plain": [
       "'T'"
      ]
     },
     "execution_count": 71,
     "metadata": {},
     "output_type": "execute_result"
    }
   ],
   "source": [
    "NumberToSymbol(3)"
   ]
  },
  {
   "cell_type": "code",
   "execution_count": 95,
   "metadata": {
    "collapsed": true
   },
   "outputs": [],
   "source": [
    " def NumberToPattern(Index,k):\n",
    "        \n",
    "        if k ==1:\n",
    "            return NumberToSymbol(Index)\n",
    "        else:\n",
    "            prefixIndex = int(Index/4)\n",
    "            r = Index%4\n",
    "            symbol = NumberToSymbol(r)\n",
    "            prefixPattern = NumberToPattern(prefixIndex,k-1)\n",
    "            return prefixPattern + symbol     "
   ]
  },
  {
   "cell_type": "code",
   "execution_count": 96,
   "metadata": {},
   "outputs": [
    {
     "data": {
      "text/plain": [
       "'ATGCGC'"
      ]
     },
     "execution_count": 96,
     "metadata": {},
     "output_type": "execute_result"
    }
   ],
   "source": [
    "NumberToPattern(Index = 921,k=6)"
   ]
  },
  {
   "cell_type": "code",
   "execution_count": 99,
   "metadata": {},
   "outputs": [
    {
     "data": {
      "text/plain": [
       "'AA'"
      ]
     },
     "execution_count": 99,
     "metadata": {},
     "output_type": "execute_result"
    }
   ],
   "source": [
    "NumberToPattern(Index = 0,k=2)"
   ]
  },
  {
   "cell_type": "markdown",
   "metadata": {},
   "source": [
    "------"
   ]
  },
  {
   "cell_type": "markdown",
   "metadata": {},
   "source": [
    "#### FindingFrequentWordsBy Sorting : Page - 44"
   ]
  },
  {
   "cell_type": "code",
   "execution_count": 13,
   "metadata": {
    "collapsed": true
   },
   "outputs": [],
   "source": [
    "import numpy as np"
   ]
  },
  {
   "cell_type": "code",
   "execution_count": 108,
   "metadata": {
    "collapsed": true
   },
   "outputs": [],
   "source": [
    "def FindingFrequentWordsBySorting(Text,k, verbose):\n",
    "    \n",
    "    FrequentPattern = []\n",
    "    Count = [0 for i in range(0,len(Text)-k)]\n",
    "    Index = []\n",
    "    \n",
    "    \n",
    "    \n",
    "    for i in range(0,len(Text)-k):\n",
    "        \n",
    "        Pattern = Text[i:i+k]\n",
    "        Index.append(PatternToNumber(Pattern))\n",
    "        \n",
    "        Count[i] = Count[i]+1\n",
    "        \n",
    "        if verbose:\n",
    "            print(\"Pattern:\",Pattern, \"ID:\", PatternToNumber(Pattern),\"Count:\", Count[i])\n",
    "            \n",
    "    SORTEDINDEX = list(np.sort(Index))\n",
    "        \n",
    "    print(\"======================================\")      \n",
    "     \n",
    "    if verbose:\n",
    "        print(\"SORTEDINDEX is:\", SORTEDINDEX)\n",
    "        \n",
    "    print(\"======================================\")  \n",
    "    \n",
    "    for i in range(1,len(Text)-k):\n",
    "            if SORTEDINDEX[i] == SORTEDINDEX[i-1]:\n",
    "                Count[i] = Count[i-1]+1\n",
    "            \n",
    "            if verbose:\n",
    "                print(\"SORTEDINDEX:\",SORTEDINDEX[i],\"Count:\", Count[i])\n",
    "            \n",
    "    print(\"======================================\")  \n",
    "    \n",
    "    maxCount = max(Count)\n",
    "    for i in range(0,len(Text)-k):\n",
    "        if Count[i] == maxCount:\n",
    "            Pattern = NumberToPattern(SORTEDINDEX[i],k)\n",
    "            FrequentPattern.append(Pattern)\n",
    "            \n",
    "    if verbose:\n",
    "                print(\"your FrequentPattern is:\",FrequentPattern)\n",
    "            \n",
    "            \n",
    "    return  FrequentPattern"
   ]
  },
  {
   "cell_type": "markdown",
   "metadata": {},
   "source": [
    "-------"
   ]
  },
  {
   "cell_type": "code",
   "execution_count": 109,
   "metadata": {},
   "outputs": [
    {
     "name": "stdout",
     "output_type": "stream",
     "text": [
      "Pattern: ATG ID: 14 Count: 1\n",
      "Pattern: TGC ID: 57 Count: 1\n",
      "Pattern: GCA ID: 36 Count: 1\n",
      "Pattern: CAA ID: 16 Count: 1\n",
      "Pattern: AAT ID: 3 Count: 1\n",
      "Pattern: ATT ID: 15 Count: 1\n",
      "Pattern: TTG ID: 62 Count: 1\n",
      "Pattern: TGC ID: 57 Count: 1\n",
      "Pattern: GCA ID: 36 Count: 1\n",
      "Pattern: CAA ID: 16 Count: 1\n",
      "Pattern: AAT ID: 3 Count: 1\n",
      "Pattern: ATG ID: 14 Count: 1\n",
      "Pattern: TGC ID: 57 Count: 1\n",
      "Pattern: GCC ID: 37 Count: 1\n",
      "Pattern: CCA ID: 20 Count: 1\n",
      "======================================\n",
      "SORTEDINDEX is: [3, 3, 14, 14, 15, 16, 16, 20, 36, 36, 37, 57, 57, 57, 62]\n",
      "======================================\n",
      "SORTEDINDEX: 3 Count: 2\n",
      "SORTEDINDEX: 14 Count: 1\n",
      "SORTEDINDEX: 14 Count: 2\n",
      "SORTEDINDEX: 15 Count: 1\n",
      "SORTEDINDEX: 16 Count: 1\n",
      "SORTEDINDEX: 16 Count: 2\n",
      "SORTEDINDEX: 20 Count: 1\n",
      "SORTEDINDEX: 36 Count: 1\n",
      "SORTEDINDEX: 36 Count: 2\n",
      "SORTEDINDEX: 37 Count: 1\n",
      "SORTEDINDEX: 57 Count: 1\n",
      "SORTEDINDEX: 57 Count: 2\n",
      "SORTEDINDEX: 57 Count: 3\n",
      "SORTEDINDEX: 62 Count: 1\n",
      "======================================\n",
      "your FrequentPattern is: ['TGC']\n"
     ]
    }
   ],
   "source": [
    "Text = \"ATGCAATTGCAATGCCAT\"\n",
    "k = 3\n",
    "Index = FindingFrequentWordsBySorting(Text,k,verbose=True)"
   ]
  },
  {
   "cell_type": "markdown",
   "metadata": {},
   "source": [
    "-------------------"
   ]
  },
  {
   "cell_type": "markdown",
   "metadata": {},
   "source": [
    "#### Clump finding Page: 45"
   ]
  },
  {
   "cell_type": "markdown",
   "metadata": {},
   "source": [
    "#### Computing Frequencies"
   ]
  },
  {
   "cell_type": "code",
   "execution_count": 126,
   "metadata": {},
   "outputs": [],
   "source": [
    "def computingFrequrncies(Text,k,verbose):\n",
    "    \n",
    "    FrequencyArray = [0 for i in range(0,(4**k)-1)]\n",
    "    \n",
    "    for i in range(0,len(Text)-k):\n",
    "        \n",
    "        Pattern = Text[i:i+k]\n",
    "        \n",
    "        Index = PatternToNumber(Pattern)\n",
    "        \n",
    "        FrequencyArray[Index] = FrequencyArray[Index]+1\n",
    "        \n",
    "        if verbose:\n",
    "            print(\"Pattern:\", Pattern, \"Index:\",Index, \"Increasing FrequencyArray:\", FrequencyArray[Index])\n",
    "    return FrequencyArray        "
   ]
  },
  {
   "cell_type": "code",
   "execution_count": 127,
   "metadata": {},
   "outputs": [
    {
     "name": "stdout",
     "output_type": "stream",
     "text": [
      "Pattern: ATG Index: 14 Increasing FrequencyArray: 1\n",
      "Pattern: TGG Index: 58 Increasing FrequencyArray: 1\n",
      "Pattern: GGA Index: 40 Increasing FrequencyArray: 1\n",
      "Pattern: GAT Index: 35 Increasing FrequencyArray: 1\n",
      "Pattern: ATT Index: 15 Increasing FrequencyArray: 1\n",
      "Pattern: TTC Index: 61 Increasing FrequencyArray: 1\n",
      "Pattern: TCC Index: 53 Increasing FrequencyArray: 1\n",
      "Pattern: CCA Index: 20 Increasing FrequencyArray: 1\n",
      "Pattern: CAG Index: 18 Increasing FrequencyArray: 1\n",
      "Pattern: AGG Index: 10 Increasing FrequencyArray: 1\n",
      "Pattern: GGC Index: 41 Increasing FrequencyArray: 1\n",
      "Pattern: GCC Index: 37 Increasing FrequencyArray: 1\n",
      "Pattern: CCT Index: 23 Increasing FrequencyArray: 1\n",
      "Pattern: CTT Index: 31 Increasing FrequencyArray: 1\n",
      "Pattern: TTA Index: 60 Increasing FrequencyArray: 1\n",
      "Pattern: TAG Index: 50 Increasing FrequencyArray: 1\n",
      "Pattern: AGG Index: 10 Increasing FrequencyArray: 2\n",
      "Pattern: GGA Index: 40 Increasing FrequencyArray: 2\n",
      "Pattern: GAA Index: 32 Increasing FrequencyArray: 1\n",
      "Pattern: AAC Index: 1 Increasing FrequencyArray: 1\n",
      "Pattern: ACC Index: 5 Increasing FrequencyArray: 1\n",
      "Pattern: CCA Index: 20 Increasing FrequencyArray: 2\n",
      "Pattern: CAT Index: 19 Increasing FrequencyArray: 1\n",
      "Pattern: ATG Index: 14 Increasing FrequencyArray: 2\n",
      "Pattern: TGC Index: 57 Increasing FrequencyArray: 1\n",
      "Pattern: GCT Index: 39 Increasing FrequencyArray: 1\n",
      "Pattern: CTA Index: 28 Increasing FrequencyArray: 1\n",
      "Pattern: TAT Index: 51 Increasing FrequencyArray: 1\n",
      "Pattern: ATG Index: 14 Increasing FrequencyArray: 3\n",
      "Pattern: TGT Index: 59 Increasing FrequencyArray: 1\n",
      "Pattern: GTA Index: 44 Increasing FrequencyArray: 1\n",
      "Pattern: TAT Index: 51 Increasing FrequencyArray: 2\n",
      "Pattern: ATC Index: 13 Increasing FrequencyArray: 1\n",
      "Pattern: TCT Index: 55 Increasing FrequencyArray: 1\n",
      "Pattern: CTT Index: 31 Increasing FrequencyArray: 2\n",
      "Pattern: TTG Index: 62 Increasing FrequencyArray: 1\n",
      "Pattern: TGG Index: 58 Increasing FrequencyArray: 2\n",
      "Pattern: GGA Index: 40 Increasing FrequencyArray: 3\n",
      "Pattern: GAA Index: 32 Increasing FrequencyArray: 2\n",
      "Pattern: AAC Index: 1 Increasing FrequencyArray: 2\n"
     ]
    }
   ],
   "source": [
    "text = \"ATGGATTCCAGGCCTTAGGAACCATGCTATGTATCTTGGAACT\"\n",
    "\n",
    "FrequencyArray = computingFrequrncies(Text=text,k=3,verbose=True)"
   ]
  },
  {
   "cell_type": "code",
   "execution_count": 128,
   "metadata": {},
   "outputs": [
    {
     "data": {
      "text/plain": [
       "[0,\n",
       " 2,\n",
       " 0,\n",
       " 0,\n",
       " 0,\n",
       " 1,\n",
       " 0,\n",
       " 0,\n",
       " 0,\n",
       " 0,\n",
       " 2,\n",
       " 0,\n",
       " 0,\n",
       " 1,\n",
       " 3,\n",
       " 1,\n",
       " 0,\n",
       " 0,\n",
       " 1,\n",
       " 1,\n",
       " 2,\n",
       " 0,\n",
       " 0,\n",
       " 1,\n",
       " 0,\n",
       " 0,\n",
       " 0,\n",
       " 0,\n",
       " 1,\n",
       " 0,\n",
       " 0,\n",
       " 2,\n",
       " 2,\n",
       " 0,\n",
       " 0,\n",
       " 1,\n",
       " 0,\n",
       " 1,\n",
       " 0,\n",
       " 1,\n",
       " 3,\n",
       " 1,\n",
       " 0,\n",
       " 0,\n",
       " 1,\n",
       " 0,\n",
       " 0,\n",
       " 0,\n",
       " 0,\n",
       " 0,\n",
       " 1,\n",
       " 2,\n",
       " 0,\n",
       " 1,\n",
       " 0,\n",
       " 1,\n",
       " 0,\n",
       " 1,\n",
       " 2,\n",
       " 1,\n",
       " 1,\n",
       " 1,\n",
       " 1]"
      ]
     },
     "execution_count": 128,
     "metadata": {},
     "output_type": "execute_result"
    }
   ],
   "source": [
    "FrequencyArray"
   ]
  },
  {
   "cell_type": "code",
   "execution_count": 130,
   "metadata": {
    "collapsed": true
   },
   "outputs": [],
   "source": [
    "gnms =(\"A\",\"C\",\"G\",\"T\")"
   ]
  },
  {
   "cell_type": "code",
   "execution_count": 131,
   "metadata": {},
   "outputs": [
    {
     "name": "stdout",
     "output_type": "stream",
     "text": [
      "kmer = AAA index = 0 value: 0\n",
      "kmer = AAC index = 1 value: 2\n",
      "kmer = AAG index = 2 value: 0\n",
      "kmer = AAT index = 3 value: 0\n",
      "kmer = ACA index = 4 value: 0\n",
      "kmer = ACC index = 5 value: 1\n",
      "kmer = ACG index = 6 value: 0\n",
      "kmer = ACT index = 7 value: 0\n",
      "kmer = AGA index = 8 value: 0\n",
      "kmer = AGC index = 9 value: 0\n",
      "kmer = AGG index = 10 value: 2\n",
      "kmer = AGT index = 11 value: 0\n",
      "kmer = ATA index = 12 value: 0\n",
      "kmer = ATC index = 13 value: 1\n",
      "kmer = ATG index = 14 value: 3\n",
      "kmer = ATT index = 15 value: 1\n",
      "kmer = CAA index = 16 value: 0\n",
      "kmer = CAC index = 17 value: 0\n",
      "kmer = CAG index = 18 value: 1\n",
      "kmer = CAT index = 19 value: 1\n",
      "kmer = CCA index = 20 value: 2\n",
      "kmer = CCC index = 21 value: 0\n",
      "kmer = CCG index = 22 value: 0\n",
      "kmer = CCT index = 23 value: 1\n",
      "kmer = CGA index = 24 value: 0\n",
      "kmer = CGC index = 25 value: 0\n",
      "kmer = CGG index = 26 value: 0\n",
      "kmer = CGT index = 27 value: 0\n",
      "kmer = CTA index = 28 value: 1\n",
      "kmer = CTC index = 29 value: 0\n",
      "kmer = CTG index = 30 value: 0\n",
      "kmer = CTT index = 31 value: 2\n",
      "kmer = GAA index = 32 value: 2\n",
      "kmer = GAC index = 33 value: 0\n",
      "kmer = GAG index = 34 value: 0\n",
      "kmer = GAT index = 35 value: 1\n",
      "kmer = GCA index = 36 value: 0\n",
      "kmer = GCC index = 37 value: 1\n",
      "kmer = GCG index = 38 value: 0\n",
      "kmer = GCT index = 39 value: 1\n",
      "kmer = GGA index = 40 value: 3\n",
      "kmer = GGC index = 41 value: 1\n",
      "kmer = GGG index = 42 value: 0\n",
      "kmer = GGT index = 43 value: 0\n",
      "kmer = GTA index = 44 value: 1\n",
      "kmer = GTC index = 45 value: 0\n",
      "kmer = GTG index = 46 value: 0\n",
      "kmer = GTT index = 47 value: 0\n",
      "kmer = TAA index = 48 value: 0\n",
      "kmer = TAC index = 49 value: 0\n",
      "kmer = TAG index = 50 value: 1\n",
      "kmer = TAT index = 51 value: 2\n",
      "kmer = TCA index = 52 value: 0\n",
      "kmer = TCC index = 53 value: 1\n",
      "kmer = TCG index = 54 value: 0\n",
      "kmer = TCT index = 55 value: 1\n",
      "kmer = TGA index = 56 value: 0\n",
      "kmer = TGC index = 57 value: 1\n",
      "kmer = TGG index = 58 value: 2\n",
      "kmer = TGT index = 59 value: 1\n",
      "kmer = TTA index = 60 value: 1\n",
      "kmer = TTC index = 61 value: 1\n",
      "kmer = TTG index = 62 value: 1\n"
     ]
    },
    {
     "ename": "IndexError",
     "evalue": "list index out of range",
     "output_type": "error",
     "traceback": [
      "\u001b[0;31m---------------------------------------------------------------------------\u001b[0m",
      "\u001b[0;31mIndexError\u001b[0m                                Traceback (most recent call last)",
      "\u001b[0;32m<ipython-input-131-b462866dd7fb>\u001b[0m in \u001b[0;36m<module>\u001b[0;34m()\u001b[0m\n\u001b[1;32m      3\u001b[0m     \u001b[0;32mfor\u001b[0m \u001b[0mg2\u001b[0m \u001b[0;32min\u001b[0m \u001b[0mgnms\u001b[0m\u001b[0;34m:\u001b[0m\u001b[0;34m\u001b[0m\u001b[0m\n\u001b[1;32m      4\u001b[0m         \u001b[0;32mfor\u001b[0m \u001b[0mg3\u001b[0m \u001b[0;32min\u001b[0m \u001b[0mgnms\u001b[0m\u001b[0;34m:\u001b[0m\u001b[0;34m\u001b[0m\u001b[0m\n\u001b[0;32m----> 5\u001b[0;31m             \u001b[0mprint\u001b[0m\u001b[0;34m(\u001b[0m\u001b[0;34m\"kmer =\"\u001b[0m\u001b[0;34m,\u001b[0m \u001b[0mg1\u001b[0m\u001b[0;34m+\u001b[0m\u001b[0mg2\u001b[0m\u001b[0;34m+\u001b[0m\u001b[0mg3\u001b[0m\u001b[0;34m,\u001b[0m\u001b[0;34m\"index =\"\u001b[0m\u001b[0;34m,\u001b[0m \u001b[0mk\u001b[0m\u001b[0;34m,\u001b[0m\u001b[0;34m\"value:\"\u001b[0m\u001b[0;34m,\u001b[0m\u001b[0mFrequencyArray\u001b[0m\u001b[0;34m[\u001b[0m\u001b[0mk\u001b[0m\u001b[0;34m]\u001b[0m\u001b[0;34m)\u001b[0m\u001b[0;34m\u001b[0m\u001b[0m\n\u001b[0m\u001b[1;32m      6\u001b[0m             \u001b[0mk\u001b[0m \u001b[0;34m=\u001b[0m \u001b[0mk\u001b[0m\u001b[0;34m+\u001b[0m\u001b[0;36m1\u001b[0m\u001b[0;34m\u001b[0m\u001b[0m\n",
      "\u001b[0;31mIndexError\u001b[0m: list index out of range"
     ]
    }
   ],
   "source": [
    "k = 0\n",
    "for g1 in gnms:\n",
    "    for g2 in gnms:\n",
    "        for g3 in gnms:\n",
    "            print(\"kmer =\", g1+g2+g3,\"index =\", k,\"value:\",FrequencyArray[k])\n",
    "            k = k+1"
   ]
  },
  {
   "cell_type": "code",
   "execution_count": null,
   "metadata": {
    "collapsed": true
   },
   "outputs": [],
   "source": []
  },
  {
   "cell_type": "code",
   "execution_count": null,
   "metadata": {
    "collapsed": true
   },
   "outputs": [],
   "source": []
  },
  {
   "cell_type": "code",
   "execution_count": null,
   "metadata": {
    "collapsed": true
   },
   "outputs": [],
   "source": []
  },
  {
   "cell_type": "code",
   "execution_count": null,
   "metadata": {
    "collapsed": true
   },
   "outputs": [],
   "source": []
  },
  {
   "cell_type": "code",
   "execution_count": null,
   "metadata": {
    "collapsed": true
   },
   "outputs": [],
   "source": []
  },
  {
   "cell_type": "code",
   "execution_count": null,
   "metadata": {
    "collapsed": true
   },
   "outputs": [],
   "source": []
  },
  {
   "cell_type": "code",
   "execution_count": null,
   "metadata": {
    "collapsed": true
   },
   "outputs": [],
   "source": []
  },
  {
   "cell_type": "code",
   "execution_count": null,
   "metadata": {
    "collapsed": true
   },
   "outputs": [],
   "source": []
  },
  {
   "cell_type": "code",
   "execution_count": null,
   "metadata": {
    "collapsed": true
   },
   "outputs": [],
   "source": []
  },
  {
   "cell_type": "code",
   "execution_count": null,
   "metadata": {
    "collapsed": true
   },
   "outputs": [],
   "source": []
  },
  {
   "cell_type": "code",
   "execution_count": null,
   "metadata": {
    "collapsed": true
   },
   "outputs": [],
   "source": []
  },
  {
   "cell_type": "code",
   "execution_count": null,
   "metadata": {
    "collapsed": true
   },
   "outputs": [],
   "source": []
  }
 ],
 "metadata": {
  "kernelspec": {
   "display_name": "Python 3",
   "language": "python",
   "name": "python3"
  },
  "language_info": {
   "codemirror_mode": {
    "name": "ipython",
    "version": 3
   },
   "file_extension": ".py",
   "mimetype": "text/x-python",
   "name": "python",
   "nbconvert_exporter": "python",
   "pygments_lexer": "ipython3",
   "version": "3.5.2"
  },
  "widgets": {
   "state": {},
   "version": "1.1.2"
  }
 },
 "nbformat": 4,
 "nbformat_minor": 2
}
