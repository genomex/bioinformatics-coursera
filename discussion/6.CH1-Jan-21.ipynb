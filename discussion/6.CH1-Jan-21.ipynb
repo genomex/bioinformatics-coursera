{
 "cells": [
  {
   "cell_type": "markdown",
   "metadata": {},
   "source": [
    "## Hamming Distance"
   ]
  },
  {
   "cell_type": "code",
   "execution_count": 2,
   "metadata": {
    "collapsed": true
   },
   "outputs": [],
   "source": [
    "def hamming_distance(genome1,genome2):\n",
    "\tscore = 0\n",
    "\tif len(genome1) != len(genome2):\n",
    "\t\tprint(\"Error\")\n",
    "\telse:\n",
    "\t\tfor i in range(len(genome1)):\n",
    "\t\t\tif genome1[i] != genome2[i]:\n",
    "\t\t\t\tscore += 1\n",
    "\treturn score"
   ]
  },
  {
   "cell_type": "code",
   "execution_count": 12,
   "metadata": {},
   "outputs": [
    {
     "data": {
      "text/plain": [
       "1"
      ]
     },
     "execution_count": 12,
     "metadata": {},
     "output_type": "execute_result"
    }
   ],
   "source": [
    "gn1 = \"AABAADE\"\n",
    "gn2 = \"AAAAADE\"\n",
    "hamming_distance(gn1,gn2)"
   ]
  },
  {
   "cell_type": "code",
   "execution_count": 9,
   "metadata": {},
   "outputs": [
    {
     "data": {
      "text/plain": [
       "2"
      ]
     },
     "execution_count": 9,
     "metadata": {},
     "output_type": "execute_result"
    }
   ],
   "source": [
    "gn3 = \"AABCAA\"\n",
    "gn4 = \"AAAAAA\"\n",
    "hamming_distance(gn3,gn4)"
   ]
  },
  {
   "cell_type": "code",
   "execution_count": 14,
   "metadata": {},
   "outputs": [
    {
     "data": {
      "text/plain": [
       "4"
      ]
     },
     "execution_count": 14,
     "metadata": {},
     "output_type": "execute_result"
    }
   ],
   "source": [
    "gn5 = \"AABCDAAP\"\n",
    "gn6 = \"AAAAAAAQ\"\n",
    "hamming_distance(gn5,gn6)"
   ]
  },
  {
   "cell_type": "code",
   "execution_count": 33,
   "metadata": {
    "collapsed": true
   },
   "outputs": [],
   "source": [
    "def approx_pattern_matching(kmer, genome, hamming_score):\n",
    "\tcount = 0\n",
    "\tfor i in range(len(genome) - len(kmer) + 1):\n",
    "\t\t#print(i,i+len(kmer), genome[i:i+len(kmer)])\n",
    "\t\tpattern = genome[i:i+len(kmer)]\n",
    "\t\tscore = hamming_distance(kmer,pattern)\n",
    "\t\tif score <= hamming_score:\n",
    "            \n",
    "\t\t\tcount += 1\n",
    "\t\t\tprint(i,i+len(kmer), genome[i:i+len(kmer)],count)\n",
    "\treturn count"
   ]
  },
  {
   "cell_type": "code",
   "execution_count": 34,
   "metadata": {},
   "outputs": [
    {
     "name": "stdout",
     "output_type": "stream",
     "text": [
      "0 2 AA 1\n",
      "1 3 AT 2\n",
      "4 6 CA 3\n",
      "5 7 AA 4\n",
      "6 8 AT 5\n",
      "7 9 TA 6\n",
      "8 10 AA 7\n",
      "9 11 AC 8\n",
      "10 12 CA 9\n",
      "11 13 AA 10\n",
      "12 14 AG 11\n"
     ]
    },
    {
     "data": {
      "text/plain": [
       "11"
      ]
     },
     "execution_count": 34,
     "metadata": {},
     "output_type": "execute_result"
    }
   ],
   "source": [
    "kmer = \"AA\"\n",
    "genome = \"AATGCAATAACAAG\"\n",
    "hamming_score = 1\n",
    "approx_pattern_matching(kmer, genome, hamming_score)"
   ]
  },
  {
   "cell_type": "code",
   "execution_count": 35,
   "metadata": {},
   "outputs": [
    {
     "name": "stdout",
     "output_type": "stream",
     "text": [
      "0 3 AAA 1\n",
      "1 4 AAT 2\n",
      "5 8 CAA 3\n",
      "6 9 AAT 4\n",
      "9 12 TAA 5\n",
      "10 13 AAC 6\n",
      "11 14 ACA 7\n",
      "13 16 ATA 8\n"
     ]
    },
    {
     "data": {
      "text/plain": [
       "8"
      ]
     },
     "execution_count": 35,
     "metadata": {},
     "output_type": "execute_result"
    }
   ],
   "source": [
    "kmer = \"AAA\"\n",
    "genome = \"AAATGCAATTAACATAG\"\n",
    "hamming_score = 1\n",
    "approx_pattern_matching(kmer, genome, hamming_score)"
   ]
  },
  {
   "cell_type": "code",
   "execution_count": 36,
   "metadata": {},
   "outputs": [
    {
     "name": "stdout",
     "output_type": "stream",
     "text": [
      "0 3 AAA 1\n",
      "1 4 AAT 2\n",
      "2 5 ATG 3\n",
      "4 7 GCA 4\n",
      "5 8 CAA 5\n",
      "6 9 AAT 6\n",
      "7 10 ATT 7\n",
      "8 11 TTA 8\n",
      "9 12 TAA 9\n",
      "10 13 AAC 10\n",
      "11 14 ACA 11\n",
      "12 15 CAT 12\n",
      "13 16 ATA 13\n",
      "14 17 TAG 14\n"
     ]
    },
    {
     "data": {
      "text/plain": [
       "14"
      ]
     },
     "execution_count": 36,
     "metadata": {},
     "output_type": "execute_result"
    }
   ],
   "source": [
    "kmer = \"AAA\"\n",
    "genome = \"AAATGCAATTAACATAG\"\n",
    "hamming_score = 2\n",
    "approx_pattern_matching(kmer, genome, hamming_score)"
   ]
  },
  {
   "cell_type": "code",
   "execution_count": 37,
   "metadata": {},
   "outputs": [
    {
     "name": "stdout",
     "output_type": "stream",
     "text": [
      "0 3 AAA 1\n",
      "1 4 AAT 2\n",
      "2 5 ATG 3\n",
      "3 6 TGC 4\n",
      "4 7 GCA 5\n",
      "5 8 CAA 6\n",
      "6 9 AAT 7\n",
      "7 10 ATT 8\n",
      "8 11 TTA 9\n",
      "9 12 TAA 10\n",
      "10 13 AAC 11\n",
      "11 14 ACA 12\n",
      "12 15 CAT 13\n",
      "13 16 ATA 14\n",
      "14 17 TAG 15\n"
     ]
    },
    {
     "data": {
      "text/plain": [
       "15"
      ]
     },
     "execution_count": 37,
     "metadata": {},
     "output_type": "execute_result"
    }
   ],
   "source": [
    "kmer = \"AAA\"\n",
    "genome = \"AAATGCAATTAACATAG\"\n",
    "hamming_score = 3\n",
    "approx_pattern_matching(kmer, genome, hamming_score)"
   ]
  },
  {
   "cell_type": "code",
   "execution_count": null,
   "metadata": {
    "collapsed": true
   },
   "outputs": [],
   "source": [
    "A = 0\n",
    "C = 1\n",
    "G = 2\n",
    "T = 3"
   ]
  },
  {
   "cell_type": "markdown",
   "metadata": {},
   "source": [
    "### Frequency array"
   ]
  },
  {
   "cell_type": "code",
   "execution_count": 56,
   "metadata": {},
   "outputs": [
    {
     "name": "stdout",
     "output_type": "stream",
     "text": [
      "kmer = AA index = 0\n",
      "kmer = AC index = 1\n",
      "kmer = AG index = 2\n",
      "kmer = AT index = 3\n",
      "kmer = CA index = 4\n",
      "kmer = CC index = 5\n",
      "kmer = CG index = 6\n",
      "kmer = CT index = 7\n",
      "kmer = GA index = 8\n",
      "kmer = GC index = 9\n",
      "kmer = GG index = 10\n",
      "kmer = GT index = 11\n",
      "kmer = TA index = 12\n",
      "kmer = TC index = 13\n",
      "kmer = TG index = 14\n",
      "kmer = TT index = 15\n"
     ]
    }
   ],
   "source": [
    "k = 0\n",
    "for g1 in (\"A\",\"C\",\"G\",\"T\"):\n",
    "    for g2 in (\"A\",\"C\",\"G\",\"T\"):\n",
    "        print(\"kmer =\", g1+g2,\"index =\", k)\n",
    "        k = k+1"
   ]
  },
  {
   "cell_type": "code",
   "execution_count": null,
   "metadata": {
    "collapsed": true
   },
   "outputs": [],
   "source": [
    "AA = 4.simboltonumber(A) + symboltonumber(A) = 0\n",
    "AC = 4.simboltonumber(A) + symboltonumber(C) = 1\n",
    "CA = 4.simboltonumber(C) + symboltonumber(A) = 4"
   ]
  },
  {
   "cell_type": "markdown",
   "metadata": {},
   "source": [
    "### Pattern to Number"
   ]
  },
  {
   "cell_type": "code",
   "execution_count": 71,
   "metadata": {
    "collapsed": true
   },
   "outputs": [],
   "source": [
    "def PatternToNumber_sample(p):\n",
    "    pn_dict = {}\n",
    "    k = 0\n",
    "    for g1 in (\"A\",\"C\",\"G\",\"T\"):\n",
    "        for g2 in (\"A\",\"C\",\"G\",\"T\"):\n",
    "            #print(\"kmer =\", g1+g2,\"index =\", k)\n",
    "            pattern = g1+g2\n",
    "            number = k\n",
    "            k = k+1\n",
    "            pn_dict.update({pattern:number})\n",
    "    print(pn_dict)\n",
    "    return pn_dict[p]"
   ]
  },
  {
   "cell_type": "code",
   "execution_count": 73,
   "metadata": {},
   "outputs": [
    {
     "name": "stdout",
     "output_type": "stream",
     "text": [
      "{'TC': 13, 'GG': 10, 'GA': 8, 'TA': 12, 'TT': 15, 'AG': 2, 'GT': 11, 'AT': 3, 'TG': 14, 'GC': 9, 'CC': 5, 'AA': 0, 'CT': 7, 'CG': 6, 'CA': 4, 'AC': 1}\n"
     ]
    },
    {
     "data": {
      "text/plain": [
       "12"
      ]
     },
     "execution_count": 73,
     "metadata": {},
     "output_type": "execute_result"
    }
   ],
   "source": [
    "PatternToNumber_sample(\"TA\")"
   ]
  },
  {
   "cell_type": "markdown",
   "metadata": {},
   "source": [
    "### Recursive algorithm"
   ]
  },
  {
   "cell_type": "code",
   "execution_count": 74,
   "metadata": {},
   "outputs": [
    {
     "data": {
      "text/plain": [
       "720"
      ]
     },
     "execution_count": 74,
     "metadata": {},
     "output_type": "execute_result"
    }
   ],
   "source": [
    "6*5*4*3*2*1"
   ]
  },
  {
   "cell_type": "code",
   "execution_count": 83,
   "metadata": {},
   "outputs": [],
   "source": [
    "def factorial(n):\n",
    "    if n ==0:\n",
    "        return 1\n",
    "    else:\n",
    "        print(n)\n",
    "        return n*factorial(n-1)"
   ]
  },
  {
   "cell_type": "code",
   "execution_count": 84,
   "metadata": {},
   "outputs": [
    {
     "name": "stdout",
     "output_type": "stream",
     "text": [
      "10\n",
      "9\n",
      "8\n",
      "7\n",
      "6\n",
      "5\n",
      "4\n",
      "3\n",
      "2\n",
      "1\n"
     ]
    },
    {
     "data": {
      "text/plain": [
       "3628800"
      ]
     },
     "execution_count": 84,
     "metadata": {},
     "output_type": "execute_result"
    }
   ],
   "source": [
    "factorial(10)"
   ]
  },
  {
   "cell_type": "code",
   "execution_count": 86,
   "metadata": {
    "collapsed": true
   },
   "outputs": [],
   "source": [
    "gnms =(\"A\",\"C\",\"G\",\"T\")"
   ]
  },
  {
   "cell_type": "code",
   "execution_count": 89,
   "metadata": {},
   "outputs": [
    {
     "name": "stdout",
     "output_type": "stream",
     "text": [
      "kmer = AAA index = 0\n",
      "kmer = AAC index = 1\n",
      "kmer = AAG index = 2\n",
      "kmer = AAT index = 3\n",
      "kmer = ACA index = 4\n",
      "kmer = ACC index = 5\n",
      "kmer = ACG index = 6\n",
      "kmer = ACT index = 7\n",
      "kmer = AGA index = 8\n",
      "kmer = AGC index = 9\n",
      "kmer = AGG index = 10\n",
      "kmer = AGT index = 11\n",
      "kmer = ATA index = 12\n",
      "kmer = ATC index = 13\n",
      "kmer = ATG index = 14\n",
      "kmer = ATT index = 15\n",
      "kmer = CAA index = 16\n",
      "kmer = CAC index = 17\n",
      "kmer = CAG index = 18\n",
      "kmer = CAT index = 19\n",
      "kmer = CCA index = 20\n",
      "kmer = CCC index = 21\n",
      "kmer = CCG index = 22\n",
      "kmer = CCT index = 23\n",
      "kmer = CGA index = 24\n",
      "kmer = CGC index = 25\n",
      "kmer = CGG index = 26\n",
      "kmer = CGT index = 27\n",
      "kmer = CTA index = 28\n",
      "kmer = CTC index = 29\n",
      "kmer = CTG index = 30\n",
      "kmer = CTT index = 31\n",
      "kmer = GAA index = 32\n",
      "kmer = GAC index = 33\n",
      "kmer = GAG index = 34\n",
      "kmer = GAT index = 35\n",
      "kmer = GCA index = 36\n",
      "kmer = GCC index = 37\n",
      "kmer = GCG index = 38\n",
      "kmer = GCT index = 39\n",
      "kmer = GGA index = 40\n",
      "kmer = GGC index = 41\n",
      "kmer = GGG index = 42\n",
      "kmer = GGT index = 43\n",
      "kmer = GTA index = 44\n",
      "kmer = GTC index = 45\n",
      "kmer = GTG index = 46\n",
      "kmer = GTT index = 47\n",
      "kmer = TAA index = 48\n",
      "kmer = TAC index = 49\n",
      "kmer = TAG index = 50\n",
      "kmer = TAT index = 51\n",
      "kmer = TCA index = 52\n",
      "kmer = TCC index = 53\n",
      "kmer = TCG index = 54\n",
      "kmer = TCT index = 55\n",
      "kmer = TGA index = 56\n",
      "kmer = TGC index = 57\n",
      "kmer = TGG index = 58\n",
      "kmer = TGT index = 59\n",
      "kmer = TTA index = 60\n",
      "kmer = TTC index = 61\n",
      "kmer = TTG index = 62\n",
      "kmer = TTT index = 63\n"
     ]
    }
   ],
   "source": [
    "k = 0\n",
    "for g1 in gnms:\n",
    "    for g2 in gnms:\n",
    "        for g3 in gnms:\n",
    "            print(\"kmer =\", g1+g2+g3,\"index =\", k)\n",
    "            k = k+1"
   ]
  },
  {
   "cell_type": "code",
   "execution_count": null,
   "metadata": {
    "collapsed": true
   },
   "outputs": [],
   "source": [
    "TGG = 4.pattertonumber(TG) + symboltonumber(G) = 4*14 + 2 = 58"
   ]
  },
  {
   "cell_type": "code",
   "execution_count": null,
   "metadata": {
    "collapsed": true
   },
   "outputs": [],
   "source": [
    "2*10 +2 =22\n",
    "275 = 2*100 + 7*10 +1*5 "
   ]
  },
  {
   "cell_type": "code",
   "execution_count": 105,
   "metadata": {},
   "outputs": [
    {
     "name": "stdout",
     "output_type": "stream",
     "text": [
      "(0, 'A') 0 A\n",
      "(1, 'C') 1 C\n",
      "(2, 'G') 2 G\n",
      "(3, 'T') 3 T\n"
     ]
    }
   ],
   "source": [
    "for s in enumerate([\"A\",\"C\",\"G\",\"T\"]):\n",
    "    print(s, s[0],s[1])\n",
    "            "
   ]
  },
  {
   "cell_type": "code",
   "execution_count": 112,
   "metadata": {},
   "outputs": [],
   "source": [
    "def PatternToNumber(Pattern):\n",
    "    \n",
    "    def SymbolToNumber(symbol):\n",
    "        for s in enumerate([\"A\",\"C\",\"G\",\"T\"]):\n",
    "            if s[1]==symbol:\n",
    "                return s[0]\n",
    "            \n",
    "    if len(Pattern)==0:\n",
    "        return 0\n",
    "    \n",
    "    symbol = Pattern[-1]\n",
    "    Prefix = Pattern[0:-1]\n",
    "    \n",
    "    print(Prefix,symbol)\n",
    "    \n",
    "    return 4*PatternToNumber(Prefix)+SymbolToNumber(symbol)"
   ]
  },
  {
   "cell_type": "code",
   "execution_count": 116,
   "metadata": {},
   "outputs": [
    {
     "name": "stdout",
     "output_type": "stream",
     "text": [
      "ATGCG C\n",
      "ATGC G\n",
      "ATG C\n",
      "AT G\n",
      "A T\n",
      " A\n"
     ]
    },
    {
     "data": {
      "text/plain": [
       "921"
      ]
     },
     "execution_count": 116,
     "metadata": {},
     "output_type": "execute_result"
    }
   ],
   "source": [
    "PatternToNumber(\"ATGCGC\")"
   ]
  },
  {
   "cell_type": "code",
   "execution_count": null,
   "metadata": {
    "collapsed": true
   },
   "outputs": [],
   "source": []
  },
  {
   "cell_type": "code",
   "execution_count": null,
   "metadata": {
    "collapsed": true
   },
   "outputs": [],
   "source": []
  },
  {
   "cell_type": "code",
   "execution_count": null,
   "metadata": {
    "collapsed": true
   },
   "outputs": [],
   "source": []
  },
  {
   "cell_type": "code",
   "execution_count": null,
   "metadata": {
    "collapsed": true
   },
   "outputs": [],
   "source": []
  },
  {
   "cell_type": "code",
   "execution_count": null,
   "metadata": {
    "collapsed": true
   },
   "outputs": [],
   "source": []
  },
  {
   "cell_type": "code",
   "execution_count": null,
   "metadata": {
    "collapsed": true
   },
   "outputs": [],
   "source": []
  },
  {
   "cell_type": "code",
   "execution_count": null,
   "metadata": {
    "collapsed": true
   },
   "outputs": [],
   "source": []
  },
  {
   "cell_type": "code",
   "execution_count": null,
   "metadata": {
    "collapsed": true
   },
   "outputs": [],
   "source": []
  },
  {
   "cell_type": "code",
   "execution_count": null,
   "metadata": {
    "collapsed": true
   },
   "outputs": [],
   "source": []
  },
  {
   "cell_type": "code",
   "execution_count": null,
   "metadata": {
    "collapsed": true
   },
   "outputs": [],
   "source": []
  },
  {
   "cell_type": "code",
   "execution_count": null,
   "metadata": {
    "collapsed": true
   },
   "outputs": [],
   "source": []
  },
  {
   "cell_type": "code",
   "execution_count": null,
   "metadata": {
    "collapsed": true
   },
   "outputs": [],
   "source": []
  },
  {
   "cell_type": "code",
   "execution_count": null,
   "metadata": {
    "collapsed": true
   },
   "outputs": [],
   "source": []
  },
  {
   "cell_type": "code",
   "execution_count": null,
   "metadata": {
    "collapsed": true
   },
   "outputs": [],
   "source": []
  },
  {
   "cell_type": "code",
   "execution_count": null,
   "metadata": {
    "collapsed": true
   },
   "outputs": [],
   "source": []
  },
  {
   "cell_type": "code",
   "execution_count": null,
   "metadata": {
    "collapsed": true
   },
   "outputs": [],
   "source": []
  },
  {
   "cell_type": "code",
   "execution_count": null,
   "metadata": {
    "collapsed": true
   },
   "outputs": [],
   "source": []
  },
  {
   "cell_type": "code",
   "execution_count": null,
   "metadata": {
    "collapsed": true
   },
   "outputs": [],
   "source": []
  },
  {
   "cell_type": "code",
   "execution_count": null,
   "metadata": {
    "collapsed": true
   },
   "outputs": [],
   "source": []
  }
 ],
 "metadata": {
  "kernelspec": {
   "display_name": "Python 3",
   "language": "python",
   "name": "python3"
  },
  "language_info": {
   "codemirror_mode": {
    "name": "ipython",
    "version": 3
   },
   "file_extension": ".py",
   "mimetype": "text/x-python",
   "name": "python",
   "nbconvert_exporter": "python",
   "pygments_lexer": "ipython3",
   "version": "3.5.2"
  },
  "widgets": {
   "state": {},
   "version": "1.1.2"
  }
 },
 "nbformat": 4,
 "nbformat_minor": 2
}
