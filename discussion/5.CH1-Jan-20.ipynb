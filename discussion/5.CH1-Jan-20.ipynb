{
 "cells": [
  {
   "cell_type": "markdown",
   "metadata": {},
   "source": [
    "## Hamming Distance"
   ]
  },
  {
   "cell_type": "code",
   "execution_count": 2,
   "metadata": {
    "collapsed": true
   },
   "outputs": [],
   "source": [
    "def hamming_distance(genome1,genome2):\n",
    "\tscore = 0\n",
    "\tif len(genome1) != len(genome2):\n",
    "\t\tprint(\"Error\")\n",
    "\telse:\n",
    "\t\tfor i in range(len(genome1)):\n",
    "\t\t\tif genome1[i] != genome2[i]:\n",
    "\t\t\t\tscore += 1\n",
    "\treturn score"
   ]
  },
  {
   "cell_type": "code",
   "execution_count": 12,
   "metadata": {},
   "outputs": [
    {
     "data": {
      "text/plain": [
       "1"
      ]
     },
     "execution_count": 12,
     "metadata": {},
     "output_type": "execute_result"
    }
   ],
   "source": [
    "gn1 = \"AABAADE\"\n",
    "gn2 = \"AAAAADE\"\n",
    "hamming_distance(gn1,gn2)"
   ]
  },
  {
   "cell_type": "code",
   "execution_count": 9,
   "metadata": {},
   "outputs": [
    {
     "data": {
      "text/plain": [
       "2"
      ]
     },
     "execution_count": 9,
     "metadata": {},
     "output_type": "execute_result"
    }
   ],
   "source": [
    "gn3 = \"AABCAA\"\n",
    "gn4 = \"AAAAAA\"\n",
    "hamming_distance(gn3,gn4)"
   ]
  },
  {
   "cell_type": "code",
   "execution_count": 14,
   "metadata": {},
   "outputs": [
    {
     "data": {
      "text/plain": [
       "4"
      ]
     },
     "execution_count": 14,
     "metadata": {},
     "output_type": "execute_result"
    }
   ],
   "source": [
    "gn5 = \"AABCDAAP\"\n",
    "gn6 = \"AAAAAAAQ\"\n",
    "hamming_distance(gn5,gn6)"
   ]
  },
  {
   "cell_type": "code",
   "execution_count": 33,
   "metadata": {},
   "outputs": [],
   "source": [
    "def approx_pattern_matching(kmer, genome, hamming_score):\n",
    "\tcount = 0\n",
    "\tfor i in range(len(genome) - len(kmer) + 1):\n",
    "\t\t#print(i,i+len(kmer), genome[i:i+len(kmer)])\n",
    "\t\tpattern = genome[i:i+len(kmer)]\n",
    "\t\tscore = hamming_distance(kmer,pattern)\n",
    "\t\tif score <= hamming_score:\n",
    "            \n",
    "\t\t\tcount += 1\n",
    "\t\t\tprint(i,i+len(kmer), genome[i:i+len(kmer)],count)\n",
    "\treturn count"
   ]
  },
  {
   "cell_type": "code",
   "execution_count": 34,
   "metadata": {},
   "outputs": [
    {
     "name": "stdout",
     "output_type": "stream",
     "text": [
      "0 2 AA 1\n",
      "1 3 AT 2\n",
      "4 6 CA 3\n",
      "5 7 AA 4\n",
      "6 8 AT 5\n",
      "7 9 TA 6\n",
      "8 10 AA 7\n",
      "9 11 AC 8\n",
      "10 12 CA 9\n",
      "11 13 AA 10\n",
      "12 14 AG 11\n"
     ]
    },
    {
     "data": {
      "text/plain": [
       "11"
      ]
     },
     "execution_count": 34,
     "metadata": {},
     "output_type": "execute_result"
    }
   ],
   "source": [
    "kmer = \"AA\"\n",
    "genome = \"AATGCAATAACAAG\"\n",
    "hamming_score = 1\n",
    "approx_pattern_matching(kmer, genome, hamming_score)"
   ]
  },
  {
   "cell_type": "code",
   "execution_count": 35,
   "metadata": {},
   "outputs": [
    {
     "name": "stdout",
     "output_type": "stream",
     "text": [
      "0 3 AAA 1\n",
      "1 4 AAT 2\n",
      "5 8 CAA 3\n",
      "6 9 AAT 4\n",
      "9 12 TAA 5\n",
      "10 13 AAC 6\n",
      "11 14 ACA 7\n",
      "13 16 ATA 8\n"
     ]
    },
    {
     "data": {
      "text/plain": [
       "8"
      ]
     },
     "execution_count": 35,
     "metadata": {},
     "output_type": "execute_result"
    }
   ],
   "source": [
    "kmer = \"AAA\"\n",
    "genome = \"AAATGCAATTAACATAG\"\n",
    "hamming_score = 1\n",
    "approx_pattern_matching(kmer, genome, hamming_score)"
   ]
  },
  {
   "cell_type": "code",
   "execution_count": 36,
   "metadata": {},
   "outputs": [
    {
     "name": "stdout",
     "output_type": "stream",
     "text": [
      "0 3 AAA 1\n",
      "1 4 AAT 2\n",
      "2 5 ATG 3\n",
      "4 7 GCA 4\n",
      "5 8 CAA 5\n",
      "6 9 AAT 6\n",
      "7 10 ATT 7\n",
      "8 11 TTA 8\n",
      "9 12 TAA 9\n",
      "10 13 AAC 10\n",
      "11 14 ACA 11\n",
      "12 15 CAT 12\n",
      "13 16 ATA 13\n",
      "14 17 TAG 14\n"
     ]
    },
    {
     "data": {
      "text/plain": [
       "14"
      ]
     },
     "execution_count": 36,
     "metadata": {},
     "output_type": "execute_result"
    }
   ],
   "source": [
    "kmer = \"AAA\"\n",
    "genome = \"AAATGCAATTAACATAG\"\n",
    "hamming_score = 2\n",
    "approx_pattern_matching(kmer, genome, hamming_score)"
   ]
  },
  {
   "cell_type": "code",
   "execution_count": 37,
   "metadata": {},
   "outputs": [
    {
     "name": "stdout",
     "output_type": "stream",
     "text": [
      "0 3 AAA 1\n",
      "1 4 AAT 2\n",
      "2 5 ATG 3\n",
      "3 6 TGC 4\n",
      "4 7 GCA 5\n",
      "5 8 CAA 6\n",
      "6 9 AAT 7\n",
      "7 10 ATT 8\n",
      "8 11 TTA 9\n",
      "9 12 TAA 10\n",
      "10 13 AAC 11\n",
      "11 14 ACA 12\n",
      "12 15 CAT 13\n",
      "13 16 ATA 14\n",
      "14 17 TAG 15\n"
     ]
    },
    {
     "data": {
      "text/plain": [
       "15"
      ]
     },
     "execution_count": 37,
     "metadata": {},
     "output_type": "execute_result"
    }
   ],
   "source": [
    "kmer = \"AAA\"\n",
    "genome = \"AAATGCAATTAACATAG\"\n",
    "hamming_score = 3\n",
    "approx_pattern_matching(kmer, genome, hamming_score)"
   ]
  },
  {
   "cell_type": "code",
   "execution_count": 43,
   "metadata": {},
   "outputs": [],
   "source": [
    "import sys\n",
    "from collections import defaultdict\n",
    "from itertools import combinations, product"
   ]
  },
  {
   "cell_type": "code",
   "execution_count": 50,
   "metadata": {
    "collapsed": true
   },
   "outputs": [],
   "source": [
    "def kmer_mismatches(kmer, d):\n",
    "    mismatches = [kmer] \n",
    "    alt_bases = {'A':'CGT', 'C':'AGT', 'G':'ACT', 'T':'ACG'}\n",
    "    for dist in range(1, d+1):\n",
    "        print(dist)\n",
    "        for change_indices in combinations(range(len(kmer)), dist):\n",
    "            for substitutions in product(*[alt_bases[kmer[i]] for i in change_indices]):\n",
    "                new_mistmatch = list(kmer)\n",
    "                print(change_indices,substitutions,  new_mistmatch)\n",
    "                for idx, sub in zip(change_indices, substitutions):\n",
    "                    new_mistmatch[idx] = sub\n",
    "                mismatches.append(''.join(new_mistmatch))\n",
    "    return mismatches\n",
    "\n"
   ]
  },
  {
   "cell_type": "code",
   "execution_count": 51,
   "metadata": {},
   "outputs": [
    {
     "name": "stdout",
     "output_type": "stream",
     "text": [
      "1\n",
      "(0,) ('C',) ['A', 'A', 'A']\n",
      "(0,) ('G',) ['A', 'A', 'A']\n",
      "(0,) ('T',) ['A', 'A', 'A']\n",
      "(1,) ('C',) ['A', 'A', 'A']\n",
      "(1,) ('G',) ['A', 'A', 'A']\n",
      "(1,) ('T',) ['A', 'A', 'A']\n",
      "(2,) ('C',) ['A', 'A', 'A']\n",
      "(2,) ('G',) ['A', 'A', 'A']\n",
      "(2,) ('T',) ['A', 'A', 'A']\n",
      "2\n",
      "(0, 1) ('C', 'C') ['A', 'A', 'A']\n",
      "(0, 1) ('C', 'G') ['A', 'A', 'A']\n",
      "(0, 1) ('C', 'T') ['A', 'A', 'A']\n",
      "(0, 1) ('G', 'C') ['A', 'A', 'A']\n",
      "(0, 1) ('G', 'G') ['A', 'A', 'A']\n",
      "(0, 1) ('G', 'T') ['A', 'A', 'A']\n",
      "(0, 1) ('T', 'C') ['A', 'A', 'A']\n",
      "(0, 1) ('T', 'G') ['A', 'A', 'A']\n",
      "(0, 1) ('T', 'T') ['A', 'A', 'A']\n",
      "(0, 2) ('C', 'C') ['A', 'A', 'A']\n",
      "(0, 2) ('C', 'G') ['A', 'A', 'A']\n",
      "(0, 2) ('C', 'T') ['A', 'A', 'A']\n",
      "(0, 2) ('G', 'C') ['A', 'A', 'A']\n",
      "(0, 2) ('G', 'G') ['A', 'A', 'A']\n",
      "(0, 2) ('G', 'T') ['A', 'A', 'A']\n",
      "(0, 2) ('T', 'C') ['A', 'A', 'A']\n",
      "(0, 2) ('T', 'G') ['A', 'A', 'A']\n",
      "(0, 2) ('T', 'T') ['A', 'A', 'A']\n",
      "(1, 2) ('C', 'C') ['A', 'A', 'A']\n",
      "(1, 2) ('C', 'G') ['A', 'A', 'A']\n",
      "(1, 2) ('C', 'T') ['A', 'A', 'A']\n",
      "(1, 2) ('G', 'C') ['A', 'A', 'A']\n",
      "(1, 2) ('G', 'G') ['A', 'A', 'A']\n",
      "(1, 2) ('G', 'T') ['A', 'A', 'A']\n",
      "(1, 2) ('T', 'C') ['A', 'A', 'A']\n",
      "(1, 2) ('T', 'G') ['A', 'A', 'A']\n",
      "(1, 2) ('T', 'T') ['A', 'A', 'A']\n"
     ]
    },
    {
     "data": {
      "text/plain": [
       "['AAA',\n",
       " 'CAA',\n",
       " 'GAA',\n",
       " 'TAA',\n",
       " 'ACA',\n",
       " 'AGA',\n",
       " 'ATA',\n",
       " 'AAC',\n",
       " 'AAG',\n",
       " 'AAT',\n",
       " 'CCA',\n",
       " 'CGA',\n",
       " 'CTA',\n",
       " 'GCA',\n",
       " 'GGA',\n",
       " 'GTA',\n",
       " 'TCA',\n",
       " 'TGA',\n",
       " 'TTA',\n",
       " 'CAC',\n",
       " 'CAG',\n",
       " 'CAT',\n",
       " 'GAC',\n",
       " 'GAG',\n",
       " 'GAT',\n",
       " 'TAC',\n",
       " 'TAG',\n",
       " 'TAT',\n",
       " 'ACC',\n",
       " 'ACG',\n",
       " 'ACT',\n",
       " 'AGC',\n",
       " 'AGG',\n",
       " 'AGT',\n",
       " 'ATC',\n",
       " 'ATG',\n",
       " 'ATT']"
      ]
     },
     "execution_count": 51,
     "metadata": {},
     "output_type": "execute_result"
    }
   ],
   "source": [
    "kmer = \"AAA\"\n",
    "d = 2\n",
    "kmer_mismatches(kmer, d)"
   ]
  },
  {
   "cell_type": "code",
   "execution_count": null,
   "metadata": {
    "collapsed": true
   },
   "outputs": [],
   "source": []
  },
  {
   "cell_type": "code",
   "execution_count": null,
   "metadata": {
    "collapsed": true
   },
   "outputs": [],
   "source": []
  },
  {
   "cell_type": "code",
   "execution_count": null,
   "metadata": {
    "collapsed": true
   },
   "outputs": [],
   "source": []
  },
  {
   "cell_type": "code",
   "execution_count": null,
   "metadata": {
    "collapsed": true
   },
   "outputs": [],
   "source": []
  },
  {
   "cell_type": "code",
   "execution_count": null,
   "metadata": {
    "collapsed": true
   },
   "outputs": [],
   "source": []
  },
  {
   "cell_type": "code",
   "execution_count": null,
   "metadata": {
    "collapsed": true
   },
   "outputs": [],
   "source": [
    "def frequentwords_mismatches(seq, k, d):\n",
    "    kmer_freq = defaultdict(int)\n",
    "    for i in xrange(len(seq)-k+1):\n",
    "        kmer_freq[seq[i:i+k]] += 1\n",
    "\n",
    "    mismatch_count = defaultdict(int)\n",
    "    for kmer, freq in kmer_freq.iteritems():\n",
    "        for mismatch in kmer_mismatches(kmer, d):\n",
    "            mismatch_count[mismatch] += freq\n",
    "\t\n",
    "\tmax_count = max(mismatch_count.values())    \n",
    "    return sorted([kmer for kmer, count in mismatch_count.iteritems() if count == max_count])"
   ]
  }
 ],
 "metadata": {
  "kernelspec": {
   "display_name": "Python 3",
   "language": "python",
   "name": "python3"
  },
  "language_info": {
   "codemirror_mode": {
    "name": "ipython",
    "version": 3
   },
   "file_extension": ".py",
   "mimetype": "text/x-python",
   "name": "python",
   "nbconvert_exporter": "python",
   "pygments_lexer": "ipython3",
   "version": "3.5.2"
  },
  "widgets": {
   "state": {},
   "version": "1.1.2"
  }
 },
 "nbformat": 4,
 "nbformat_minor": 2
}
