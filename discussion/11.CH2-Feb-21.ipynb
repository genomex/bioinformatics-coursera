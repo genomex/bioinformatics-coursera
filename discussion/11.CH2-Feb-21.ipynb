{
 "cells": [
  {
   "cell_type": "code",
   "execution_count": 5,
   "metadata": {
    "collapsed": true
   },
   "outputs": [],
   "source": [
    "import numpy as np\n",
    "import random as rn"
   ]
  },
  {
   "cell_type": "markdown",
   "metadata": {},
   "source": [
    "### Generate Random Profile matrix"
   ]
  },
  {
   "cell_type": "code",
   "execution_count": 69,
   "metadata": {},
   "outputs": [],
   "source": [
    "def get_random_profile(k):\n",
    "    \n",
    "    profile_dict= {}\n",
    "    \n",
    "    raw_profile = np.random.rand(k,4)\n",
    "    \n",
    "    profile = np.zeros([k,4])\n",
    "    \n",
    "    for row in range(k):\n",
    "        row_sum = np.sum(raw_profile[row,:])\n",
    "        profile[row,:] = raw_profile[row,:]/row_sum\n",
    "    profile = profile.transpose()\n",
    "    \n",
    "    '''generate randommatrix'''\n",
    "    for i,symbol  in zip([1,1,2,3],'ACGT'):\n",
    "        profile_dict.update({symbol:profile[i,:]})\n",
    "            \n",
    "    return profile_dict\n",
    "            "
   ]
  },
  {
   "cell_type": "code",
   "execution_count": 70,
   "metadata": {},
   "outputs": [
    {
     "data": {
      "text/plain": [
       "{'A': array([ 0.13773318,  0.4640752 ,  0.0853867 ,  0.4030156 ,  0.20490336,\n",
       "         0.28079093,  0.38745968,  0.19775695,  0.28723006,  0.22570729,\n",
       "         0.59436338]),\n",
       " 'C': array([ 0.13773318,  0.4640752 ,  0.0853867 ,  0.4030156 ,  0.20490336,\n",
       "         0.28079093,  0.38745968,  0.19775695,  0.28723006,  0.22570729,\n",
       "         0.59436338]),\n",
       " 'G': array([ 0.25555622,  0.17573383,  0.37690365,  0.32349629,  0.24145042,\n",
       "         0.29048638,  0.24902283,  0.250837  ,  0.24401367,  0.39189359,\n",
       "         0.35127254]),\n",
       " 'T': array([ 0.29483376,  0.03386497,  0.34681722,  0.16750547,  0.32695324,\n",
       "         0.19713547,  0.05293167,  0.38749951,  0.18723813,  0.33937946,\n",
       "         0.01780355])}"
      ]
     },
     "execution_count": 70,
     "metadata": {},
     "output_type": "execute_result"
    }
   ],
   "source": [
    "profile = get_random_profile(11)\n",
    "profile"
   ]
  },
  {
   "cell_type": "code",
   "execution_count": 71,
   "metadata": {
    "collapsed": true
   },
   "outputs": [],
   "source": [
    "def prob(Text,profile):\n",
    "    prb = 1\n",
    "    for i in range(len(Text)):\n",
    "        prb = prb*profile[Text[i]][i]\n",
    "        \n",
    "    return prb\n",
    "    "
   ]
  },
  {
   "cell_type": "code",
   "execution_count": 72,
   "metadata": {},
   "outputs": [
    {
     "data": {
      "text/plain": [
       "1.1269559478399089e-07"
      ]
     },
     "execution_count": 72,
     "metadata": {},
     "output_type": "execute_result"
    }
   ],
   "source": [
    "prob( 'ATGCGTCATGA',profile)"
   ]
  },
  {
   "cell_type": "code",
   "execution_count": null,
   "metadata": {
    "collapsed": true
   },
   "outputs": [],
   "source": []
  },
  {
   "cell_type": "code",
   "execution_count": null,
   "metadata": {
    "collapsed": true
   },
   "outputs": [],
   "source": []
  },
  {
   "cell_type": "code",
   "execution_count": null,
   "metadata": {
    "collapsed": true
   },
   "outputs": [],
   "source": []
  },
  {
   "cell_type": "code",
   "execution_count": null,
   "metadata": {
    "collapsed": true
   },
   "outputs": [],
   "source": []
  }
 ],
 "metadata": {
  "kernelspec": {
   "display_name": "Python 3",
   "language": "python",
   "name": "python3"
  },
  "language_info": {
   "codemirror_mode": {
    "name": "ipython",
    "version": 3
   },
   "file_extension": ".py",
   "mimetype": "text/x-python",
   "name": "python",
   "nbconvert_exporter": "python",
   "pygments_lexer": "ipython3",
   "version": "3.5.2"
  },
  "widgets": {
   "state": {},
   "version": "1.1.2"
  }
 },
 "nbformat": 4,
 "nbformat_minor": 2
}
