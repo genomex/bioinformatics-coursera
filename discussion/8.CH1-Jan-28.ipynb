{
 "cells": [
  {
   "cell_type": "markdown",
   "metadata": {},
   "source": [
    "### Clump Finding"
   ]
  },
  {
   "cell_type": "code",
   "execution_count": 58,
   "metadata": {
    "collapsed": true
   },
   "outputs": [],
   "source": [
    "def PatternToNumber(Pattern):\n",
    "    \n",
    "    def SymbolToNumber(symbol):\n",
    "        for s in enumerate([\"A\",\"C\",\"G\",\"T\"]):\n",
    "            if s[1]==symbol:\n",
    "                return s[0]\n",
    "            \n",
    "    if len(Pattern)==0:\n",
    "        return 0\n",
    "    \n",
    "    symbol = Pattern[-1]\n",
    "    Prefix = Pattern[0:-1]\n",
    "    \n",
    "    #print(Prefix,symbol)\n",
    "    \n",
    "    return 4*PatternToNumber(Prefix)+SymbolToNumber(symbol)"
   ]
  },
  {
   "cell_type": "code",
   "execution_count": 59,
   "metadata": {
    "collapsed": true
   },
   "outputs": [],
   "source": [
    "def NumberToPattern(Index,k):\n",
    "        \n",
    "        if k ==1:\n",
    "            return NumberToSymbol(Index)\n",
    "        else:\n",
    "            prefixIndex = int(Index/4)\n",
    "            r = Index%4\n",
    "            symbol = NumberToSymbol(r)\n",
    "            prefixPattern = NumberToPattern(prefixIndex,k-1)\n",
    "            return prefixPattern + symbol  "
   ]
  },
  {
   "cell_type": "code",
   "execution_count": 60,
   "metadata": {
    "collapsed": true
   },
   "outputs": [],
   "source": [
    "def NumberToSymbol(n):\n",
    "    if n==0:\n",
    "        return \"A\"\n",
    "    elif n==1:\n",
    "        return \"C\"\n",
    "    elif n==2:\n",
    "        return \"G\"\n",
    "    else:\n",
    "        return \"T\"   "
   ]
  },
  {
   "cell_type": "code",
   "execution_count": 61,
   "metadata": {
    "collapsed": true
   },
   "outputs": [],
   "source": [
    "def computingFrequrncies(Text,k,verbose=False):\n",
    "    \n",
    "    FrequencyArray = [0 for i in range(0,(4**k)-1)]\n",
    "    \n",
    "    for i in range(0,len(Text)-k):\n",
    "        \n",
    "        Pattern = Text[i:i+k]\n",
    "        \n",
    "        Index = PatternToNumber(Pattern)\n",
    "        \n",
    "        FrequencyArray[Index] = FrequencyArray[Index]+1\n",
    "        \n",
    "        if verbose:\n",
    "            print(\"Pattern:\", Pattern, \"Index:\",Index, \"Increasing FrequencyArray:\", FrequencyArray[Index])\n",
    "            \n",
    "    return FrequencyArray  "
   ]
  },
  {
   "cell_type": "code",
   "execution_count": 62,
   "metadata": {},
   "outputs": [],
   "source": [
    "#computingFrequrncies(Text = \"ATGGATTCCAGGCCTTAGGAACCATGCTATGTATCTTGGAACT\" ,k =3,verbose= True)"
   ]
  },
  {
   "cell_type": "markdown",
   "metadata": {},
   "source": [
    "#### Clump Finding: Page 48"
   ]
  },
  {
   "cell_type": "code",
   "execution_count": 71,
   "metadata": {
    "collapsed": true
   },
   "outputs": [],
   "source": [
    "Genome = \"AAAAATGCATTAACCGTTAACCGGT\""
   ]
  },
  {
   "cell_type": "code",
   "execution_count": 76,
   "metadata": {},
   "outputs": [],
   "source": [
    "def ClumpFinding(Genome,k,t,L,verbose=False):\n",
    "    \n",
    "    \n",
    "    '''L: lenhth of clump\n",
    "       k = length of kmer\n",
    "       t = frequency of kmer'''\n",
    "    \n",
    "\n",
    "    FrequentPatterns = []\n",
    "    CLUMP = []\n",
    "    \n",
    "    \n",
    "    for i in range(4**k -1):\n",
    "        CLUMP.append(0)\n",
    "        \n",
    "    if verbose:\n",
    "        print(\"Initial CLUMP:\", CLUMP)\n",
    "        \n",
    "        print(\"================================\")\n",
    "        \n",
    "    for j in range(len(Genome)-L):\n",
    "            Text = Genome[j:j+L]\n",
    "            FrequencyArray = computingFrequrncies(Text,k)\n",
    "            \n",
    "            if verbose:\n",
    "                print(\"Text:\", Text, \"FrequencyArray:\", FrequencyArray)\n",
    "                \n",
    "            \n",
    "            for index in range(4**k -1):\n",
    "                if FrequencyArray[index]>=t:\n",
    "                    CLUMP[index] =1\n",
    "                    \n",
    "            if verbose:\n",
    "                print(\"Text:\", Text, \"CLUMP:\",CLUMP)\n",
    "                \n",
    "            if verbose:       \n",
    "                print(\"----------------------------\")          \n",
    "                \n",
    "    for m in range(4**k-1):\n",
    "        if CLUMP[m]==1:\n",
    "            Pattern = NumberToPattern(m,k)\n",
    "            FrequentPatterns.append(Pattern)\n",
    "                                \n",
    "    return FrequentPatterns        "
   ]
  },
  {
   "cell_type": "code",
   "execution_count": 80,
   "metadata": {},
   "outputs": [],
   "source": [
    "Fp  = ClumpFinding(Genome,k=3,t =2,L =5)"
   ]
  },
  {
   "cell_type": "code",
   "execution_count": 78,
   "metadata": {},
   "outputs": [
    {
     "data": {
      "text/plain": [
       "['AAA']"
      ]
     },
     "execution_count": 78,
     "metadata": {},
     "output_type": "execute_result"
    }
   ],
   "source": [
    "Fp"
   ]
  },
  {
   "cell_type": "markdown",
   "metadata": {},
   "source": [
    "--------"
   ]
  },
  {
   "cell_type": "markdown",
   "metadata": {},
   "source": [
    "#### Frequent Words with mismach"
   ]
  },
  {
   "cell_type": "code",
   "execution_count": 82,
   "metadata": {},
   "outputs": [
    {
     "data": {
      "text/plain": [
       "'TGC'"
      ]
     },
     "execution_count": 82,
     "metadata": {},
     "output_type": "execute_result"
    }
   ],
   "source": [
    "Pattern = \"ATGC\"\n",
    "Pattern[1:]"
   ]
  },
  {
   "cell_type": "code",
   "execution_count": 95,
   "metadata": {
    "collapsed": true
   },
   "outputs": [],
   "source": [
    "def HammingDistance(genome1,genome2):\n",
    "\tscore = 0\n",
    "\tif len(genome1) != len(genome2):\n",
    "\t\tprint(\"Error\")\n",
    "\telse:\n",
    "\t\tfor i in range(len(genome1)):\n",
    "\t\t\tif genome1[i] != genome2[i]:\n",
    "\t\t\t\tscore += 1\n",
    "\treturn score"
   ]
  },
  {
   "cell_type": "code",
   "execution_count": 101,
   "metadata": {},
   "outputs": [],
   "source": [
    "def Neighbors(Pattern,d, verbose = False):\n",
    "    \n",
    "    #special cases\n",
    "    if d == 0:\n",
    "        return Pattern\n",
    "    if len(Pattern) ==1:\n",
    "        return {'A','C','G','T'}\n",
    "    \n",
    "    #general case\n",
    "    Neighborhood =  []\n",
    "    SuffixNeighbors = Neighbors(Pattern[1:],d)\n",
    "    \n",
    "    \n",
    "    if verbose: \n",
    "        print(\"SuffixNeighbors:\",SuffixNeighbors)\n",
    "        print(\"----------suffix------------------\")  \n",
    "        \n",
    "    \n",
    "    for item in SuffixNeighbors:\n",
    "        if HammingDistance(Pattern[1:],item)<d:\n",
    "            for x in ['A','C','G','T']:\n",
    "                Neighborhood.append(x+item)\n",
    "            if verbose: \n",
    "                print(\"x:\",x,\"item:\", item)\n",
    "                print(\"---------hamming-------------------\")     \n",
    "                \n",
    "        else:\n",
    "             Neighborhood.append(Pattern[0]+item)\n",
    "     \n",
    "    return Neighborhood"
   ]
  },
  {
   "cell_type": "code",
   "execution_count": 105,
   "metadata": {},
   "outputs": [
    {
     "name": "stdout",
     "output_type": "stream",
     "text": [
      "SuffixNeighbors: ['TA', 'TT', 'AG', 'CG', 'GG', 'TG', 'TC']\n",
      "----------suffix------------------\n",
      "x: T item: TG\n",
      "---------hamming-------------------\n"
     ]
    },
    {
     "data": {
      "text/plain": [
       "['ATA', 'ATT', 'AAG', 'ACG', 'AGG', 'ATG', 'CTG', 'GTG', 'TTG', 'ATC']"
      ]
     },
     "execution_count": 105,
     "metadata": {},
     "output_type": "execute_result"
    }
   ],
   "source": [
    "Neighbors(Pattern=\"ATG\",d =1, verbose = True)"
   ]
  },
  {
   "cell_type": "code",
   "execution_count": null,
   "metadata": {
    "collapsed": true
   },
   "outputs": [],
   "source": [
    "def FrequentWordWithMismatch(Text,k,d, verbose = False):\n",
    "    \n",
    "    \"\"\"Text: genome\n",
    "    k: kmer\n",
    "    d: number of mismatches\n",
    "    \"\"\"\n",
    "    \n",
    "    \n",
    "    Close = []\n",
    "    FrequencyArray = []\n",
    "    FrequentPatterns = []\n",
    "    \n",
    "    for i in range(4**k-1):\n",
    "        Close.append(0)\n",
    "        FrequencyArray.append(0)\n",
    "    for j in range(len(Text)-k):\n",
    "        Neighborhood = ---------------\n",
    "    \n",
    "        \n",
    "    \n",
    "    \n",
    "    \n",
    "    \n",
    "    \n",
    "    \n",
    "    "
   ]
  },
  {
   "cell_type": "code",
   "execution_count": null,
   "metadata": {
    "collapsed": true
   },
   "outputs": [],
   "source": []
  },
  {
   "cell_type": "code",
   "execution_count": null,
   "metadata": {
    "collapsed": true
   },
   "outputs": [],
   "source": []
  },
  {
   "cell_type": "code",
   "execution_count": null,
   "metadata": {
    "collapsed": true
   },
   "outputs": [],
   "source": []
  },
  {
   "cell_type": "code",
   "execution_count": null,
   "metadata": {
    "collapsed": true
   },
   "outputs": [],
   "source": []
  },
  {
   "cell_type": "code",
   "execution_count": null,
   "metadata": {
    "collapsed": true
   },
   "outputs": [],
   "source": []
  },
  {
   "cell_type": "code",
   "execution_count": null,
   "metadata": {
    "collapsed": true
   },
   "outputs": [],
   "source": []
  },
  {
   "cell_type": "code",
   "execution_count": null,
   "metadata": {
    "collapsed": true
   },
   "outputs": [],
   "source": []
  },
  {
   "cell_type": "code",
   "execution_count": null,
   "metadata": {
    "collapsed": true
   },
   "outputs": [],
   "source": []
  },
  {
   "cell_type": "code",
   "execution_count": null,
   "metadata": {
    "collapsed": true
   },
   "outputs": [],
   "source": []
  },
  {
   "cell_type": "code",
   "execution_count": null,
   "metadata": {
    "collapsed": true
   },
   "outputs": [],
   "source": []
  },
  {
   "cell_type": "code",
   "execution_count": null,
   "metadata": {
    "collapsed": true
   },
   "outputs": [],
   "source": []
  },
  {
   "cell_type": "code",
   "execution_count": null,
   "metadata": {
    "collapsed": true
   },
   "outputs": [],
   "source": []
  },
  {
   "cell_type": "code",
   "execution_count": null,
   "metadata": {
    "collapsed": true
   },
   "outputs": [],
   "source": []
  },
  {
   "cell_type": "code",
   "execution_count": null,
   "metadata": {
    "collapsed": true
   },
   "outputs": [],
   "source": []
  }
 ],
 "metadata": {
  "kernelspec": {
   "display_name": "Python 3",
   "language": "python",
   "name": "python3"
  },
  "language_info": {
   "codemirror_mode": {
    "name": "ipython",
    "version": 3
   },
   "file_extension": ".py",
   "mimetype": "text/x-python",
   "name": "python",
   "nbconvert_exporter": "python",
   "pygments_lexer": "ipython3",
   "version": "3.5.2"
  },
  "widgets": {
   "state": {},
   "version": "1.1.2"
  }
 },
 "nbformat": 4,
 "nbformat_minor": 2
}
