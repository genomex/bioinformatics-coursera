{
 "cells": [
  {
   "cell_type": "markdown",
   "metadata": {},
   "source": [
    "### Chapter-2"
   ]
  },
  {
   "cell_type": "markdown",
   "metadata": {},
   "source": [
    "### Motif Hunting"
   ]
  },
  {
   "cell_type": "markdown",
   "metadata": {},
   "source": [
    "#### Method:"
   ]
  },
  {
   "cell_type": "markdown",
   "metadata": {},
   "source": [
    "* Motif Matrix\n",
    "* SCORE(Motifs)\n",
    "* COUNT(Motifs)\n",
    "* PROFILE(Motifs)\n",
    "* CONSENSUS(Motifs)"
   ]
  },
  {
   "cell_type": "markdown",
   "metadata": {},
   "source": [
    "#### Algorithms: Median Strin problem"
   ]
  },
  {
   "cell_type": "markdown",
   "metadata": {},
   "source": [
    "* Brute Force Motif Search( Median String)\n",
    "* Greedy Motiff Search ( Laplace Rule)\n",
    "* Randomized Motif Search( Gibbs Sampling)"
   ]
  },
  {
   "cell_type": "markdown",
   "metadata": {},
   "source": [
    "### Methods: Motif Scoring"
   ]
  },
  {
   "cell_type": "code",
   "execution_count": 10,
   "metadata": {
    "collapsed": true
   },
   "outputs": [],
   "source": [
    "import random as random\n",
    "import numpy as np"
   ]
  },
  {
   "cell_type": "code",
   "execution_count": 35,
   "metadata": {
    "collapsed": true
   },
   "outputs": [],
   "source": [
    "def DNA_generator(length):\n",
    "        Genome = ['A','C','G','T']\n",
    "        DNA = \"\"\n",
    "        for i in range(length):\n",
    "               DNA = DNA+random.choice(Genome)\n",
    "        return DNA "
   ]
  },
  {
   "cell_type": "code",
   "execution_count": 105,
   "metadata": {},
   "outputs": [
    {
     "data": {
      "text/plain": [
       "['ATTGTTCTACA', 'AATCTTGTTGA', 'TATGTTGGTCA', 'AATTTCGTACA', 'ATTGTCTGTCA']"
      ]
     },
     "execution_count": 105,
     "metadata": {},
     "output_type": "execute_result"
    }
   ],
   "source": [
    "motif = ['ATTGTTCTACA','AATCTTGTTGA','TATGTTGGTCA','AATTTCGTACA','ATTGTCTGTCA']\n",
    "motif"
   ]
  },
  {
   "cell_type": "code",
   "execution_count": 106,
   "metadata": {
    "collapsed": true
   },
   "outputs": [],
   "source": [
    "Motif = []\n",
    "for item in motif:\n",
    "    letters = []\n",
    "    for i in range(len(item)):\n",
    "        letters.append(item[i])\n",
    "    Motif.append(letters)"
   ]
  },
  {
   "cell_type": "code",
   "execution_count": 107,
   "metadata": {},
   "outputs": [
    {
     "data": {
      "text/plain": [
       "[['A', 'T', 'T', 'G', 'T', 'T', 'C', 'T', 'A', 'C', 'A'],\n",
       " ['A', 'A', 'T', 'C', 'T', 'T', 'G', 'T', 'T', 'G', 'A'],\n",
       " ['T', 'A', 'T', 'G', 'T', 'T', 'G', 'G', 'T', 'C', 'A'],\n",
       " ['A', 'A', 'T', 'T', 'T', 'C', 'G', 'T', 'A', 'C', 'A'],\n",
       " ['A', 'T', 'T', 'G', 'T', 'C', 'T', 'G', 'T', 'C', 'A']]"
      ]
     },
     "execution_count": 107,
     "metadata": {},
     "output_type": "execute_result"
    }
   ],
   "source": [
    "Motif"
   ]
  },
  {
   "cell_type": "code",
   "execution_count": 108,
   "metadata": {
    "collapsed": true
   },
   "outputs": [],
   "source": [
    "MTF = np.array(Motif)"
   ]
  },
  {
   "cell_type": "code",
   "execution_count": 109,
   "metadata": {},
   "outputs": [
    {
     "data": {
      "text/plain": [
       "array([['A', 'T', 'T', 'G', 'T', 'T', 'C', 'T', 'A', 'C', 'A'],\n",
       "       ['A', 'A', 'T', 'C', 'T', 'T', 'G', 'T', 'T', 'G', 'A'],\n",
       "       ['T', 'A', 'T', 'G', 'T', 'T', 'G', 'G', 'T', 'C', 'A'],\n",
       "       ['A', 'A', 'T', 'T', 'T', 'C', 'G', 'T', 'A', 'C', 'A'],\n",
       "       ['A', 'T', 'T', 'G', 'T', 'C', 'T', 'G', 'T', 'C', 'A']], \n",
       "      dtype='<U1')"
      ]
     },
     "execution_count": 109,
     "metadata": {},
     "output_type": "execute_result"
    }
   ],
   "source": [
    "MTF"
   ]
  },
  {
   "cell_type": "code",
   "execution_count": 110,
   "metadata": {},
   "outputs": [
    {
     "data": {
      "text/plain": [
       "(5, 11)"
      ]
     },
     "execution_count": 110,
     "metadata": {},
     "output_type": "execute_result"
    }
   ],
   "source": [
    "MTF.shape"
   ]
  },
  {
   "cell_type": "code",
   "execution_count": 111,
   "metadata": {
    "collapsed": true
   },
   "outputs": [],
   "source": [
    " row,col = MTF.shape"
   ]
  },
  {
   "cell_type": "code",
   "execution_count": 112,
   "metadata": {},
   "outputs": [
    {
     "data": {
      "text/plain": [
       "(5, 11)"
      ]
     },
     "execution_count": 112,
     "metadata": {},
     "output_type": "execute_result"
    }
   ],
   "source": [
    "row,col"
   ]
  },
  {
   "cell_type": "markdown",
   "metadata": {},
   "source": [
    "----------"
   ]
  },
  {
   "cell_type": "code",
   "execution_count": 113,
   "metadata": {},
   "outputs": [
    {
     "data": {
      "text/plain": [
       "array([['A', 'T', 'T', 'G', 'T', 'T', 'C', 'T', 'A', 'C', 'A'],\n",
       "       ['A', 'A', 'T', 'C', 'T', 'T', 'G', 'T', 'T', 'G', 'A'],\n",
       "       ['T', 'A', 'T', 'G', 'T', 'T', 'G', 'G', 'T', 'C', 'A'],\n",
       "       ['A', 'A', 'T', 'T', 'T', 'C', 'G', 'T', 'A', 'C', 'A'],\n",
       "       ['A', 'T', 'T', 'G', 'T', 'C', 'T', 'G', 'T', 'C', 'A']], \n",
       "      dtype='<U1')"
      ]
     },
     "execution_count": 113,
     "metadata": {},
     "output_type": "execute_result"
    }
   ],
   "source": [
    "MTF"
   ]
  },
  {
   "cell_type": "code",
   "execution_count": 114,
   "metadata": {},
   "outputs": [
    {
     "data": {
      "text/plain": [
       "array([['A', 'A', 'T', 'A', 'A'],\n",
       "       ['T', 'A', 'A', 'A', 'T'],\n",
       "       ['T', 'T', 'T', 'T', 'T'],\n",
       "       ['G', 'C', 'G', 'T', 'G'],\n",
       "       ['T', 'T', 'T', 'T', 'T'],\n",
       "       ['T', 'T', 'T', 'C', 'C'],\n",
       "       ['C', 'G', 'G', 'G', 'T'],\n",
       "       ['T', 'T', 'G', 'T', 'G'],\n",
       "       ['A', 'T', 'T', 'A', 'T'],\n",
       "       ['C', 'G', 'C', 'C', 'C'],\n",
       "       ['A', 'A', 'A', 'A', 'A']], \n",
       "      dtype='<U1')"
      ]
     },
     "execution_count": 114,
     "metadata": {},
     "output_type": "execute_result"
    }
   ],
   "source": [
    "MTF.transpose()"
   ]
  },
  {
   "cell_type": "code",
   "execution_count": 115,
   "metadata": {
    "collapsed": true
   },
   "outputs": [],
   "source": [
    "tMTF = MTF.transpose()"
   ]
  },
  {
   "cell_type": "code",
   "execution_count": 116,
   "metadata": {},
   "outputs": [
    {
     "data": {
      "text/plain": [
       "array(['T', 'A', 'A', 'A', 'T'], \n",
       "      dtype='<U1')"
      ]
     },
     "execution_count": 116,
     "metadata": {},
     "output_type": "execute_result"
    }
   ],
   "source": [
    "tMTF[1,:]"
   ]
  },
  {
   "cell_type": "code",
   "execution_count": 117,
   "metadata": {
    "collapsed": true
   },
   "outputs": [],
   "source": [
    "letters, counts = np.unique(tMTF[1,:], return_counts=True)"
   ]
  },
  {
   "cell_type": "code",
   "execution_count": 118,
   "metadata": {},
   "outputs": [
    {
     "data": {
      "text/plain": [
       "{'A': 3, 'T': 2}"
      ]
     },
     "execution_count": 118,
     "metadata": {},
     "output_type": "execute_result"
    }
   ],
   "source": [
    "dict(zip(letters, counts))"
   ]
  },
  {
   "cell_type": "markdown",
   "metadata": {},
   "source": [
    "-------"
   ]
  },
  {
   "cell_type": "code",
   "execution_count": 124,
   "metadata": {
    "collapsed": true
   },
   "outputs": [],
   "source": [
    "tMTF = MTF.transpose()\n",
    "rows,cols = tMTF.shape\n",
    "count_dict = []\n",
    "score_list = []\n",
    "\n",
    "for row in range(rows):\n",
    "    letters, counts = np.unique(tMTF[row,:], return_counts=True) \n",
    "    count_dict.append(dict(zip(letters, counts)))\n",
    "#print(count_dict)\n",
    "for item in count_dict:\n",
    "    values = list(item.values())\n",
    "    sm = sum(values)\n",
    "    m =max(values)\n",
    "    scr = sm-m\n",
    "    score_list.append(scr)\n",
    "    #print(values,sm,m,scr)\n",
    "\n"
   ]
  },
  {
   "cell_type": "code",
   "execution_count": 125,
   "metadata": {},
   "outputs": [
    {
     "data": {
      "text/plain": [
       "[1, 2, 0, 2, 0, 2, 2, 2, 2, 1, 0]"
      ]
     },
     "execution_count": 125,
     "metadata": {},
     "output_type": "execute_result"
    }
   ],
   "source": [
    "score_list"
   ]
  },
  {
   "cell_type": "code",
   "execution_count": 132,
   "metadata": {
    "collapsed": true
   },
   "outputs": [],
   "source": [
    "def SCORE(MTF, verbose=False):\n",
    "    \n",
    "    ''' take transpose of motif matrix '''\n",
    "    tMTF = MTF.transpose()\n",
    "     \n",
    "    '''find row and cols'''\n",
    "    rows,cols = tMTF.shape\n",
    "    \n",
    "    '''take an empty count dict'''\n",
    "    count_dict = []\n",
    "    \n",
    "    '''take an empty score list'''\n",
    "    score_list = []\n",
    "\n",
    "    '''iterate over row of tMTF matrix'''\n",
    "    for row in range(rows):\n",
    "        \n",
    "        '''find count of each letters'''\n",
    "        letters, counts = np.unique(tMTF[row,:], return_counts=True) \n",
    "        '''add to count dict'''\n",
    "        count_dict.append(dict(zip(letters, counts)))\n",
    "        \n",
    "        \n",
    "    if verbose:\n",
    "        print(\"count dict is:\", count_dict)\n",
    "        \n",
    "        \n",
    "    '''find score in each column'''    \n",
    "    for item in count_dict:\n",
    "        values = list(item.values())\n",
    "        sm = sum(values)\n",
    "        m =max(values)\n",
    "        scr = sm-m\n",
    "        score_list.append(scr)\n",
    "        \n",
    "        \n",
    "        \n",
    "        if verbose:\n",
    "            print(\"values:\",values,\\\n",
    "                  \", sum:\", sm,\\\n",
    "                  \", max:\", m,\\\n",
    "                  \", score:\", scr)\n",
    "        \n",
    "        \n",
    "    return sum(score_list),score_list"
   ]
  },
  {
   "cell_type": "code",
   "execution_count": 133,
   "metadata": {},
   "outputs": [
    {
     "name": "stdout",
     "output_type": "stream",
     "text": [
      "count dict is: [{'T': 1, 'A': 4}, {'T': 2, 'A': 3}, {'T': 5}, {'C': 1, 'T': 1, 'G': 3}, {'T': 5}, {'C': 2, 'T': 3}, {'C': 1, 'T': 1, 'G': 3}, {'T': 3, 'G': 2}, {'T': 3, 'A': 2}, {'C': 4, 'G': 1}, {'A': 5}]\n",
      "values: [1, 4] , sum: 5 , max: 4 , score: 1\n",
      "values: [2, 3] , sum: 5 , max: 3 , score: 2\n",
      "values: [5] , sum: 5 , max: 5 , score: 0\n",
      "values: [1, 1, 3] , sum: 5 , max: 3 , score: 2\n",
      "values: [5] , sum: 5 , max: 5 , score: 0\n",
      "values: [2, 3] , sum: 5 , max: 3 , score: 2\n",
      "values: [1, 1, 3] , sum: 5 , max: 3 , score: 2\n",
      "values: [3, 2] , sum: 5 , max: 3 , score: 2\n",
      "values: [3, 2] , sum: 5 , max: 3 , score: 2\n",
      "values: [4, 1] , sum: 5 , max: 4 , score: 1\n",
      "values: [5] , sum: 5 , max: 5 , score: 0\n"
     ]
    },
    {
     "data": {
      "text/plain": [
       "(14, [1, 2, 0, 2, 0, 2, 2, 2, 2, 1, 0])"
      ]
     },
     "execution_count": 133,
     "metadata": {},
     "output_type": "execute_result"
    }
   ],
   "source": [
    "SCORE(MTF, verbose=True)"
   ]
  },
  {
   "cell_type": "markdown",
   "metadata": {},
   "source": [
    "----"
   ]
  },
  {
   "cell_type": "code",
   "execution_count": 140,
   "metadata": {
    "collapsed": true
   },
   "outputs": [],
   "source": [
    "def COUNT(MTF, verbose=False):\n",
    "    \n",
    "    ''' take transpose of motif matrix '''\n",
    "    tMTF = MTF.transpose()\n",
    "     \n",
    "    '''find row and cols'''\n",
    "    rows,cols = tMTF.shape\n",
    "    \n",
    "    '''take an empty count dict'''\n",
    "    count_dict = []\n",
    "    \n",
    "    '''take an empty score list'''\n",
    "    score_list = []\n",
    "\n",
    "    \n",
    "    \n",
    "    '''iterate over row of tMTF matrix'''\n",
    "    for row in range(rows):\n",
    "        \n",
    "        '''set a current column'''\n",
    "        current_col = tMTF[row,:]\n",
    "        \n",
    "        '''initiate a count dict for 4 symbols'''\n",
    "        count = {\"A\": 0, \"C\":0, \"G\": 0 , \"T\": 0}\n",
    "        \n",
    "        \n",
    "        '''iterate over each letters in that selected column'''\n",
    "        for let in current_col:\n",
    "            \n",
    "            '''iterate over 4 symbols'''\n",
    "            for sym in [\"A\", \"C\", \"G\", \"T\"]:\n",
    "                \n",
    "                '''when letter is same to symbol'''\n",
    "                if let == sym:\n",
    "                    \n",
    "                    '''count that symbol'''\n",
    "                    count[sym] += 1\n",
    "                    \n",
    "                    \n",
    "        '''add count to count_dict'''    \n",
    "        count_dict.append(count)    \n",
    "            \n",
    "        \n",
    "        \n",
    "        \n",
    "    if verbose:\n",
    "        print(\"count dict is:\", count_dict)\n",
    "        \n",
    "        \n",
    "    '''find score in each column'''    \n",
    "    for item in count_dict:\n",
    "        values = list(item.values())\n",
    "        sm = sum(values)\n",
    "        m =max(values)\n",
    "        scr = sm-m\n",
    "        score_list.append(scr)\n",
    "        \n",
    "        \n",
    "        \n",
    "        if verbose:\n",
    "            print(\"values:\",values,\\\n",
    "                  \", sum:\", sm,\\\n",
    "                  \", max:\", m,\\\n",
    "                  \", score:\", scr)\n",
    "        \n",
    "        \n",
    "    return sum(score_list),score_list"
   ]
  },
  {
   "cell_type": "code",
   "execution_count": 141,
   "metadata": {},
   "outputs": [
    {
     "name": "stdout",
     "output_type": "stream",
     "text": [
      "count dict is: [{'C': 0, 'T': 1, 'G': 0, 'A': 4}, {'C': 0, 'T': 2, 'G': 0, 'A': 3}, {'C': 0, 'T': 5, 'G': 0, 'A': 0}, {'C': 1, 'T': 1, 'G': 3, 'A': 0}, {'C': 0, 'T': 5, 'G': 0, 'A': 0}, {'C': 2, 'T': 3, 'G': 0, 'A': 0}, {'C': 1, 'T': 1, 'G': 3, 'A': 0}, {'C': 0, 'T': 3, 'G': 2, 'A': 0}, {'C': 0, 'T': 3, 'G': 0, 'A': 2}, {'C': 4, 'T': 0, 'G': 1, 'A': 0}, {'C': 0, 'T': 0, 'G': 0, 'A': 5}]\n",
      "values: [0, 1, 0, 4] , sum: 5 , max: 4 , score: 1\n",
      "values: [0, 2, 0, 3] , sum: 5 , max: 3 , score: 2\n",
      "values: [0, 5, 0, 0] , sum: 5 , max: 5 , score: 0\n",
      "values: [1, 1, 3, 0] , sum: 5 , max: 3 , score: 2\n",
      "values: [0, 5, 0, 0] , sum: 5 , max: 5 , score: 0\n",
      "values: [2, 3, 0, 0] , sum: 5 , max: 3 , score: 2\n",
      "values: [1, 1, 3, 0] , sum: 5 , max: 3 , score: 2\n",
      "values: [0, 3, 2, 0] , sum: 5 , max: 3 , score: 2\n",
      "values: [0, 3, 0, 2] , sum: 5 , max: 3 , score: 2\n",
      "values: [4, 0, 1, 0] , sum: 5 , max: 4 , score: 1\n",
      "values: [0, 0, 0, 5] , sum: 5 , max: 5 , score: 0\n"
     ]
    },
    {
     "data": {
      "text/plain": [
       "(14, [1, 2, 0, 2, 0, 2, 2, 2, 2, 1, 0])"
      ]
     },
     "execution_count": 141,
     "metadata": {},
     "output_type": "execute_result"
    }
   ],
   "source": [
    "COUNT(MTF, verbose=True)"
   ]
  },
  {
   "cell_type": "markdown",
   "metadata": {},
   "source": [
    "-------"
   ]
  },
  {
   "cell_type": "code",
   "execution_count": 156,
   "metadata": {
    "collapsed": true
   },
   "outputs": [],
   "source": [
    "def PROFILE(MTF, verbose=False):\n",
    "    \n",
    "    ''' take transpose of motif matrix '''\n",
    "    tMTF = MTF.transpose()\n",
    "     \n",
    "    '''find row and cols'''\n",
    "    rows,cols = tMTF.shape\n",
    "    \n",
    "    '''take an empty count list'''\n",
    "    count_dict = []\n",
    "    \n",
    "    \n",
    "    '''take an empty profile list'''\n",
    "    profile = []\n",
    "    \n",
    "    '''take an empty score list'''\n",
    "    score_list = []\n",
    "\n",
    "    \n",
    "    \n",
    "    '''iterate over row of tMTF matrix'''\n",
    "    for row in range(rows):\n",
    "        \n",
    "        '''set a current column'''\n",
    "        current_col = tMTF[row,:]\n",
    "        \n",
    "        '''initiate a count dict for 4 symbols'''\n",
    "        count = {\"A\": 0, \"C\":0, \"G\": 0 , \"T\": 0}\n",
    "        \n",
    "        \n",
    "        '''iterate over each letters in that selected column'''\n",
    "        for let in current_col:\n",
    "            \n",
    "            '''iterate over 4 symbols'''\n",
    "            for sym in [\"A\", \"C\", \"G\", \"T\"]:\n",
    "                \n",
    "                '''when letter is same to symbol'''\n",
    "                if let == sym:\n",
    "                    \n",
    "                    '''count that symbol'''\n",
    "                    count[sym] += 1\n",
    "                    \n",
    "                    \n",
    "        '''add count to count_dict'''    \n",
    "        count_dict.append(count)    \n",
    "            \n",
    "    \n",
    "        \n",
    "    if verbose:\n",
    "        print(\"count dict is:\", count_dict)\n",
    "        \n",
    "        \n",
    "    '''find score in each column'''    \n",
    "    for item in count_dict:\n",
    "        values = list(item.values())\n",
    "        sm = sum(values)\n",
    "        m =max(values)\n",
    "        scr = sm-m\n",
    "        score_list.append(scr)\n",
    "        \n",
    "        \n",
    "        \n",
    "        \n",
    "        '''take an empty profile dict for each col'''\n",
    "        profile_dict = {}\n",
    "        \n",
    "        '''convert item dict to profile dict for each col'''\n",
    "        for key,value in item.items():\n",
    "             profile_dict.update({key:value/sm})\n",
    "        \n",
    "        '''add profile dict to profile list'''\n",
    "        profile.append(profile_dict)\n",
    "        \n",
    "        \n",
    "        \n",
    "        if verbose:\n",
    "            print(\"values:\",values,\\\n",
    "                  \", sum:\", sm,\\\n",
    "                  \", max:\", m,\\\n",
    "                  \", score:\", scr)\n",
    "        \n",
    "        \n",
    "    return sum(score_list),score_list,profile"
   ]
  },
  {
   "cell_type": "code",
   "execution_count": 158,
   "metadata": {},
   "outputs": [
    {
     "name": "stdout",
     "output_type": "stream",
     "text": [
      "count dict is: [{'C': 0, 'T': 1, 'G': 0, 'A': 4}, {'C': 0, 'T': 2, 'G': 0, 'A': 3}, {'C': 0, 'T': 5, 'G': 0, 'A': 0}, {'C': 1, 'T': 1, 'G': 3, 'A': 0}, {'C': 0, 'T': 5, 'G': 0, 'A': 0}, {'C': 2, 'T': 3, 'G': 0, 'A': 0}, {'C': 1, 'T': 1, 'G': 3, 'A': 0}, {'C': 0, 'T': 3, 'G': 2, 'A': 0}, {'C': 0, 'T': 3, 'G': 0, 'A': 2}, {'C': 4, 'T': 0, 'G': 1, 'A': 0}, {'C': 0, 'T': 0, 'G': 0, 'A': 5}]\n",
      "values: [0, 1, 0, 4] , sum: 5 , max: 4 , score: 1\n",
      "values: [0, 2, 0, 3] , sum: 5 , max: 3 , score: 2\n",
      "values: [0, 5, 0, 0] , sum: 5 , max: 5 , score: 0\n",
      "values: [1, 1, 3, 0] , sum: 5 , max: 3 , score: 2\n",
      "values: [0, 5, 0, 0] , sum: 5 , max: 5 , score: 0\n",
      "values: [2, 3, 0, 0] , sum: 5 , max: 3 , score: 2\n",
      "values: [1, 1, 3, 0] , sum: 5 , max: 3 , score: 2\n",
      "values: [0, 3, 2, 0] , sum: 5 , max: 3 , score: 2\n",
      "values: [0, 3, 0, 2] , sum: 5 , max: 3 , score: 2\n",
      "values: [4, 0, 1, 0] , sum: 5 , max: 4 , score: 1\n",
      "values: [0, 0, 0, 5] , sum: 5 , max: 5 , score: 0\n"
     ]
    },
    {
     "data": {
      "text/plain": [
       "(14,\n",
       " [1, 2, 0, 2, 0, 2, 2, 2, 2, 1, 0],\n",
       " [{'A': 0.8, 'C': 0.0, 'G': 0.0, 'T': 0.2},\n",
       "  {'A': 0.6, 'C': 0.0, 'G': 0.0, 'T': 0.4},\n",
       "  {'A': 0.0, 'C': 0.0, 'G': 0.0, 'T': 1.0},\n",
       "  {'A': 0.0, 'C': 0.2, 'G': 0.6, 'T': 0.2},\n",
       "  {'A': 0.0, 'C': 0.0, 'G': 0.0, 'T': 1.0},\n",
       "  {'A': 0.0, 'C': 0.4, 'G': 0.0, 'T': 0.6},\n",
       "  {'A': 0.0, 'C': 0.2, 'G': 0.6, 'T': 0.2},\n",
       "  {'A': 0.0, 'C': 0.0, 'G': 0.4, 'T': 0.6},\n",
       "  {'A': 0.4, 'C': 0.0, 'G': 0.0, 'T': 0.6},\n",
       "  {'A': 0.0, 'C': 0.8, 'G': 0.2, 'T': 0.0},\n",
       "  {'A': 1.0, 'C': 0.0, 'G': 0.0, 'T': 0.0}])"
      ]
     },
     "execution_count": 158,
     "metadata": {},
     "output_type": "execute_result"
    }
   ],
   "source": [
    "PROFILE(MTF, verbose=True)"
   ]
  },
  {
   "cell_type": "code",
   "execution_count": 159,
   "metadata": {
    "collapsed": true
   },
   "outputs": [],
   "source": [
    "score,score_list,profile = PROFILE(MTF, verbose=False)"
   ]
  },
  {
   "cell_type": "code",
   "execution_count": 160,
   "metadata": {},
   "outputs": [
    {
     "data": {
      "text/plain": [
       "[{'A': 0.8, 'C': 0.0, 'G': 0.0, 'T': 0.2},\n",
       " {'A': 0.6, 'C': 0.0, 'G': 0.0, 'T': 0.4},\n",
       " {'A': 0.0, 'C': 0.0, 'G': 0.0, 'T': 1.0},\n",
       " {'A': 0.0, 'C': 0.2, 'G': 0.6, 'T': 0.2},\n",
       " {'A': 0.0, 'C': 0.0, 'G': 0.0, 'T': 1.0},\n",
       " {'A': 0.0, 'C': 0.4, 'G': 0.0, 'T': 0.6},\n",
       " {'A': 0.0, 'C': 0.2, 'G': 0.6, 'T': 0.2},\n",
       " {'A': 0.0, 'C': 0.0, 'G': 0.4, 'T': 0.6},\n",
       " {'A': 0.4, 'C': 0.0, 'G': 0.0, 'T': 0.6},\n",
       " {'A': 0.0, 'C': 0.8, 'G': 0.2, 'T': 0.0},\n",
       " {'A': 1.0, 'C': 0.0, 'G': 0.0, 'T': 0.0}]"
      ]
     },
     "execution_count": 160,
     "metadata": {},
     "output_type": "execute_result"
    }
   ],
   "source": [
    "profile"
   ]
  },
  {
   "cell_type": "code",
   "execution_count": 162,
   "metadata": {
    "collapsed": true
   },
   "outputs": [],
   "source": [
    "import pandas as pd"
   ]
  },
  {
   "cell_type": "code",
   "execution_count": 169,
   "metadata": {
    "collapsed": true
   },
   "outputs": [],
   "source": [
    "%matplotlib inline"
   ]
  },
  {
   "cell_type": "code",
   "execution_count": 170,
   "metadata": {},
   "outputs": [
    {
     "data": {
      "text/html": [
       "<div>\n",
       "<table border=\"1\" class=\"dataframe\">\n",
       "  <thead>\n",
       "    <tr style=\"text-align: right;\">\n",
       "      <th></th>\n",
       "      <th>A</th>\n",
       "      <th>C</th>\n",
       "      <th>G</th>\n",
       "      <th>T</th>\n",
       "    </tr>\n",
       "  </thead>\n",
       "  <tbody>\n",
       "    <tr>\n",
       "      <th>0</th>\n",
       "      <td>0.8</td>\n",
       "      <td>0.0</td>\n",
       "      <td>0.0</td>\n",
       "      <td>0.2</td>\n",
       "    </tr>\n",
       "    <tr>\n",
       "      <th>1</th>\n",
       "      <td>0.6</td>\n",
       "      <td>0.0</td>\n",
       "      <td>0.0</td>\n",
       "      <td>0.4</td>\n",
       "    </tr>\n",
       "    <tr>\n",
       "      <th>2</th>\n",
       "      <td>0.0</td>\n",
       "      <td>0.0</td>\n",
       "      <td>0.0</td>\n",
       "      <td>1.0</td>\n",
       "    </tr>\n",
       "    <tr>\n",
       "      <th>3</th>\n",
       "      <td>0.0</td>\n",
       "      <td>0.2</td>\n",
       "      <td>0.6</td>\n",
       "      <td>0.2</td>\n",
       "    </tr>\n",
       "    <tr>\n",
       "      <th>4</th>\n",
       "      <td>0.0</td>\n",
       "      <td>0.0</td>\n",
       "      <td>0.0</td>\n",
       "      <td>1.0</td>\n",
       "    </tr>\n",
       "    <tr>\n",
       "      <th>5</th>\n",
       "      <td>0.0</td>\n",
       "      <td>0.4</td>\n",
       "      <td>0.0</td>\n",
       "      <td>0.6</td>\n",
       "    </tr>\n",
       "    <tr>\n",
       "      <th>6</th>\n",
       "      <td>0.0</td>\n",
       "      <td>0.2</td>\n",
       "      <td>0.6</td>\n",
       "      <td>0.2</td>\n",
       "    </tr>\n",
       "    <tr>\n",
       "      <th>7</th>\n",
       "      <td>0.0</td>\n",
       "      <td>0.0</td>\n",
       "      <td>0.4</td>\n",
       "      <td>0.6</td>\n",
       "    </tr>\n",
       "    <tr>\n",
       "      <th>8</th>\n",
       "      <td>0.4</td>\n",
       "      <td>0.0</td>\n",
       "      <td>0.0</td>\n",
       "      <td>0.6</td>\n",
       "    </tr>\n",
       "    <tr>\n",
       "      <th>9</th>\n",
       "      <td>0.0</td>\n",
       "      <td>0.8</td>\n",
       "      <td>0.2</td>\n",
       "      <td>0.0</td>\n",
       "    </tr>\n",
       "    <tr>\n",
       "      <th>10</th>\n",
       "      <td>1.0</td>\n",
       "      <td>0.0</td>\n",
       "      <td>0.0</td>\n",
       "      <td>0.0</td>\n",
       "    </tr>\n",
       "  </tbody>\n",
       "</table>\n",
       "</div>"
      ],
      "text/plain": [
       "      A    C    G    T\n",
       "0   0.8  0.0  0.0  0.2\n",
       "1   0.6  0.0  0.0  0.4\n",
       "2   0.0  0.0  0.0  1.0\n",
       "3   0.0  0.2  0.6  0.2\n",
       "4   0.0  0.0  0.0  1.0\n",
       "5   0.0  0.4  0.0  0.6\n",
       "6   0.0  0.2  0.6  0.2\n",
       "7   0.0  0.0  0.4  0.6\n",
       "8   0.4  0.0  0.0  0.6\n",
       "9   0.0  0.8  0.2  0.0\n",
       "10  1.0  0.0  0.0  0.0"
      ]
     },
     "execution_count": 170,
     "metadata": {},
     "output_type": "execute_result"
    }
   ],
   "source": [
    "pd.DataFrame(profile)"
   ]
  },
  {
   "cell_type": "code",
   "execution_count": 171,
   "metadata": {
    "collapsed": true
   },
   "outputs": [],
   "source": [
    "PRF = pd.DataFrame(profile)"
   ]
  },
  {
   "cell_type": "code",
   "execution_count": 185,
   "metadata": {},
   "outputs": [
    {
     "data": {
      "text/plain": [
       "<matplotlib.axes._subplots.AxesSubplot at 0x11163ba90>"
      ]
     },
     "execution_count": 185,
     "metadata": {},
     "output_type": "execute_result"
    },
    {
     "data": {
      "image/png": "[encoded data removed]",
      "text/plain": [
       "<matplotlib.figure.Figure at 0x11169c160>"
      ]
     },
     "metadata": {},
     "output_type": "display_data"
    }
   ],
   "source": [
    "import matplotlib.pyplot as plt\n",
    "PRF.plot.barh( stacked=True,figsize=(12, 8))"
   ]
  },
  {
   "cell_type": "code",
   "execution_count": 184,
   "metadata": {},
   "outputs": [
    {
     "data": {
      "text/plain": [
       "<matplotlib.axes._subplots.AxesSubplot at 0x1111409b0>"
      ]
     },
     "execution_count": 184,
     "metadata": {},
     "output_type": "execute_result"
    },
    {
     "data": {
      "image/png": "[encoded data removed]",
      "text/plain": [
       "<matplotlib.figure.Figure at 0x10faf87f0>"
      ]
     },
     "metadata": {},
     "output_type": "display_data"
    }
   ],
   "source": [
    "import matplotlib.pyplot as plt\n",
    "PRF.plot.hist(figsize = [8,8])"
   ]
  },
  {
   "cell_type": "code",
   "execution_count": 187,
   "metadata": {},
   "outputs": [
    {
     "data": {
      "text/plain": [
       "<matplotlib.axes._subplots.AxesSubplot at 0x111855be0>"
      ]
     },
     "execution_count": 187,
     "metadata": {},
     "output_type": "execute_result"
    },
    {
     "data": {
      "image/png": "[encoded data removed]",
      "text/plain": [
       "<matplotlib.figure.Figure at 0x111932630>"
      ]
     },
     "metadata": {},
     "output_type": "display_data"
    }
   ],
   "source": [
    "PRF.plot(figsize = [10,8])"
   ]
  },
  {
   "cell_type": "markdown",
   "metadata": {
    "collapsed": true
   },
   "source": [
    "### Score Class"
   ]
  },
  {
   "cell_type": "code",
   "execution_count": 80,
   "metadata": {},
   "outputs": [],
   "source": [
    "class SCORE(object):\n",
    "    \n",
    "    def __init__(self,Motif):\n",
    "        \n",
    "        '''set Motif matrix'''\n",
    "        self.MTF =Motif\n",
    "        \n",
    "        '''take an empty Count list'''\n",
    "        self.Count_list = []\n",
    "        \n",
    "        '''take an empty Score list'''\n",
    "        self.Score_list = []\n",
    "        \n",
    "        '''take an empty Profile list'''\n",
    "        self.Profile_list = []\n",
    "        \n",
    "        '''initiate net score'''\n",
    "        self.net_score = 0\n",
    "       \n",
    "\n",
    "\n",
    "\n",
    "    def count(self, verbose=False):\n",
    "    \n",
    "        ''' take transpose of motif matrix '''\n",
    "        tMTF = self.MTF.transpose()\n",
    "     \n",
    "        '''find row and cols'''\n",
    "        rows,cols = tMTF.shape\n",
    "    \n",
    "    \n",
    "        '''iterate over row of tMTF matrix'''\n",
    "        for row in range(rows):\n",
    "        \n",
    "            '''set a current column'''\n",
    "            current_col = tMTF[row,:]\n",
    "        \n",
    "            '''initiate a count dict for 4 symbols'''\n",
    "            count_dict = {\"A\": 0, \"C\":0, \"G\": 0 , \"T\": 0}\n",
    "        \n",
    "        \n",
    "            '''iterate over each letters in that selected column'''\n",
    "            for letter in current_col:\n",
    "            \n",
    "                '''iterate over 4 symbols'''\n",
    "                for symbol in [\"A\", \"C\", \"G\", \"T\"]:\n",
    "                \n",
    "                    '''when letter is same to symbol'''\n",
    "                    if letter == symbol:\n",
    "                    \n",
    "                        '''count that symbol'''\n",
    "                        count_dict[symbol] += 1\n",
    "                    \n",
    "                    \n",
    "            '''add  each count_dict to Count List'''    \n",
    "            self.Count_list.append(count_dict) \n",
    "            \n",
    "        if verbose:\n",
    "            print(\"Count list is:\", self.Count_list)\n",
    "        \n",
    "        \n",
    "        \n",
    "        \n",
    "    def score(self, verbose =False): \n",
    "        \n",
    "        '''iterate over items in Count list'''    \n",
    "        for item in self.Count_list:\n",
    "            \n",
    "            '''find values of ecah letter count in choosed col'''\n",
    "            values = list(item.values())\n",
    "            \n",
    "            '''sum the values'''\n",
    "            value_sum = sum(values)\n",
    "            \n",
    "            '''what is majority count'''\n",
    "            maximum =max(values)\n",
    "            \n",
    "            '''score is left over out of maximum'''\n",
    "            score = value_sum-maximum\n",
    "            \n",
    "            '''add score of each col to Score List'''\n",
    "            self.Score_list.append(score)\n",
    "        \n",
    "        \n",
    "            if verbose:\n",
    "                print(\"values:\",values,\\\n",
    "                      \", sum:\", value_sum,\\\n",
    "                      \", max:\", maximum,\\\n",
    "                      \", score:\", score)\n",
    "        \n",
    "        self.net_score = sum(self.Score_list) \n",
    "        \n",
    "        if verbose:\n",
    "            print(\"==================================\")\n",
    "            print(\"net score:\",self.net_score,\\\n",
    "                  \"Score list is:\", self.Score_list)\n",
    "        \n",
    "        \n",
    "        \n",
    "        \n",
    "        \n",
    "        \n",
    "    def profile(self,verbose =False):   \n",
    "        \n",
    "        '''iterate over items in Count list'''    \n",
    "        for item in self.Count_list:\n",
    "            \n",
    "            '''take an empty profile dict for each col'''\n",
    "            profile_dict = {}\n",
    "            \n",
    "            '''find values of ecah letter count in choosed col'''\n",
    "            values = list(item.values())\n",
    "            \n",
    "            '''sum the values'''\n",
    "            value_sum = sum(values)\n",
    "            \n",
    "            '''convert item dict to profile dict for each col'''\n",
    "            for key,value in item.items():\n",
    "                 profile_dict.update({key:value/value_sum})\n",
    "        \n",
    "            '''add profile dict to profile list'''\n",
    "            self.Profile_list.append(profile_dict)\n",
    "        \n",
    "        \n",
    "        if verbose:\n",
    "            print(\"Profile list is:\", self.Profile_list)\n",
    "            \n",
    "            \n",
    "    def calculate(self, verbose = False):\n",
    "        self.count(verbose)\n",
    "        self.score(verbose)\n",
    "        self.profile(verbose)\n",
    "    \n",
    "     \n",
    "        \n",
    "        "
   ]
  },
  {
   "cell_type": "code",
   "execution_count": 81,
   "metadata": {},
   "outputs": [],
   "source": [
    "motif = ['ATTGTTCTACA','AATCTTGTTGA','TATGTTGGTCA','AATTTCGTACA','ATTGTCTGTCA']"
   ]
  },
  {
   "cell_type": "code",
   "execution_count": 82,
   "metadata": {
    "collapsed": true
   },
   "outputs": [],
   "source": [
    "Motif = []\n",
    "for item in motif:\n",
    "    letters = []\n",
    "    for i in range(len(item)):\n",
    "        letters.append(item[i])\n",
    "    Motif.append(letters)\n",
    "Motif =np.array(Motif)"
   ]
  },
  {
   "cell_type": "code",
   "execution_count": 83,
   "metadata": {},
   "outputs": [
    {
     "data": {
      "text/plain": [
       "array([['A', 'T', 'T', 'G', 'T', 'T', 'C', 'T', 'A', 'C', 'A'],\n",
       "       ['A', 'A', 'T', 'C', 'T', 'T', 'G', 'T', 'T', 'G', 'A'],\n",
       "       ['T', 'A', 'T', 'G', 'T', 'T', 'G', 'G', 'T', 'C', 'A'],\n",
       "       ['A', 'A', 'T', 'T', 'T', 'C', 'G', 'T', 'A', 'C', 'A'],\n",
       "       ['A', 'T', 'T', 'G', 'T', 'C', 'T', 'G', 'T', 'C', 'A']], \n",
       "      dtype='<U1')"
      ]
     },
     "execution_count": 83,
     "metadata": {},
     "output_type": "execute_result"
    }
   ],
   "source": [
    "Motif"
   ]
  },
  {
   "cell_type": "code",
   "execution_count": 84,
   "metadata": {},
   "outputs": [
    {
     "name": "stdout",
     "output_type": "stream",
     "text": [
      "Count list is: [{'A': 4, 'G': 0, 'C': 0, 'T': 1}, {'A': 3, 'G': 0, 'C': 0, 'T': 2}, {'A': 0, 'G': 0, 'C': 0, 'T': 5}, {'A': 0, 'G': 3, 'C': 1, 'T': 1}, {'A': 0, 'G': 0, 'C': 0, 'T': 5}, {'A': 0, 'G': 0, 'C': 2, 'T': 3}, {'A': 0, 'G': 3, 'C': 1, 'T': 1}, {'A': 0, 'G': 2, 'C': 0, 'T': 3}, {'A': 2, 'G': 0, 'C': 0, 'T': 3}, {'A': 0, 'G': 1, 'C': 4, 'T': 0}, {'A': 5, 'G': 0, 'C': 0, 'T': 0}]\n"
     ]
    }
   ],
   "source": [
    "S = SCORE(Motif)\n",
    "S.count(verbose=True)"
   ]
  },
  {
   "cell_type": "code",
   "execution_count": 85,
   "metadata": {},
   "outputs": [
    {
     "name": "stdout",
     "output_type": "stream",
     "text": [
      "values: [4, 0, 0, 1] , sum: 5 , max: 4 , score: 1\n",
      "values: [3, 0, 0, 2] , sum: 5 , max: 3 , score: 2\n",
      "values: [0, 0, 0, 5] , sum: 5 , max: 5 , score: 0\n",
      "values: [0, 3, 1, 1] , sum: 5 , max: 3 , score: 2\n",
      "values: [0, 0, 0, 5] , sum: 5 , max: 5 , score: 0\n",
      "values: [0, 0, 2, 3] , sum: 5 , max: 3 , score: 2\n",
      "values: [0, 3, 1, 1] , sum: 5 , max: 3 , score: 2\n",
      "values: [0, 2, 0, 3] , sum: 5 , max: 3 , score: 2\n",
      "values: [2, 0, 0, 3] , sum: 5 , max: 3 , score: 2\n",
      "values: [0, 1, 4, 0] , sum: 5 , max: 4 , score: 1\n",
      "values: [5, 0, 0, 0] , sum: 5 , max: 5 , score: 0\n",
      "==================================\n",
      "net score: 14 Score list is: [1, 2, 0, 2, 0, 2, 2, 2, 2, 1, 0]\n"
     ]
    }
   ],
   "source": [
    "S.score(verbose=True)"
   ]
  },
  {
   "cell_type": "code",
   "execution_count": 86,
   "metadata": {},
   "outputs": [
    {
     "name": "stdout",
     "output_type": "stream",
     "text": [
      "Profile list is: [{'A': 0.8, 'G': 0.0, 'C': 0.0, 'T': 0.2}, {'A': 0.6, 'G': 0.0, 'C': 0.0, 'T': 0.4}, {'A': 0.0, 'G': 0.0, 'C': 0.0, 'T': 1.0}, {'A': 0.0, 'G': 0.6, 'C': 0.2, 'T': 0.2}, {'A': 0.0, 'G': 0.0, 'C': 0.0, 'T': 1.0}, {'A': 0.0, 'G': 0.0, 'C': 0.4, 'T': 0.6}, {'A': 0.0, 'G': 0.6, 'C': 0.2, 'T': 0.2}, {'A': 0.0, 'G': 0.4, 'C': 0.0, 'T': 0.6}, {'A': 0.4, 'G': 0.0, 'C': 0.0, 'T': 0.6}, {'A': 0.0, 'G': 0.2, 'C': 0.8, 'T': 0.0}, {'A': 1.0, 'G': 0.0, 'C': 0.0, 'T': 0.0}]\n"
     ]
    }
   ],
   "source": [
    "S.profile(verbose = True)"
   ]
  },
  {
   "cell_type": "markdown",
   "metadata": {
    "collapsed": true
   },
   "source": [
    "------------"
   ]
  },
  {
   "cell_type": "code",
   "execution_count": 88,
   "metadata": {},
   "outputs": [
    {
     "name": "stdout",
     "output_type": "stream",
     "text": [
      "Count list is: [{'A': 4, 'G': 0, 'C': 0, 'T': 1}, {'A': 3, 'G': 0, 'C': 0, 'T': 2}, {'A': 0, 'G': 0, 'C': 0, 'T': 5}, {'A': 0, 'G': 3, 'C': 1, 'T': 1}, {'A': 0, 'G': 0, 'C': 0, 'T': 5}, {'A': 0, 'G': 0, 'C': 2, 'T': 3}, {'A': 0, 'G': 3, 'C': 1, 'T': 1}, {'A': 0, 'G': 2, 'C': 0, 'T': 3}, {'A': 2, 'G': 0, 'C': 0, 'T': 3}, {'A': 0, 'G': 1, 'C': 4, 'T': 0}, {'A': 5, 'G': 0, 'C': 0, 'T': 0}, {'A': 4, 'G': 0, 'C': 0, 'T': 1}, {'A': 3, 'G': 0, 'C': 0, 'T': 2}, {'A': 0, 'G': 0, 'C': 0, 'T': 5}, {'A': 0, 'G': 3, 'C': 1, 'T': 1}, {'A': 0, 'G': 0, 'C': 0, 'T': 5}, {'A': 0, 'G': 0, 'C': 2, 'T': 3}, {'A': 0, 'G': 3, 'C': 1, 'T': 1}, {'A': 0, 'G': 2, 'C': 0, 'T': 3}, {'A': 2, 'G': 0, 'C': 0, 'T': 3}, {'A': 0, 'G': 1, 'C': 4, 'T': 0}, {'A': 5, 'G': 0, 'C': 0, 'T': 0}]\n",
      "values: [4, 0, 0, 1] , sum: 5 , max: 4 , score: 1\n",
      "values: [3, 0, 0, 2] , sum: 5 , max: 3 , score: 2\n",
      "values: [0, 0, 0, 5] , sum: 5 , max: 5 , score: 0\n",
      "values: [0, 3, 1, 1] , sum: 5 , max: 3 , score: 2\n",
      "values: [0, 0, 0, 5] , sum: 5 , max: 5 , score: 0\n",
      "values: [0, 0, 2, 3] , sum: 5 , max: 3 , score: 2\n",
      "values: [0, 3, 1, 1] , sum: 5 , max: 3 , score: 2\n",
      "values: [0, 2, 0, 3] , sum: 5 , max: 3 , score: 2\n",
      "values: [2, 0, 0, 3] , sum: 5 , max: 3 , score: 2\n",
      "values: [0, 1, 4, 0] , sum: 5 , max: 4 , score: 1\n",
      "values: [5, 0, 0, 0] , sum: 5 , max: 5 , score: 0\n",
      "values: [4, 0, 0, 1] , sum: 5 , max: 4 , score: 1\n",
      "values: [3, 0, 0, 2] , sum: 5 , max: 3 , score: 2\n",
      "values: [0, 0, 0, 5] , sum: 5 , max: 5 , score: 0\n",
      "values: [0, 3, 1, 1] , sum: 5 , max: 3 , score: 2\n",
      "values: [0, 0, 0, 5] , sum: 5 , max: 5 , score: 0\n",
      "values: [0, 0, 2, 3] , sum: 5 , max: 3 , score: 2\n",
      "values: [0, 3, 1, 1] , sum: 5 , max: 3 , score: 2\n",
      "values: [0, 2, 0, 3] , sum: 5 , max: 3 , score: 2\n",
      "values: [2, 0, 0, 3] , sum: 5 , max: 3 , score: 2\n",
      "values: [0, 1, 4, 0] , sum: 5 , max: 4 , score: 1\n",
      "values: [5, 0, 0, 0] , sum: 5 , max: 5 , score: 0\n",
      "==================================\n",
      "net score: 42 Score list is: [1, 2, 0, 2, 0, 2, 2, 2, 2, 1, 0, 1, 2, 0, 2, 0, 2, 2, 2, 2, 1, 0, 1, 2, 0, 2, 0, 2, 2, 2, 2, 1, 0]\n",
      "Profile list is: [{'A': 0.8, 'G': 0.0, 'C': 0.0, 'T': 0.2}, {'A': 0.6, 'G': 0.0, 'C': 0.0, 'T': 0.4}, {'A': 0.0, 'G': 0.0, 'C': 0.0, 'T': 1.0}, {'A': 0.0, 'G': 0.6, 'C': 0.2, 'T': 0.2}, {'A': 0.0, 'G': 0.0, 'C': 0.0, 'T': 1.0}, {'A': 0.0, 'G': 0.0, 'C': 0.4, 'T': 0.6}, {'A': 0.0, 'G': 0.6, 'C': 0.2, 'T': 0.2}, {'A': 0.0, 'G': 0.4, 'C': 0.0, 'T': 0.6}, {'A': 0.4, 'G': 0.0, 'C': 0.0, 'T': 0.6}, {'A': 0.0, 'G': 0.2, 'C': 0.8, 'T': 0.0}, {'A': 1.0, 'G': 0.0, 'C': 0.0, 'T': 0.0}, {'A': 0.8, 'G': 0.0, 'C': 0.0, 'T': 0.2}, {'A': 0.6, 'G': 0.0, 'C': 0.0, 'T': 0.4}, {'A': 0.0, 'G': 0.0, 'C': 0.0, 'T': 1.0}, {'A': 0.0, 'G': 0.6, 'C': 0.2, 'T': 0.2}, {'A': 0.0, 'G': 0.0, 'C': 0.0, 'T': 1.0}, {'A': 0.0, 'G': 0.0, 'C': 0.4, 'T': 0.6}, {'A': 0.0, 'G': 0.6, 'C': 0.2, 'T': 0.2}, {'A': 0.0, 'G': 0.4, 'C': 0.0, 'T': 0.6}, {'A': 0.4, 'G': 0.0, 'C': 0.0, 'T': 0.6}, {'A': 0.0, 'G': 0.2, 'C': 0.8, 'T': 0.0}, {'A': 1.0, 'G': 0.0, 'C': 0.0, 'T': 0.0}, {'A': 0.8, 'G': 0.0, 'C': 0.0, 'T': 0.2}, {'A': 0.6, 'G': 0.0, 'C': 0.0, 'T': 0.4}, {'A': 0.0, 'G': 0.0, 'C': 0.0, 'T': 1.0}, {'A': 0.0, 'G': 0.6, 'C': 0.2, 'T': 0.2}, {'A': 0.0, 'G': 0.0, 'C': 0.0, 'T': 1.0}, {'A': 0.0, 'G': 0.0, 'C': 0.4, 'T': 0.6}, {'A': 0.0, 'G': 0.6, 'C': 0.2, 'T': 0.2}, {'A': 0.0, 'G': 0.4, 'C': 0.0, 'T': 0.6}, {'A': 0.4, 'G': 0.0, 'C': 0.0, 'T': 0.6}, {'A': 0.0, 'G': 0.2, 'C': 0.8, 'T': 0.0}, {'A': 1.0, 'G': 0.0, 'C': 0.0, 'T': 0.0}]\n"
     ]
    }
   ],
   "source": [
    "S.calculate(verbose = True)"
   ]
  },
  {
   "cell_type": "code",
   "execution_count": 89,
   "metadata": {},
   "outputs": [
    {
     "data": {
      "text/plain": [
       "[1,\n",
       " 2,\n",
       " 0,\n",
       " 2,\n",
       " 0,\n",
       " 2,\n",
       " 2,\n",
       " 2,\n",
       " 2,\n",
       " 1,\n",
       " 0,\n",
       " 1,\n",
       " 2,\n",
       " 0,\n",
       " 2,\n",
       " 0,\n",
       " 2,\n",
       " 2,\n",
       " 2,\n",
       " 2,\n",
       " 1,\n",
       " 0,\n",
       " 1,\n",
       " 2,\n",
       " 0,\n",
       " 2,\n",
       " 0,\n",
       " 2,\n",
       " 2,\n",
       " 2,\n",
       " 2,\n",
       " 1,\n",
       " 0]"
      ]
     },
     "execution_count": 89,
     "metadata": {},
     "output_type": "execute_result"
    }
   ],
   "source": [
    "S.Score_list"
   ]
  },
  {
   "cell_type": "code",
   "execution_count": 90,
   "metadata": {},
   "outputs": [
    {
     "data": {
      "text/plain": [
       "[{'A': 0.8, 'C': 0.0, 'G': 0.0, 'T': 0.2},\n",
       " {'A': 0.6, 'C': 0.0, 'G': 0.0, 'T': 0.4},\n",
       " {'A': 0.0, 'C': 0.0, 'G': 0.0, 'T': 1.0},\n",
       " {'A': 0.0, 'C': 0.2, 'G': 0.6, 'T': 0.2},\n",
       " {'A': 0.0, 'C': 0.0, 'G': 0.0, 'T': 1.0},\n",
       " {'A': 0.0, 'C': 0.4, 'G': 0.0, 'T': 0.6},\n",
       " {'A': 0.0, 'C': 0.2, 'G': 0.6, 'T': 0.2},\n",
       " {'A': 0.0, 'C': 0.0, 'G': 0.4, 'T': 0.6},\n",
       " {'A': 0.4, 'C': 0.0, 'G': 0.0, 'T': 0.6},\n",
       " {'A': 0.0, 'C': 0.8, 'G': 0.2, 'T': 0.0},\n",
       " {'A': 1.0, 'C': 0.0, 'G': 0.0, 'T': 0.0},\n",
       " {'A': 0.8, 'C': 0.0, 'G': 0.0, 'T': 0.2},\n",
       " {'A': 0.6, 'C': 0.0, 'G': 0.0, 'T': 0.4},\n",
       " {'A': 0.0, 'C': 0.0, 'G': 0.0, 'T': 1.0},\n",
       " {'A': 0.0, 'C': 0.2, 'G': 0.6, 'T': 0.2},\n",
       " {'A': 0.0, 'C': 0.0, 'G': 0.0, 'T': 1.0},\n",
       " {'A': 0.0, 'C': 0.4, 'G': 0.0, 'T': 0.6},\n",
       " {'A': 0.0, 'C': 0.2, 'G': 0.6, 'T': 0.2},\n",
       " {'A': 0.0, 'C': 0.0, 'G': 0.4, 'T': 0.6},\n",
       " {'A': 0.4, 'C': 0.0, 'G': 0.0, 'T': 0.6},\n",
       " {'A': 0.0, 'C': 0.8, 'G': 0.2, 'T': 0.0},\n",
       " {'A': 1.0, 'C': 0.0, 'G': 0.0, 'T': 0.0},\n",
       " {'A': 0.8, 'C': 0.0, 'G': 0.0, 'T': 0.2},\n",
       " {'A': 0.6, 'C': 0.0, 'G': 0.0, 'T': 0.4},\n",
       " {'A': 0.0, 'C': 0.0, 'G': 0.0, 'T': 1.0},\n",
       " {'A': 0.0, 'C': 0.2, 'G': 0.6, 'T': 0.2},\n",
       " {'A': 0.0, 'C': 0.0, 'G': 0.0, 'T': 1.0},\n",
       " {'A': 0.0, 'C': 0.4, 'G': 0.0, 'T': 0.6},\n",
       " {'A': 0.0, 'C': 0.2, 'G': 0.6, 'T': 0.2},\n",
       " {'A': 0.0, 'C': 0.0, 'G': 0.4, 'T': 0.6},\n",
       " {'A': 0.4, 'C': 0.0, 'G': 0.0, 'T': 0.6},\n",
       " {'A': 0.0, 'C': 0.8, 'G': 0.2, 'T': 0.0},\n",
       " {'A': 1.0, 'C': 0.0, 'G': 0.0, 'T': 0.0}]"
      ]
     },
     "execution_count": 90,
     "metadata": {},
     "output_type": "execute_result"
    }
   ],
   "source": [
    "S.Profile_list"
   ]
  },
  {
   "cell_type": "code",
   "execution_count": 91,
   "metadata": {},
   "outputs": [
    {
     "data": {
      "text/plain": [
       "[{'A': 4, 'C': 0, 'G': 0, 'T': 1},\n",
       " {'A': 3, 'C': 0, 'G': 0, 'T': 2},\n",
       " {'A': 0, 'C': 0, 'G': 0, 'T': 5},\n",
       " {'A': 0, 'C': 1, 'G': 3, 'T': 1},\n",
       " {'A': 0, 'C': 0, 'G': 0, 'T': 5},\n",
       " {'A': 0, 'C': 2, 'G': 0, 'T': 3},\n",
       " {'A': 0, 'C': 1, 'G': 3, 'T': 1},\n",
       " {'A': 0, 'C': 0, 'G': 2, 'T': 3},\n",
       " {'A': 2, 'C': 0, 'G': 0, 'T': 3},\n",
       " {'A': 0, 'C': 4, 'G': 1, 'T': 0},\n",
       " {'A': 5, 'C': 0, 'G': 0, 'T': 0},\n",
       " {'A': 4, 'C': 0, 'G': 0, 'T': 1},\n",
       " {'A': 3, 'C': 0, 'G': 0, 'T': 2},\n",
       " {'A': 0, 'C': 0, 'G': 0, 'T': 5},\n",
       " {'A': 0, 'C': 1, 'G': 3, 'T': 1},\n",
       " {'A': 0, 'C': 0, 'G': 0, 'T': 5},\n",
       " {'A': 0, 'C': 2, 'G': 0, 'T': 3},\n",
       " {'A': 0, 'C': 1, 'G': 3, 'T': 1},\n",
       " {'A': 0, 'C': 0, 'G': 2, 'T': 3},\n",
       " {'A': 2, 'C': 0, 'G': 0, 'T': 3},\n",
       " {'A': 0, 'C': 4, 'G': 1, 'T': 0},\n",
       " {'A': 5, 'C': 0, 'G': 0, 'T': 0}]"
      ]
     },
     "execution_count": 91,
     "metadata": {},
     "output_type": "execute_result"
    }
   ],
   "source": [
    "S.Count_list"
   ]
  },
  {
   "cell_type": "code",
   "execution_count": 92,
   "metadata": {},
   "outputs": [
    {
     "data": {
      "text/plain": [
       "42"
      ]
     },
     "execution_count": 92,
     "metadata": {},
     "output_type": "execute_result"
    }
   ],
   "source": [
    "S.net_score"
   ]
  },
  {
   "cell_type": "code",
   "execution_count": null,
   "metadata": {
    "collapsed": true
   },
   "outputs": [],
   "source": []
  }
 ],
 "metadata": {
  "kernelspec": {
   "display_name": "Python 3",
   "language": "python",
   "name": "python3"
  },
  "language_info": {
   "codemirror_mode": {
    "name": "ipython",
    "version": 3
   },
   "file_extension": ".py",
   "mimetype": "text/x-python",
   "name": "python",
   "nbconvert_exporter": "python",
   "pygments_lexer": "ipython3",
   "version": "3.5.2"
  },
  "widgets": {
   "state": {},
   "version": "1.1.2"
  }
 },
 "nbformat": 4,
 "nbformat_minor": 2
}
