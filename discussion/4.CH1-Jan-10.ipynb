{
 "cells": [
  {
   "cell_type": "markdown",
   "metadata": {},
   "source": [
    "# Bioinfo-Chapter-1"
   ]
  },
  {
   "cell_type": "markdown",
   "metadata": {},
   "source": [
    "Sudo codes"
   ]
  },
  {
   "cell_type": "markdown",
   "metadata": {},
   "source": [
    "### Page-8: Pattern count"
   ]
  },
  {
   "cell_type": "code",
   "execution_count": 29,
   "metadata": {
    "collapsed": true
   },
   "outputs": [],
   "source": [
    "def count(text,pattern):\n",
    "    count = 0\n",
    "    #window_count = 0\n",
    "    for i in range(len(text) - len(pattern) + 1):\n",
    "        #window_count += 1\n",
    "        if text[i:i+len(pattern)] == pattern:\n",
    "            count += 1 # count = count +1 lekhepani hunchha\n",
    "            #print('aha bhetaye!')\n",
    "    return count #, window_count\n",
    "\n"
   ]
  },
  {
   "cell_type": "code",
   "execution_count": 30,
   "metadata": {
    "collapsed": true
   },
   "outputs": [],
   "source": [
    "def count_adv(T,p,verbose):\n",
    "    ''' T: Text\n",
    "        p: Pattern\n",
    "        L: length of text\n",
    "        l: length of pattern'''\n",
    "    \n",
    "    #parameter\n",
    "    L = len(T)\n",
    "    l = len(p)\n",
    "    count = 0\n",
    "    window_count = 0\n",
    "    \n",
    "    for i in range(L - l + 1):\n",
    "        \n",
    "        window_count += 1\n",
    "        \n",
    "        if verbose:\n",
    "            print('loop:',i,'window_count:',window_count,'count:',count,)\n",
    "            \n",
    "        if T[i:i+l] == p:\n",
    "            count += 1 \n",
    "        \n",
    "        \n",
    "        \n",
    "    return count "
   ]
  },
  {
   "cell_type": "code",
   "execution_count": 31,
   "metadata": {},
   "outputs": [
    {
     "data": {
      "text/plain": [
       "2"
      ]
     },
     "execution_count": 31,
     "metadata": {},
     "output_type": "execute_result"
    }
   ],
   "source": [
    "T = \"ABSJFDHFDGDHETSHDJAAAJKJLKAAAFH-FJJ\"\n",
    "p = \"AAA\"\n",
    "count_adv(T,p,verbose = False)"
   ]
  },
  {
   "cell_type": "code",
   "execution_count": 32,
   "metadata": {},
   "outputs": [
    {
     "data": {
      "text/plain": [
       "2"
      ]
     },
     "execution_count": 32,
     "metadata": {},
     "output_type": "execute_result"
    }
   ],
   "source": [
    "count(\"ABSJFDHFDGDHETSHDJAAAJKJLKAAAFH-FJJ\",\"AAA\")"
   ]
  },
  {
   "cell_type": "code",
   "execution_count": 33,
   "metadata": {},
   "outputs": [
    {
     "data": {
      "text/plain": [
       "'SJF'"
      ]
     },
     "execution_count": 33,
     "metadata": {},
     "output_type": "execute_result"
    }
   ],
   "source": [
    "txt = \"ABSJFDHFDGDHETSHDJAAAJKJLKAAAFH-FJJ\"\n",
    "txt[2:5] # 0:0+3, 1:1+3, 2:2+3"
   ]
  },
  {
   "cell_type": "code",
   "execution_count": 34,
   "metadata": {},
   "outputs": [
    {
     "data": {
      "text/plain": [
       "(34, 3)"
      ]
     },
     "execution_count": 34,
     "metadata": {},
     "output_type": "execute_result"
    }
   ],
   "source": [
    "len('ABSJFDHFDGDHETSHDJAAAJKJLKAAAFHFJJ'),len('AAA')"
   ]
  },
  {
   "cell_type": "code",
   "execution_count": 35,
   "metadata": {},
   "outputs": [
    {
     "data": {
      "text/plain": [
       "32"
      ]
     },
     "execution_count": 35,
     "metadata": {},
     "output_type": "execute_result"
    }
   ],
   "source": [
    "34-3+1"
   ]
  },
  {
   "cell_type": "markdown",
   "metadata": {},
   "source": [
    "### Page 9: Frequent Words"
   ]
  },
  {
   "cell_type": "code",
   "execution_count": 54,
   "metadata": {
    "collapsed": true
   },
   "outputs": [],
   "source": [
    "def count(text,pattern):\n",
    "    count = 0\n",
    "    #window_count = 0\n",
    "    for i in range(len(text) - len(pattern) + 1):\n",
    "        #window_count += 1\n",
    "        if text[i:i+len(pattern)] == pattern:\n",
    "            count += 1 # count = count +1 lekhepani hunchha\n",
    "            #print('aha bhetaye!')\n",
    "    return count #, window_count\n"
   ]
  },
  {
   "cell_type": "code",
   "execution_count": 73,
   "metadata": {
    "collapsed": true
   },
   "outputs": [],
   "source": [
    "def frequentwords(text , k, verbose):\n",
    "    \n",
    "    '''text: supplied text body\n",
    "       k: length of k-mer '''\n",
    "    \n",
    "    freq_patterns = []\n",
    "    counts = []\n",
    "    \n",
    "    \n",
    "    for i in range(len(text) - k + 1):\n",
    "        pattern = text[i:i+k]\n",
    "        num = count(text,pattern)\n",
    "        counts.append(num)\n",
    "        \n",
    "        if verbose:\n",
    "            print('selected pattern:',pattern)\n",
    "            print('pattern num:', num)\n",
    "            print('list growth:', counts)\n",
    "            print('------------------------')\n",
    "        \n",
    "        \n",
    "    maxcount = max(counts)\n",
    "    \n",
    "    for i in range(len(text) - k + 1):\n",
    "        if counts[i] == maxcount:\n",
    "            freq_patterns.append(text[i:i+k])\n",
    "            \n",
    "            \n",
    "            if verbose:\n",
    "                print('frequent pattern:',text[i:i+k],\"frequent pattern collection:\",freq_patterns)\n",
    "            \n",
    "            \n",
    "            \n",
    "    freq_patterns = set(freq_patterns)\n",
    "    \n",
    "    return list(freq_patterns)\n"
   ]
  },
  {
   "cell_type": "code",
   "execution_count": 75,
   "metadata": {},
   "outputs": [
    {
     "name": "stdout",
     "output_type": "stream",
     "text": [
      "selected pattern: ASH\n",
      "pattern num: 1\n",
      "list growth: [1]\n",
      "------------------------\n",
      "selected pattern: SHD\n",
      "pattern num: 1\n",
      "list growth: [1, 1]\n",
      "------------------------\n",
      "selected pattern: HDF\n",
      "pattern num: 1\n",
      "list growth: [1, 1, 1]\n",
      "------------------------\n",
      "selected pattern: DFG\n",
      "pattern num: 1\n",
      "list growth: [1, 1, 1, 1]\n",
      "------------------------\n",
      "selected pattern: FGF\n",
      "pattern num: 1\n",
      "list growth: [1, 1, 1, 1, 1]\n",
      "------------------------\n",
      "selected pattern: GFH\n",
      "pattern num: 1\n",
      "list growth: [1, 1, 1, 1, 1, 1]\n",
      "------------------------\n",
      "selected pattern: FHD\n",
      "pattern num: 1\n",
      "list growth: [1, 1, 1, 1, 1, 1, 1]\n",
      "------------------------\n",
      "selected pattern: HDB\n",
      "pattern num: 1\n",
      "list growth: [1, 1, 1, 1, 1, 1, 1, 1]\n",
      "------------------------\n",
      "selected pattern: DBB\n",
      "pattern num: 1\n",
      "list growth: [1, 1, 1, 1, 1, 1, 1, 1, 1]\n",
      "------------------------\n",
      "selected pattern: BBC\n",
      "pattern num: 3\n",
      "list growth: [1, 1, 1, 1, 1, 1, 1, 1, 1, 3]\n",
      "------------------------\n",
      "selected pattern: BCJ\n",
      "pattern num: 1\n",
      "list growth: [1, 1, 1, 1, 1, 1, 1, 1, 1, 3, 1]\n",
      "------------------------\n",
      "selected pattern: CJG\n",
      "pattern num: 1\n",
      "list growth: [1, 1, 1, 1, 1, 1, 1, 1, 1, 3, 1, 1]\n",
      "------------------------\n",
      "selected pattern: JGL\n",
      "pattern num: 1\n",
      "list growth: [1, 1, 1, 1, 1, 1, 1, 1, 1, 3, 1, 1, 1]\n",
      "------------------------\n",
      "selected pattern: GLJ\n",
      "pattern num: 1\n",
      "list growth: [1, 1, 1, 1, 1, 1, 1, 1, 1, 3, 1, 1, 1, 1]\n",
      "------------------------\n",
      "selected pattern: LJL\n",
      "pattern num: 2\n",
      "list growth: [1, 1, 1, 1, 1, 1, 1, 1, 1, 3, 1, 1, 1, 1, 2]\n",
      "------------------------\n",
      "selected pattern: JLG\n",
      "pattern num: 1\n",
      "list growth: [1, 1, 1, 1, 1, 1, 1, 1, 1, 3, 1, 1, 1, 1, 2, 1]\n",
      "------------------------\n",
      "selected pattern: LGB\n",
      "pattern num: 1\n",
      "list growth: [1, 1, 1, 1, 1, 1, 1, 1, 1, 3, 1, 1, 1, 1, 2, 1, 1]\n",
      "------------------------\n",
      "selected pattern: GBB\n",
      "pattern num: 1\n",
      "list growth: [1, 1, 1, 1, 1, 1, 1, 1, 1, 3, 1, 1, 1, 1, 2, 1, 1, 1]\n",
      "------------------------\n",
      "selected pattern: BBC\n",
      "pattern num: 3\n",
      "list growth: [1, 1, 1, 1, 1, 1, 1, 1, 1, 3, 1, 1, 1, 1, 2, 1, 1, 1, 3]\n",
      "------------------------\n",
      "selected pattern: BCL\n",
      "pattern num: 2\n",
      "list growth: [1, 1, 1, 1, 1, 1, 1, 1, 1, 3, 1, 1, 1, 1, 2, 1, 1, 1, 3, 2]\n",
      "------------------------\n",
      "selected pattern: CLL\n",
      "pattern num: 1\n",
      "list growth: [1, 1, 1, 1, 1, 1, 1, 1, 1, 3, 1, 1, 1, 1, 2, 1, 1, 1, 3, 2, 1]\n",
      "------------------------\n",
      "selected pattern: LLJ\n",
      "pattern num: 1\n",
      "list growth: [1, 1, 1, 1, 1, 1, 1, 1, 1, 3, 1, 1, 1, 1, 2, 1, 1, 1, 3, 2, 1, 1]\n",
      "------------------------\n",
      "selected pattern: LJL\n",
      "pattern num: 2\n",
      "list growth: [1, 1, 1, 1, 1, 1, 1, 1, 1, 3, 1, 1, 1, 1, 2, 1, 1, 1, 3, 2, 1, 1, 2]\n",
      "------------------------\n",
      "selected pattern: JLJ\n",
      "pattern num: 1\n",
      "list growth: [1, 1, 1, 1, 1, 1, 1, 1, 1, 3, 1, 1, 1, 1, 2, 1, 1, 1, 3, 2, 1, 1, 2, 1]\n",
      "------------------------\n",
      "selected pattern: LJB\n",
      "pattern num: 1\n",
      "list growth: [1, 1, 1, 1, 1, 1, 1, 1, 1, 3, 1, 1, 1, 1, 2, 1, 1, 1, 3, 2, 1, 1, 2, 1, 1]\n",
      "------------------------\n",
      "selected pattern: JBB\n",
      "pattern num: 1\n",
      "list growth: [1, 1, 1, 1, 1, 1, 1, 1, 1, 3, 1, 1, 1, 1, 2, 1, 1, 1, 3, 2, 1, 1, 2, 1, 1, 1]\n",
      "------------------------\n",
      "selected pattern: BBC\n",
      "pattern num: 3\n",
      "list growth: [1, 1, 1, 1, 1, 1, 1, 1, 1, 3, 1, 1, 1, 1, 2, 1, 1, 1, 3, 2, 1, 1, 2, 1, 1, 1, 3]\n",
      "------------------------\n",
      "selected pattern: BCL\n",
      "pattern num: 2\n",
      "list growth: [1, 1, 1, 1, 1, 1, 1, 1, 1, 3, 1, 1, 1, 1, 2, 1, 1, 1, 3, 2, 1, 1, 2, 1, 1, 1, 3, 2]\n",
      "------------------------\n",
      "selected pattern: CLJ\n",
      "pattern num: 1\n",
      "list growth: [1, 1, 1, 1, 1, 1, 1, 1, 1, 3, 1, 1, 1, 1, 2, 1, 1, 1, 3, 2, 1, 1, 2, 1, 1, 1, 3, 2, 1]\n",
      "------------------------\n",
      "selected pattern: LJJ\n",
      "pattern num: 1\n",
      "list growth: [1, 1, 1, 1, 1, 1, 1, 1, 1, 3, 1, 1, 1, 1, 2, 1, 1, 1, 3, 2, 1, 1, 2, 1, 1, 1, 3, 2, 1, 1]\n",
      "------------------------\n",
      "frequent pattern: BBC frequent pattern collection: ['BBC']\n",
      "frequent pattern: BBC frequent pattern collection: ['BBC', 'BBC']\n",
      "frequent pattern: BBC frequent pattern collection: ['BBC', 'BBC', 'BBC']\n"
     ]
    },
    {
     "data": {
      "text/plain": [
       "['BBC']"
      ]
     },
     "execution_count": 75,
     "metadata": {},
     "output_type": "execute_result"
    }
   ],
   "source": [
    "frequentwords(\"ASHDFGFHDBBCJGLJLGBBCLLJLJBBCLJJ\" , 3, verbose = True)"
   ]
  },
  {
   "cell_type": "code",
   "execution_count": 76,
   "metadata": {
    "collapsed": true
   },
   "outputs": [],
   "source": [
    "LL= []\n",
    "LL = [12,345,111]"
   ]
  },
  {
   "cell_type": "code",
   "execution_count": 48,
   "metadata": {
    "collapsed": true
   },
   "outputs": [],
   "source": [
    "LL.append(678)"
   ]
  },
  {
   "cell_type": "code",
   "execution_count": 49,
   "metadata": {},
   "outputs": [
    {
     "data": {
      "text/plain": [
       "[12, 345, 111, 678]"
      ]
     },
     "execution_count": 49,
     "metadata": {},
     "output_type": "execute_result"
    }
   ],
   "source": [
    "LL"
   ]
  },
  {
   "cell_type": "code",
   "execution_count": 67,
   "metadata": {},
   "outputs": [
    {
     "data": {
      "text/plain": [
       "9"
      ]
     },
     "execution_count": 67,
     "metadata": {},
     "output_type": "execute_result"
    }
   ],
   "source": [
    "max([0,2,3,4,5,6,6,7,8,9,9,9])"
   ]
  },
  {
   "cell_type": "code",
   "execution_count": 70,
   "metadata": {},
   "outputs": [
    {
     "data": {
      "text/plain": [
       "{'apple', 'mango'}"
      ]
     },
     "execution_count": 70,
     "metadata": {},
     "output_type": "execute_result"
    }
   ],
   "source": [
    "set([\"apple\",\"apple\", \"mango\"])"
   ]
  }
 ],
 "metadata": {
  "kernelspec": {
   "display_name": "Python 3",
   "language": "python",
   "name": "python3"
  },
  "language_info": {
   "codemirror_mode": {
    "name": "ipython",
    "version": 3
   },
   "file_extension": ".py",
   "mimetype": "text/x-python",
   "name": "python",
   "nbconvert_exporter": "python",
   "pygments_lexer": "ipython3",
   "version": "3.6.3"
  }
 },
 "nbformat": 4,
 "nbformat_minor": 2
}
