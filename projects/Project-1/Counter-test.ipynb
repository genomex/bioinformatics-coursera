{
 "cells": [
  {
   "cell_type": "markdown",
   "metadata": {},
   "source": [
    "## Project -1"
   ]
  },
  {
   "cell_type": "code",
   "execution_count": 1,
   "metadata": {
    "collapsed": true
   },
   "outputs": [],
   "source": [
    "import numpy as np\n",
    "import random as random"
   ]
  },
  {
   "cell_type": "markdown",
   "metadata": {},
   "source": [
    "### Class: Counter"
   ]
  },
  {
   "cell_type": "code",
   "execution_count": 2,
   "metadata": {
    "collapsed": true
   },
   "outputs": [],
   "source": [
    "import Counter as CN"
   ]
  },
  {
   "cell_type": "markdown",
   "metadata": {
    "collapsed": true
   },
   "source": [
    "### Implementation"
   ]
  },
  {
   "cell_type": "code",
   "execution_count": 3,
   "metadata": {
    "collapsed": true
   },
   "outputs": [],
   "source": [
    "def DNA_generator(length):\n",
    "        Genome = ['A','C','G','T']\n",
    "        DNA = \"\"\n",
    "        for i in range(length):\n",
    "               DNA = DNA+random.choice(Genome)\n",
    "        return DNA    \n",
    "            "
   ]
  },
  {
   "cell_type": "code",
   "execution_count": 4,
   "metadata": {},
   "outputs": [
    {
     "data": {
      "text/plain": [
       "'CCGCAGCAAGCAATACCTCAATGCGAGACGTACGGATGTGGATTAATTTTAGACTCACACGCAATACTTTCGGCCAGTTCTCAGGCTTGCCGACCCTGCTTGCTTTCCGTTATGGACATATTGTTAGGACATGACGCACCGAGGACCCGGAGGTACCCAACCCGGTCAGTTGACAGACACGCGCAACCGCCGGGTTACGTCACCGTACTCCCGAACTAATATAAGTAAAGTGCGAATCATCGTACAAAACCACATTCCATAATCGGCATTAGAGCGCGGGGGAGGAAATCCTCGCTATCTCTGTGACCTTTGGCATCCTGTGGGTTCTAGATGAGGCGGTCGCAATGGTCCTGAATTACAGAGCAAGCGTGGGTACCTGGTGTAAAGCGCCTTTGGAATGGTAGTCAACCTCATTTCCCGCCTGAAGGGCTAGTAGTGATTAGGAGCGATCAATTTTAATACAGCTGGGGGCCGGGGTACCTTTACGTAAGATGCAGGATAGACGGACTTAAGCTAAGATTCCCAGGATCGACTATGCATCCCAGTGCGCAGGATACGACTACATTACTTGAGACAAAAGGTGATACCTCACGACGAACCTCGCAAAGATGTAGGAGTGGAACACGTACGCGATTCAGAGTAGTTAAATAACAAGATTCGAAGGCCTCAGGCGGAATTCCAGCATTATGTCCTGTTAGCAATACAACTTGTACCAAGTTGCGAGGGGACCCTCCGTTTCACCGTTGGACGACGTAATCTTATGGCGAGCGTCAGTAGTTTAGGTCAATATATCAAATCCCCAAGGTTAATTCCTTATGATTCTAGAGTTGGGCAGCACCAGTTAGTCGTGGTATGGAATCTCGAAGGCCCTGCCCTTTATGACGGTGATCTCCTACTGTAAGACGAACGAATGTACTTGTGAAATCGTTCAGGCGAGGTGTTTATCCTGTAAATATGTTTTCAGCATAATTGGGCGCGCTTTAACGCATTTGGTATTCAC'"
      ]
     },
     "execution_count": 4,
     "metadata": {},
     "output_type": "execute_result"
    }
   ],
   "source": [
    "Text1 = DNA_generator(1000)\n",
    "Text1"
   ]
  },
  {
   "cell_type": "code",
   "execution_count": 9,
   "metadata": {},
   "outputs": [
    {
     "data": {
      "text/plain": [
       "'ACATGATAAAACTCGCTTGGAGTAGACGATGCCAGAACAGTCGTCTTTCCGGACAAAATCTATCGCCTTACATCCTGGGCTGGACCGAGAATTATCCCGT'"
      ]
     },
     "execution_count": 9,
     "metadata": {},
     "output_type": "execute_result"
    }
   ],
   "source": [
    "Text2 = DNA_generator(100)\n",
    "Text2"
   ]
  },
  {
   "cell_type": "markdown",
   "metadata": {},
   "source": [
    "-------"
   ]
  },
  {
   "cell_type": "code",
   "execution_count": 9,
   "metadata": {
    "collapsed": true
   },
   "outputs": [],
   "source": [
    "Counter1 = CN.Counter(Text1)"
   ]
  },
  {
   "cell_type": "code",
   "execution_count": 10,
   "metadata": {},
   "outputs": [
    {
     "ename": "NameError",
     "evalue": "name 'Text2' is not defined",
     "output_type": "error",
     "traceback": [
      "\u001b[0;31m---------------------------------------------------------------------------\u001b[0m",
      "\u001b[0;31mNameError\u001b[0m                                 Traceback (most recent call last)",
      "\u001b[0;32m<ipython-input-10-559f519b1ee0>\u001b[0m in \u001b[0;36m<module>\u001b[0;34m()\u001b[0m\n\u001b[0;32m----> 1\u001b[0;31m \u001b[0mCounter2\u001b[0m \u001b[0;34m=\u001b[0m \u001b[0mCN\u001b[0m\u001b[0;34m.\u001b[0m\u001b[0mCounter\u001b[0m\u001b[0;34m(\u001b[0m\u001b[0mText2\u001b[0m\u001b[0;34m)\u001b[0m\u001b[0;34m\u001b[0m\u001b[0m\n\u001b[0m",
      "\u001b[0;31mNameError\u001b[0m: name 'Text2' is not defined"
     ]
    }
   ],
   "source": [
    "Counter2 = CN.Counter(Text2)"
   ]
  },
  {
   "cell_type": "markdown",
   "metadata": {},
   "source": [
    "------"
   ]
  },
  {
   "cell_type": "code",
   "execution_count": 11,
   "metadata": {},
   "outputs": [
    {
     "data": {
      "text/plain": [
       "14"
      ]
     },
     "execution_count": 11,
     "metadata": {},
     "output_type": "execute_result"
    }
   ],
   "source": [
    "Counter1.PatternCount(Pattern=\"ATG\")"
   ]
  },
  {
   "cell_type": "code",
   "execution_count": 14,
   "metadata": {},
   "outputs": [
    {
     "data": {
      "text/plain": [
       "4"
      ]
     },
     "execution_count": 14,
     "metadata": {},
     "output_type": "execute_result"
    }
   ],
   "source": [
    "Counter2.PatternCount(Pattern=\"GT\",verbose=False)"
   ]
  },
  {
   "cell_type": "code",
   "execution_count": 5,
   "metadata": {},
   "outputs": [
    {
     "data": {
      "text/plain": [
       "2"
      ]
     },
     "execution_count": 5,
     "metadata": {},
     "output_type": "execute_result"
    }
   ],
   "source": [
    "Cnt = CN.Counter(\" \")\n",
    "Cnt.HammingDistance(genome1 = \"ATGC\",genome2 = \"ATCG\")"
   ]
  },
  {
   "cell_type": "code",
   "execution_count": 4,
   "metadata": {},
   "outputs": [
    {
     "data": {
      "text/plain": [
       "['ATAT',\n",
       " 'ATCT',\n",
       " 'AAGT',\n",
       " 'ACGT',\n",
       " 'AGGT',\n",
       " 'ATGT',\n",
       " 'CTGT',\n",
       " 'GTGT',\n",
       " 'TTGT',\n",
       " 'ATTT',\n",
       " 'ATAA',\n",
       " 'ATCA',\n",
       " 'AAGA',\n",
       " 'ACGA',\n",
       " 'AGGA',\n",
       " 'ATGA',\n",
       " 'CTGA',\n",
       " 'GTGA',\n",
       " 'TTGA',\n",
       " 'ATTA',\n",
       " 'AAAC',\n",
       " 'ACAC',\n",
       " 'AGAC',\n",
       " 'ATAC',\n",
       " 'CTAC',\n",
       " 'GTAC',\n",
       " 'TTAC',\n",
       " 'AACC',\n",
       " 'ACCC',\n",
       " 'AGCC',\n",
       " 'ATCC',\n",
       " 'CTCC',\n",
       " 'GTCC',\n",
       " 'TTCC',\n",
       " 'AAGC',\n",
       " 'CAGC',\n",
       " 'GAGC',\n",
       " 'TAGC',\n",
       " 'ACGC',\n",
       " 'CCGC',\n",
       " 'GCGC',\n",
       " 'TCGC',\n",
       " 'AGGC',\n",
       " 'CGGC',\n",
       " 'GGGC',\n",
       " 'TGGC',\n",
       " 'ATGC',\n",
       " 'CTGC',\n",
       " 'GTGC',\n",
       " 'TTGC',\n",
       " 'AATC',\n",
       " 'ACTC',\n",
       " 'AGTC',\n",
       " 'ATTC',\n",
       " 'CTTC',\n",
       " 'GTTC',\n",
       " 'TTTC',\n",
       " 'ATAG',\n",
       " 'ATCG',\n",
       " 'AAGG',\n",
       " 'ACGG',\n",
       " 'AGGG',\n",
       " 'ATGG',\n",
       " 'CTGG',\n",
       " 'GTGG',\n",
       " 'TTGG',\n",
       " 'ATTG']"
      ]
     },
     "execution_count": 4,
     "metadata": {},
     "output_type": "execute_result"
    }
   ],
   "source": [
    "CNT = CN.Counter(\" \")\n",
    "CNT.Neighbors(Pattern = \"ATGC\",d=2)"
   ]
  },
  {
   "cell_type": "code",
   "execution_count": 7,
   "metadata": {},
   "outputs": [
    {
     "data": {
      "text/plain": [
       "14"
      ]
     },
     "execution_count": 7,
     "metadata": {},
     "output_type": "execute_result"
    }
   ],
   "source": [
    "CNT1 = CN.Counter(Text1)\n",
    "CNT1.ApproximatePatternCount(kmer =\"ATG\", hamming_score=0)"
   ]
  },
  {
   "cell_type": "code",
   "execution_count": 6,
   "metadata": {},
   "outputs": [
    {
     "data": {
      "text/plain": [
       "962213040238471001"
      ]
     },
     "execution_count": 6,
     "metadata": {},
     "output_type": "execute_result"
    }
   ],
   "source": [
    "CNT2 = CN.Counter(\" \")\n",
    "CNT2.PatternToNumber(Pattern = \"ATCCCGGCTCTGGGCCTTCGGGCGGCTCCGC\")"
   ]
  },
  {
   "cell_type": "code",
   "execution_count": 7,
   "metadata": {},
   "outputs": [
    {
     "data": {
      "text/plain": [
       "['A', 'C', 'G', 'T']"
      ]
     },
     "execution_count": 7,
     "metadata": {},
     "output_type": "execute_result"
    }
   ],
   "source": [
    "CNT2.Genome"
   ]
  },
  {
   "cell_type": "markdown",
   "metadata": {},
   "source": [
    "------------------------------------"
   ]
  },
  {
   "cell_type": "code",
   "execution_count": 5,
   "metadata": {},
   "outputs": [
    {
     "ename": "AttributeError",
     "evalue": "'Counter' object has no attribute 'FrequencyArray'",
     "output_type": "error",
     "traceback": [
      "\u001b[0;31m---------------------------------------------------------------------------\u001b[0m",
      "\u001b[0;31mAttributeError\u001b[0m                            Traceback (most recent call last)",
      "\u001b[0;32m<ipython-input-5-7a4c4408e599>\u001b[0m in \u001b[0;36m<module>\u001b[0;34m()\u001b[0m\n\u001b[1;32m      1\u001b[0m \u001b[0mCNT3\u001b[0m \u001b[0;34m=\u001b[0m \u001b[0mCN\u001b[0m\u001b[0;34m.\u001b[0m\u001b[0mCounter\u001b[0m\u001b[0;34m(\u001b[0m\u001b[0mText1\u001b[0m\u001b[0;34m,\u001b[0m\u001b[0mkmer_size\u001b[0m \u001b[0;34m=\u001b[0m\u001b[0;36m3\u001b[0m\u001b[0;34m)\u001b[0m\u001b[0;34m\u001b[0m\u001b[0m\n\u001b[0;32m----> 2\u001b[0;31m \u001b[0mCNT3\u001b[0m\u001b[0;34m.\u001b[0m\u001b[0mcomputingFrequrncies\u001b[0m\u001b[0;34m(\u001b[0m\u001b[0;34m)\u001b[0m\u001b[0;34m\u001b[0m\u001b[0m\n\u001b[0m",
      "\u001b[0;32m/Users/dibakarsigdel/Documents/GenomeX/projects/Project-1/Counter.py\u001b[0m in \u001b[0;36mcomputingFrequrncies\u001b[0;34m(self, verbose)\u001b[0m\n\u001b[1;32m    313\u001b[0m \u001b[0;34m\u001b[0m\u001b[0m\n\u001b[1;32m    314\u001b[0m             \u001b[0;34m'''Increase frequency of the pattern in FrequencyArray'''\u001b[0m\u001b[0;34m\u001b[0m\u001b[0m\n\u001b[0;32m--> 315\u001b[0;31m             \u001b[0mself\u001b[0m\u001b[0;34m.\u001b[0m\u001b[0mFrequencyArray\u001b[0m\u001b[0;34m[\u001b[0m\u001b[0mIndex\u001b[0m\u001b[0;34m]\u001b[0m \u001b[0;34m=\u001b[0m \u001b[0mself\u001b[0m\u001b[0;34m.\u001b[0m\u001b[0mFrequencyArray\u001b[0m\u001b[0;34m[\u001b[0m\u001b[0mIndex\u001b[0m\u001b[0;34m]\u001b[0m\u001b[0;34m+\u001b[0m\u001b[0;36m1\u001b[0m\u001b[0;34m\u001b[0m\u001b[0m\n\u001b[0m\u001b[1;32m    316\u001b[0m \u001b[0;34m\u001b[0m\u001b[0m\n\u001b[1;32m    317\u001b[0m \u001b[0;34m\u001b[0m\u001b[0m\n",
      "\u001b[0;31mAttributeError\u001b[0m: 'Counter' object has no attribute 'FrequencyArray'"
     ]
    }
   ],
   "source": [
    "CNT3 = CN.Counter(Text1,kmer_size =3)\n",
    "CNT3.computingFrequrncies()"
   ]
  },
  {
   "cell_type": "code",
   "execution_count": null,
   "metadata": {
    "collapsed": true
   },
   "outputs": [],
   "source": []
  },
  {
   "cell_type": "markdown",
   "metadata": {
    "collapsed": true
   },
   "source": [
    "### Results"
   ]
  },
  {
   "cell_type": "code",
   "execution_count": null,
   "metadata": {
    "collapsed": true
   },
   "outputs": [],
   "source": []
  },
  {
   "cell_type": "code",
   "execution_count": null,
   "metadata": {
    "collapsed": true
   },
   "outputs": [],
   "source": []
  }
 ],
 "metadata": {
  "kernelspec": {
   "display_name": "Python 3",
   "language": "python",
   "name": "python3"
  },
  "language_info": {
   "codemirror_mode": {
    "name": "ipython",
    "version": 3
   },
   "file_extension": ".py",
   "mimetype": "text/x-python",
   "name": "python",
   "nbconvert_exporter": "python",
   "pygments_lexer": "ipython3",
   "version": "3.5.2"
  },
  "widgets": {
   "state": {},
   "version": "1.1.2"
  }
 },
 "nbformat": 4,
 "nbformat_minor": 2
}
