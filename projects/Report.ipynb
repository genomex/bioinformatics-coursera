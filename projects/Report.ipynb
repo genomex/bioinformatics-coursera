{
 "cells": [
  {
   "cell_type": "markdown",
   "metadata": {},
   "source": [
    "## Project -1"
   ]
  },
  {
   "cell_type": "code",
   "execution_count": 1,
   "metadata": {
    "collapsed": true
   },
   "outputs": [],
   "source": [
    "import numpy as np\n",
    "import random as random"
   ]
  },
  {
   "cell_type": "markdown",
   "metadata": {},
   "source": [
    "### Class: Counter"
   ]
  },
  {
   "cell_type": "code",
   "execution_count": 2,
   "metadata": {
    "collapsed": true
   },
   "outputs": [],
   "source": [
    "#import Counter as CN"
   ]
  },
  {
   "cell_type": "code",
   "execution_count": 3,
   "metadata": {
    "collapsed": true
   },
   "outputs": [],
   "source": [
    "class Counter(object):\n",
    "    \n",
    "    \n",
    "    \n",
    "    \n",
    "    def __init__(self,Text):\n",
    "        self.Text = Text\n",
    "        self.Genome = ['A','C','G','T']\n",
    "        \n",
    "        \n",
    "        \n",
    "            \n",
    "    def PatternCount(self,Pattern,verbose=False):\n",
    "        '''This function counts the given \"Pattern\" within the supplied \"Text\":\n",
    "            Text: DNA string\n",
    "            Pattern: certain kmer'''\n",
    "        count = 0\n",
    "        window_step = 0\n",
    "        for i in range(len(self.Text) - len(Pattern) + 1):\n",
    "            '''this counts the sliding window of text'''\n",
    "            window_step += 1\n",
    "            if verbose:\n",
    "                print('loop:',i,\\\n",
    "                      'window_step:',window_step,\\\n",
    "                      'count:',count,\\\n",
    "                      \"pattern within window:\",self.Text[i:i+len(Pattern)])\n",
    "            '''if pattern matches with text within the slidding window then\n",
    "            count is increased by 1'''  \n",
    "            if self.Text[i:i+len(Pattern)] == Pattern:\n",
    "                count += 1 \n",
    "        return count\n",
    "\n",
    "    \n",
    "    \n",
    "    \n",
    "    \n",
    "    \n",
    "    def FrequentWords(self , k, verbose=False):\n",
    "        '''This function finds the frequent kmer of size k by utilizing function \"PatternCount()\":\n",
    "            Text: supplied text body of DNA\n",
    "            k: length of kmer '''\n",
    "        FreqPatterns = []\n",
    "        Counts = []\n",
    "        for i in range(len(self.Text) - k + 1):\n",
    "            '''Pattern picks up the letter within the sliding window[i:i+k] only'''\n",
    "            Pattern = self.Text[i:i+k]\n",
    "            '''Count the pattern frequency within Text'''\n",
    "            Num = self.PatternCount(self.Text,Pattern)\n",
    "            '''Add count value in Counts list'''\n",
    "            Counts.append(Num)\n",
    "            if verbose:\n",
    "                print('selected pattern:',Pattern)\n",
    "                print('pattern num:', Num)\n",
    "                print('list growth:', Counts)\n",
    "                print('------------------------')\n",
    "        '''Find the maximum value of counts'''    \n",
    "        maxcount = max(Counts)\n",
    "        for i in range(len(self.Text) - k + 1):\n",
    "            '''Find out the kmer which has count value equal to maxcount'''\n",
    "            if Counts[i] == maxcount:\n",
    "                FreqPatterns.append(self.Text[i:i+k])\n",
    "        '''Select the unique kmers only'''        \n",
    "        FreqPatterns = set(FreqPatterns)\n",
    "        return list(FreqPatterns)\n",
    "    \n",
    "    \n",
    "    \n",
    "    \n",
    "    \n",
    "\n",
    "    def ReverseComplement(self):\n",
    "        '''initiate a vacant string'''\n",
    "        rText =\"\"\n",
    "        '''all letters are replaced by reverse letters'''\n",
    "        for i in range(len(self.Text)):\n",
    "            if self.Text[i] == \"A\":\n",
    "                  rText = rText+\"T\"\n",
    "            elif self.Text[i] == \"T\":\n",
    "                  rText  = rText+\"A\"\n",
    "            elif self.Text[i] == \"G\":\n",
    "                  rText  = rText+\"C\"\n",
    "            elif self.Text[i] == \"C\":\n",
    "                  rText = rText+\"G\"\n",
    "        return rText\n",
    "           \n",
    "        \n",
    "        \n",
    "        \n",
    "    def Skew(self, verbose=False):\n",
    "        '''This function finds the skew score #G-#C of the given Genome'''\n",
    "        '''SkewList stores current skew for ploting purpose'''\n",
    "        SkewList = [0]\n",
    "        '''CurrentSkew keeps changing'''\n",
    "        CurrentSkew = 0\n",
    "        '''Iterate through each letter of genome'''\n",
    "        for i in range(len(self.Text)):\n",
    "            if self.Text[i] == 'C':\n",
    "                '''If you meet letter C, CurrentSkew decreases by 1'''\n",
    "                SkewList.append(SkewList[i] - 1)\n",
    "                CurrentSkew -= 1\n",
    "            elif self.Text[i] == 'G':\n",
    "                '''If you meet letter G, CurrentSkew increases by 1'''    \n",
    "                SkewList.append(SkewList[i] + 1)\n",
    "                CurrentSkew += 1\n",
    "            else:\n",
    "                '''Do nothing otherwise, just keep appending old CurrentSkew''' \n",
    "                SkewList.append(SkewList[i])\n",
    "            if verbose:\n",
    "                print(self.Text[i],CurrentSkew)\n",
    "        return SkewList    \n",
    "        \n",
    "        \n",
    "        \n",
    "        \n",
    "        \n",
    "        \n",
    "        \n",
    "    def HammingDistance(genome1,genome2):\n",
    "        '''This function finds the hamming distance by calculating \n",
    "        the number of mismatches between two genomes'''\n",
    "        '''Initiate the score'''\n",
    "        score = 0\n",
    "        '''Are genome length equal? send error otherwise'''\n",
    "        if len(genome1) != len(genome2):\n",
    "            print(\"Error\")\n",
    "        else:\n",
    "            ''' score increases by 1 when mismatch occurs'''\n",
    "            for i in range(len(genome1)):\n",
    "                if genome1[i] != genome2[i]:\n",
    "                    score += 1\n",
    "        return score     \n",
    "        \n",
    "        \n",
    "        \n",
    "        \n",
    "        \n",
    "        \n",
    "    def Neighbors(Pattern,d, verbose = False):\n",
    "        '''This function finds the neighbors of a 'Pattern' within hamming distance - 'd' '''\n",
    "        '''special cases'''\n",
    "        if d == 0:\n",
    "            return Pattern\n",
    "        if len(Pattern) ==1:\n",
    "            return {'A','C','G','T'}\n",
    "        '''general case'''\n",
    "        Neighborhood =  []\n",
    "        if verbose:\n",
    "            SuffixNeighbors = Neighbors(Pattern[1:],d, verbose=True)\n",
    "        else:\n",
    "            SuffixNeighbors = Neighbors(Pattern[1:],d)\n",
    "        if verbose: \n",
    "            print(\"----------------------------\")    \n",
    "            print(\"SuffixNeighbors:\",SuffixNeighbors)\n",
    "            print(\"----------------------------\") \n",
    "        '''Iterate through items in suffixneighbors'''\n",
    "        for item in SuffixNeighbors:\n",
    "        \n",
    "            '''If hmm-distance is below d, add random prefix'''\n",
    "            if HammingDistance(Pattern[1:],item)<d:\n",
    "                for x in ['A','C','G','T']:\n",
    "                    Neighborhood.append(x+item)\n",
    "                if verbose: \n",
    "                    print(\"hamm-dis:\",HammingDistance(Pattern[1:],item),\\\n",
    "                          \"x:\",x,\\\n",
    "                          \"suffix-item:\", item,\\\n",
    "                          \"nbr:\",x+item)\n",
    "            else:\n",
    "                '''otherwise you are not allowed to add random prefix, add original prefix'''  \n",
    "                Neighborhood.append(Pattern[0]+item)\n",
    "                if verbose: \n",
    "                    print(\"hamm-dis:\",HammingDistance(Pattern[1:],item),\\\n",
    "                          \"Prefix:\",Pattern[0],\\\n",
    "                          \"suffix-item:\", item,\\\n",
    "                          \"nbr:\",Pattern[0]+item )\n",
    "        return Neighborhood  \n",
    "    \n",
    "    \n",
    "    \n",
    "    \n",
    "    \n",
    "    \n",
    "    def ApproximatePatternCount(kmer, genome, hamming_score,verbose=False):\n",
    "        '''This function finds frequency of a pattern with\n",
    "        neighbours within 'hamming_score' '''\n",
    "        '''Initiate Approximate Count'''\n",
    "        Count = 0\n",
    "        '''Set the slidding window'''\n",
    "        for i in range(len(genome) - len(kmer) + 1):\n",
    "            '''kmer within the window is Pattern'''\n",
    "            Pattern = genome[i:i+len(kmer)]\n",
    "            Score = HammingDistance(kmer,Pattern)\n",
    "            '''If hmm-dist is below hamming_score, keep increasing  Approximate Count'''\n",
    "            if Score <= hamming_score:\n",
    "                Count += 1\n",
    "                if verbose:\n",
    "                    print(\"window-run::\",i,\"to\",i+len(kmer),\\\n",
    "                          \"Pattern:\", genome[i:i+len(kmer)],\\\n",
    "                          \"count:\",Count)\n",
    "        return Count\n",
    "    \n",
    "    \n",
    "    \n",
    "    \n",
    "    \n",
    "    \n",
    "    \n",
    "    \n",
    "    \n",
    "    "
   ]
  },
  {
   "cell_type": "markdown",
   "metadata": {
    "collapsed": true
   },
   "source": [
    "### Implementation"
   ]
  },
  {
   "cell_type": "code",
   "execution_count": 4,
   "metadata": {
    "collapsed": true
   },
   "outputs": [],
   "source": [
    "def DNA_generator(length):\n",
    "        Genome = ['A','C','G','T']\n",
    "        DNA = \"\"\n",
    "        for i in range(length):\n",
    "               DNA = DNA+random.choice(Genome)\n",
    "        return DNA    \n",
    "            "
   ]
  },
  {
   "cell_type": "code",
   "execution_count": 5,
   "metadata": {},
   "outputs": [
    {
     "data": {
      "text/plain": [
       "'CATCGTCCCATGTTTTGTTTGGCAGACCATCTTGGCTGCTCCCGGCCCGCTTTACGCATACGCTCGGCCCCCAAGACGACTTCGTCGCACATAGTCTGAT'"
      ]
     },
     "execution_count": 5,
     "metadata": {},
     "output_type": "execute_result"
    }
   ],
   "source": [
    "Text = DNA_generator(100)\n",
    "Text"
   ]
  },
  {
   "cell_type": "markdown",
   "metadata": {},
   "source": [
    "-------"
   ]
  },
  {
   "cell_type": "code",
   "execution_count": 6,
   "metadata": {},
   "outputs": [
    {
     "data": {
      "text/plain": [
       "6"
      ]
     },
     "execution_count": 6,
     "metadata": {},
     "output_type": "execute_result"
    }
   ],
   "source": [
    "Counter(Text).PatternCount(Pattern = \"AT\")"
   ]
  },
  {
   "cell_type": "markdown",
   "metadata": {},
   "source": [
    "------"
   ]
  },
  {
   "cell_type": "code",
   "execution_count": 8,
   "metadata": {},
   "outputs": [
    {
     "name": "stdout",
     "output_type": "stream",
     "text": [
      "loop: 0 window_step: 1 count: 0 pattern within window: CATCGTCCCATGTTTTGTTTGGCAGACCATCTTGGCTGCTCCCGGCCCGCTTTACGCATACGCTCGGCCCCCAAGACGACTTCGTCGCACATAGTCTGAT\n",
      "loop: 0 window_step: 1 count: 0 pattern within window: CATCGTCCCATGTTTTGTTTGGCAGACCATCTTGGCTGCTCCCGGCCCGCTTTACGCATACGCTCGGCCCCCAAGACGACTTCGTCGCACATAGTCTGAT\n",
      "loop: 0 window_step: 1 count: 0 pattern within window: CATCGTCCCATGTTTTGTTTGGCAGACCATCTTGGCTGCTCCCGGCCCGCTTTACGCATACGCTCGGCCCCCAAGACGACTTCGTCGCACATAGTCTGAT\n",
      "loop: 0 window_step: 1 count: 0 pattern within window: CATCGTCCCATGTTTTGTTTGGCAGACCATCTTGGCTGCTCCCGGCCCGCTTTACGCATACGCTCGGCCCCCAAGACGACTTCGTCGCACATAGTCTGAT\n",
      "loop: 0 window_step: 1 count: 0 pattern within window: CATCGTCCCATGTTTTGTTTGGCAGACCATCTTGGCTGCTCCCGGCCCGCTTTACGCATACGCTCGGCCCCCAAGACGACTTCGTCGCACATAGTCTGAT\n",
      "loop: 0 window_step: 1 count: 0 pattern within window: CATCGTCCCATGTTTTGTTTGGCAGACCATCTTGGCTGCTCCCGGCCCGCTTTACGCATACGCTCGGCCCCCAAGACGACTTCGTCGCACATAGTCTGAT\n",
      "loop: 0 window_step: 1 count: 0 pattern within window: CATCGTCCCATGTTTTGTTTGGCAGACCATCTTGGCTGCTCCCGGCCCGCTTTACGCATACGCTCGGCCCCCAAGACGACTTCGTCGCACATAGTCTGAT\n",
      "loop: 0 window_step: 1 count: 0 pattern within window: CATCGTCCCATGTTTTGTTTGGCAGACCATCTTGGCTGCTCCCGGCCCGCTTTACGCATACGCTCGGCCCCCAAGACGACTTCGTCGCACATAGTCTGAT\n",
      "loop: 0 window_step: 1 count: 0 pattern within window: CATCGTCCCATGTTTTGTTTGGCAGACCATCTTGGCTGCTCCCGGCCCGCTTTACGCATACGCTCGGCCCCCAAGACGACTTCGTCGCACATAGTCTGAT\n",
      "loop: 0 window_step: 1 count: 0 pattern within window: CATCGTCCCATGTTTTGTTTGGCAGACCATCTTGGCTGCTCCCGGCCCGCTTTACGCATACGCTCGGCCCCCAAGACGACTTCGTCGCACATAGTCTGAT\n",
      "loop: 0 window_step: 1 count: 0 pattern within window: CATCGTCCCATGTTTTGTTTGGCAGACCATCTTGGCTGCTCCCGGCCCGCTTTACGCATACGCTCGGCCCCCAAGACGACTTCGTCGCACATAGTCTGAT\n",
      "loop: 0 window_step: 1 count: 0 pattern within window: CATCGTCCCATGTTTTGTTTGGCAGACCATCTTGGCTGCTCCCGGCCCGCTTTACGCATACGCTCGGCCCCCAAGACGACTTCGTCGCACATAGTCTGAT\n",
      "loop: 0 window_step: 1 count: 0 pattern within window: CATCGTCCCATGTTTTGTTTGGCAGACCATCTTGGCTGCTCCCGGCCCGCTTTACGCATACGCTCGGCCCCCAAGACGACTTCGTCGCACATAGTCTGAT\n",
      "loop: 0 window_step: 1 count: 0 pattern within window: CATCGTCCCATGTTTTGTTTGGCAGACCATCTTGGCTGCTCCCGGCCCGCTTTACGCATACGCTCGGCCCCCAAGACGACTTCGTCGCACATAGTCTGAT\n",
      "loop: 0 window_step: 1 count: 0 pattern within window: CATCGTCCCATGTTTTGTTTGGCAGACCATCTTGGCTGCTCCCGGCCCGCTTTACGCATACGCTCGGCCCCCAAGACGACTTCGTCGCACATAGTCTGAT\n",
      "loop: 0 window_step: 1 count: 0 pattern within window: CATCGTCCCATGTTTTGTTTGGCAGACCATCTTGGCTGCTCCCGGCCCGCTTTACGCATACGCTCGGCCCCCAAGACGACTTCGTCGCACATAGTCTGAT\n",
      "loop: 0 window_step: 1 count: 0 pattern within window: CATCGTCCCATGTTTTGTTTGGCAGACCATCTTGGCTGCTCCCGGCCCGCTTTACGCATACGCTCGGCCCCCAAGACGACTTCGTCGCACATAGTCTGAT\n",
      "loop: 0 window_step: 1 count: 0 pattern within window: CATCGTCCCATGTTTTGTTTGGCAGACCATCTTGGCTGCTCCCGGCCCGCTTTACGCATACGCTCGGCCCCCAAGACGACTTCGTCGCACATAGTCTGAT\n",
      "loop: 0 window_step: 1 count: 0 pattern within window: CATCGTCCCATGTTTTGTTTGGCAGACCATCTTGGCTGCTCCCGGCCCGCTTTACGCATACGCTCGGCCCCCAAGACGACTTCGTCGCACATAGTCTGAT\n",
      "loop: 0 window_step: 1 count: 0 pattern within window: CATCGTCCCATGTTTTGTTTGGCAGACCATCTTGGCTGCTCCCGGCCCGCTTTACGCATACGCTCGGCCCCCAAGACGACTTCGTCGCACATAGTCTGAT\n",
      "loop: 0 window_step: 1 count: 0 pattern within window: CATCGTCCCATGTTTTGTTTGGCAGACCATCTTGGCTGCTCCCGGCCCGCTTTACGCATACGCTCGGCCCCCAAGACGACTTCGTCGCACATAGTCTGAT\n",
      "loop: 0 window_step: 1 count: 0 pattern within window: CATCGTCCCATGTTTTGTTTGGCAGACCATCTTGGCTGCTCCCGGCCCGCTTTACGCATACGCTCGGCCCCCAAGACGACTTCGTCGCACATAGTCTGAT\n",
      "loop: 0 window_step: 1 count: 0 pattern within window: CATCGTCCCATGTTTTGTTTGGCAGACCATCTTGGCTGCTCCCGGCCCGCTTTACGCATACGCTCGGCCCCCAAGACGACTTCGTCGCACATAGTCTGAT\n",
      "loop: 0 window_step: 1 count: 0 pattern within window: CATCGTCCCATGTTTTGTTTGGCAGACCATCTTGGCTGCTCCCGGCCCGCTTTACGCATACGCTCGGCCCCCAAGACGACTTCGTCGCACATAGTCTGAT\n",
      "loop: 0 window_step: 1 count: 0 pattern within window: CATCGTCCCATGTTTTGTTTGGCAGACCATCTTGGCTGCTCCCGGCCCGCTTTACGCATACGCTCGGCCCCCAAGACGACTTCGTCGCACATAGTCTGAT\n",
      "loop: 0 window_step: 1 count: 0 pattern within window: CATCGTCCCATGTTTTGTTTGGCAGACCATCTTGGCTGCTCCCGGCCCGCTTTACGCATACGCTCGGCCCCCAAGACGACTTCGTCGCACATAGTCTGAT\n",
      "loop: 0 window_step: 1 count: 0 pattern within window: CATCGTCCCATGTTTTGTTTGGCAGACCATCTTGGCTGCTCCCGGCCCGCTTTACGCATACGCTCGGCCCCCAAGACGACTTCGTCGCACATAGTCTGAT\n",
      "loop: 0 window_step: 1 count: 0 pattern within window: CATCGTCCCATGTTTTGTTTGGCAGACCATCTTGGCTGCTCCCGGCCCGCTTTACGCATACGCTCGGCCCCCAAGACGACTTCGTCGCACATAGTCTGAT\n",
      "loop: 0 window_step: 1 count: 0 pattern within window: CATCGTCCCATGTTTTGTTTGGCAGACCATCTTGGCTGCTCCCGGCCCGCTTTACGCATACGCTCGGCCCCCAAGACGACTTCGTCGCACATAGTCTGAT\n",
      "loop: 0 window_step: 1 count: 0 pattern within window: CATCGTCCCATGTTTTGTTTGGCAGACCATCTTGGCTGCTCCCGGCCCGCTTTACGCATACGCTCGGCCCCCAAGACGACTTCGTCGCACATAGTCTGAT\n",
      "loop: 0 window_step: 1 count: 0 pattern within window: CATCGTCCCATGTTTTGTTTGGCAGACCATCTTGGCTGCTCCCGGCCCGCTTTACGCATACGCTCGGCCCCCAAGACGACTTCGTCGCACATAGTCTGAT\n",
      "loop: 0 window_step: 1 count: 0 pattern within window: CATCGTCCCATGTTTTGTTTGGCAGACCATCTTGGCTGCTCCCGGCCCGCTTTACGCATACGCTCGGCCCCCAAGACGACTTCGTCGCACATAGTCTGAT\n",
      "loop: 0 window_step: 1 count: 0 pattern within window: CATCGTCCCATGTTTTGTTTGGCAGACCATCTTGGCTGCTCCCGGCCCGCTTTACGCATACGCTCGGCCCCCAAGACGACTTCGTCGCACATAGTCTGAT\n",
      "loop: 0 window_step: 1 count: 0 pattern within window: CATCGTCCCATGTTTTGTTTGGCAGACCATCTTGGCTGCTCCCGGCCCGCTTTACGCATACGCTCGGCCCCCAAGACGACTTCGTCGCACATAGTCTGAT\n",
      "loop: 0 window_step: 1 count: 0 pattern within window: CATCGTCCCATGTTTTGTTTGGCAGACCATCTTGGCTGCTCCCGGCCCGCTTTACGCATACGCTCGGCCCCCAAGACGACTTCGTCGCACATAGTCTGAT\n",
      "loop: 0 window_step: 1 count: 0 pattern within window: CATCGTCCCATGTTTTGTTTGGCAGACCATCTTGGCTGCTCCCGGCCCGCTTTACGCATACGCTCGGCCCCCAAGACGACTTCGTCGCACATAGTCTGAT\n",
      "loop: 0 window_step: 1 count: 0 pattern within window: CATCGTCCCATGTTTTGTTTGGCAGACCATCTTGGCTGCTCCCGGCCCGCTTTACGCATACGCTCGGCCCCCAAGACGACTTCGTCGCACATAGTCTGAT\n",
      "loop: 0 window_step: 1 count: 0 pattern within window: CATCGTCCCATGTTTTGTTTGGCAGACCATCTTGGCTGCTCCCGGCCCGCTTTACGCATACGCTCGGCCCCCAAGACGACTTCGTCGCACATAGTCTGAT\n",
      "loop: 0 window_step: 1 count: 0 pattern within window: CATCGTCCCATGTTTTGTTTGGCAGACCATCTTGGCTGCTCCCGGCCCGCTTTACGCATACGCTCGGCCCCCAAGACGACTTCGTCGCACATAGTCTGAT\n",
      "loop: 0 window_step: 1 count: 0 pattern within window: CATCGTCCCATGTTTTGTTTGGCAGACCATCTTGGCTGCTCCCGGCCCGCTTTACGCATACGCTCGGCCCCCAAGACGACTTCGTCGCACATAGTCTGAT\n",
      "loop: 0 window_step: 1 count: 0 pattern within window: CATCGTCCCATGTTTTGTTTGGCAGACCATCTTGGCTGCTCCCGGCCCGCTTTACGCATACGCTCGGCCCCCAAGACGACTTCGTCGCACATAGTCTGAT\n",
      "loop: 0 window_step: 1 count: 0 pattern within window: CATCGTCCCATGTTTTGTTTGGCAGACCATCTTGGCTGCTCCCGGCCCGCTTTACGCATACGCTCGGCCCCCAAGACGACTTCGTCGCACATAGTCTGAT\n",
      "loop: 0 window_step: 1 count: 0 pattern within window: CATCGTCCCATGTTTTGTTTGGCAGACCATCTTGGCTGCTCCCGGCCCGCTTTACGCATACGCTCGGCCCCCAAGACGACTTCGTCGCACATAGTCTGAT\n",
      "loop: 0 window_step: 1 count: 0 pattern within window: CATCGTCCCATGTTTTGTTTGGCAGACCATCTTGGCTGCTCCCGGCCCGCTTTACGCATACGCTCGGCCCCCAAGACGACTTCGTCGCACATAGTCTGAT\n",
      "loop: 0 window_step: 1 count: 0 pattern within window: CATCGTCCCATGTTTTGTTTGGCAGACCATCTTGGCTGCTCCCGGCCCGCTTTACGCATACGCTCGGCCCCCAAGACGACTTCGTCGCACATAGTCTGAT\n",
      "loop: 0 window_step: 1 count: 0 pattern within window: CATCGTCCCATGTTTTGTTTGGCAGACCATCTTGGCTGCTCCCGGCCCGCTTTACGCATACGCTCGGCCCCCAAGACGACTTCGTCGCACATAGTCTGAT\n",
      "loop: 0 window_step: 1 count: 0 pattern within window: CATCGTCCCATGTTTTGTTTGGCAGACCATCTTGGCTGCTCCCGGCCCGCTTTACGCATACGCTCGGCCCCCAAGACGACTTCGTCGCACATAGTCTGAT\n",
      "loop: 0 window_step: 1 count: 0 pattern within window: CATCGTCCCATGTTTTGTTTGGCAGACCATCTTGGCTGCTCCCGGCCCGCTTTACGCATACGCTCGGCCCCCAAGACGACTTCGTCGCACATAGTCTGAT\n",
      "loop: 0 window_step: 1 count: 0 pattern within window: CATCGTCCCATGTTTTGTTTGGCAGACCATCTTGGCTGCTCCCGGCCCGCTTTACGCATACGCTCGGCCCCCAAGACGACTTCGTCGCACATAGTCTGAT\n",
      "loop: 0 window_step: 1 count: 0 pattern within window: CATCGTCCCATGTTTTGTTTGGCAGACCATCTTGGCTGCTCCCGGCCCGCTTTACGCATACGCTCGGCCCCCAAGACGACTTCGTCGCACATAGTCTGAT\n",
      "loop: 0 window_step: 1 count: 0 pattern within window: CATCGTCCCATGTTTTGTTTGGCAGACCATCTTGGCTGCTCCCGGCCCGCTTTACGCATACGCTCGGCCCCCAAGACGACTTCGTCGCACATAGTCTGAT\n",
      "loop: 0 window_step: 1 count: 0 pattern within window: CATCGTCCCATGTTTTGTTTGGCAGACCATCTTGGCTGCTCCCGGCCCGCTTTACGCATACGCTCGGCCCCCAAGACGACTTCGTCGCACATAGTCTGAT\n",
      "loop: 0 window_step: 1 count: 0 pattern within window: CATCGTCCCATGTTTTGTTTGGCAGACCATCTTGGCTGCTCCCGGCCCGCTTTACGCATACGCTCGGCCCCCAAGACGACTTCGTCGCACATAGTCTGAT\n",
      "loop: 0 window_step: 1 count: 0 pattern within window: CATCGTCCCATGTTTTGTTTGGCAGACCATCTTGGCTGCTCCCGGCCCGCTTTACGCATACGCTCGGCCCCCAAGACGACTTCGTCGCACATAGTCTGAT\n",
      "loop: 0 window_step: 1 count: 0 pattern within window: CATCGTCCCATGTTTTGTTTGGCAGACCATCTTGGCTGCTCCCGGCCCGCTTTACGCATACGCTCGGCCCCCAAGACGACTTCGTCGCACATAGTCTGAT\n",
      "loop: 0 window_step: 1 count: 0 pattern within window: CATCGTCCCATGTTTTGTTTGGCAGACCATCTTGGCTGCTCCCGGCCCGCTTTACGCATACGCTCGGCCCCCAAGACGACTTCGTCGCACATAGTCTGAT\n",
      "loop: 0 window_step: 1 count: 0 pattern within window: CATCGTCCCATGTTTTGTTTGGCAGACCATCTTGGCTGCTCCCGGCCCGCTTTACGCATACGCTCGGCCCCCAAGACGACTTCGTCGCACATAGTCTGAT\n",
      "loop: 0 window_step: 1 count: 0 pattern within window: CATCGTCCCATGTTTTGTTTGGCAGACCATCTTGGCTGCTCCCGGCCCGCTTTACGCATACGCTCGGCCCCCAAGACGACTTCGTCGCACATAGTCTGAT\n",
      "loop: 0 window_step: 1 count: 0 pattern within window: CATCGTCCCATGTTTTGTTTGGCAGACCATCTTGGCTGCTCCCGGCCCGCTTTACGCATACGCTCGGCCCCCAAGACGACTTCGTCGCACATAGTCTGAT\n",
      "loop: 0 window_step: 1 count: 0 pattern within window: CATCGTCCCATGTTTTGTTTGGCAGACCATCTTGGCTGCTCCCGGCCCGCTTTACGCATACGCTCGGCCCCCAAGACGACTTCGTCGCACATAGTCTGAT\n",
      "loop: 0 window_step: 1 count: 0 pattern within window: CATCGTCCCATGTTTTGTTTGGCAGACCATCTTGGCTGCTCCCGGCCCGCTTTACGCATACGCTCGGCCCCCAAGACGACTTCGTCGCACATAGTCTGAT\n",
      "loop: 0 window_step: 1 count: 0 pattern within window: CATCGTCCCATGTTTTGTTTGGCAGACCATCTTGGCTGCTCCCGGCCCGCTTTACGCATACGCTCGGCCCCCAAGACGACTTCGTCGCACATAGTCTGAT\n",
      "loop: 0 window_step: 1 count: 0 pattern within window: CATCGTCCCATGTTTTGTTTGGCAGACCATCTTGGCTGCTCCCGGCCCGCTTTACGCATACGCTCGGCCCCCAAGACGACTTCGTCGCACATAGTCTGAT\n",
      "loop: 0 window_step: 1 count: 0 pattern within window: CATCGTCCCATGTTTTGTTTGGCAGACCATCTTGGCTGCTCCCGGCCCGCTTTACGCATACGCTCGGCCCCCAAGACGACTTCGTCGCACATAGTCTGAT\n",
      "loop: 0 window_step: 1 count: 0 pattern within window: CATCGTCCCATGTTTTGTTTGGCAGACCATCTTGGCTGCTCCCGGCCCGCTTTACGCATACGCTCGGCCCCCAAGACGACTTCGTCGCACATAGTCTGAT\n",
      "loop: 0 window_step: 1 count: 0 pattern within window: CATCGTCCCATGTTTTGTTTGGCAGACCATCTTGGCTGCTCCCGGCCCGCTTTACGCATACGCTCGGCCCCCAAGACGACTTCGTCGCACATAGTCTGAT\n",
      "loop: 0 window_step: 1 count: 0 pattern within window: CATCGTCCCATGTTTTGTTTGGCAGACCATCTTGGCTGCTCCCGGCCCGCTTTACGCATACGCTCGGCCCCCAAGACGACTTCGTCGCACATAGTCTGAT\n",
      "loop: 0 window_step: 1 count: 0 pattern within window: CATCGTCCCATGTTTTGTTTGGCAGACCATCTTGGCTGCTCCCGGCCCGCTTTACGCATACGCTCGGCCCCCAAGACGACTTCGTCGCACATAGTCTGAT\n",
      "loop: 0 window_step: 1 count: 0 pattern within window: CATCGTCCCATGTTTTGTTTGGCAGACCATCTTGGCTGCTCCCGGCCCGCTTTACGCATACGCTCGGCCCCCAAGACGACTTCGTCGCACATAGTCTGAT\n",
      "loop: 0 window_step: 1 count: 0 pattern within window: CATCGTCCCATGTTTTGTTTGGCAGACCATCTTGGCTGCTCCCGGCCCGCTTTACGCATACGCTCGGCCCCCAAGACGACTTCGTCGCACATAGTCTGAT\n",
      "loop: 0 window_step: 1 count: 0 pattern within window: CATCGTCCCATGTTTTGTTTGGCAGACCATCTTGGCTGCTCCCGGCCCGCTTTACGCATACGCTCGGCCCCCAAGACGACTTCGTCGCACATAGTCTGAT\n",
      "loop: 0 window_step: 1 count: 0 pattern within window: CATCGTCCCATGTTTTGTTTGGCAGACCATCTTGGCTGCTCCCGGCCCGCTTTACGCATACGCTCGGCCCCCAAGACGACTTCGTCGCACATAGTCTGAT\n",
      "loop: 0 window_step: 1 count: 0 pattern within window: CATCGTCCCATGTTTTGTTTGGCAGACCATCTTGGCTGCTCCCGGCCCGCTTTACGCATACGCTCGGCCCCCAAGACGACTTCGTCGCACATAGTCTGAT\n",
      "loop: 0 window_step: 1 count: 0 pattern within window: CATCGTCCCATGTTTTGTTTGGCAGACCATCTTGGCTGCTCCCGGCCCGCTTTACGCATACGCTCGGCCCCCAAGACGACTTCGTCGCACATAGTCTGAT\n",
      "loop: 0 window_step: 1 count: 0 pattern within window: CATCGTCCCATGTTTTGTTTGGCAGACCATCTTGGCTGCTCCCGGCCCGCTTTACGCATACGCTCGGCCCCCAAGACGACTTCGTCGCACATAGTCTGAT\n",
      "loop: 0 window_step: 1 count: 0 pattern within window: CATCGTCCCATGTTTTGTTTGGCAGACCATCTTGGCTGCTCCCGGCCCGCTTTACGCATACGCTCGGCCCCCAAGACGACTTCGTCGCACATAGTCTGAT\n",
      "loop: 0 window_step: 1 count: 0 pattern within window: CATCGTCCCATGTTTTGTTTGGCAGACCATCTTGGCTGCTCCCGGCCCGCTTTACGCATACGCTCGGCCCCCAAGACGACTTCGTCGCACATAGTCTGAT\n",
      "loop: 0 window_step: 1 count: 0 pattern within window: CATCGTCCCATGTTTTGTTTGGCAGACCATCTTGGCTGCTCCCGGCCCGCTTTACGCATACGCTCGGCCCCCAAGACGACTTCGTCGCACATAGTCTGAT\n",
      "loop: 0 window_step: 1 count: 0 pattern within window: CATCGTCCCATGTTTTGTTTGGCAGACCATCTTGGCTGCTCCCGGCCCGCTTTACGCATACGCTCGGCCCCCAAGACGACTTCGTCGCACATAGTCTGAT\n",
      "loop: 0 window_step: 1 count: 0 pattern within window: CATCGTCCCATGTTTTGTTTGGCAGACCATCTTGGCTGCTCCCGGCCCGCTTTACGCATACGCTCGGCCCCCAAGACGACTTCGTCGCACATAGTCTGAT\n",
      "loop: 0 window_step: 1 count: 0 pattern within window: CATCGTCCCATGTTTTGTTTGGCAGACCATCTTGGCTGCTCCCGGCCCGCTTTACGCATACGCTCGGCCCCCAAGACGACTTCGTCGCACATAGTCTGAT\n",
      "loop: 0 window_step: 1 count: 0 pattern within window: CATCGTCCCATGTTTTGTTTGGCAGACCATCTTGGCTGCTCCCGGCCCGCTTTACGCATACGCTCGGCCCCCAAGACGACTTCGTCGCACATAGTCTGAT\n",
      "loop: 0 window_step: 1 count: 0 pattern within window: CATCGTCCCATGTTTTGTTTGGCAGACCATCTTGGCTGCTCCCGGCCCGCTTTACGCATACGCTCGGCCCCCAAGACGACTTCGTCGCACATAGTCTGAT\n",
      "loop: 0 window_step: 1 count: 0 pattern within window: CATCGTCCCATGTTTTGTTTGGCAGACCATCTTGGCTGCTCCCGGCCCGCTTTACGCATACGCTCGGCCCCCAAGACGACTTCGTCGCACATAGTCTGAT\n",
      "loop: 0 window_step: 1 count: 0 pattern within window: CATCGTCCCATGTTTTGTTTGGCAGACCATCTTGGCTGCTCCCGGCCCGCTTTACGCATACGCTCGGCCCCCAAGACGACTTCGTCGCACATAGTCTGAT\n",
      "loop: 0 window_step: 1 count: 0 pattern within window: CATCGTCCCATGTTTTGTTTGGCAGACCATCTTGGCTGCTCCCGGCCCGCTTTACGCATACGCTCGGCCCCCAAGACGACTTCGTCGCACATAGTCTGAT\n",
      "loop: 0 window_step: 1 count: 0 pattern within window: CATCGTCCCATGTTTTGTTTGGCAGACCATCTTGGCTGCTCCCGGCCCGCTTTACGCATACGCTCGGCCCCCAAGACGACTTCGTCGCACATAGTCTGAT\n",
      "loop: 0 window_step: 1 count: 0 pattern within window: CATCGTCCCATGTTTTGTTTGGCAGACCATCTTGGCTGCTCCCGGCCCGCTTTACGCATACGCTCGGCCCCCAAGACGACTTCGTCGCACATAGTCTGAT\n",
      "loop: 0 window_step: 1 count: 0 pattern within window: CATCGTCCCATGTTTTGTTTGGCAGACCATCTTGGCTGCTCCCGGCCCGCTTTACGCATACGCTCGGCCCCCAAGACGACTTCGTCGCACATAGTCTGAT\n",
      "loop: 0 window_step: 1 count: 0 pattern within window: CATCGTCCCATGTTTTGTTTGGCAGACCATCTTGGCTGCTCCCGGCCCGCTTTACGCATACGCTCGGCCCCCAAGACGACTTCGTCGCACATAGTCTGAT\n",
      "loop: 0 window_step: 1 count: 0 pattern within window: CATCGTCCCATGTTTTGTTTGGCAGACCATCTTGGCTGCTCCCGGCCCGCTTTACGCATACGCTCGGCCCCCAAGACGACTTCGTCGCACATAGTCTGAT\n",
      "loop: 0 window_step: 1 count: 0 pattern within window: CATCGTCCCATGTTTTGTTTGGCAGACCATCTTGGCTGCTCCCGGCCCGCTTTACGCATACGCTCGGCCCCCAAGACGACTTCGTCGCACATAGTCTGAT\n",
      "loop: 0 window_step: 1 count: 0 pattern within window: CATCGTCCCATGTTTTGTTTGGCAGACCATCTTGGCTGCTCCCGGCCCGCTTTACGCATACGCTCGGCCCCCAAGACGACTTCGTCGCACATAGTCTGAT\n",
      "loop: 0 window_step: 1 count: 0 pattern within window: CATCGTCCCATGTTTTGTTTGGCAGACCATCTTGGCTGCTCCCGGCCCGCTTTACGCATACGCTCGGCCCCCAAGACGACTTCGTCGCACATAGTCTGAT\n",
      "loop: 0 window_step: 1 count: 0 pattern within window: CATCGTCCCATGTTTTGTTTGGCAGACCATCTTGGCTGCTCCCGGCCCGCTTTACGCATACGCTCGGCCCCCAAGACGACTTCGTCGCACATAGTCTGAT\n",
      "loop: 0 window_step: 1 count: 0 pattern within window: CATCGTCCCATGTTTTGTTTGGCAGACCATCTTGGCTGCTCCCGGCCCGCTTTACGCATACGCTCGGCCCCCAAGACGACTTCGTCGCACATAGTCTGAT\n",
      "loop: 0 window_step: 1 count: 0 pattern within window: CATCGTCCCATGTTTTGTTTGGCAGACCATCTTGGCTGCTCCCGGCCCGCTTTACGCATACGCTCGGCCCCCAAGACGACTTCGTCGCACATAGTCTGAT\n",
      "loop: 0 window_step: 1 count: 0 pattern within window: CATCGTCCCATGTTTTGTTTGGCAGACCATCTTGGCTGCTCCCGGCCCGCTTTACGCATACGCTCGGCCCCCAAGACGACTTCGTCGCACATAGTCTGAT\n"
     ]
    },
    {
     "data": {
      "text/plain": [
       "['ACC',\n",
       " 'GAC',\n",
       " 'CGC',\n",
       " 'TTC',\n",
       " 'CAG',\n",
       " 'TCG',\n",
       " 'GCC',\n",
       " 'ACG',\n",
       " 'GCT',\n",
       " 'TGT',\n",
       " 'ATA',\n",
       " 'AGT',\n",
       " 'TAC',\n",
       " 'AAG',\n",
       " 'CAC',\n",
       " 'CAA',\n",
       " 'CAT',\n",
       " 'TAG',\n",
       " 'GTC',\n",
       " 'CGG',\n",
       " 'GAT',\n",
       " 'TCC',\n",
       " 'ACT',\n",
       " 'TGA',\n",
       " 'TGG',\n",
       " 'CGT',\n",
       " 'AGA',\n",
       " 'ATG',\n",
       " 'CTT',\n",
       " 'ATC',\n",
       " 'CCG',\n",
       " 'CTG',\n",
       " 'TGC',\n",
       " 'CCC',\n",
       " 'GGC',\n",
       " 'TTT',\n",
       " 'TTA',\n",
       " 'CTC',\n",
       " 'GCA',\n",
       " 'GTT',\n",
       " 'CGA',\n",
       " 'ACA',\n",
       " 'TTG',\n",
       " 'TCT',\n",
       " 'CCA']"
      ]
     },
     "execution_count": 8,
     "metadata": {},
     "output_type": "execute_result"
    }
   ],
   "source": [
    "Counter(Text).FrequentWords(k=3, verbose = False)"
   ]
  },
  {
   "cell_type": "code",
   "execution_count": null,
   "metadata": {
    "collapsed": true
   },
   "outputs": [],
   "source": []
  },
  {
   "cell_type": "code",
   "execution_count": null,
   "metadata": {
    "collapsed": true
   },
   "outputs": [],
   "source": []
  },
  {
   "cell_type": "code",
   "execution_count": null,
   "metadata": {
    "collapsed": true
   },
   "outputs": [],
   "source": []
  },
  {
   "cell_type": "code",
   "execution_count": null,
   "metadata": {
    "collapsed": true
   },
   "outputs": [],
   "source": []
  },
  {
   "cell_type": "code",
   "execution_count": null,
   "metadata": {
    "collapsed": true
   },
   "outputs": [],
   "source": []
  },
  {
   "cell_type": "code",
   "execution_count": null,
   "metadata": {
    "collapsed": true
   },
   "outputs": [],
   "source": []
  },
  {
   "cell_type": "code",
   "execution_count": null,
   "metadata": {
    "collapsed": true
   },
   "outputs": [],
   "source": []
  },
  {
   "cell_type": "code",
   "execution_count": null,
   "metadata": {
    "collapsed": true
   },
   "outputs": [],
   "source": []
  },
  {
   "cell_type": "code",
   "execution_count": null,
   "metadata": {
    "collapsed": true
   },
   "outputs": [],
   "source": []
  },
  {
   "cell_type": "markdown",
   "metadata": {
    "collapsed": true
   },
   "source": [
    "### Results"
   ]
  },
  {
   "cell_type": "code",
   "execution_count": null,
   "metadata": {
    "collapsed": true
   },
   "outputs": [],
   "source": []
  },
  {
   "cell_type": "code",
   "execution_count": null,
   "metadata": {
    "collapsed": true
   },
   "outputs": [],
   "source": []
  }
 ],
 "metadata": {
  "kernelspec": {
   "display_name": "Python 3",
   "language": "python",
   "name": "python3"
  },
  "language_info": {
   "codemirror_mode": {
    "name": "ipython",
    "version": 3
   },
   "file_extension": ".py",
   "mimetype": "text/x-python",
   "name": "python",
   "nbconvert_exporter": "python",
   "pygments_lexer": "ipython3",
   "version": "3.7.6"
  }
 },
 "nbformat": 4,
 "nbformat_minor": 2
}
