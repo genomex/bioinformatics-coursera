{
 "cells": [
  {
   "cell_type": "markdown",
   "metadata": {},
   "source": [
    "### CH-1-Homework\n",
    "\n",
    "------------------------------"
   ]
  },
  {
   "cell_type": "code",
   "execution_count": null,
   "metadata": {
    "collapsed": true
   },
   "outputs": [],
   "source": [
    "import Counter*"
   ]
  },
  {
   "cell_type": "markdown",
   "metadata": {},
   "source": [
    "### Question 1:  Generate Genome of length 100 and find a frequent word using ```FrequentWords( )``` ."
   ]
  },
  {
   "cell_type": "code",
   "execution_count": 3,
   "metadata": {
    "collapsed": true
   },
   "outputs": [],
   "source": [
    "def DNA_generator(length):\n",
    "        Genome = ['A','C','G','T']\n",
    "        DNA = \"\"\n",
    "        for i in range(length):\n",
    "               DNA = DNA+random.choice(Genome)\n",
    "        return DNA "
   ]
  },
  {
   "cell_type": "code",
   "execution_count": null,
   "metadata": {
    "collapsed": true
   },
   "outputs": [],
   "source": []
  },
  {
   "cell_type": "markdown",
   "metadata": {},
   "source": [
    "-------"
   ]
  },
  {
   "cell_type": "markdown",
   "metadata": {},
   "source": [
    "### Question 2:  Find the Reverse Complement of Genome = 'ATGCGTATCG'"
   ]
  },
  {
   "cell_type": "code",
   "execution_count": null,
   "metadata": {
    "collapsed": true
   },
   "outputs": [],
   "source": []
  },
  {
   "cell_type": "markdown",
   "metadata": {},
   "source": [
    "----------"
   ]
  },
  {
   "cell_type": "markdown",
   "metadata": {},
   "source": [
    "### Question 3:  Generate Genome of length 100 and find Skew and make a SKEW progress plot along the length of genome."
   ]
  },
  {
   "cell_type": "code",
   "execution_count": null,
   "metadata": {
    "collapsed": true
   },
   "outputs": [],
   "source": []
  },
  {
   "cell_type": "markdown",
   "metadata": {},
   "source": [
    "---------"
   ]
  },
  {
   "cell_type": "markdown",
   "metadata": {},
   "source": [
    "### Question 4: What are Neighbors of \"ATCG\" with hamming distance 2?"
   ]
  },
  {
   "cell_type": "code",
   "execution_count": null,
   "metadata": {
    "collapsed": true
   },
   "outputs": [],
   "source": []
  },
  {
   "cell_type": "markdown",
   "metadata": {},
   "source": [
    "---------"
   ]
  },
  {
   "cell_type": "markdown",
   "metadata": {},
   "source": [
    "### Question 5:  Generate Genome of length 100 and find a frequent word  with mis match using ```FrequentWordsWithMisMatch( )``` . How is this different from Question 1?"
   ]
  },
  {
   "cell_type": "code",
   "execution_count": null,
   "metadata": {
    "collapsed": true
   },
   "outputs": [],
   "source": []
  },
  {
   "cell_type": "markdown",
   "metadata": {},
   "source": [
    "----------"
   ]
  },
  {
   "cell_type": "markdown",
   "metadata": {},
   "source": [
    "### Question 6: Generate Genome of length 100 and find a frequent word with Sorting using ```FindingFrequentWordsBySorting( )``` . How is this different from Question 1 and 5?"
   ]
  },
  {
   "cell_type": "code",
   "execution_count": null,
   "metadata": {
    "collapsed": true
   },
   "outputs": [],
   "source": []
  },
  {
   "cell_type": "markdown",
   "metadata": {},
   "source": [
    "----------"
   ]
  },
  {
   "cell_type": "markdown",
   "metadata": {},
   "source": [
    "### Question 7: Generate DNA of length 1000 and present a FrequencyArray."
   ]
  },
  {
   "cell_type": "code",
   "execution_count": null,
   "metadata": {
    "collapsed": true
   },
   "outputs": [],
   "source": []
  },
  {
   "cell_type": "markdown",
   "metadata": {},
   "source": [
    "----------"
   ]
  },
  {
   "cell_type": "markdown",
   "metadata": {},
   "source": [
    "### Question 8: Generate Genome of length 100 and find a frequent word with Sorting using ```FindingFrequentWordsWithMisMatchsBySorting( )``` . How is this different from Question 1, 5, 6?"
   ]
  },
  {
   "cell_type": "code",
   "execution_count": 1,
   "metadata": {
    "collapsed": true
   },
   "outputs": [],
   "source": [
    "def FindingFrequentWordsWithMismatchesBySorting(Text,k,d,verbose =False):\n",
    "    \n",
    "    \n",
    "    '''This function implements neighbor function to calculate neighborhood list\n",
    "    and counts which pattern has maximum number of neighbors'''\n",
    "    \n",
    "    \n",
    "    '''Take an empty FrequentPattern list'''\n",
    "    FrequentPattern = []\n",
    "    \n",
    "    '''Take an empty Neighborhoods list'''\n",
    "    Neighborhoods = []\n",
    "     \n",
    "    \n",
    "    '''Iterate through sliding window of size k'''\n",
    "    for i in range(len(Text)-k+1):\n",
    "        \n",
    "        '''Add neighbors of selected Pattern to Neighborhoods list'''\n",
    "        Neighborhoods.append(Neighbors(Text[i:i+k],d))\n",
    "        \n",
    "     \n",
    "    '''Create a NeighborhoodArray called NHA'''\n",
    "    NHA = []\n",
    "    '''Iterate over all lists in Neighborhoods'''\n",
    "    for item in Neighborhoods:\n",
    "        '''Iterate over each nbr in selected list of Neighborhoods'''\n",
    "        for nbr in item:\n",
    "            '''add all of them to list NHA'''\n",
    "            NHA.append(nbr)\n",
    "            \n",
    "    \n",
    "    if verbose:\n",
    "            print(\"Neighborhoods:\",Neighborhoods,\\\n",
    "                  \"\\n\",\"----------------------------------------------------\",\"\\n\",\\\n",
    "                  \"NeighborhoodArray:\", NHA, \"\\n NeighborhoodArray has length:\",len(NHA))\n",
    "            print(\"========================================================\")\n",
    "        \n",
    "    \n",
    "    '''Initiate Count list'''\n",
    "    Count = [0 for i in range(len(NHA))]\n",
    "    \n",
    "    '''Initiate Index list'''\n",
    "    Index = [0 for i in range(len(NHA))]\n",
    "        \n",
    "        \n",
    "    '''Iterate over each element of Neighborhood Array'''   \n",
    "    for j in range(len(NHA)):\n",
    "        Pattern = NHA[j]\n",
    "        Index[j] = PatternToNumber(Pattern)\n",
    "        Count[j] = 1\n",
    "        \n",
    "        \n",
    "        if verbose:\n",
    "            print(\"Pattern:\",Pattern,\\\n",
    "                  \"\\n Index:\", Index,\\\n",
    "                  \"\\n Count:\", Count)\n",
    "            \n",
    "            \n",
    "    '''Sort the Index list'''        \n",
    "    SORTEDINDEX = list(np.sort(Index))\n",
    "        \n",
    "    \n",
    "    if verbose:\n",
    "        print(\"----------------------------------\")  \n",
    "        print(\"SORTEDINDEX is:\", SORTEDINDEX)\n",
    "        print(\"--------------------------------\")  \n",
    "    \n",
    "    \n",
    "    \n",
    "    '''If immediate index are doublicate,frequency increases '''\n",
    "    for i in range(len(Neighborhoods)):\n",
    "            if SORTEDINDEX[i] == SORTEDINDEX[i+1]:\n",
    "                Count[i+1] = Count[i]+1\n",
    "           \n",
    "               \n",
    "    '''What is maximum frequency?'''\n",
    "    maxCount = max(Count)\n",
    "    \n",
    "    \n",
    "    '''Reverse engineering: \n",
    "    Which pattern is associated with maximum frequency'''\n",
    "    for i in range(len(Neighborhoods)):\n",
    "        if Count[i] == maxCount:\n",
    "            Pattern = NumberToPattern(SORTEDINDEX[i],k)\n",
    "            FrequentPattern.append(Pattern)\n",
    "            \n",
    "            \n",
    "            \n",
    "    if verbose:\n",
    "                print(\"your FrequentPattern is:\",FrequentPattern)"
   ]
  },
  {
   "cell_type": "code",
   "execution_count": 2,
   "metadata": {
    "collapsed": true
   },
   "outputs": [],
   "source": [
    "import time as time"
   ]
  },
  {
   "cell_type": "code",
   "execution_count": null,
   "metadata": {
    "collapsed": true
   },
   "outputs": [],
   "source": [
    "Text = DNA_generator(10000)\n",
    "print(\"DNA taken:\",Text)\n",
    "ts = time.start()\n",
    "frq = FindingFrequentWordsWithMismatchesBySorting(Text,k =3,d=1, verbose=True)\n",
    "te = time.end()\n",
    "print(ts-te)"
   ]
  }
 ],
 "metadata": {
  "kernelspec": {
   "display_name": "Python 3",
   "language": "python",
   "name": "python3"
  },
  "language_info": {
   "codemirror_mode": {
    "name": "ipython",
    "version": 3
   },
   "file_extension": ".py",
   "mimetype": "text/x-python",
   "name": "python",
   "nbconvert_exporter": "python",
   "pygments_lexer": "ipython3",
   "version": "3.5.2"
  },
  "widgets": {
   "state": {},
   "version": "1.1.2"
  }
 },
 "nbformat": 4,
 "nbformat_minor": 2
}
