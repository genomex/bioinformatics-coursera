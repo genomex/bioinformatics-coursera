{
 "cells": [
  {
   "cell_type": "markdown",
   "metadata": {},
   "source": [
    "# Advanced Search Algorithm"
   ]
  },
  {
   "cell_type": "code",
   "execution_count": null,
   "metadata": {
    "collapsed": true
   },
   "outputs": [],
   "source": []
  },
  {
   "cell_type": "code",
   "execution_count": null,
   "metadata": {
    "collapsed": true
   },
   "outputs": [],
   "source": []
  },
  {
   "cell_type": "code",
   "execution_count": null,
   "metadata": {
    "collapsed": true
   },
   "outputs": [],
   "source": []
  },
  {
   "cell_type": "markdown",
   "metadata": {},
   "source": [
    "### Tree  and graph Search"
   ]
  },
  {
   "cell_type": "code",
   "execution_count": 22,
   "metadata": {
    "collapsed": true
   },
   "outputs": [],
   "source": [
    "class Problem(object):\n",
    "\n",
    "    def __init__(self, initial, goal=None):\n",
    "        \n",
    "        self.initial = initial\n",
    "        self.goal = goal\n",
    "\n",
    "\n",
    "    def goal_test(self, state):\n",
    "        if isinstance(self.goal, list):\n",
    "            return is_in(state, self.goal)\n",
    "        else:\n",
    "            return state == self.goal\n"
   ]
  },
  {
   "cell_type": "code",
   "execution_count": 26,
   "metadata": {
    "collapsed": true
   },
   "outputs": [],
   "source": [
    "class Node:\n",
    "\n",
    "\n",
    "    def __init__(self, state, parent=None, action=None, path_cost=0):\n",
    "\n",
    "        self.state = state\n",
    "        self.parent = parent\n",
    "       \n",
    "        self.path_cost = path_cost\n",
    "        self.depth = 0\n",
    "        if parent:\n",
    "            self.depth = parent.depth + 1\n",
    "\n",
    "\n",
    "    def expand(self, problem):\n",
    "        \"\"\"List the nodes reachable in one step from this node.\"\"\"\n",
    "        return [self.child_node(problem, action)\n",
    "                for action in problem.actions(self.state)]\n",
    "\n",
    "    def child_node(self, problem, action):\n",
    "        \"\"\"[Figure 3.10]\"\"\"\n",
    "        next = problem.result(self.state, action)\n",
    "        return Node(next, self, action,\n",
    "                    problem.path_cost(self.path_cost, self.state,\n",
    "                                      action, next))\n",
    "\n",
    "    def path(self):\n",
    "        \"\"\"Return a list of nodes forming the path from the root to this node.\"\"\"\n",
    "        node, path_back = self, []\n",
    "        while node:\n",
    "            path_back.append(node)\n",
    "            node = node.parent\n",
    "        return list(reversed(path_back))\n"
   ]
  },
  {
   "cell_type": "markdown",
   "metadata": {},
   "source": [
    "--------"
   ]
  },
  {
   "cell_type": "code",
   "execution_count": 27,
   "metadata": {
    "collapsed": true
   },
   "outputs": [],
   "source": [
    "def breadth_first_tree_search(problem,queue):\n",
    "    \n",
    "    \"\"\"Search the shallowest nodes in the search tree first.\"\"\"\n",
    "    \n",
    "    queue.append(Node(problem.initial))\n",
    "    \n",
    "    while frontier:\n",
    "        node = queue.pop()\n",
    "        if problem.goal_test(node.state):\n",
    "            return node\n",
    "        queue.extend(node.expand(problem))\n",
    "    \n",
    "    \n",
    "    return None"
   ]
  },
  {
   "cell_type": "code",
   "execution_count": 29,
   "metadata": {
    "collapsed": true
   },
   "outputs": [],
   "source": [
    "def depth_first_tree_search(problem,Stack):\n",
    "    \n",
    "    \"\"\"Search the deepest nodes in the search tree first.\"\"\"\n",
    "    \n",
    "    queue.append(Node(problem.initial))\n",
    "    \n",
    "    while Stack:\n",
    "        node = Stack.pop()\n",
    "        if problem.goal_test(node.state):\n",
    "            return node\n",
    "        Stack.extend(node.expand(problem))\n",
    "        \n",
    "    return None"
   ]
  },
  {
   "cell_type": "markdown",
   "metadata": {},
   "source": [
    "--------"
   ]
  },
  {
   "cell_type": "code",
   "execution_count": 31,
   "metadata": {
    "collapsed": true
   },
   "outputs": [],
   "source": [
    "def depth_first_graph_search(problem,Stack):\n",
    "    \"\"\"Search the deepest nodes in the search tree first.\"\"\"\n",
    "    \n",
    "    Stack.append(Node(problem.initial))\n",
    "    explored = set()\n",
    "    while Stack:\n",
    "        node = Stack.pop()\n",
    "        if problem.goal_test(node.state):\n",
    "            return node\n",
    "        explored.add(node.state)\n",
    "        Stack.extend(child for child in node.expand(problem)\n",
    "                        if child.state not in explored and\n",
    "                        child not in Stack)\n",
    "    return graph_search(problem, Stack())"
   ]
  },
  {
   "cell_type": "code",
   "execution_count": 30,
   "metadata": {
    "collapsed": true
   },
   "outputs": [],
   "source": [
    "def breadth_first_graph_search(problem):\n",
    "    \"\"\"[Figure 3.11]\"\"\"\n",
    "    node = Node(problem.initial)\n",
    "    if problem.goal_test(node.state):\n",
    "        return node\n",
    "    frontier = FIFOQueue()\n",
    "    frontier.append(node)\n",
    "    explored = set()\n",
    "    while frontier:\n",
    "        node = frontier.pop()\n",
    "        explored.add(node.state)\n",
    "        for child in node.expand(problem):\n",
    "            if child.state not in explored and child not in frontier:\n",
    "                if problem.goal_test(child.state):\n",
    "                    return child\n",
    "                frontier.append(child)\n",
    "    return None\n"
   ]
  },
  {
   "cell_type": "markdown",
   "metadata": {},
   "source": [
    "--------"
   ]
  },
  {
   "cell_type": "markdown",
   "metadata": {},
   "source": [
    "### Breadth First Search simplified"
   ]
  },
  {
   "cell_type": "code",
   "execution_count": 8,
   "metadata": {
    "collapsed": true
   },
   "outputs": [],
   "source": [
    "graph = {'A': set(['B', 'C']),\n",
    "         'B': set(['A', 'D', 'E']),\n",
    "         'C': set(['A', 'F']),\n",
    "         'D': set(['B']),\n",
    "         'E': set(['B', 'F']),\n",
    "         'F': set(['C', 'E'])}"
   ]
  },
  {
   "cell_type": "code",
   "execution_count": 9,
   "metadata": {},
   "outputs": [
    {
     "data": {
      "text/plain": [
       "{'A': {'B', 'C'},\n",
       " 'B': {'A', 'D', 'E'},\n",
       " 'C': {'A', 'F'},\n",
       " 'D': {'B'},\n",
       " 'E': {'B', 'F'},\n",
       " 'F': {'C', 'E'}}"
      ]
     },
     "execution_count": 9,
     "metadata": {},
     "output_type": "execute_result"
    }
   ],
   "source": [
    "graph"
   ]
  },
  {
   "cell_type": "markdown",
   "metadata": {},
   "source": [
    "![alt](http://eddmann.com/uploads/depth-first-search-and-breadth-first-search-in-python/graph.png)"
   ]
  },
  {
   "cell_type": "code",
   "execution_count": 17,
   "metadata": {
    "collapsed": true
   },
   "outputs": [],
   "source": [
    "def bfs(graph, start):\n",
    "    visited, queue = set(), [start]\n",
    "    while queue:\n",
    "        vertex = queue.pop(0)\n",
    "        if vertex not in visited:\n",
    "            visited.add(vertex)\n",
    "            queue.extend(graph[vertex] - visited)\n",
    "    return visited"
   ]
  },
  {
   "cell_type": "code",
   "execution_count": 18,
   "metadata": {},
   "outputs": [
    {
     "data": {
      "text/plain": [
       "{'A', 'B', 'C', 'D', 'E', 'F'}"
      ]
     },
     "execution_count": 18,
     "metadata": {},
     "output_type": "execute_result"
    }
   ],
   "source": [
    "bfs(graph, 'A')"
   ]
  },
  {
   "cell_type": "markdown",
   "metadata": {},
   "source": [
    "### Depth First Search simplified"
   ]
  },
  {
   "cell_type": "code",
   "execution_count": 32,
   "metadata": {
    "collapsed": true
   },
   "outputs": [],
   "source": [
    "def dfs(graph, start):\n",
    "    visited, stack = set(), [start]\n",
    "    while stack:\n",
    "        vertex = stack.pop()\n",
    "        if vertex not in visited:\n",
    "            visited.add(vertex)\n",
    "            stack.extend(graph[vertex] - visited)\n",
    "    return visited\n"
   ]
  },
  {
   "cell_type": "code",
   "execution_count": 33,
   "metadata": {},
   "outputs": [
    {
     "data": {
      "text/plain": [
       "{'A', 'B', 'C', 'D', 'E', 'F'}"
      ]
     },
     "execution_count": 33,
     "metadata": {},
     "output_type": "execute_result"
    }
   ],
   "source": [
    "dfs(graph, 'A')"
   ]
  },
  {
   "cell_type": "code",
   "execution_count": 34,
   "metadata": {},
   "outputs": [
    {
     "data": {
      "text/plain": [
       "{'A', 'B', 'C', 'D', 'E', 'F'}"
      ]
     },
     "execution_count": 34,
     "metadata": {},
     "output_type": "execute_result"
    }
   ],
   "source": [
    "dfs(graph, 'C')"
   ]
  },
  {
   "cell_type": "markdown",
   "metadata": {},
   "source": [
    "---------"
   ]
  },
  {
   "cell_type": "markdown",
   "metadata": {},
   "source": [
    "#### Application"
   ]
  },
  {
   "cell_type": "markdown",
   "metadata": {},
   "source": [
    "* 1. Find the number of iland in 2D bullen world"
   ]
  },
  {
   "cell_type": "markdown",
   "metadata": {},
   "source": [
    "![alt](http://www.geeksforgeeks.org/wp-content/uploads/islands.png)"
   ]
  },
  {
   "cell_type": "code",
   "execution_count": 1,
   "metadata": {
    "collapsed": true
   },
   "outputs": [],
   "source": [
    "# Program to count islands in boolean 2D matrix\n",
    "class Graph:\n",
    " \n",
    "    def __init__(self, row, col, g):\n",
    "        self.ROW = row\n",
    "        self.COL = col\n",
    "        self.graph = g\n",
    " \n",
    "    # A function to check if a given cell \n",
    "    # (row, col) can be included in DFS\n",
    "    def isSafe(self, i, j, visited):\n",
    "        # row number is in range, column number\n",
    "        # is in range and value is 1 \n",
    "        # and not yet visited\n",
    "        return (i >= 0 and i < self.ROW and\n",
    "                j >= 0 and j < self.COL and\n",
    "                not visited[i][j] and self.graph[i][j])\n",
    "             \n",
    " \n",
    "    # A utility function to do DFS for a 2D \n",
    "    # boolean matrix. It only considers\n",
    "    # the 8 neighbours as adjacent vertices\n",
    "    def DFS(self, i, j, visited):\n",
    " \n",
    "        # These arrays are used to get row and \n",
    "        # column numbers of 8 neighbours \n",
    "        # of a given cell\n",
    "        rowNbr = [-1, -1, -1,  0, 0,  1, 1, 1];\n",
    "        colNbr = [-1,  0,  1, -1, 1, -1, 0, 1];\n",
    "         \n",
    "        # Mark this cell as visited\n",
    "        visited[i][j] = True\n",
    " \n",
    "        # Recur for all connected neighbours\n",
    "        for k in range(8):\n",
    "            if self.isSafe(i + rowNbr[k], j + colNbr[k], visited):\n",
    "                self.DFS(i + rowNbr[k], j + colNbr[k], visited)\n",
    " \n",
    " \n",
    "    # The main function that returns\n",
    "    # count of islands in a given boolean\n",
    "    # 2D matrix\n",
    "    def countIslands(self):\n",
    "        # Make a bool array to mark visited cells.\n",
    "        # Initially all cells are unvisited\n",
    "        visited = [[False for j in range(self.COL)]for i in range(self.ROW)]\n",
    " \n",
    "        # Initialize count as 0 and travese \n",
    "        # through the all cells of\n",
    "        # given matrix\n",
    "        count = 0\n",
    "        for i in range(self.ROW):\n",
    "            for j in range(self.COL):\n",
    "                # If a cell with value 1 is not visited yet, \n",
    "                # then new island found\n",
    "                if visited[i][j] == False and self.graph[i][j] ==1:\n",
    "                    # Visit all cells in this island \n",
    "                    # and increment island count\n",
    "                    self.DFS(i, j, visited)\n",
    "                    count += 1\n",
    " \n",
    "        return count"
   ]
  },
  {
   "cell_type": "code",
   "execution_count": 4,
   "metadata": {},
   "outputs": [
    {
     "name": "stdout",
     "output_type": "stream",
     "text": [
      "Number of islands is :\n",
      "5\n"
     ]
    }
   ],
   "source": [
    "graph = [[1, 1, 0, 0, 0],\n",
    "        [0, 1, 0, 0, 1],\n",
    "        [1, 0, 0, 1, 1],\n",
    "        [0, 0, 0, 0, 0],\n",
    "        [1, 0, 1, 0, 1]]\n",
    " \n",
    " \n",
    "row = len(graph)\n",
    "col = len(graph[0])\n",
    " \n",
    "g= Graph(row, col, graph)\n",
    " \n",
    "print (\"Number of islands is :\")\n",
    "print (g.countIslands())"
   ]
  },
  {
   "cell_type": "markdown",
   "metadata": {},
   "source": [
    "-------"
   ]
  }
 ],
 "metadata": {
  "kernelspec": {
   "display_name": "Python 3",
   "language": "python",
   "name": "python3"
  },
  "language_info": {
   "codemirror_mode": {
    "name": "ipython",
    "version": 3
   },
   "file_extension": ".py",
   "mimetype": "text/x-python",
   "name": "python",
   "nbconvert_exporter": "python",
   "pygments_lexer": "ipython3",
   "version": "3.5.2"
  },
  "widgets": {
   "state": {},
   "version": "1.1.2"
  }
 },
 "nbformat": 4,
 "nbformat_minor": 2
}
