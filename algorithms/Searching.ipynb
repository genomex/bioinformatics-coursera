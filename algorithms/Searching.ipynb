{
 "cells": [
  {
   "cell_type": "markdown",
   "metadata": {},
   "source": [
    "# Search Algorithm"
   ]
  },
  {
   "cell_type": "markdown",
   "metadata": {},
   "source": [
    "Searching Algorithms :\n",
    "\n",
    "1. Linear Search\n",
    "2. Binary Search\n",
    "3. Jump Search\n",
    "4. Interpolation Search\n",
    "5. Exponential Search\n",
    "6. Sublist Search (Search a linked list in another list)\n",
    "7. Fibonacci Search\n",
    "8. The Ubiquitous Binary Search\n",
    "9. Recursive program to linearly search an element in a given array\n",
    "10. Recursive function to do substring search\n",
    "11. Unbounded Binary Search Example (Find the point where a monotonically increasing function becomes positive first time)\n",
    "\n",
    "###### Source:\n",
    "1. http://www.geeksforgeeks.org/searching-algorithms/"
   ]
  },
  {
   "cell_type": "markdown",
   "metadata": {},
   "source": [
    "### 1. Linear Search"
   ]
  },
  {
   "cell_type": "markdown",
   "metadata": {},
   "source": [
    "![linear search](http://www.geeksforgeeks.org/wp-content/uploads/gq/2016/10/linear-search1.png)"
   ]
  },
  {
   "cell_type": "code",
   "execution_count": 2,
   "metadata": {
    "collapsed": true
   },
   "outputs": [],
   "source": [
    "# Searching an element in a list/array in python\n",
    "# can be simply done using 'in' operator\n",
    "# Example:\n",
    "# if x in arr:\n",
    "#   print arr.index(x)\n",
    " \n",
    "# If you want to implement Linear Search in python\n",
    " \n",
    "# Linearly search x in arr[]\n",
    "# If x is present then return its location\n",
    "# else return -1\n",
    " \n",
    "def search(arr, x):\n",
    " \n",
    "    for i in range(len(arr)):\n",
    " \n",
    "        if arr[i] == x:\n",
    "            return i\n",
    " \n",
    "    return -1"
   ]
  },
  {
   "cell_type": "markdown",
   "metadata": {},
   "source": [
    "1. The time complexity of above algorithm is O(n).\n",
    "2. Linear search is rarely used practically because other search algorithms such as the binary search algorithm and hash tables allow significantly faster searching comparison to Linear search."
   ]
  },
  {
   "cell_type": "markdown",
   "metadata": {},
   "source": [
    "### 2. Binary Search"
   ]
  },
  {
   "cell_type": "markdown",
   "metadata": {},
   "source": [
    "Search a sorted array by repeatedly dividing the search interval in half. Begin with an interval covering the whole array. If the value of the search key is less than the item in the middle of the interval, narrow the interval to the lower half. Otherwise narrow it to the upper half. Repeatedly check until the value is found or the interval is empty."
   ]
  },
  {
   "cell_type": "markdown",
   "metadata": {},
   "source": [
    "![alt](http://www.geeksforgeeks.org/wp-content/uploads/gq/2014/01/binary-search1.png)"
   ]
  },
  {
   "cell_type": "markdown",
   "metadata": {},
   "source": [
    "The idea of binary search is to use the information that the array is sorted and reduce the time complexity to O(Logn)."
   ]
  },
  {
   "cell_type": "markdown",
   "metadata": {},
   "source": [
    "* Time Complexity:\n",
    "    \n",
    "The time complexity of Binary Search can be written as\n",
    "\n",
    "T(n) = T(n/2) + c \n",
    "\n",
    "The above recurrence can be solved either using Recurrence T ree method or Master method. It falls in case II of Master Method and solution of the recurrence is Theta(Logn).\n",
    "\n",
    "* Auxiliary Space: O(1) in case of iterative implementation. In case of recursive implementation, O(Logn) recursion call stack space.\n",
    "\n",
    "* Algorithmic Paradigm: Divide and Conquer"
   ]
  },
  {
   "cell_type": "code",
   "execution_count": 16,
   "metadata": {
    "collapsed": true
   },
   "outputs": [],
   "source": [
    "# Python Program for recursive binary search.\n",
    " \n",
    "# Returns index of x in arr if present, else -1\n",
    "def binarySearch (arr, l, r, x):\n",
    " \n",
    "    # Check base case\n",
    "    if r >= l:\n",
    " \n",
    "        mid = l + (r - l)//2\n",
    " \n",
    "        # If element is present at the middle itself\n",
    "        if arr[mid] == x:\n",
    "            return mid\n",
    "         \n",
    "            \n",
    "            \n",
    "        # If element is smaller than mid, then it can only\n",
    "        # be present in left subarray\n",
    "        elif arr[mid] > x:\n",
    "            return binarySearch(arr, l, mid-1, x)\n",
    " \n",
    "        # Else the element can only be present in right subarray\n",
    "        else:\n",
    "            return binarySearch(arr, mid+1, r, x)\n",
    " \n",
    "\n",
    "\n",
    "    else:\n",
    "        # Element is not present in the array\n",
    "        \n",
    "        \n",
    "        return -1\n"
   ]
  },
  {
   "cell_type": "code",
   "execution_count": 17,
   "metadata": {},
   "outputs": [
    {
     "data": {
      "text/plain": [
       "3"
      ]
     },
     "execution_count": 17,
     "metadata": {},
     "output_type": "execute_result"
    }
   ],
   "source": [
    "# Test array\n",
    "arr = [ 2, 3, 4, 10, 40 ]\n",
    "x = 10\n",
    " \n",
    "# Function call\n",
    "result = binarySearch(arr, 0, len(arr)-1, x)\n",
    "result"
   ]
  },
  {
   "cell_type": "markdown",
   "metadata": {},
   "source": [
    "###### Problem:\n",
    "You're going to write a binary search function. You should use an iterative approach - meaning using loops. Your function should take two inputs: a Python list to search through, and the value you're searching for. Assume the list only has distinct elements, meaning there are no repeated values, and elements are in a strictly increasing order. Return the index of value, or -1 if the value doesn't exist in the list."
   ]
  },
  {
   "cell_type": "code",
   "execution_count": 10,
   "metadata": {
    "collapsed": true
   },
   "outputs": [],
   "source": [
    "def binary_search(input_array, value):\n",
    "    \"\"\"Your code goes here.\"\"\"\n",
    "    if len(input_array) == 0:\n",
    "        return -1\n",
    "    left = 0\n",
    "    right = len(input_array) - 1\n",
    "    mid = int((right + left) / 2)\n",
    "    while right > left and input_array[mid] != value:\n",
    "        if input_array[mid] < value:\n",
    "            left = mid + 1\n",
    "            mid = int((right + left) / 2)\n",
    "        else:\n",
    "            right = mid - 1\n",
    "            mid = int((right + left) / 2)\n",
    "    if input_array[mid] == value:\n",
    "        return mid\n",
    "    else:\n",
    "        return -1"
   ]
  },
  {
   "cell_type": "code",
   "execution_count": 13,
   "metadata": {},
   "outputs": [
    {
     "data": {
      "text/plain": [
       "4"
      ]
     },
     "execution_count": 13,
     "metadata": {},
     "output_type": "execute_result"
    }
   ],
   "source": [
    "test_list = [1, 3, 9, 11, 15, 19, 29]\n",
    "test_val = 15\n",
    "binary_search(test_list,test_val)"
   ]
  },
  {
   "cell_type": "markdown",
   "metadata": {},
   "source": [
    "-----"
   ]
  },
  {
   "cell_type": "code",
   "execution_count": null,
   "metadata": {
    "collapsed": true
   },
   "outputs": [],
   "source": [
    "### 3. "
   ]
  },
  {
   "cell_type": "code",
   "execution_count": null,
   "metadata": {
    "collapsed": true
   },
   "outputs": [],
   "source": []
  },
  {
   "cell_type": "code",
   "execution_count": null,
   "metadata": {
    "collapsed": true
   },
   "outputs": [],
   "source": []
  },
  {
   "cell_type": "code",
   "execution_count": null,
   "metadata": {
    "collapsed": true
   },
   "outputs": [],
   "source": []
  },
  {
   "cell_type": "code",
   "execution_count": null,
   "metadata": {
    "collapsed": true
   },
   "outputs": [],
   "source": []
  }
 ],
 "metadata": {
  "kernelspec": {
   "display_name": "Python 3",
   "language": "python",
   "name": "python3"
  },
  "language_info": {
   "codemirror_mode": {
    "name": "ipython",
    "version": 3
   },
   "file_extension": ".py",
   "mimetype": "text/x-python",
   "name": "python",
   "nbconvert_exporter": "python",
   "pygments_lexer": "ipython3",
   "version": "3.5.2"
  },
  "widgets": {
   "state": {},
   "version": "1.1.2"
  }
 },
 "nbformat": 4,
 "nbformat_minor": 2
}
