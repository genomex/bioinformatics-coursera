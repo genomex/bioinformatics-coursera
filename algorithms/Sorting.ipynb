{
 "cells": [
  {
   "cell_type": "markdown",
   "metadata": {},
   "source": [
    "# Sorting"
   ]
  },
  {
   "cell_type": "markdown",
   "metadata": {},
   "source": [
    "1. Selection Sort\n",
    "2. Bubble Sort\n",
    "3. Recursive Bubble Sort\n",
    "4. Insertion Sort\n",
    "5. Recursive Insertion Sort\n",
    "6. Merge Sort\n",
    "7. Iterative Merge Sort\n",
    "8. Quick Sort\n",
    "9. Iterative Quick Sort\n",
    "10. Heap Sort\n",
    "11. Counting Sort\n",
    "12. Radix Sort\n",
    "13. Bucket Sort\n",
    "14. ShellSort\n",
    "15. TimSort\n",
    "16. Comb Sort\n",
    "17. Pigeonhole Sort\n",
    "18. Cycle Sort\n",
    "19. Cocktail Sort\n",
    "20. Bitonic Sort\n",
    "21. Pancake sorting\n",
    "22. Binary Insertion Sort\n",
    "23. BogoSort or Permutation Sort\n",
    "24. Gnome Sort\n",
    "25. Sleep Sort – The King of Laziness / Sorting while Sleeping\n",
    "26. Structure Sorting (By Multiple Rules) in C++\n",
    "27. Stooge Sort\n",
    "28. Tag Sort (To get both sorted and original)\n",
    "29. Tree Sort\n",
    "30. Cartesian Tree Sorting\n",
    "31. Odd-Even Sort / Brick Sort\n",
    "32. QuickSort on Singly Linked List\n",
    "33. QuickSort on Doubly Linked List\n",
    "34. 3-Way QuickSort (Dutch National Flag)\n",
    "35. Merge Sort for Linked Lists\n",
    "36. Merge Sort for Doubly Linked List\n",
    "37. 3-way Merge Sort\n",
    " \n",
    " \n",
    " #### References:\n",
    " 1. https://www.khanacademy.org/computing/computer-science/algorithms\n",
    " 2. http://www.geeksforgeeks.org/sorting-algorithms/"
   ]
  },
  {
   "cell_type": "markdown",
   "metadata": {},
   "source": [
    "### 1. Bubble Sort"
   ]
  },
  {
   "cell_type": "markdown",
   "metadata": {},
   "source": [
    "According to Wikipedia \"Bubble sort, sometimes referred to as sinking sort, is a simple sorting algorithm that repeatedly steps through the list to be sorted, compares each pair of adjacent items and swaps them if they are in the wrong order. The pass through the list is repeated until no swaps are needed, which indicates that the list is sorted. The algorithm, which is a comparison sort, is named for the way smaller elements \"bubble\" to the top of the list. Although the algorithm is simple, it is too slow and impractical for most problems even when compared to insertion sort. It can be practical if the input is usually in sort order but may occasionally have some out-of-order elements nearly in position[1]."
   ]
  },
  {
   "cell_type": "markdown",
   "metadata": {},
   "source": [
    "##### Run time complexity:"
   ]
  },
  {
   "cell_type": "markdown",
   "metadata": {},
   "source": [
    "outer loop: $n$\n",
    "\n",
    "Inner loop for each outer: (n-i-1)\n",
    "\n",
    "In worst case:\n",
    "Total : $ \\sum_{i=0}^{n-1} (n-i-1) = n^{2} -   (\\sum_{i=0}^{n-1}i) - n  = n^{2} - \\frac{n(n-1)}{2} - n $\n",
    "\n",
    "$\\mathbb{O}(n^{2})$\n",
    "\n",
    "###### Auxiliary Space: O(1)"
   ]
  },
  {
   "cell_type": "markdown",
   "metadata": {},
   "source": [
    "![alt](./pic/bbsort.png)"
   ]
  },
  {
   "cell_type": "markdown",
   "metadata": {},
   "source": [
    "![alt](http://www.geeksforgeeks.org/wp-content/uploads/gq/2014/02/bubble-sort1.png)"
   ]
  },
  {
   "cell_type": "code",
   "execution_count": 14,
   "metadata": {
    "collapsed": true
   },
   "outputs": [],
   "source": [
    "# Python program for implementation of Bubble Sort\n",
    " \n",
    "def bubbleSort(arr):\n",
    "    n = len(arr)\n",
    " \n",
    "    # Traverse through all array elements\n",
    "    for i in range(n):\n",
    "        \n",
    "        # Last i elements are already in place\n",
    "        for j in range(0, n-i-1):\n",
    "        \n",
    "            # traverse the array from 0 to n-i-1\n",
    "            # Swap if the element found is greater\n",
    "            # than the next element\n",
    "            if arr[j] > arr[j+1]:\n",
    "                arr[j], arr[j+1] = arr[j+1], arr[j]\n",
    "    return arr"
   ]
  },
  {
   "cell_type": "code",
   "execution_count": 15,
   "metadata": {},
   "outputs": [
    {
     "data": {
      "text/plain": [
       "[11, 12, 22, 25, 34, 64, 90]"
      ]
     },
     "execution_count": 15,
     "metadata": {},
     "output_type": "execute_result"
    }
   ],
   "source": [
    "# Driver code to test above\n",
    "arr = [64, 34, 25, 12, 22, 11, 90]\n",
    " \n",
    "sortedarr = bubbleSort(arr)\n",
    "sortedarr"
   ]
  },
  {
   "cell_type": "markdown",
   "metadata": {},
   "source": [
    "##### Referrences:\n",
    "1. http://www.cs.toronto.edu/~guerzhoy/180/lectures/W10/lec3/BubbleSortCompl.html\n",
    "2. https://www.w3resource.com/python-exercises/data-structures-and-algorithms/python-search-and-sorting-exercise-4.php"
   ]
  },
  {
   "cell_type": "markdown",
   "metadata": {},
   "source": [
    "------"
   ]
  },
  {
   "cell_type": "markdown",
   "metadata": {},
   "source": [
    "### 2. Merg Sort"
   ]
  },
  {
   "cell_type": "markdown",
   "metadata": {},
   "source": [
    "1. Divide the unsorted list into n sublists, each containing 1 element (a list of 1 element is considered sorted).\n",
    "2. Repeatedly merge sublists to produce new sorted sublists until there is only 1 sublist remaining. This will be the sorted list."
   ]
  },
  {
   "cell_type": "markdown",
   "metadata": {},
   "source": [
    "![alt](https://www.w3resource.com/w3r_images/Merge-sort-example-300px.gif)"
   ]
  },
  {
   "cell_type": "markdown",
   "metadata": {},
   "source": [
    "##### Time Complexity:\n",
    "Sorting arrays on different machines. Merge Sort is a recursive algorithm and time complexity can be expressed as following recurrence relation.\n",
    "T(n) = 2T(n/2) + \\Theta(n)\n",
    "The above recurrence can be solved either using Recurrence Tree method or Master method. It falls in case II of Master Method and solution of the recurrence is \\Theta(nLogn).\n",
    "Time complexity of Merge Sort is \\Theta(nLogn) in all 3 cases (worst, average and best) as merge sort always divides the array in two halves and take linear time to merge two halves.\n",
    "\n",
    "##### Auxiliary Space: O(n)\n",
    "\n",
    "\n",
    "###### Class: Divide and Conquer algorithm"
   ]
  },
  {
   "cell_type": "code",
   "execution_count": 114,
   "metadata": {
    "collapsed": true
   },
   "outputs": [],
   "source": [
    "def mergeSort(nlist):\n",
    "    \n",
    "    if len(nlist) ==1:\n",
    "        print('** === no splitting === ** currnet nlist: {}:'. format(nlist))\n",
    "        \n",
    "    if len(nlist)>1:\n",
    "        print(\"Splitting \",nlist)\n",
    "        mid = len(nlist)//2\n",
    "        lefthalf = nlist[:mid]\n",
    "        righthalf = nlist[mid:]\n",
    "\n",
    "        print(\"<---go to left, size {}, lefthalf {}\".format(len(lefthalf),lefthalf))\n",
    "        mergeSort(lefthalf)\n",
    "        \n",
    "        print('<=================>')\n",
    "        \n",
    "        print(\"go to right--->, size {} righthalf {}\".format(len(righthalf),righthalf))\n",
    "        mergeSort(righthalf)\n",
    "        \n",
    "        \n",
    "        i=j=k=0       \n",
    "    \n",
    "        while i < len(lefthalf) and j < len(righthalf):\n",
    "            \n",
    "            \n",
    "            print('loop1: lefthalf size {} and righthalf size {}'\\\n",
    "                         .format(len(lefthalf),len(righthalf)))\n",
    "            \n",
    "            \n",
    "            \n",
    "            \n",
    "            if lefthalf[i] < righthalf[j]:\n",
    "                \n",
    "                \n",
    "                \n",
    "                nlist[k]=lefthalf[i]\n",
    "                \n",
    "                \n",
    "                print('from 1left, {} is less then {}, k is {} and i is {}, current nlist: {}'\\\n",
    "                      .format(lefthalf[i],righthalf[j],k,i,nlist))\n",
    "                \n",
    "                      \n",
    "                i=i+1\n",
    "                \n",
    "                \n",
    "            else:\n",
    "                nlist[k]=righthalf[j]\n",
    "                \n",
    "                \n",
    "                print('from 1right, {} is grater then {}, k is {} and j is {}, current nlist: {}'\\\n",
    "                      .format(lefthalf[i],righthalf[j],k,j,nlist))\n",
    "                \n",
    "                \n",
    "                j=j+1\n",
    "                \n",
    "                \n",
    "            k=k+1\n",
    "\n",
    "            \n",
    "            \n",
    "        while i < len(lefthalf):\n",
    "            \n",
    "            print('loop2: lefthalf size {}'\\\n",
    "                         .format(len(lefthalf)))\n",
    "            \n",
    "            \n",
    "            print('from 2left, {} is replaced by lefthalf {}, current nlist:{}'\\\n",
    "                  .format(nlist[k],lefthalf[i], nlist))\n",
    "            \n",
    "            \n",
    "            nlist[k]=lefthalf[i]\n",
    "            i=i+1\n",
    "            k=k+1\n",
    "\n",
    "            \n",
    "            \n",
    "            \n",
    "        while j < len(righthalf):\n",
    "            \n",
    "            print('loop3: righthalf size {}'\\\n",
    "                         .format(len(righthalf)))\n",
    "            \n",
    "            \n",
    "            \n",
    "            print('from 3left, {} is replaced by righthalf {}, current nlist:{}'\\\n",
    "                   .format(nlist[k], righthalf[j], nlist))\n",
    "                \n",
    "                \n",
    "            nlist[k] = righthalf[j]\n",
    "            j=j+1\n",
    "            k=k+1\n",
    "            \n",
    "            \n",
    "            \n",
    "    \n",
    "        print(\"Merging <====== :{} \".format(nlist))"
   ]
  },
  {
   "cell_type": "code",
   "execution_count": 116,
   "metadata": {},
   "outputs": [
    {
     "name": "stdout",
     "output_type": "stream",
     "text": [
      "Splitting  [14, 46, 43, 27, 57, 41, 45, 21, 70]\n",
      "<---go to left, size 4, lefthalf [14, 46, 43, 27]\n",
      "Splitting  [14, 46, 43, 27]\n",
      "<---go to left, size 2, lefthalf [14, 46]\n",
      "Splitting  [14, 46]\n",
      "<---go to left, size 1, lefthalf [14]\n",
      "** === no splitting === ** currnet nlist: [14]:\n",
      "<=================>\n",
      "go to right--->, size 1 righthalf [46]\n",
      "** === no splitting === ** currnet nlist: [46]:\n",
      "loop1: lefthalf size 1 and righthalf size 1\n",
      "from 1left, 14 is less then 46, k is 0 and i is 0, current nlist: [14, 46]\n",
      "loop3: righthalf size 1\n",
      "from 3left, 46 is replaced by righthalf 46, current nlist:[14, 46]\n",
      "Merging <====== :[14, 46] \n",
      "<=================>\n",
      "go to right--->, size 2 righthalf [43, 27]\n",
      "Splitting  [43, 27]\n",
      "<---go to left, size 1, lefthalf [43]\n",
      "** === no splitting === ** currnet nlist: [43]:\n",
      "<=================>\n",
      "go to right--->, size 1 righthalf [27]\n",
      "** === no splitting === ** currnet nlist: [27]:\n",
      "loop1: lefthalf size 1 and righthalf size 1\n",
      "from 1right, 43 is grater then 27, k is 0 and j is 0, current nlist: [27, 27]\n",
      "loop2: lefthalf size 1\n",
      "from 2left, 27 is replaced by lefthalf 43, current nlist:[27, 27]\n",
      "Merging <====== :[27, 43] \n",
      "loop1: lefthalf size 2 and righthalf size 2\n",
      "from 1left, 14 is less then 27, k is 0 and i is 0, current nlist: [14, 46, 43, 27]\n",
      "loop1: lefthalf size 2 and righthalf size 2\n",
      "from 1right, 46 is grater then 27, k is 1 and j is 0, current nlist: [14, 27, 43, 27]\n",
      "loop1: lefthalf size 2 and righthalf size 2\n",
      "from 1right, 46 is grater then 43, k is 2 and j is 1, current nlist: [14, 27, 43, 27]\n",
      "loop2: lefthalf size 2\n",
      "from 2left, 27 is replaced by lefthalf 46, current nlist:[14, 27, 43, 27]\n",
      "Merging <====== :[14, 27, 43, 46] \n",
      "<=================>\n",
      "go to right--->, size 5 righthalf [57, 41, 45, 21, 70]\n",
      "Splitting  [57, 41, 45, 21, 70]\n",
      "<---go to left, size 2, lefthalf [57, 41]\n",
      "Splitting  [57, 41]\n",
      "<---go to left, size 1, lefthalf [57]\n",
      "** === no splitting === ** currnet nlist: [57]:\n",
      "<=================>\n",
      "go to right--->, size 1 righthalf [41]\n",
      "** === no splitting === ** currnet nlist: [41]:\n",
      "loop1: lefthalf size 1 and righthalf size 1\n",
      "from 1right, 57 is grater then 41, k is 0 and j is 0, current nlist: [41, 41]\n",
      "loop2: lefthalf size 1\n",
      "from 2left, 41 is replaced by lefthalf 57, current nlist:[41, 41]\n",
      "Merging <====== :[41, 57] \n",
      "<=================>\n",
      "go to right--->, size 3 righthalf [45, 21, 70]\n",
      "Splitting  [45, 21, 70]\n",
      "<---go to left, size 1, lefthalf [45]\n",
      "** === no splitting === ** currnet nlist: [45]:\n",
      "<=================>\n",
      "go to right--->, size 2 righthalf [21, 70]\n",
      "Splitting  [21, 70]\n",
      "<---go to left, size 1, lefthalf [21]\n",
      "** === no splitting === ** currnet nlist: [21]:\n",
      "<=================>\n",
      "go to right--->, size 1 righthalf [70]\n",
      "** === no splitting === ** currnet nlist: [70]:\n",
      "loop1: lefthalf size 1 and righthalf size 1\n",
      "from 1left, 21 is less then 70, k is 0 and i is 0, current nlist: [21, 70]\n",
      "loop3: righthalf size 1\n",
      "from 3left, 70 is replaced by righthalf 70, current nlist:[21, 70]\n",
      "Merging <====== :[21, 70] \n",
      "loop1: lefthalf size 1 and righthalf size 2\n",
      "from 1right, 45 is grater then 21, k is 0 and j is 0, current nlist: [21, 21, 70]\n",
      "loop1: lefthalf size 1 and righthalf size 2\n",
      "from 1left, 45 is less then 70, k is 1 and i is 0, current nlist: [21, 45, 70]\n",
      "loop3: righthalf size 2\n",
      "from 3left, 70 is replaced by righthalf 70, current nlist:[21, 45, 70]\n",
      "Merging <====== :[21, 45, 70] \n",
      "loop1: lefthalf size 2 and righthalf size 3\n",
      "from 1right, 41 is grater then 21, k is 0 and j is 0, current nlist: [21, 41, 45, 21, 70]\n",
      "loop1: lefthalf size 2 and righthalf size 3\n",
      "from 1left, 41 is less then 45, k is 1 and i is 0, current nlist: [21, 41, 45, 21, 70]\n",
      "loop1: lefthalf size 2 and righthalf size 3\n",
      "from 1right, 57 is grater then 45, k is 2 and j is 1, current nlist: [21, 41, 45, 21, 70]\n",
      "loop1: lefthalf size 2 and righthalf size 3\n",
      "from 1left, 57 is less then 70, k is 3 and i is 1, current nlist: [21, 41, 45, 57, 70]\n",
      "loop3: righthalf size 3\n",
      "from 3left, 70 is replaced by righthalf 70, current nlist:[21, 41, 45, 57, 70]\n",
      "Merging <====== :[21, 41, 45, 57, 70] \n",
      "loop1: lefthalf size 4 and righthalf size 5\n",
      "from 1left, 14 is less then 21, k is 0 and i is 0, current nlist: [14, 46, 43, 27, 57, 41, 45, 21, 70]\n",
      "loop1: lefthalf size 4 and righthalf size 5\n",
      "from 1right, 27 is grater then 21, k is 1 and j is 0, current nlist: [14, 21, 43, 27, 57, 41, 45, 21, 70]\n",
      "loop1: lefthalf size 4 and righthalf size 5\n",
      "from 1left, 27 is less then 41, k is 2 and i is 1, current nlist: [14, 21, 27, 27, 57, 41, 45, 21, 70]\n",
      "loop1: lefthalf size 4 and righthalf size 5\n",
      "from 1right, 43 is grater then 41, k is 3 and j is 1, current nlist: [14, 21, 27, 41, 57, 41, 45, 21, 70]\n",
      "loop1: lefthalf size 4 and righthalf size 5\n",
      "from 1left, 43 is less then 45, k is 4 and i is 2, current nlist: [14, 21, 27, 41, 43, 41, 45, 21, 70]\n",
      "loop1: lefthalf size 4 and righthalf size 5\n",
      "from 1right, 46 is grater then 45, k is 5 and j is 2, current nlist: [14, 21, 27, 41, 43, 45, 45, 21, 70]\n",
      "loop1: lefthalf size 4 and righthalf size 5\n",
      "from 1left, 46 is less then 57, k is 6 and i is 3, current nlist: [14, 21, 27, 41, 43, 45, 46, 21, 70]\n",
      "loop3: righthalf size 5\n",
      "from 3left, 21 is replaced by righthalf 57, current nlist:[14, 21, 27, 41, 43, 45, 46, 21, 70]\n",
      "loop3: righthalf size 5\n",
      "from 3left, 70 is replaced by righthalf 70, current nlist:[14, 21, 27, 41, 43, 45, 46, 57, 70]\n",
      "Merging <====== :[14, 21, 27, 41, 43, 45, 46, 57, 70] \n",
      "===============\n",
      "[14, 21, 27, 41, 43, 45, 46, 57, 70]\n"
     ]
    }
   ],
   "source": [
    "nlist = [14,46,43,27,57,41,45,21,70]\n",
    "mergeSort(nlist)\n",
    "print('===============')\n",
    "print(nlist)"
   ]
  },
  {
   "cell_type": "markdown",
   "metadata": {},
   "source": [
    "##### Simplified"
   ]
  },
  {
   "cell_type": "code",
   "execution_count": 80,
   "metadata": {
    "collapsed": true
   },
   "outputs": [],
   "source": [
    "# Merges two subarrays of arr[].\n",
    "# First subarray is arr[l..m]\n",
    "# Second subarray is arr[m+1..r]\n",
    "def merge(arr, l, m, r):\n",
    "    n1 = m - l + 1\n",
    "    n2 = r- m\n",
    " \n",
    "    # create temp arrays\n",
    "    L = [0] * (n1)\n",
    "    R = [0] * (n2)\n",
    "    \n",
    " \n",
    "    # Copy data to temp arrays L[] and R[]\n",
    "    for i in range(0 , n1):\n",
    "        L[i] = arr[l + i]\n",
    " \n",
    "    for j in range(0 , n2):\n",
    "        R[j] = arr[m + 1 + j]\n",
    "        \n",
    " \n",
    "    # Merge the temp arrays back into arr[l..r]\n",
    "    i = 0     # Initial index of first subarray\n",
    "    j = 0     # Initial index of second subarray\n",
    "    k = l     # Initial index of merged subarray\n",
    " \n",
    "\n",
    "    while i < n1 and j < n2 :\n",
    "        if L[i] <= R[j]:\n",
    "            arr[k] = L[i]\n",
    "            i += 1\n",
    "        else:\n",
    "            arr[k] = R[j]\n",
    "            j += 1\n",
    "        k += 1\n",
    " \n",
    "\n",
    "    # Copy the remaining elements of L[], if there\n",
    "    # are any\n",
    "    while i < n1:\n",
    "        arr[k] = L[i]\n",
    "        i += 1\n",
    "        k += 1\n",
    " \n",
    "\n",
    "    # Copy the remaining elements of R[], if there\n",
    "    # are any\n",
    "    while j < n2:\n",
    "        arr[k] = R[j]\n",
    "        j += 1\n",
    "        k += 1\n",
    "        "
   ]
  },
  {
   "cell_type": "code",
   "execution_count": 81,
   "metadata": {
    "collapsed": true
   },
   "outputs": [],
   "source": [
    "# l is for left index and r is right index of the\n",
    "# sub-array of arr to be sorted\n",
    "def mergeSort(arr,l,r):\n",
    "    if l < r:\n",
    " \n",
    "        # Same as (l+r)/2, but avoids overflow for\n",
    "        # large l and h\n",
    "        m = (l+(r-1))/2\n",
    " \n",
    "        # Sort first and second halves\n",
    "        mergeSort(arr, l, m)\n",
    "        mergeSort(arr, m+1, r)\n",
    "        merge(arr, l, m, r)"
   ]
  },
  {
   "cell_type": "markdown",
   "metadata": {},
   "source": [
    "#### References:\n",
    "1. https://www.khanacademy.org/computing/computer-science/algorithms/merge-sort/a/analysis-of-merge-sort\n",
    "2. http://www.geeksforgeeks.org/merge-sort/"
   ]
  },
  {
   "cell_type": "markdown",
   "metadata": {},
   "source": [
    "-------"
   ]
  },
  {
   "cell_type": "markdown",
   "metadata": {},
   "source": [
    "### 3. Quick Sort"
   ]
  },
  {
   "cell_type": "markdown",
   "metadata": {},
   "source": [
    "\n",
    "\n",
    "\n",
    "\n",
    "\n",
    "###### Class : Divide and Conquer algorithm"
   ]
  },
  {
   "cell_type": "markdown",
   "metadata": {},
   "source": [
    "![alt](http://www.geeksforgeeks.org/wp-content/uploads/gq/2014/01/QuickSort2.png)"
   ]
  },
  {
   "cell_type": "markdown",
   "metadata": {},
   "source": [
    "1. quicksort's worst-case running time is:  $\\Theta(n^2)$\n",
    "2. quicksort's best-case running time is $\\Theta(n~lg~n)$"
   ]
  },
  {
   "cell_type": "raw",
   "metadata": {},
   "source": [
    "This function takes last element as pivot, places\n",
    "the pivot element at its correct position in sorted\n",
    "array, and places all smaller (smaller than pivot)\n",
    "to left of pivot and all greater elements to right\n",
    "of pivot"
   ]
  },
  {
   "cell_type": "code",
   "execution_count": 196,
   "metadata": {
    "collapsed": true
   },
   "outputs": [],
   "source": [
    "def partition(arr,low,high):\n",
    "    \n",
    "    \n",
    "    i = ( low-1 )         # index of smaller element\n",
    "    pivot = arr[high]     # pivot\n",
    "    \n",
    "    print('pivot is: {} and array is: {}'.format(pivot,arr))\n",
    "\n",
    "\n",
    "    for j in range(low , high):\n",
    " \n",
    "\n",
    "\n",
    "\n",
    "        # If current element is smaller than or\n",
    "        # equal to pivot\n",
    "        if   arr[j] <= pivot:\n",
    "          \n",
    "            print('{} found smallar or equal then {}'.format(arr[j],pivot))\n",
    "        \n",
    "        \n",
    "            # increment index of smaller element\n",
    "            \n",
    "            i = i+1\n",
    "            \n",
    "            print('inner loop: element {} and {} being swaped, old arr is :{} '\\\n",
    "                  .format(arr[i],arr[j],arr))\n",
    "            \n",
    "            \n",
    "            arr[i],arr[j] = arr[j],arr[i]\n",
    "            \n",
    "            \n",
    "            print('after swapping new arr is : {}'\\\n",
    "                  .format(arr))\n",
    "        else:     \n",
    "            print('smallar then pivot is abscent go to beyond pivot')\n",
    "            \n",
    "            \n",
    "            \n",
    "            \n",
    "            \n",
    "    print(\"\\n<=====outer: no more smaller then pivot========>\\n\")  \n",
    "    \n",
    "    print('outer loop: element {} and  {} being swaped, old arr is : {} '\\\n",
    "          .format(arr[i+1],arr[high],arr))\n",
    "    \n",
    "    \n",
    "    arr[i+1],arr[high] = arr[high],arr[i+1]\n",
    "    \n",
    "    \n",
    "    print('outer loop: after swaped new arr is : {} '\\\n",
    "          .format(arr))\n",
    "    \n",
    "    \n",
    "    print ('next pivot is :{}'.format(i+1))\n",
    "    \n",
    "    return ( i+1 )\n",
    " "
   ]
  },
  {
   "cell_type": "code",
   "execution_count": 197,
   "metadata": {
    "collapsed": true
   },
   "outputs": [],
   "source": [
    "# The main function that implements QuickSort\n",
    "# arr[] --> Array to be sorted,\n",
    "# low  --> Starting index,\n",
    "# high  --> Ending index\n",
    " \n",
    "# Function to do Quick sort\n",
    "def quickSort(arr,low,high):\n",
    "    if low < high:\n",
    " \n",
    "        # pi is partitioning index, arr[p] is now\n",
    "        # at right place\n",
    "        \n",
    "        pi = partition(arr,low,high)\n",
    "        print ('yes, next pivot is :{}'.format(pi))\n",
    "        \n",
    " \n",
    "        # Separately sort elements before\n",
    "        # partition and after partition\n",
    "        print('\\n***=====> quiksorting from {} to {} in array {} '.format(low, pi-1, arr))\n",
    "        quickSort(arr, low, pi-1)\n",
    "       \n",
    "    \n",
    "        print('\\n***=====> quiksorting from {} to {} in array {} '.format(pi-1, high, arr))\n",
    "        quickSort(arr, pi+1, high)\n",
    "        \n",
    " "
   ]
  },
  {
   "cell_type": "code",
   "execution_count": 198,
   "metadata": {},
   "outputs": [
    {
     "name": "stdout",
     "output_type": "stream",
     "text": [
      "pivot is: 54 and array is: [12, 45, 57, 56, 45, 89, 65, 35, 54]\n",
      "12 found smallar or equal then 54\n",
      "inner loop: element 12 and 12 being swaped, old arr is :[12, 45, 57, 56, 45, 89, 65, 35, 54] \n",
      "after swapping new arr is : [12, 45, 57, 56, 45, 89, 65, 35, 54]\n",
      "45 found smallar or equal then 54\n",
      "inner loop: element 45 and 45 being swaped, old arr is :[12, 45, 57, 56, 45, 89, 65, 35, 54] \n",
      "after swapping new arr is : [12, 45, 57, 56, 45, 89, 65, 35, 54]\n",
      "smallar then pivot is abscent go to beyond pivot\n",
      "smallar then pivot is abscent go to beyond pivot\n",
      "45 found smallar or equal then 54\n",
      "inner loop: element 57 and 45 being swaped, old arr is :[12, 45, 57, 56, 45, 89, 65, 35, 54] \n",
      "after swapping new arr is : [12, 45, 45, 56, 57, 89, 65, 35, 54]\n",
      "smallar then pivot is abscent go to beyond pivot\n",
      "smallar then pivot is abscent go to beyond pivot\n",
      "35 found smallar or equal then 54\n",
      "inner loop: element 56 and 35 being swaped, old arr is :[12, 45, 45, 56, 57, 89, 65, 35, 54] \n",
      "after swapping new arr is : [12, 45, 45, 35, 57, 89, 65, 56, 54]\n",
      "\n",
      "<=====outer: no more smaller then pivot========>\n",
      "\n",
      "outer loop: element 57 and  54 being swaped, old arr is : [12, 45, 45, 35, 57, 89, 65, 56, 54] \n",
      "outer loop: after swaped new arr is : [12, 45, 45, 35, 54, 89, 65, 56, 57] \n",
      "next pivot is :4\n",
      "yes, next pivot is :4\n",
      "\n",
      "***=====> quiksorting from 0 to 3 in array [12, 45, 45, 35, 54, 89, 65, 56, 57] \n",
      "pivot is: 35 and array is: [12, 45, 45, 35, 54, 89, 65, 56, 57]\n",
      "12 found smallar or equal then 35\n",
      "inner loop: element 12 and 12 being swaped, old arr is :[12, 45, 45, 35, 54, 89, 65, 56, 57] \n",
      "after swapping new arr is : [12, 45, 45, 35, 54, 89, 65, 56, 57]\n",
      "smallar then pivot is abscent go to beyond pivot\n",
      "smallar then pivot is abscent go to beyond pivot\n",
      "\n",
      "<=====outer: no more smaller then pivot========>\n",
      "\n",
      "outer loop: element 45 and  35 being swaped, old arr is : [12, 45, 45, 35, 54, 89, 65, 56, 57] \n",
      "outer loop: after swaped new arr is : [12, 35, 45, 45, 54, 89, 65, 56, 57] \n",
      "next pivot is :1\n",
      "yes, next pivot is :1\n",
      "\n",
      "***=====> quiksorting from 0 to 0 in array [12, 35, 45, 45, 54, 89, 65, 56, 57] \n",
      "\n",
      "***=====> quiksorting from 0 to 3 in array [12, 35, 45, 45, 54, 89, 65, 56, 57] \n",
      "pivot is: 45 and array is: [12, 35, 45, 45, 54, 89, 65, 56, 57]\n",
      "45 found smallar or equal then 45\n",
      "inner loop: element 45 and 45 being swaped, old arr is :[12, 35, 45, 45, 54, 89, 65, 56, 57] \n",
      "after swapping new arr is : [12, 35, 45, 45, 54, 89, 65, 56, 57]\n",
      "\n",
      "<=====outer: no more smaller then pivot========>\n",
      "\n",
      "outer loop: element 45 and  45 being swaped, old arr is : [12, 35, 45, 45, 54, 89, 65, 56, 57] \n",
      "outer loop: after swaped new arr is : [12, 35, 45, 45, 54, 89, 65, 56, 57] \n",
      "next pivot is :3\n",
      "yes, next pivot is :3\n",
      "\n",
      "***=====> quiksorting from 2 to 2 in array [12, 35, 45, 45, 54, 89, 65, 56, 57] \n",
      "\n",
      "***=====> quiksorting from 2 to 3 in array [12, 35, 45, 45, 54, 89, 65, 56, 57] \n",
      "\n",
      "***=====> quiksorting from 3 to 8 in array [12, 35, 45, 45, 54, 89, 65, 56, 57] \n",
      "pivot is: 57 and array is: [12, 35, 45, 45, 54, 89, 65, 56, 57]\n",
      "smallar then pivot is abscent go to beyond pivot\n",
      "smallar then pivot is abscent go to beyond pivot\n",
      "56 found smallar or equal then 57\n",
      "inner loop: element 89 and 56 being swaped, old arr is :[12, 35, 45, 45, 54, 89, 65, 56, 57] \n",
      "after swapping new arr is : [12, 35, 45, 45, 54, 56, 65, 89, 57]\n",
      "\n",
      "<=====outer: no more smaller then pivot========>\n",
      "\n",
      "outer loop: element 65 and  57 being swaped, old arr is : [12, 35, 45, 45, 54, 56, 65, 89, 57] \n",
      "outer loop: after swaped new arr is : [12, 35, 45, 45, 54, 56, 57, 89, 65] \n",
      "next pivot is :6\n",
      "yes, next pivot is :6\n",
      "\n",
      "***=====> quiksorting from 5 to 5 in array [12, 35, 45, 45, 54, 56, 57, 89, 65] \n",
      "\n",
      "***=====> quiksorting from 5 to 8 in array [12, 35, 45, 45, 54, 56, 57, 89, 65] \n",
      "pivot is: 65 and array is: [12, 35, 45, 45, 54, 56, 57, 89, 65]\n",
      "smallar then pivot is abscent go to beyond pivot\n",
      "\n",
      "<=====outer: no more smaller then pivot========>\n",
      "\n",
      "outer loop: element 89 and  65 being swaped, old arr is : [12, 35, 45, 45, 54, 56, 57, 89, 65] \n",
      "outer loop: after swaped new arr is : [12, 35, 45, 45, 54, 56, 57, 65, 89] \n",
      "next pivot is :7\n",
      "yes, next pivot is :7\n",
      "\n",
      "***=====> quiksorting from 7 to 6 in array [12, 35, 45, 45, 54, 56, 57, 65, 89] \n",
      "\n",
      "***=====> quiksorting from 6 to 8 in array [12, 35, 45, 45, 54, 56, 57, 65, 89] \n",
      "Sorted array is:[12, 35, 45, 45, 54, 56, 57, 65, 89]\n"
     ]
    }
   ],
   "source": [
    "# Driver code to test above\n",
    "arr = [12,45,57,56,45,89,65,35,54]\n",
    "n = len(arr)\n",
    "quickSort(arr,0,n-1)\n",
    "print (\"Sorted array is:{}\".format(arr))\n"
   ]
  },
  {
   "cell_type": "markdown",
   "metadata": {
    "collapsed": true
   },
   "source": [
    "###### References\n",
    "1. http://www.geeksforgeeks.org/quick-sort/"
   ]
  },
  {
   "cell_type": "markdown",
   "metadata": {
    "collapsed": true
   },
   "source": [
    "### 4. Insersion Sort"
   ]
  },
  {
   "cell_type": "code",
   "execution_count": null,
   "metadata": {
    "collapsed": true
   },
   "outputs": [],
   "source": []
  },
  {
   "cell_type": "markdown",
   "metadata": {
    "collapsed": true
   },
   "source": [
    "![alt tag](http://www.geeksforgeeks.org/wp-content/uploads/gq/2013/03/insertion-sort.png)"
   ]
  },
  {
   "cell_type": "code",
   "execution_count": 199,
   "metadata": {
    "collapsed": true
   },
   "outputs": [],
   "source": [
    "# Python program for implementation of Insertion Sort\n",
    " \n",
    "# Function to do insertion sort\n",
    "def insertionSort(arr):\n",
    " \n",
    "    # Traverse through 1 to len(arr)\n",
    "    for i in range(1, len(arr)):\n",
    " \n",
    "        key = arr[i]\n",
    " \n",
    "        # Move elements of arr[0..i-1], that are\n",
    "        # greater than key, to one position ahead\n",
    "        # of their current position\n",
    "        j = i-1\n",
    "        while j >=0 and key < arr[j] :\n",
    "                arr[j+1] = arr[j]\n",
    "                j -= 1\n",
    "        arr[j+1] = key"
   ]
  },
  {
   "cell_type": "code",
   "execution_count": 200,
   "metadata": {},
   "outputs": [
    {
     "name": "stdout",
     "output_type": "stream",
     "text": [
      "Sorted array is:\n",
      "5\n",
      "6\n",
      "11\n",
      "12\n",
      "13\n"
     ]
    }
   ],
   "source": [
    "# Driver code to test above\n",
    "arr = [12, 11, 13, 5, 6]\n",
    "insertionSort(arr)\n",
    "print (\"Sorted array is:\")\n",
    "for i in range(len(arr)):\n",
    "    print (\"%d\" %arr[i])\n",
    " \n",
    "# This code is contributed by Mohit Kumra\n"
   ]
  },
  {
   "cell_type": "markdown",
   "metadata": {},
   "source": [
    "1. Time Complexity: O(n*n)\n",
    "2. Auxiliary Space: O(1)"
   ]
  },
  {
   "cell_type": "markdown",
   "metadata": {
    "collapsed": true
   },
   "source": [
    "##### References:\n",
    "1. http://www.geeksforgeeks.org/insertion-sort/"
   ]
  },
  {
   "cell_type": "code",
   "execution_count": null,
   "metadata": {
    "collapsed": true
   },
   "outputs": [],
   "source": []
  }
 ],
 "metadata": {
  "kernelspec": {
   "display_name": "Python 3",
   "language": "python",
   "name": "python3"
  },
  "language_info": {
   "codemirror_mode": {
    "name": "ipython",
    "version": 3
   },
   "file_extension": ".py",
   "mimetype": "text/x-python",
   "name": "python",
   "nbconvert_exporter": "python",
   "pygments_lexer": "ipython3",
   "version": "3.5.2"
  },
  "widgets": {
   "state": {},
   "version": "1.1.2"
  }
 },
 "nbformat": 4,
 "nbformat_minor": 2
}
