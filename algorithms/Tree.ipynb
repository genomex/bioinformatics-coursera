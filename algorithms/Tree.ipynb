{
 "cells": [
  {
   "cell_type": "markdown",
   "metadata": {},
   "source": [
    "# Tree"
   ]
  },
  {
   "cell_type": "markdown",
   "metadata": {
    "collapsed": true
   },
   "source": [
    "-------"
   ]
  },
  {
   "cell_type": "markdown",
   "metadata": {
    "collapsed": true
   },
   "source": [
    "### 1. Binary Tree [source](http://www.geeksforgeeks.org/data-structures/#AdvancedDataStructure)"
   ]
  },
  {
   "cell_type": "markdown",
   "metadata": {},
   "source": [
    "##### 1.1 Binary Tree Introduction:\n",
    "Tree is a hierarchical data structure. Main uses of trees include maintaining hierarchical data, providing moderate access and insert/delete operations. Binary trees are special cases of tree where every node has at most two children.\n",
    "\n",
    "##### 1.2 Binary Tree Properties: [spurce](http://www.geeksforgeeks.org/binary-tree-set-2-properties/)\n",
    "\n",
    "* The maximum number of nodes at level ‘l’ of a binary tree is $2^{l-1}$.\n",
    "\n",
    "* Maximum number of nodes in a binary tree of height ‘h’ is $2^h – 1$.\n",
    "\n",
    "* In a Binary Tree with N nodes, minimum possible height or minimum number of levels is  ⌈\n",
    "Log2(N+1) ⌉  \n",
    "\n",
    "* A Binary Tree with L leaves has at least   ⌈ Log2L ⌉ + 1   levels\n",
    "\n",
    "* In Binary tree, number of leaf nodes is always one more than nodes with two children.\n",
    "\n",
    "##### 1.3 Types of Binary Tree [source](http://www.geeksforgeeks.org/binary-tree-set-3-types-of-binary-tree/)\n",
    "\n",
    "- ***Full Binary Tree:*** A Binary Tree is full if every node has 0 or 2 children.In a Full Binary, number of leaf nodes is number of internal nodes plus 1\n",
    "\n",
    "- ***Complete Binary Tree:*** A Binary Tree is complete Binary Tree if all levels are completely filled except possibly the last level and the last level has all keys as left as possible\n",
    "\n",
    "- ***Perfect Binary Tree:*** A Binary tree is Perfect Binary Tree in which all internal nodes have two children and all leaves are at same level.\n",
    "\n",
    "- ***Balanced Binary Tree: *** A binary tree is balanced if height of the tree is O(Log n) where n is number of nodes. For Example, AVL tree maintain O(Log n) height by making sure that the difference between heights of left and right subtrees is 1. Red-Black trees maintain O(Log n) height by making sure that the number of Black nodes on every root to leaf paths are same and there are no adjacent red nodes. Balanced Binary Search trees are performance wise good as they provide O(log n) time for search, insert and delete.\n",
    "\n",
    "- *** A degenerate (or pathological) tree: *** A Tree where every internal node has one child. Such trees are performance-wise same as linked list."
   ]
  },
  {
   "cell_type": "markdown",
   "metadata": {},
   "source": [
    "#### 1.4 Tree Traversals (Inorder, Preorder and Postorder): [source](http://www.geeksforgeeks.org/tree-traversals-inorder-preorder-and-postorder/)\n",
    "\n",
    "Unlike linear data structures (Array, Linked List, Queues, Stacks, etc) which have only one logical way to traverse them, trees can be traversed in different ways. Following are the generally used ways for traversing trees.\n",
    "\n",
    "Depth First Traversals:\n",
    "\n",
    "- (a) Inorder (Left, Root, Right) : 4 2 5 1 3\n",
    "- (b) Preorder (Root, Left, Right) : 1 2 4 5 3\n",
    "- (c) Postorder (Left, Right, Root) : 4 5 2 3 1\n",
    "\n",
    "Breadth First or Level Order Traversal : 1 2 3 4 5"
   ]
  },
  {
   "cell_type": "code",
   "execution_count": 3,
   "metadata": {
    "collapsed": true
   },
   "outputs": [],
   "source": [
    "# Python program to for tree traversals\n",
    " \n",
    "# A class that represents an individual node in a\n",
    "# Binary Tree\n",
    "class Node:\n",
    "    def __init__(self,key):\n",
    "        self.left = None\n",
    "        self.right = None\n",
    "        self.val = key\n",
    " \n",
    " \n",
    "# A function to do inorder tree traversal\n",
    "def printInorder(root):\n",
    " \n",
    "    if root:\n",
    " \n",
    "        # First recur on left child\n",
    "        printInorder(root.left)\n",
    " \n",
    "        # then print the data of node\n",
    "        print(root.val),\n",
    " \n",
    "        # now recur on right child\n",
    "        printInorder(root.right)\n",
    " \n",
    " \n",
    " \n",
    "# A function to do postorder tree traversal\n",
    "def printPostorder(root):\n",
    " \n",
    "    if root:\n",
    " \n",
    "        # First recur on left child\n",
    "        printPostorder(root.left)\n",
    " \n",
    "        # the recur on right child\n",
    "        printPostorder(root.right)\n",
    " \n",
    "        # now print the data of node\n",
    "        print(root.val),\n",
    " \n",
    " \n",
    "# A function to do postorder tree traversal\n",
    "def printPreorder(root):\n",
    " \n",
    "    if root:\n",
    " \n",
    "        # First print the data of node\n",
    "        print(root.val),\n",
    " \n",
    "        # Then recur on left child\n",
    "        printPreorder(root.left)\n",
    " \n",
    "        # Finally recur on right child\n",
    "        printPreorder(root.right)"
   ]
  },
  {
   "cell_type": "code",
   "execution_count": 5,
   "metadata": {},
   "outputs": [
    {
     "name": "stdout",
     "output_type": "stream",
     "text": [
      "Preorder traversal of binary tree is\n",
      "1\n",
      "2\n",
      "4\n",
      "5\n",
      "3\n",
      "\n",
      "Inorder traversal of binary tree is\n",
      "4\n",
      "2\n",
      "5\n",
      "1\n",
      "3\n",
      "\n",
      "Postorder traversal of binary tree is\n",
      "4\n",
      "5\n",
      "2\n",
      "3\n",
      "1\n"
     ]
    }
   ],
   "source": [
    "# Driver code\n",
    "root = Node(1)\n",
    "root.left      = Node(2)\n",
    "root.right     = Node(3)\n",
    "root.left.left  = Node(4)\n",
    "root.left.right  = Node(5)\n",
    "print (\"Preorder traversal of binary tree is\")\n",
    "printPreorder(root)\n",
    " \n",
    "print (\"\\nInorder traversal of binary tree is\")\n",
    "printInorder(root)\n",
    " \n",
    "print (\"\\nPostorder traversal of binary tree is\")\n",
    "printPostorder(root)"
   ]
  },
  {
   "cell_type": "markdown",
   "metadata": {},
   "source": [
    "#### 1.5  Diameter of a Binary Tree\n",
    "\n",
    "The diameter of a tree (sometimes called the width) is the number of nodes on the longest path between two leaves in the tree. The diagram below shows two trees each with diameter nine, the leaves that form the ends of a longest path are shaded (note that there is more than one path in each tree of length nine, but no path longer than nine nodes).\n"
   ]
  },
  {
   "cell_type": "markdown",
   "metadata": {},
   "source": [
    "![](http://www.geeksforgeeks.org/wp-content/uploads/tree_diameter.GIF)"
   ]
  },
  {
   "cell_type": "code",
   "execution_count": 7,
   "metadata": {
    "collapsed": true
   },
   "outputs": [],
   "source": [
    "# Python program to find the diameter of binary tree\n",
    " \n",
    "# A binary tree node\n",
    "class Node:\n",
    " \n",
    "    # Constructor to create a new node\n",
    "    def __init__(self, data):\n",
    "        self.data = data\n",
    "        self.left = None\n",
    "        self.right = None\n",
    " \n",
    " \n",
    "\"\"\"\n",
    "The function Compute the \"height\" of a tree. Height is the \n",
    "number f nodes along the longest path from the root node \n",
    "down to the farthest leaf node.\n",
    "\"\"\"\n",
    "def height(node):\n",
    "     \n",
    "    # Base Case : Tree is empty\n",
    "    if node is None:\n",
    "        return 0 ;\n",
    "     \n",
    "    # If tree is not empty then height = 1 + max of left \n",
    "    # height and right heights \n",
    "    return 1 + max(height(node.left) ,height(node.right))\n",
    " \n",
    "# Function to get the diamtere of a binary tree\n",
    "def diameter(root):\n",
    "     \n",
    "    # Base Case when tree is empty \n",
    "    if root is None:\n",
    "        return 0;\n",
    " \n",
    "    # Get the height of left and right sub-trees\n",
    "    lheight = height(root.left)\n",
    "    rheight = height(root.right)\n",
    " \n",
    "    # Get the diameter of left and irgh sub-trees\n",
    "    ldiameter = diameter(root.left)\n",
    "    rdiameter = diameter(root.right)\n",
    " \n",
    "    # Return max of the following tree:\n",
    "    # 1) Diameter of left subtree\n",
    "    # 2) Diameter of right subtree\n",
    "    # 3) Height of left subtree + height of right subtree +1 \n",
    "    return max(lheight + rheight + 1, max(ldiameter, rdiameter))"
   ]
  },
  {
   "cell_type": "code",
   "execution_count": null,
   "metadata": {
    "collapsed": true
   },
   "outputs": [],
   "source": [
    "# Driver program to test above functions \n",
    " \n",
    "\"\"\"\n",
    "Constructed binary tree is \n",
    "            1\n",
    "          /   \\\n",
    "        2      3\n",
    "      /  \\\n",
    "    4     5\n",
    "\"\"\"\n",
    " \n",
    "root = Node(1)\n",
    "root.left = Node(2)\n",
    "root.right = Node(3)\n",
    "root.left.left = Node(4)\n",
    "root.left.right = Node(5)\n",
    "print \"Diameter of given binary tree is %d\" %(diameter(root))\n",
    " \n",
    "# This code is contributed by Nikhil Kumar Singh(nickzuck_007)"
   ]
  },
  {
   "cell_type": "code",
   "execution_count": 8,
   "metadata": {},
   "outputs": [
    {
     "name": "stdout",
     "output_type": "stream",
     "text": [
      "Diameter of given binary tree is 4\n"
     ]
    }
   ],
   "source": [
    "# Driver program to test above functions \n",
    " \n",
    "\"\"\"\n",
    "Constructed binary tree is \n",
    "            1\n",
    "          /   \\\n",
    "        2      3\n",
    "      /  \\\n",
    "    4     5\n",
    "\"\"\"\n",
    " \n",
    "root = Node(1)\n",
    "root.left = Node(2)\n",
    "root.right = Node(3)\n",
    "root.left.left = Node(4)\n",
    "root.left.right = Node(5)\n",
    "print (\"Diameter of given binary tree is %d\" %(diameter(root)))\n",
    " \n",
    "# This code is contributed by Nikhil Kumar Singh(nickzuck_007)"
   ]
  },
  {
   "cell_type": "markdown",
   "metadata": {},
   "source": [
    "#### 1.6 Binary Tree"
   ]
  },
  {
   "cell_type": "code",
   "execution_count": 1,
   "metadata": {
    "collapsed": true
   },
   "outputs": [],
   "source": [
    "class Node(object):\n",
    "    def __init__(self, value):\n",
    "        self.value = value\n",
    "        self.left = None\n",
    "        self.right = None"
   ]
  },
  {
   "cell_type": "code",
   "execution_count": 3,
   "metadata": {
    "collapsed": true
   },
   "outputs": [],
   "source": [
    "class BinaryTree(object):\n",
    "    def __init__(self, root):\n",
    "        self.root = Node(root)\n",
    "\n",
    "    def search(self, find_val):\n",
    "        \"\"\"Return True if the value\n",
    "        is in the tree, return\n",
    "        False otherwise.\"\"\"\n",
    "        return self.preorder_search(self.root, find_val)\n",
    "\n",
    "    def print_tree(self):\n",
    "        \"\"\"Print out all tree nodes\n",
    "        as they are visited in\n",
    "        a pre-order traversal.\"\"\"\n",
    "        return self.preorder_print(self.root, '')\n",
    "\n",
    "    def preorder_search(self, start, find_val):\n",
    "        \"\"\"Helper method - use this to create a\n",
    "        recursive search solution.\"\"\"\n",
    "        if start:\n",
    "            if start.value == find_val:\n",
    "                return True\n",
    "            else:\n",
    "                return self.preorder_search(start.left, find_val) \\\n",
    "                     or self.preorder_search(start.right, find_val)\n",
    "        return False\n",
    "\n",
    "    def preorder_print(self, start, traversal):\n",
    "        \"\"\"Helper method - use this to create a\n",
    "        recursive print solution.\"\"\"\n",
    "        if start:\n",
    "            if traversal != '':\n",
    "                traversal += '-' + str(start.value)\n",
    "            else:\n",
    "                traversal = str(start.value)\n",
    "            traversal = self.preorder_print(start.left, traversal)\n",
    "            traversal = self.preorder_print(start.right, traversal)\n",
    "        return traversal\n"
   ]
  },
  {
   "cell_type": "code",
   "execution_count": 5,
   "metadata": {
    "collapsed": true
   },
   "outputs": [],
   "source": [
    "# Set up tree\n",
    "tree = BinaryTree(1)\n",
    "tree.root.left = Node(2)\n",
    "tree.root.right = Node(3)\n",
    "tree.root.left.left = Node(4)\n",
    "tree.root.left.right = Node(5)"
   ]
  },
  {
   "cell_type": "code",
   "execution_count": 6,
   "metadata": {},
   "outputs": [
    {
     "name": "stdout",
     "output_type": "stream",
     "text": [
      "True\n"
     ]
    }
   ],
   "source": [
    "# Test search\n",
    "# Should be True\n",
    "print (tree.search(4))"
   ]
  },
  {
   "cell_type": "code",
   "execution_count": 7,
   "metadata": {},
   "outputs": [
    {
     "name": "stdout",
     "output_type": "stream",
     "text": [
      "False\n"
     ]
    }
   ],
   "source": [
    "# Should be False\n",
    "print (tree.search(6))"
   ]
  },
  {
   "cell_type": "code",
   "execution_count": 8,
   "metadata": {},
   "outputs": [
    {
     "name": "stdout",
     "output_type": "stream",
     "text": [
      "1-2-4-5-3\n"
     ]
    }
   ],
   "source": [
    "# Test print_tree\n",
    "# Should be 1-2-4-5-3\n",
    "print (tree.print_tree())"
   ]
  },
  {
   "cell_type": "markdown",
   "metadata": {},
   "source": [
    "-----------"
   ]
  },
  {
   "cell_type": "markdown",
   "metadata": {},
   "source": [
    "### 2.  Binary Search Tree: BST"
   ]
  },
  {
   "cell_type": "markdown",
   "metadata": {},
   "source": [
    "------"
   ]
  },
  {
   "cell_type": "markdown",
   "metadata": {},
   "source": [
    "#### 2.1 BST: Insert and Search"
   ]
  },
  {
   "cell_type": "code",
   "execution_count": 2,
   "metadata": {
    "collapsed": true
   },
   "outputs": [],
   "source": [
    "#!/usr/bin/python\n",
    "\n",
    "\n",
    "class Node(object):\n",
    "    def __init__(self, value):\n",
    "        self.value = value\n",
    "        self.left = None\n",
    "        self.right = None\n",
    "\n",
    "\n",
    "class BST(object):\n",
    "    def __init__(self, root):\n",
    "        self.root = Node(root)\n",
    "\n",
    "    def insert(self, new_val):\n",
    "        # node with the same value won't be inserted into the tree\n",
    "        self.insert_helper(self.root, new_val)\n",
    "\n",
    "    def insert_helper(self, current, new_val):\n",
    "        if current.value < new_val:\n",
    "            if current.right:\n",
    "                self.insert_helper(current.right, new_val)\n",
    "            else:\n",
    "                current.right = Node(new_val)\n",
    "        elif current.value > new_val:\n",
    "            if current.left:\n",
    "                self.insert_helper(current.left, new_val)\n",
    "            else:\n",
    "                current.left = Node(new_val)\n",
    "\n",
    "    def search(self, find_val):\n",
    "        return self.search_helper(self.root, find_val)\n",
    "\n",
    "    def search_helper(self, current, find_val):\n",
    "        if current:\n",
    "            if current.value == find_val:\n",
    "                return True\n",
    "            elif current.value < find_val:\n",
    "                return self.search_helper(current.right, find_val)\n",
    "            else:\n",
    "                if current.value > find_val:\n",
    "                    return self.search_helper(current.left, find_val)\n",
    "        return False"
   ]
  },
  {
   "cell_type": "code",
   "execution_count": 3,
   "metadata": {
    "collapsed": true
   },
   "outputs": [],
   "source": [
    "# Set up tree\n",
    "tree = BST(4)"
   ]
  },
  {
   "cell_type": "code",
   "execution_count": 4,
   "metadata": {
    "collapsed": true
   },
   "outputs": [],
   "source": [
    "# Insert elements\n",
    "tree.insert(2)\n",
    "tree.insert(1)\n",
    "tree.insert(3)\n",
    "tree.insert(5)"
   ]
  },
  {
   "cell_type": "code",
   "execution_count": 5,
   "metadata": {},
   "outputs": [
    {
     "name": "stdout",
     "output_type": "stream",
     "text": [
      "True\n"
     ]
    }
   ],
   "source": [
    "# Check search\n",
    "# Should be True\n",
    "print(tree.search(4))"
   ]
  },
  {
   "cell_type": "code",
   "execution_count": 6,
   "metadata": {},
   "outputs": [
    {
     "name": "stdout",
     "output_type": "stream",
     "text": [
      "False\n"
     ]
    }
   ],
   "source": [
    "# Should be False\n",
    "print(tree.search(6))"
   ]
  },
  {
   "cell_type": "markdown",
   "metadata": {
    "collapsed": true
   },
   "source": [
    "### 2.2. BST: Delete"
   ]
  },
  {
   "cell_type": "code",
   "execution_count": 10,
   "metadata": {
    "collapsed": true
   },
   "outputs": [],
   "source": [
    "# Python program to demonstrate delete operation\n",
    "# in binary search tree\n",
    " \n",
    "# A Binary Tree Node\n",
    "class Node:\n",
    " \n",
    "    # Constructor to create a new node\n",
    "    def __init__(self, key):\n",
    "        self.key = key \n",
    "        self.left = None\n",
    "        self.right = None"
   ]
  },
  {
   "cell_type": "code",
   "execution_count": 11,
   "metadata": {},
   "outputs": [],
   "source": [
    "\n",
    "# A utility function to do inorder traversal of BST\n",
    "def inorder(root):\n",
    "    if root is not None:\n",
    "        inorder(root.left)\n",
    "        print (root.key)\n",
    "        inorder(root.right)\n",
    " \n",
    " \n",
    "    \n",
    "    \n",
    "    \n",
    "# A utility function to insert a new node with given key in BST\n",
    "def insert( node, key):\n",
    " \n",
    "    # If the tree is empty, return a new node\n",
    "    if node is None:\n",
    "        return Node(key)\n",
    " \n",
    "    # Otherwise recur down the tree\n",
    "    if key < node.key:\n",
    "        node.left = insert(node.left, key)\n",
    "    else:\n",
    "        node.right = insert(node.right, key)\n",
    " \n",
    "    # return the (unchanged) node pointer\n",
    "    return node\n",
    " \n",
    "    \n",
    "    \n",
    "    \n",
    "# Given a non-empty binary search tree, return the node\n",
    "# with minum key value found in that tree. Note that the\n",
    "# entire tree does not need to be searched \n",
    "def minValueNode( node):\n",
    "    current = node\n",
    " \n",
    "    # loop down to find the leftmost leaf\n",
    "    while(current.left is not None):\n",
    "        current = current.left \n",
    " \n",
    "    return current \n",
    " \n",
    "    \n",
    "    \n",
    "    \n",
    "    \n",
    "# Given a binary search tree and a key, this function\n",
    "# delete the key and returns the new root\n",
    "def deleteNode(root, key):\n",
    " \n",
    "    # Base Case\n",
    "    if root is None:\n",
    "        return root \n",
    " \n",
    "    # If the key to be deleted is similiar than the root's\n",
    "    # key then it lies in  left subtree\n",
    "    if key < root.key:\n",
    "        root.left = deleteNode(root.left, key)\n",
    " \n",
    "    # If the kye to be delete is greater than the root's key\n",
    "    # then it lies in right subtree\n",
    "    elif(key > root.key):\n",
    "        root.right = deleteNode(root.right, key)\n",
    " \n",
    "    # If key is same as root's key, then this is the node\n",
    "    # to be deleted\n",
    "    else:\n",
    "         \n",
    "        # Node with only one child or no child\n",
    "        if root.left is None :\n",
    "            temp = root.right \n",
    "            root = None\n",
    "            return temp \n",
    "             \n",
    "        elif root.right is None :\n",
    "            temp = root.left \n",
    "            root = None\n",
    "            return temp\n",
    " \n",
    "        # Node with two children: Get the inorder successor\n",
    "        # (smallest in the right subtree)\n",
    "        temp = minValueNode(root.right)\n",
    " \n",
    "        # Copy the inorder successor's content to this node\n",
    "        root.key = temp.key\n",
    " \n",
    "        # Delete the inorder successor\n",
    "        root.right = deleteNode(root.right , temp.key)\n",
    " \n",
    " \n",
    "    return root "
   ]
  },
  {
   "cell_type": "code",
   "execution_count": null,
   "metadata": {
    "collapsed": true
   },
   "outputs": [],
   "source": [
    "# Driver program to test above functions\n",
    "\"\"\" Let us create following BST\n",
    "              50\n",
    "           /     \\\n",
    "          30      70\n",
    "         /  \\    /  \\\n",
    "       20   40  60   80 \"\"\"\n",
    " \n",
    "root = None\n",
    "root = insert(root, 50)\n",
    "root = insert(root, 30)\n",
    "root = insert(root, 20)\n",
    "root = insert(root, 40)\n",
    "root = insert(root, 70)\n",
    "root = insert(root, 60)\n",
    "root = insert(root, 80)\n",
    " \n",
    "print \"Inorder traversal of the given tree\"\n",
    "inorder(root)\n",
    " \n",
    "print \"\\nDelete 20\"\n",
    "root = deleteNode(root, 20)\n",
    "print \"Inorder traversal of the modified tree\"\n",
    "inorder(root)\n",
    " \n",
    "print \"\\nDelete 30\"\n",
    "root = deleteNode(root, 30)\n",
    "print \"Inorder traversal of the modified tree\"\n",
    "inorder(root)\n",
    " \n",
    "print \"\\nDelete 50\"\n",
    "root = deleteNode(root, 50)\n",
    "print \"Inorder traversal of the modified tree\"\n",
    "inorder(root)\n",
    " "
   ]
  },
  {
   "cell_type": "markdown",
   "metadata": {},
   "source": [
    "--------"
   ]
  }
 ],
 "metadata": {
  "kernelspec": {
   "display_name": "Python 3",
   "language": "python",
   "name": "python3"
  },
  "language_info": {
   "codemirror_mode": {
    "name": "ipython",
    "version": 3
   },
   "file_extension": ".py",
   "mimetype": "text/x-python",
   "name": "python",
   "nbconvert_exporter": "python",
   "pygments_lexer": "ipython3",
   "version": "3.5.2"
  },
  "widgets": {
   "state": {},
   "version": "1.1.2"
  }
 },
 "nbformat": 4,
 "nbformat_minor": 2
}
