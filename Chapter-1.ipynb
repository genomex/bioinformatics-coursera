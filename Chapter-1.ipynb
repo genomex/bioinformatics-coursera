{
 "cells": [
  {
   "cell_type": "markdown",
   "metadata": {},
   "source": [
    "# Chapter-1:  Summary"
   ]
  },
  {
   "cell_type": "markdown",
   "metadata": {},
   "source": [
    "Learning Path"
   ]
  },
  {
   "cell_type": "code",
   "execution_count": 1,
   "metadata": {},
   "outputs": [],
   "source": [
    "import random as random"
   ]
  },
  {
   "cell_type": "code",
   "execution_count": 2,
   "metadata": {},
   "outputs": [],
   "source": [
    "def DNA_generator(length):\n",
    "        Genome = ['A','C','G','T']\n",
    "        DNA = \"\"\n",
    "        for i in range(length):\n",
    "               DNA = DNA+random.choice(Genome)\n",
    "        return DNA "
   ]
  },
  {
   "cell_type": "code",
   "execution_count": 3,
   "metadata": {},
   "outputs": [
    {
     "data": {
      "text/plain": [
       "'CTTCGCGGTCGGGATTAGAAGGCGGTTGCACCGGATTACGATAGTGACGTCCCGCTGCTATGGTGCTCGGTGCCCCGGGCCCGCCGCGATCGAACTTACTGGCTTGGTACGTGAGATAACCGCGTATACTGATGAGGATCCTGATTACTTGAAGTACTATCCGTTTTCATCGTTTAATAAACTATAGTATCAAGTCGGCC'"
      ]
     },
     "execution_count": 3,
     "metadata": {},
     "output_type": "execute_result"
    }
   ],
   "source": [
    "DNA_generator(200)"
   ]
  },
  {
   "cell_type": "markdown",
   "metadata": {},
   "source": [
    "### PatternCount : [page-8]"
   ]
  },
  {
   "cell_type": "code",
   "execution_count": 4,
   "metadata": {},
   "outputs": [],
   "source": [
    "def PatternCount(Text,Pattern,verbose=False):\n",
    "    \n",
    "    '''This function counts the given \"Pattern\" within the supplied \"Text\":\n",
    "        Text: DNA string\n",
    "        Pattern: certain kmer'''\n",
    "   \n",
    "    count = 0\n",
    "    window_step = 0\n",
    "    \n",
    "    \n",
    "    for i in range(len(Text) - len(Pattern) + 1):\n",
    "        \n",
    "        \n",
    "        '''this counts the sliding window of text'''\n",
    "        window_step += 1\n",
    "        \n",
    "        \n",
    "        \n",
    "        if verbose:\n",
    "            print('loop:',i,\\\n",
    "                  'window_step:',window_step,\\\n",
    "                  'count:',count,\\\n",
    "                  \"pattern within window:\",Text[i:i+len(Pattern)])\n",
    "            \n",
    "            \n",
    "            \n",
    "        '''if pattern matches with text within the slidding window then\n",
    "        count is increased by 1'''  \n",
    "        if Text[i:i+len(Pattern)] == Pattern:\n",
    "            count += 1 \n",
    "            \n",
    "    \n",
    "    return count"
   ]
  },
  {
   "cell_type": "code",
   "execution_count": 5,
   "metadata": {},
   "outputs": [
    {
     "name": "stdout",
     "output_type": "stream",
     "text": [
      "loop: 0 window_step: 1 count: 0 pattern within window: ABS\n",
      "loop: 1 window_step: 2 count: 0 pattern within window: BSJ\n",
      "loop: 2 window_step: 3 count: 0 pattern within window: SJF\n",
      "loop: 3 window_step: 4 count: 0 pattern within window: JFD\n",
      "loop: 4 window_step: 5 count: 0 pattern within window: FDH\n",
      "loop: 5 window_step: 6 count: 0 pattern within window: DHF\n",
      "loop: 6 window_step: 7 count: 0 pattern within window: HFD\n",
      "loop: 7 window_step: 8 count: 0 pattern within window: FDG\n",
      "loop: 8 window_step: 9 count: 0 pattern within window: DGD\n",
      "loop: 9 window_step: 10 count: 0 pattern within window: GDH\n",
      "loop: 10 window_step: 11 count: 0 pattern within window: DHE\n",
      "loop: 11 window_step: 12 count: 0 pattern within window: HET\n",
      "loop: 12 window_step: 13 count: 0 pattern within window: ETS\n",
      "loop: 13 window_step: 14 count: 0 pattern within window: TSH\n",
      "loop: 14 window_step: 15 count: 0 pattern within window: SHD\n",
      "loop: 15 window_step: 16 count: 0 pattern within window: HDJ\n",
      "loop: 16 window_step: 17 count: 0 pattern within window: DJA\n",
      "loop: 17 window_step: 18 count: 0 pattern within window: JAA\n",
      "loop: 18 window_step: 19 count: 0 pattern within window: AAA\n",
      "loop: 19 window_step: 20 count: 1 pattern within window: AAJ\n",
      "loop: 20 window_step: 21 count: 1 pattern within window: AJK\n",
      "loop: 21 window_step: 22 count: 1 pattern within window: JKJ\n",
      "loop: 22 window_step: 23 count: 1 pattern within window: KJL\n",
      "loop: 23 window_step: 24 count: 1 pattern within window: JLK\n",
      "loop: 24 window_step: 25 count: 1 pattern within window: LKA\n",
      "loop: 25 window_step: 26 count: 1 pattern within window: KAA\n",
      "loop: 26 window_step: 27 count: 1 pattern within window: AAA\n",
      "loop: 27 window_step: 28 count: 2 pattern within window: AAF\n",
      "loop: 28 window_step: 29 count: 2 pattern within window: AFH\n",
      "loop: 29 window_step: 30 count: 2 pattern within window: FH-\n",
      "loop: 30 window_step: 31 count: 2 pattern within window: H-F\n",
      "loop: 31 window_step: 32 count: 2 pattern within window: -FJ\n",
      "loop: 32 window_step: 33 count: 2 pattern within window: FJJ\n"
     ]
    },
    {
     "data": {
      "text/plain": [
       "2"
      ]
     },
     "execution_count": 5,
     "metadata": {},
     "output_type": "execute_result"
    }
   ],
   "source": [
    "T = \"ABSJFDHFDGDHETSHDJAAAJKJLKAAAFH-FJJ\"\n",
    "p = \"AAA\"\n",
    "PatternCount(T,p,verbose=True)"
   ]
  },
  {
   "cell_type": "markdown",
   "metadata": {},
   "source": [
    "--------"
   ]
  },
  {
   "cell_type": "markdown",
   "metadata": {},
   "source": [
    "### FrequentWords : [page-9]"
   ]
  },
  {
   "cell_type": "code",
   "execution_count": 6,
   "metadata": {},
   "outputs": [],
   "source": [
    "def FrequentWords(Text , k, verbose=False):\n",
    "    \n",
    "    '''This function finds the frequent kmer of size k by utilizing function \"PatternCount()\":\n",
    "        Text: supplied text body of DNA\n",
    "        k: length of kmer '''\n",
    "    \n",
    "    FreqPatterns = []\n",
    "    Counts = []\n",
    "    \n",
    "    \n",
    "    \n",
    "    for i in range(len(Text) - k + 1):\n",
    "        \n",
    "        \n",
    "        '''Pattern picks up the letter within the sliding window[i:i+k] only'''\n",
    "        Pattern = Text[i:i+k]\n",
    "        \n",
    "        \n",
    "        '''Count the pattern frequency within Text'''\n",
    "        Num = PatternCount(Text,Pattern)\n",
    "        \n",
    "        \n",
    "        '''Add count value in Counts list'''\n",
    "        Counts.append(Num)\n",
    "        \n",
    "        \n",
    "        \n",
    "        if verbose:\n",
    "            print('selected pattern:',Pattern)\n",
    "            print('pattern num:', Num)\n",
    "            print('list growth:', Counts)\n",
    "            print('------------------------')\n",
    "            \n",
    "        \n",
    "    '''Find the maximum value of counts'''    \n",
    "    maxcount = max(Counts)\n",
    "    \n",
    "    \n",
    "    \n",
    "    for i in range(len(Text) - k + 1):\n",
    "        \n",
    "        '''Find out the kmer which has count value equal to maxcount'''\n",
    "        if Counts[i] == maxcount:\n",
    "            FreqPatterns.append(Text[i:i+k])\n",
    "            \n",
    "            \n",
    "            \n",
    "            if verbose:\n",
    "                print('frequent pattern:',Text[i:i+k],\\\n",
    "                      \"frequent pattern collection:\",FreqPatterns)\n",
    "            \n",
    "            \n",
    "            \n",
    "    '''Select the unique kmers only'''        \n",
    "    FreqPatterns = set(FreqPatterns)\n",
    "    \n",
    "    \n",
    "    return list(FreqPatterns)"
   ]
  },
  {
   "cell_type": "code",
   "execution_count": 7,
   "metadata": {
    "scrolled": false
   },
   "outputs": [
    {
     "name": "stdout",
     "output_type": "stream",
     "text": [
      "selected pattern: ASH\n",
      "pattern num: 1\n",
      "list growth: [1]\n",
      "------------------------\n",
      "selected pattern: SHD\n",
      "pattern num: 1\n",
      "list growth: [1, 1]\n",
      "------------------------\n",
      "selected pattern: HDF\n",
      "pattern num: 1\n",
      "list growth: [1, 1, 1]\n",
      "------------------------\n",
      "selected pattern: DFG\n",
      "pattern num: 1\n",
      "list growth: [1, 1, 1, 1]\n",
      "------------------------\n",
      "selected pattern: FGF\n",
      "pattern num: 1\n",
      "list growth: [1, 1, 1, 1, 1]\n",
      "------------------------\n",
      "selected pattern: GFH\n",
      "pattern num: 1\n",
      "list growth: [1, 1, 1, 1, 1, 1]\n",
      "------------------------\n",
      "selected pattern: FHD\n",
      "pattern num: 1\n",
      "list growth: [1, 1, 1, 1, 1, 1, 1]\n",
      "------------------------\n",
      "selected pattern: HDB\n",
      "pattern num: 1\n",
      "list growth: [1, 1, 1, 1, 1, 1, 1, 1]\n",
      "------------------------\n",
      "selected pattern: DBB\n",
      "pattern num: 1\n",
      "list growth: [1, 1, 1, 1, 1, 1, 1, 1, 1]\n",
      "------------------------\n",
      "selected pattern: BBC\n",
      "pattern num: 3\n",
      "list growth: [1, 1, 1, 1, 1, 1, 1, 1, 1, 3]\n",
      "------------------------\n",
      "selected pattern: BCJ\n",
      "pattern num: 1\n",
      "list growth: [1, 1, 1, 1, 1, 1, 1, 1, 1, 3, 1]\n",
      "------------------------\n",
      "selected pattern: CJG\n",
      "pattern num: 1\n",
      "list growth: [1, 1, 1, 1, 1, 1, 1, 1, 1, 3, 1, 1]\n",
      "------------------------\n",
      "selected pattern: JGL\n",
      "pattern num: 1\n",
      "list growth: [1, 1, 1, 1, 1, 1, 1, 1, 1, 3, 1, 1, 1]\n",
      "------------------------\n",
      "selected pattern: GLJ\n",
      "pattern num: 1\n",
      "list growth: [1, 1, 1, 1, 1, 1, 1, 1, 1, 3, 1, 1, 1, 1]\n",
      "------------------------\n",
      "selected pattern: LJL\n",
      "pattern num: 2\n",
      "list growth: [1, 1, 1, 1, 1, 1, 1, 1, 1, 3, 1, 1, 1, 1, 2]\n",
      "------------------------\n",
      "selected pattern: JLG\n",
      "pattern num: 1\n",
      "list growth: [1, 1, 1, 1, 1, 1, 1, 1, 1, 3, 1, 1, 1, 1, 2, 1]\n",
      "------------------------\n",
      "selected pattern: LGB\n",
      "pattern num: 1\n",
      "list growth: [1, 1, 1, 1, 1, 1, 1, 1, 1, 3, 1, 1, 1, 1, 2, 1, 1]\n",
      "------------------------\n",
      "selected pattern: GBB\n",
      "pattern num: 1\n",
      "list growth: [1, 1, 1, 1, 1, 1, 1, 1, 1, 3, 1, 1, 1, 1, 2, 1, 1, 1]\n",
      "------------------------\n",
      "selected pattern: BBC\n",
      "pattern num: 3\n",
      "list growth: [1, 1, 1, 1, 1, 1, 1, 1, 1, 3, 1, 1, 1, 1, 2, 1, 1, 1, 3]\n",
      "------------------------\n",
      "selected pattern: BCL\n",
      "pattern num: 2\n",
      "list growth: [1, 1, 1, 1, 1, 1, 1, 1, 1, 3, 1, 1, 1, 1, 2, 1, 1, 1, 3, 2]\n",
      "------------------------\n",
      "selected pattern: CLL\n",
      "pattern num: 1\n",
      "list growth: [1, 1, 1, 1, 1, 1, 1, 1, 1, 3, 1, 1, 1, 1, 2, 1, 1, 1, 3, 2, 1]\n",
      "------------------------\n",
      "selected pattern: LLJ\n",
      "pattern num: 1\n",
      "list growth: [1, 1, 1, 1, 1, 1, 1, 1, 1, 3, 1, 1, 1, 1, 2, 1, 1, 1, 3, 2, 1, 1]\n",
      "------------------------\n",
      "selected pattern: LJL\n",
      "pattern num: 2\n",
      "list growth: [1, 1, 1, 1, 1, 1, 1, 1, 1, 3, 1, 1, 1, 1, 2, 1, 1, 1, 3, 2, 1, 1, 2]\n",
      "------------------------\n",
      "selected pattern: JLJ\n",
      "pattern num: 1\n",
      "list growth: [1, 1, 1, 1, 1, 1, 1, 1, 1, 3, 1, 1, 1, 1, 2, 1, 1, 1, 3, 2, 1, 1, 2, 1]\n",
      "------------------------\n",
      "selected pattern: LJB\n",
      "pattern num: 1\n",
      "list growth: [1, 1, 1, 1, 1, 1, 1, 1, 1, 3, 1, 1, 1, 1, 2, 1, 1, 1, 3, 2, 1, 1, 2, 1, 1]\n",
      "------------------------\n",
      "selected pattern: JBB\n",
      "pattern num: 1\n",
      "list growth: [1, 1, 1, 1, 1, 1, 1, 1, 1, 3, 1, 1, 1, 1, 2, 1, 1, 1, 3, 2, 1, 1, 2, 1, 1, 1]\n",
      "------------------------\n",
      "selected pattern: BBC\n",
      "pattern num: 3\n",
      "list growth: [1, 1, 1, 1, 1, 1, 1, 1, 1, 3, 1, 1, 1, 1, 2, 1, 1, 1, 3, 2, 1, 1, 2, 1, 1, 1, 3]\n",
      "------------------------\n",
      "selected pattern: BCL\n",
      "pattern num: 2\n",
      "list growth: [1, 1, 1, 1, 1, 1, 1, 1, 1, 3, 1, 1, 1, 1, 2, 1, 1, 1, 3, 2, 1, 1, 2, 1, 1, 1, 3, 2]\n",
      "------------------------\n",
      "selected pattern: CLJ\n",
      "pattern num: 1\n",
      "list growth: [1, 1, 1, 1, 1, 1, 1, 1, 1, 3, 1, 1, 1, 1, 2, 1, 1, 1, 3, 2, 1, 1, 2, 1, 1, 1, 3, 2, 1]\n",
      "------------------------\n",
      "selected pattern: LJJ\n",
      "pattern num: 1\n",
      "list growth: [1, 1, 1, 1, 1, 1, 1, 1, 1, 3, 1, 1, 1, 1, 2, 1, 1, 1, 3, 2, 1, 1, 2, 1, 1, 1, 3, 2, 1, 1]\n",
      "------------------------\n",
      "frequent pattern: BBC frequent pattern collection: ['BBC']\n",
      "frequent pattern: BBC frequent pattern collection: ['BBC', 'BBC']\n",
      "frequent pattern: BBC frequent pattern collection: ['BBC', 'BBC', 'BBC']\n"
     ]
    },
    {
     "data": {
      "text/plain": [
       "['BBC']"
      ]
     },
     "execution_count": 7,
     "metadata": {},
     "output_type": "execute_result"
    }
   ],
   "source": [
    "FrequentWords(\"ASHDFGFHDBBCJGLJLGBBCLLJLJBBCLJJ\" , 3, verbose = True)"
   ]
  },
  {
   "cell_type": "markdown",
   "metadata": {},
   "source": [
    "---------"
   ]
  },
  {
   "cell_type": "markdown",
   "metadata": {},
   "source": [
    "### ReverseComplement : [page-12]"
   ]
  },
  {
   "cell_type": "code",
   "execution_count": 8,
   "metadata": {},
   "outputs": [],
   "source": [
    "def ReverseComplement(Text):\n",
    "    '''initiate a vacant string'''\n",
    "    rText =\"\"\n",
    "    '''all letters are replaced by reverse letters'''\n",
    "    for i in range(len(Text)):\n",
    "        if Text[i] == \"A\":\n",
    "              rText = \"T\" + rText\n",
    "        elif Text[i] == \"T\":\n",
    "              rText  = \"A\" + rText\n",
    "        elif Text[i] == \"G\":\n",
    "              rText  = \"C\" + rText\n",
    "        elif Text[i] == \"C\":\n",
    "              rText = \"G\" + rText\n",
    "    return rText.reverse()\n"
   ]
  },
  {
   "cell_type": "code",
   "execution_count": 9,
   "metadata": {},
   "outputs": [
    {
     "data": {
      "text/plain": [
       "'TACGCGAT'"
      ]
     },
     "execution_count": 9,
     "metadata": {},
     "output_type": "execute_result"
    }
   ],
   "source": [
    "ReverseComplement(\"ATGCGCTA\")"
   ]
  },
  {
   "cell_type": "markdown",
   "metadata": {},
   "source": [
    "---------"
   ]
  },
  {
   "cell_type": "markdown",
   "metadata": {},
   "source": [
    "### Skew : [Page-25]"
   ]
  },
  {
   "cell_type": "code",
   "execution_count": 10,
   "metadata": {},
   "outputs": [],
   "source": [
    "def Skew(Genome, verbose=False):\n",
    "    \n",
    "    '''This function finds the skew score #G-#C of the given Genome'''\n",
    "    \n",
    "    '''SkewList stores current skew for ploting purpose'''\n",
    "    SkewList = [0]\n",
    "    \n",
    "    \n",
    "    '''CurrentSkew keeps changing'''\n",
    "    CurrentSkew = 0\n",
    "    \n",
    "    \n",
    "    '''Iterate through each letter of genome'''\n",
    "    for i in range(len(Genome)):\n",
    "        \n",
    "        \n",
    "        if Genome[i] == 'C':\n",
    "            '''If you meet letter C, CurrentSkew decreases by 1'''\n",
    "            SkewList.append(SkewList[i] - 1)\n",
    "            CurrentSkew -= 1\n",
    "            \n",
    "        \n",
    "            \n",
    "        elif Genome[i] == 'G':\n",
    "            '''If you meet letter G, CurrentSkew increases by 1'''    \n",
    "            SkewList.append(SkewList[i] + 1)\n",
    "            CurrentSkew += 1\n",
    "            \n",
    "            \n",
    "        else:\n",
    "            '''Do nothing otherwise, just keep appending old CurrentSkew''' \n",
    "            SkewList.append(SkewList[i])\n",
    "            \n",
    "            \n",
    "            \n",
    "        if verbose:\n",
    "            print(Genome[i],CurrentSkew)\n",
    "            \n",
    "            \n",
    "            \n",
    "    return SkewList\n"
   ]
  },
  {
   "cell_type": "code",
   "execution_count": 11,
   "metadata": {},
   "outputs": [
    {
     "name": "stdout",
     "output_type": "stream",
     "text": [
      "C -1\n",
      "T -1\n",
      "C -2\n",
      "G -1\n",
      "C -2\n",
      "T -2\n",
      "C -3\n",
      "A -3\n",
      "C -4\n",
      "C -5\n",
      "T -5\n"
     ]
    },
    {
     "data": {
      "text/plain": [
       "[0, -1, -1, -2, -1, -2, -2, -3, -3, -4, -5, -5]"
      ]
     },
     "execution_count": 11,
     "metadata": {},
     "output_type": "execute_result"
    }
   ],
   "source": [
    "X=\"CTCGCTCACCT\"\n",
    "Skew(X,verbose=True)"
   ]
  },
  {
   "cell_type": "code",
   "execution_count": 12,
   "metadata": {},
   "outputs": [],
   "source": [
    "X=\"CTTGAAGTGCGGACGCTCATGTAGTCTCCTCCTAGGCAAAGAACAGCGTTGGACCTGTCGCG\\\n",
    "AAGATGCCTTACCCTCAGATGCAATGACGGCACGTATTCCTTTTGGCCTCAAGCGGCTCCT\"\n",
    "\n",
    "Y=\"ATGCCGTACCCCTAGGATGCAATGCAGCGGACGTATGTCCCGTCTTTGCCTCACACGGGGCTCCT\\\n",
    "CTTGAAGTGCGACGCTCCTAGTTCCTCCTACAGAAGAACCAGCTTGGCCTGTCGCG\""
   ]
  },
  {
   "cell_type": "code",
   "execution_count": 13,
   "metadata": {
    "scrolled": false
   },
   "outputs": [],
   "source": [
    "s1 = Skew(Genome=Y, verbose=False)"
   ]
  },
  {
   "cell_type": "code",
   "execution_count": 14,
   "metadata": {},
   "outputs": [],
   "source": [
    "s2 = Skew(Genome=X, verbose=False)"
   ]
  },
  {
   "cell_type": "code",
   "execution_count": 15,
   "metadata": {},
   "outputs": [],
   "source": [
    "import matplotlib.pyplot as plt\n",
    "%matplotlib inline\n",
    "import seaborn as sns\n",
    "sns.set()"
   ]
  },
  {
   "cell_type": "code",
   "execution_count": 16,
   "metadata": {},
   "outputs": [
    {
     "data": {
      "image/png": "[encoded data removed]",
      "text/plain": [
       "<Figure size 1296x720 with 1 Axes>"
      ]
     },
     "metadata": {},
     "output_type": "display_data"
    }
   ],
   "source": [
    "x1 = [i for i in range(len(s1))]\n",
    "x2 = [i for i in range(len(s2))]\n",
    "plt.figure(figsize = [18,10])\n",
    "plt.scatter(x1,s1)\n",
    "plt.scatter(x2,s2)\n",
    "plt.plot(x1,s1)\n",
    "plt.plot(x2,s2)\n",
    "plt.show()"
   ]
  },
  {
   "cell_type": "markdown",
   "metadata": {},
   "source": [
    "---------"
   ]
  },
  {
   "cell_type": "markdown",
   "metadata": {},
   "source": [
    "### HammingDistance: [page-27]"
   ]
  },
  {
   "cell_type": "code",
   "execution_count": 17,
   "metadata": {},
   "outputs": [],
   "source": [
    "def HammingDistance(genome1,genome2):\n",
    "    \n",
    "    '''This function finds the hamming distance by calculating \n",
    "    the number of mismatches between two genomes'''\n",
    "    \n",
    "    \n",
    "    '''Initiate the score'''\n",
    "    score = 0\n",
    "    \n",
    "    '''Are genome length equal? send error otherwise'''\n",
    "    if len(genome1) != len(genome2):\n",
    "        print(\"Error\")\n",
    "        \n",
    "    else:\n",
    "        ''' score increases by 1 when mismatch occurs'''\n",
    "        for i in range(len(genome1)):\n",
    "            if genome1[i] != genome2[i]:\n",
    "                score += 1\n",
    "                \n",
    "    return score"
   ]
  },
  {
   "cell_type": "code",
   "execution_count": 18,
   "metadata": {},
   "outputs": [
    {
     "data": {
      "text/plain": [
       "1"
      ]
     },
     "execution_count": 18,
     "metadata": {},
     "output_type": "execute_result"
    }
   ],
   "source": [
    "gn1 = \"AABAADE\"\n",
    "gn2 = \"AAAAADE\"\n",
    "HammingDistance(gn1,gn2)"
   ]
  },
  {
   "cell_type": "code",
   "execution_count": 19,
   "metadata": {},
   "outputs": [
    {
     "data": {
      "text/plain": [
       "4"
      ]
     },
     "execution_count": 19,
     "metadata": {},
     "output_type": "execute_result"
    }
   ],
   "source": [
    "gn5 = \"AABCDAAP\"\n",
    "gn6 = \"AAAAAAAQ\"\n",
    "HammingDistance(gn5,gn6)"
   ]
  },
  {
   "cell_type": "markdown",
   "metadata": {},
   "source": [
    "----------"
   ]
  },
  {
   "cell_type": "markdown",
   "metadata": {},
   "source": [
    "### Neighbors [page-50]  => Recursive Algorithm\n",
    "\n",
    "***This function uses: ```HammingDistance()```***"
   ]
  },
  {
   "cell_type": "code",
   "execution_count": 20,
   "metadata": {},
   "outputs": [],
   "source": [
    "def Neighbors(Pattern,d, verbose = False):\n",
    "    \n",
    "    '''This function finds the neighbors of a 'Pattern' within hamming distance - 'd' '''\n",
    "    \n",
    "    '''special cases'''\n",
    "    if d == 0:\n",
    "        return Pattern\n",
    "    if len(Pattern) ==1:\n",
    "        return {'A','C','G','T'}\n",
    "    \n",
    "    \n",
    "    \n",
    "    '''general case'''\n",
    "    Neighborhood =  []\n",
    "    if verbose:\n",
    "        SuffixNeighbors = Neighbors(Pattern[1:],d, verbose=True)\n",
    "    else:\n",
    "        SuffixNeighbors = Neighbors(Pattern[1:],d)\n",
    "    \n",
    "    \n",
    "    if verbose: \n",
    "        print(\"----------------------------\")    \n",
    "        print(\"SuffixNeighbors:\",SuffixNeighbors)\n",
    "        print(\"----------------------------\")    \n",
    "        \n",
    "    \n",
    "    \n",
    "    '''Iterate through items in suffixneighbors'''\n",
    "    for item in SuffixNeighbors:\n",
    "        \n",
    "        '''If hmm-distance is below d, add random prefix'''\n",
    "        if HammingDistance(Pattern[1:],item)<d:\n",
    "            for x in ['A','C','G','T']:\n",
    "                Neighborhood.append(x+item)\n",
    "                \n",
    "                \n",
    "            if verbose: \n",
    "                print(\"hamm-dis:\",HammingDistance(Pattern[1:],item),\\\n",
    "                      \"x:\",x,\\\n",
    "                      \"suffix-item:\", item,\\\n",
    "                      \"nbr:\",x+item)\n",
    "                     \n",
    "              \n",
    "        else:\n",
    "            '''otherwise you are not allowed to add random prefix, add original prefix'''  \n",
    "            Neighborhood.append(Pattern[0]+item)\n",
    "             \n",
    "            \n",
    "            \n",
    "            if verbose: \n",
    "                print(\"hamm-dis:\",HammingDistance(Pattern[1:],item),\\\n",
    "                      \"Prefix:\",Pattern[0],\\\n",
    "                      \"suffix-item:\", item,\\\n",
    "                      \"nbr:\",Pattern[0]+item )\n",
    "                \n",
    "     \n",
    "    return Neighborhood"
   ]
  },
  {
   "cell_type": "code",
   "execution_count": 21,
   "metadata": {},
   "outputs": [
    {
     "name": "stdout",
     "output_type": "stream",
     "text": [
      "----------------------------\n",
      "SuffixNeighbors: {'T', 'G', 'A', 'C'}\n",
      "----------------------------\n",
      "hamm-dis: 1 Prefix: T suffix-item: T nbr: TT\n",
      "hamm-dis: 0 x: T suffix-item: G nbr: TG\n",
      "hamm-dis: 1 Prefix: T suffix-item: A nbr: TA\n",
      "hamm-dis: 1 Prefix: T suffix-item: C nbr: TC\n",
      "----------------------------\n",
      "SuffixNeighbors: ['TT', 'AG', 'CG', 'GG', 'TG', 'TA', 'TC']\n",
      "----------------------------\n",
      "hamm-dis: 1 Prefix: A suffix-item: TT nbr: ATT\n",
      "hamm-dis: 1 Prefix: A suffix-item: AG nbr: AAG\n",
      "hamm-dis: 1 Prefix: A suffix-item: CG nbr: ACG\n",
      "hamm-dis: 1 Prefix: A suffix-item: GG nbr: AGG\n",
      "hamm-dis: 0 x: T suffix-item: TG nbr: TTG\n",
      "hamm-dis: 1 Prefix: A suffix-item: TA nbr: ATA\n",
      "hamm-dis: 1 Prefix: A suffix-item: TC nbr: ATC\n"
     ]
    }
   ],
   "source": [
    "nbr = Neighbors(Pattern=\"ATG\",d =1, verbose = True)"
   ]
  },
  {
   "cell_type": "code",
   "execution_count": 22,
   "metadata": {},
   "outputs": [
    {
     "data": {
      "text/plain": [
       "['ATT', 'AAG', 'ACG', 'AGG', 'ATG', 'CTG', 'GTG', 'TTG', 'ATA', 'ATC']"
      ]
     },
     "execution_count": 22,
     "metadata": {},
     "output_type": "execute_result"
    }
   ],
   "source": [
    "nbr"
   ]
  },
  {
   "cell_type": "code",
   "execution_count": 23,
   "metadata": {},
   "outputs": [
    {
     "name": "stdout",
     "output_type": "stream",
     "text": [
      "----------------------------\n",
      "SuffixNeighbors: {'T', 'G', 'A', 'C'}\n",
      "----------------------------\n",
      "hamm-dis: 1 x: T suffix-item: T nbr: TT\n",
      "hamm-dis: 0 x: T suffix-item: G nbr: TG\n",
      "hamm-dis: 1 x: T suffix-item: A nbr: TA\n",
      "hamm-dis: 1 x: T suffix-item: C nbr: TC\n",
      "----------------------------\n",
      "SuffixNeighbors: ['AT', 'CT', 'GT', 'TT', 'AG', 'CG', 'GG', 'TG', 'AA', 'CA', 'GA', 'TA', 'AC', 'CC', 'GC', 'TC']\n",
      "----------------------------\n",
      "hamm-dis: 2 Prefix: A suffix-item: AT nbr: AAT\n",
      "hamm-dis: 2 Prefix: A suffix-item: CT nbr: ACT\n",
      "hamm-dis: 2 Prefix: A suffix-item: GT nbr: AGT\n",
      "hamm-dis: 1 x: T suffix-item: TT nbr: TTT\n",
      "hamm-dis: 1 x: T suffix-item: AG nbr: TAG\n",
      "hamm-dis: 1 x: T suffix-item: CG nbr: TCG\n",
      "hamm-dis: 1 x: T suffix-item: GG nbr: TGG\n",
      "hamm-dis: 0 x: T suffix-item: TG nbr: TTG\n",
      "hamm-dis: 2 Prefix: A suffix-item: AA nbr: AAA\n",
      "hamm-dis: 2 Prefix: A suffix-item: CA nbr: ACA\n",
      "hamm-dis: 2 Prefix: A suffix-item: GA nbr: AGA\n",
      "hamm-dis: 1 x: T suffix-item: TA nbr: TTA\n",
      "hamm-dis: 2 Prefix: A suffix-item: AC nbr: AAC\n",
      "hamm-dis: 2 Prefix: A suffix-item: CC nbr: ACC\n",
      "hamm-dis: 2 Prefix: A suffix-item: GC nbr: AGC\n",
      "hamm-dis: 1 x: T suffix-item: TC nbr: TTC\n"
     ]
    }
   ],
   "source": [
    "nbr = Neighbors(Pattern=\"ATG\",d =2, verbose = True)"
   ]
  },
  {
   "cell_type": "code",
   "execution_count": 24,
   "metadata": {
    "scrolled": false
   },
   "outputs": [
    {
     "name": "stdout",
     "output_type": "stream",
     "text": [
      "----------------------------\n",
      "SuffixNeighbors: {'T', 'G', 'A', 'C'}\n",
      "----------------------------\n",
      "hamm-dis: 1 x: T suffix-item: T nbr: TT\n",
      "hamm-dis: 1 x: T suffix-item: G nbr: TG\n",
      "hamm-dis: 1 x: T suffix-item: A nbr: TA\n",
      "hamm-dis: 0 x: T suffix-item: C nbr: TC\n",
      "----------------------------\n",
      "SuffixNeighbors: ['AT', 'CT', 'GT', 'TT', 'AG', 'CG', 'GG', 'TG', 'AA', 'CA', 'GA', 'TA', 'AC', 'CC', 'GC', 'TC']\n",
      "----------------------------\n",
      "hamm-dis: 2 x: T suffix-item: AT nbr: TAT\n",
      "hamm-dis: 2 x: T suffix-item: CT nbr: TCT\n",
      "hamm-dis: 1 x: T suffix-item: GT nbr: TGT\n",
      "hamm-dis: 2 x: T suffix-item: TT nbr: TTT\n",
      "hamm-dis: 2 x: T suffix-item: AG nbr: TAG\n",
      "hamm-dis: 2 x: T suffix-item: CG nbr: TCG\n",
      "hamm-dis: 1 x: T suffix-item: GG nbr: TGG\n",
      "hamm-dis: 2 x: T suffix-item: TG nbr: TTG\n",
      "hamm-dis: 2 x: T suffix-item: AA nbr: TAA\n",
      "hamm-dis: 2 x: T suffix-item: CA nbr: TCA\n",
      "hamm-dis: 1 x: T suffix-item: GA nbr: TGA\n",
      "hamm-dis: 2 x: T suffix-item: TA nbr: TTA\n",
      "hamm-dis: 1 x: T suffix-item: AC nbr: TAC\n",
      "hamm-dis: 1 x: T suffix-item: CC nbr: TCC\n",
      "hamm-dis: 0 x: T suffix-item: GC nbr: TGC\n",
      "hamm-dis: 1 x: T suffix-item: TC nbr: TTC\n",
      "----------------------------\n",
      "SuffixNeighbors: ['AAT', 'CAT', 'GAT', 'TAT', 'ACT', 'CCT', 'GCT', 'TCT', 'AGT', 'CGT', 'GGT', 'TGT', 'ATT', 'CTT', 'GTT', 'TTT', 'AAG', 'CAG', 'GAG', 'TAG', 'ACG', 'CCG', 'GCG', 'TCG', 'AGG', 'CGG', 'GGG', 'TGG', 'ATG', 'CTG', 'GTG', 'TTG', 'AAA', 'CAA', 'GAA', 'TAA', 'ACA', 'CCA', 'GCA', 'TCA', 'AGA', 'CGA', 'GGA', 'TGA', 'ATA', 'CTA', 'GTA', 'TTA', 'AAC', 'CAC', 'GAC', 'TAC', 'ACC', 'CCC', 'GCC', 'TCC', 'AGC', 'CGC', 'GGC', 'TGC', 'ATC', 'CTC', 'GTC', 'TTC']\n",
      "----------------------------\n",
      "hamm-dis: 3 Prefix: A suffix-item: AAT nbr: AAAT\n",
      "hamm-dis: 3 Prefix: A suffix-item: CAT nbr: ACAT\n",
      "hamm-dis: 3 Prefix: A suffix-item: GAT nbr: AGAT\n",
      "hamm-dis: 2 x: T suffix-item: TAT nbr: TTAT\n",
      "hamm-dis: 3 Prefix: A suffix-item: ACT nbr: AACT\n",
      "hamm-dis: 3 Prefix: A suffix-item: CCT nbr: ACCT\n",
      "hamm-dis: 3 Prefix: A suffix-item: GCT nbr: AGCT\n",
      "hamm-dis: 2 x: T suffix-item: TCT nbr: TTCT\n",
      "hamm-dis: 2 x: T suffix-item: AGT nbr: TAGT\n",
      "hamm-dis: 2 x: T suffix-item: CGT nbr: TCGT\n",
      "hamm-dis: 2 x: T suffix-item: GGT nbr: TGGT\n",
      "hamm-dis: 1 x: T suffix-item: TGT nbr: TTGT\n",
      "hamm-dis: 3 Prefix: A suffix-item: ATT nbr: AATT\n",
      "hamm-dis: 3 Prefix: A suffix-item: CTT nbr: ACTT\n",
      "hamm-dis: 3 Prefix: A suffix-item: GTT nbr: AGTT\n",
      "hamm-dis: 2 x: T suffix-item: TTT nbr: TTTT\n",
      "hamm-dis: 3 Prefix: A suffix-item: AAG nbr: AAAG\n",
      "hamm-dis: 3 Prefix: A suffix-item: CAG nbr: ACAG\n",
      "hamm-dis: 3 Prefix: A suffix-item: GAG nbr: AGAG\n",
      "hamm-dis: 2 x: T suffix-item: TAG nbr: TTAG\n",
      "hamm-dis: 3 Prefix: A suffix-item: ACG nbr: AACG\n",
      "hamm-dis: 3 Prefix: A suffix-item: CCG nbr: ACCG\n",
      "hamm-dis: 3 Prefix: A suffix-item: GCG nbr: AGCG\n",
      "hamm-dis: 2 x: T suffix-item: TCG nbr: TTCG\n",
      "hamm-dis: 2 x: T suffix-item: AGG nbr: TAGG\n",
      "hamm-dis: 2 x: T suffix-item: CGG nbr: TCGG\n",
      "hamm-dis: 2 x: T suffix-item: GGG nbr: TGGG\n",
      "hamm-dis: 1 x: T suffix-item: TGG nbr: TTGG\n",
      "hamm-dis: 3 Prefix: A suffix-item: ATG nbr: AATG\n",
      "hamm-dis: 3 Prefix: A suffix-item: CTG nbr: ACTG\n",
      "hamm-dis: 3 Prefix: A suffix-item: GTG nbr: AGTG\n",
      "hamm-dis: 2 x: T suffix-item: TTG nbr: TTTG\n",
      "hamm-dis: 3 Prefix: A suffix-item: AAA nbr: AAAA\n",
      "hamm-dis: 3 Prefix: A suffix-item: CAA nbr: ACAA\n",
      "hamm-dis: 3 Prefix: A suffix-item: GAA nbr: AGAA\n",
      "hamm-dis: 2 x: T suffix-item: TAA nbr: TTAA\n",
      "hamm-dis: 3 Prefix: A suffix-item: ACA nbr: AACA\n",
      "hamm-dis: 3 Prefix: A suffix-item: CCA nbr: ACCA\n",
      "hamm-dis: 3 Prefix: A suffix-item: GCA nbr: AGCA\n",
      "hamm-dis: 2 x: T suffix-item: TCA nbr: TTCA\n",
      "hamm-dis: 2 x: T suffix-item: AGA nbr: TAGA\n",
      "hamm-dis: 2 x: T suffix-item: CGA nbr: TCGA\n",
      "hamm-dis: 2 x: T suffix-item: GGA nbr: TGGA\n",
      "hamm-dis: 1 x: T suffix-item: TGA nbr: TTGA\n",
      "hamm-dis: 3 Prefix: A suffix-item: ATA nbr: AATA\n",
      "hamm-dis: 3 Prefix: A suffix-item: CTA nbr: ACTA\n",
      "hamm-dis: 3 Prefix: A suffix-item: GTA nbr: AGTA\n",
      "hamm-dis: 2 x: T suffix-item: TTA nbr: TTTA\n",
      "hamm-dis: 2 x: T suffix-item: AAC nbr: TAAC\n",
      "hamm-dis: 2 x: T suffix-item: CAC nbr: TCAC\n",
      "hamm-dis: 2 x: T suffix-item: GAC nbr: TGAC\n",
      "hamm-dis: 1 x: T suffix-item: TAC nbr: TTAC\n",
      "hamm-dis: 2 x: T suffix-item: ACC nbr: TACC\n",
      "hamm-dis: 2 x: T suffix-item: CCC nbr: TCCC\n",
      "hamm-dis: 2 x: T suffix-item: GCC nbr: TGCC\n",
      "hamm-dis: 1 x: T suffix-item: TCC nbr: TTCC\n",
      "hamm-dis: 1 x: T suffix-item: AGC nbr: TAGC\n",
      "hamm-dis: 1 x: T suffix-item: CGC nbr: TCGC\n",
      "hamm-dis: 1 x: T suffix-item: GGC nbr: TGGC\n",
      "hamm-dis: 0 x: T suffix-item: TGC nbr: TTGC\n",
      "hamm-dis: 2 x: T suffix-item: ATC nbr: TATC\n",
      "hamm-dis: 2 x: T suffix-item: CTC nbr: TCTC\n",
      "hamm-dis: 2 x: T suffix-item: GTC nbr: TGTC\n",
      "hamm-dis: 1 x: T suffix-item: TTC nbr: TTTC\n"
     ]
    }
   ],
   "source": [
    "nbr = Neighbors(Pattern=\"ATGC\",d =3, verbose = True)"
   ]
  },
  {
   "cell_type": "markdown",
   "metadata": {},
   "source": [
    "--------"
   ]
  },
  {
   "cell_type": "markdown",
   "metadata": {},
   "source": [
    "### ImmediateNeighbors(49)"
   ]
  },
  {
   "cell_type": "code",
   "execution_count": 25,
   "metadata": {},
   "outputs": [
    {
     "name": "stdout",
     "output_type": "stream",
     "text": [
      "['C', 'G', 'T']\n"
     ]
    }
   ],
   "source": [
    "genomes = ['A','C','G','T']\n",
    "genomes.remove('A')\n",
    "print(genomes)"
   ]
  },
  {
   "cell_type": "code",
   "execution_count": 26,
   "metadata": {},
   "outputs": [],
   "source": [
    "def ImmediateNeighbors(Pattern, verbose = False):\n",
    "    \n",
    "    '''Take a empty list'''\n",
    "    Neighborhood = [Pattern]\n",
    "    \n",
    "    '''Iterate over letters of Pattern'''\n",
    "    for i in range(len(Pattern)):\n",
    "        \n",
    "        genomes = ['A','C','G','T']\n",
    "        \n",
    "        '''ith letter is a Symbol now'''\n",
    "        Symbol = Pattern[i]\n",
    "        \n",
    "        '''Remove that symbol from genome list'''\n",
    "        genomes.remove(Symbol)\n",
    "        \n",
    "        '''Iterate over 3 letters of genome'''\n",
    "        for gnm in genomes:\n",
    "            \n",
    "            '''Neighbor is only the symbol replaced by a letter from genome list'''\n",
    "            Neighbor = Pattern[0:i]+gnm+Pattern[i+1:]\n",
    "            \n",
    "            \n",
    "            if verbose:\n",
    "                print(\"Pattern:\", Pattern,\\\n",
    "                     \"Symbol:\", Symbol,\\\n",
    "                     \"genomes:\", genomes,\\\n",
    "                     \"gnm:\", gnm,\\\n",
    "                     \"Neighbor:\",Neighbor)\n",
    "                \n",
    "                \n",
    "            \n",
    "            '''Add that neighbor to Neighborhood list'''\n",
    "            Neighborhood.append(Neighbor)\n",
    "            \n",
    "            \n",
    "    return Neighborhood"
   ]
  },
  {
   "cell_type": "code",
   "execution_count": 27,
   "metadata": {},
   "outputs": [
    {
     "name": "stdout",
     "output_type": "stream",
     "text": [
      "Pattern: ATGC Symbol: A genomes: ['C', 'G', 'T'] gnm: C Neighbor: CTGC\n",
      "Pattern: ATGC Symbol: A genomes: ['C', 'G', 'T'] gnm: G Neighbor: GTGC\n",
      "Pattern: ATGC Symbol: A genomes: ['C', 'G', 'T'] gnm: T Neighbor: TTGC\n",
      "Pattern: ATGC Symbol: T genomes: ['A', 'C', 'G'] gnm: A Neighbor: AAGC\n",
      "Pattern: ATGC Symbol: T genomes: ['A', 'C', 'G'] gnm: C Neighbor: ACGC\n",
      "Pattern: ATGC Symbol: T genomes: ['A', 'C', 'G'] gnm: G Neighbor: AGGC\n",
      "Pattern: ATGC Symbol: G genomes: ['A', 'C', 'T'] gnm: A Neighbor: ATAC\n",
      "Pattern: ATGC Symbol: G genomes: ['A', 'C', 'T'] gnm: C Neighbor: ATCC\n",
      "Pattern: ATGC Symbol: G genomes: ['A', 'C', 'T'] gnm: T Neighbor: ATTC\n",
      "Pattern: ATGC Symbol: C genomes: ['A', 'G', 'T'] gnm: A Neighbor: ATGA\n",
      "Pattern: ATGC Symbol: C genomes: ['A', 'G', 'T'] gnm: G Neighbor: ATGG\n",
      "Pattern: ATGC Symbol: C genomes: ['A', 'G', 'T'] gnm: T Neighbor: ATGT\n"
     ]
    }
   ],
   "source": [
    "NBR = ImmediateNeighbors(Pattern= 'ATGC', verbose =True)"
   ]
  },
  {
   "cell_type": "code",
   "execution_count": 28,
   "metadata": {},
   "outputs": [
    {
     "data": {
      "text/plain": [
       "['ATGC',\n",
       " 'CTGC',\n",
       " 'GTGC',\n",
       " 'TTGC',\n",
       " 'AAGC',\n",
       " 'ACGC',\n",
       " 'AGGC',\n",
       " 'ATAC',\n",
       " 'ATCC',\n",
       " 'ATTC',\n",
       " 'ATGA',\n",
       " 'ATGG',\n",
       " 'ATGT']"
      ]
     },
     "execution_count": 28,
     "metadata": {},
     "output_type": "execute_result"
    }
   ],
   "source": [
    "NBR"
   ]
  },
  {
   "cell_type": "markdown",
   "metadata": {},
   "source": [
    "-------"
   ]
  },
  {
   "cell_type": "markdown",
   "metadata": {},
   "source": [
    "### IterativeNeighbors(50)"
   ]
  },
  {
   "cell_type": "code",
   "execution_count": 29,
   "metadata": {},
   "outputs": [],
   "source": [
    "def IterativeNeighbors(Pattern, d, verbose = False):\n",
    "    \n",
    "    Neighborhood = [Pattern]\n",
    "    \n",
    "    '''Iterate over hamming distance'''\n",
    "    for i in range(d):\n",
    "        \n",
    "        '''Iterate over items in Neighborhood'''\n",
    "        for item in Neighborhood:\n",
    "            \n",
    "            '''Add nighbor obtained from Immediate neighbor'''\n",
    "            for inbr in ImmediateNeighbors(item):\n",
    "                Neighborhood.append(inbr)\n",
    "            \n",
    "            '''Remove duplicate from Neighborhood list'''\n",
    "            Neighborhood = list(set(Neighborhood))\n",
    "            \n",
    "            \n",
    "            if verbose:\n",
    "                print(\"Pattern:\", Pattern,\\\n",
    "                     \", d:\", i ,\\\n",
    "                     \", Neighborhood item:\", item,\\\n",
    "                     \", Neighborhood List:\", Neighborhood)\n",
    "                print(\"===================================================================\")\n",
    "                \n",
    "    \n",
    "    return Neighborhood"
   ]
  },
  {
   "cell_type": "code",
   "execution_count": 30,
   "metadata": {
    "scrolled": false
   },
   "outputs": [
    {
     "name": "stdout",
     "output_type": "stream",
     "text": [
      "Pattern: ATGC , d: 0 , Neighborhood item: ATGC , Neighborhood List: ['ATGC', 'ATAC', 'GTGC', 'ATGA', 'TTGC', 'AGGC', 'AAGC', 'ATGG', 'ATGT', 'ATCC', 'ACGC', 'ATTC', 'CTGC']\n",
      "===================================================================\n",
      "Pattern: ATGC , d: 0 , Neighborhood item: ATGC , Neighborhood List: ['ATGC', 'ATAC', 'GTGC', 'ATGA', 'TTGC', 'AGGC', 'AAGC', 'ATGG', 'ATGT', 'ATCC', 'ACGC', 'ATTC', 'CTGC']\n",
      "===================================================================\n",
      "Pattern: ATGC , d: 0 , Neighborhood item: CTGC , Neighborhood List: ['CTTC', 'TTGC', 'CTAC', 'GTGC', 'AGGC', 'AAGC', 'CTCC', 'ATTC', 'ATGC', 'ATAC', 'ACGC', 'ATGA', 'ATGG', 'CAGC', 'ATGT', 'ATCC', 'CTGG', 'CTGC', 'CCGC', 'CGGC', 'CTGA', 'CTGT']\n",
      "===================================================================\n",
      "Pattern: ATGC , d: 0 , Neighborhood item: GTGC , Neighborhood List: ['GTCC', 'CTTC', 'TTGC', 'GTGT', 'CTAC', 'GTGC', 'AGGC', 'GTGG', 'GTTC', 'AAGC', 'CTCC', 'ATTC', 'ATGC', 'ATAC', 'ATGA', 'GCGC', 'ATGG', 'CAGC', 'ATGT', 'ATCC', 'CTGG', 'CTGC', 'GTGA', 'CCGC', 'CGGC', 'GTAC', 'GAGC', 'GGGC', 'ACGC', 'CTGA', 'CTGT']\n",
      "===================================================================\n",
      "Pattern: ATGC , d: 0 , Neighborhood item: TTGC , Neighborhood List: ['GTCC', 'TTGG', 'CTTC', 'TTCC', 'TTGC', 'TCGC', 'TTGA', 'GTGT', 'TAGC', 'CTAC', 'GTGC', 'AGGC', 'GTGG', 'GTTC', 'AAGC', 'CTCC', 'TTAC', 'TGGC', 'TTTC', 'ATTC', 'ATGC', 'ATAC', 'ACGC', 'ATGA', 'GCGC', 'ATGG', 'CAGC', 'ATGT', 'ATCC', 'CTGG', 'CTGC', 'GTGA', 'CCGC', 'GTAC', 'GAGC', 'GGGC', 'CGGC', 'CTGA', 'CTGT', 'TTGT']\n",
      "===================================================================\n",
      "Pattern: ATGC , d: 0 , Neighborhood item: AAGC , Neighborhood List: ['GTCC', 'TTGG', 'AAGT', 'CTTC', 'TTCC', 'TTGC', 'TCGC', 'TTGA', 'GTGT', 'AAGG', 'TAGC', 'CTAC', 'AATC', 'GTGC', 'AGGC', 'GTGG', 'GTTC', 'AAGC', 'CTCC', 'TTAC', 'TGGC', 'TTTC', 'ATTC', 'ATGC', 'ATAC', 'AAAC', 'ATGA', 'GCGC', 'AAGA', 'ATGG', 'CAGC', 'ATGT', 'ATCC', 'CTGG', 'CTGC', 'AACC', 'GTGA', 'CCGC', 'CGGC', 'GTAC', 'GAGC', 'GGGC', 'ACGC', 'CTGA', 'CTGT', 'TTGT']\n",
      "===================================================================\n",
      "Pattern: ATGC , d: 0 , Neighborhood item: ACGC , Neighborhood List: ['GTCC', 'TTGG', 'ACGG', 'CTTC', 'ACGT', 'TTCC', 'TTGC', 'TCGC', 'TTGA', 'GTGT', 'AAGG', 'TAGC', 'CTAC', 'AATC', 'GTGC', 'AGGC', 'GTGG', 'GTTC', 'AAGC', 'CTCC', 'TTAC', 'ACGA', 'TGGC', 'TTTC', 'ACTC', 'ACCC', 'ATTC', 'ATGC', 'ATAC', 'AAAC', 'ACGC', 'ATGA', 'GCGC', 'AAGA', 'ATGG', 'CAGC', 'ATGT', 'ATCC', 'CTGG', 'CTGC', 'AACC', 'GTGA', 'ACAC', 'CCGC', 'GTAC', 'GAGC', 'GGGC', 'CTGT', 'CGGC', 'CTGA', 'AAGT', 'TTGT']\n",
      "===================================================================\n",
      "Pattern: ATGC , d: 0 , Neighborhood item: AGGC , Neighborhood List: ['GTCC', 'TTGG', 'ACGG', 'AAGT', 'CTTC', 'ACGT', 'TTCC', 'TTGC', 'TCGC', 'AGCC', 'TTGA', 'GTGT', 'AAGG', 'AGAC', 'TAGC', 'AGGT', 'CTAC', 'AATC', 'GTGC', 'AGGC', 'GTGG', 'GTTC', 'AAGC', 'CTCC', 'TTAC', 'ACGA', 'TGGC', 'TTTC', 'ACTC', 'ACCC', 'ATTC', 'ATGC', 'ATAC', 'AAAC', 'ATGA', 'GCGC', 'AGGA', 'AAGA', 'ATGG', 'CAGC', 'ATGT', 'ATCC', 'CTGG', 'CTGC', 'AACC', 'GTGA', 'ACAC', 'AGTC', 'CCGC', 'CGGC', 'GTAC', 'GAGC', 'GGGC', 'AGGG', 'ACGC', 'CTGA', 'CTGT', 'TTGT']\n",
      "===================================================================\n",
      "Pattern: ATGC , d: 0 , Neighborhood item: ATAC , Neighborhood List: ['GTCC', 'TTGG', 'ACGG', 'CTTC', 'ACGT', 'TTCC', 'TTGC', 'TCGC', 'AGCC', 'TTGA', 'ATAT', 'GTGT', 'AAGG', 'AGAC', 'TTGT', 'TAGC', 'AGGT', 'CTAC', 'AATC', 'GTGC', 'AGGC', 'GTGG', 'GTTC', 'AAGC', 'CTCC', 'TTAC', 'ACGA', 'TGGC', 'TTTC', 'ACTC', 'ACCC', 'ATTC', 'ATGC', 'ATAC', 'AAAC', 'ACGC', 'ATGA', 'GCGC', 'AAGA', 'ATGG', 'CAGC', 'ATGT', 'ATCC', 'CTGG', 'CTGC', 'AACC', 'GTGA', 'ACAC', 'AGTC', 'CCGC', 'ATAA', 'GTAC', 'GAGC', 'ATAG', 'GGGC', 'CTGT', 'AGGG', 'CGGC', 'CTGA', 'AAGT', 'AGGA']\n",
      "===================================================================\n",
      "Pattern: ATGC , d: 0 , Neighborhood item: ATCC , Neighborhood List: ['GTCC', 'TTGG', 'ACGG', 'AAGT', 'CTTC', 'ACGT', 'TTCC', 'TTGC', 'TCGC', 'AGCC', 'TTGA', 'ATAT', 'GTGT', 'AAGG', 'AGAC', 'TAGC', 'AGGT', 'CTAC', 'AATC', 'GTGC', 'AGGC', 'GTGG', 'GTTC', 'AAGC', 'CTCC', 'TTAC', 'ACGA', 'TGGC', 'TTTC', 'ATCA', 'ACTC', 'ACCC', 'ATTC', 'ATGC', 'ATAC', 'AAAC', 'ATGA', 'GCGC', 'ATCT', 'AGGA', 'AAGA', 'ATGG', 'CAGC', 'ATGT', 'ATCG', 'ATCC', 'CTGG', 'CTGC', 'AACC', 'GTGA', 'ACAC', 'AGTC', 'CCGC', 'ATAA', 'CGGC', 'GTAC', 'GAGC', 'ATAG', 'GGGC', 'AGGG', 'ACGC', 'CTGA', 'CTGT', 'TTGT']\n",
      "===================================================================\n",
      "Pattern: ATGC , d: 0 , Neighborhood item: ATTC , Neighborhood List: ['GTCC', 'TTGG', 'ACGG', 'CTTC', 'ACGT', 'TTCC', 'TTGC', 'TCGC', 'AGCC', 'TTGA', 'ATAT', 'GTGT', 'AAGG', 'AGAC', 'TTGT', 'ATTA', 'TAGC', 'AGGT', 'CTAC', 'AATC', 'GTGC', 'AGGC', 'GTGG', 'GTTC', 'AAGC', 'CTCC', 'TTAC', 'ACGA', 'TGGC', 'TTTC', 'ATCA', 'ACTC', 'ACCC', 'ATTC', 'ATGC', 'ATAC', 'AAAC', 'ACGC', 'ATGA', 'GCGC', 'ATCT', 'AAGA', 'ATGG', 'CAGC', 'ATGT', 'ATCG', 'ATCC', 'CTGG', 'CTGC', 'AACC', 'GTGA', 'ACAC', 'AGTC', 'CCGC', 'ATAA', 'GTAC', 'ATTG', 'ATTT', 'GAGC', 'ATAG', 'GGGC', 'CTGT', 'AGGG', 'CGGC', 'CTGA', 'AAGT', 'AGGA']\n",
      "===================================================================\n",
      "Pattern: ATGC , d: 0 , Neighborhood item: ATGA , Neighborhood List: ['GTCC', 'TTGG', 'ACGG', 'AAGT', 'CTTC', 'ACGT', 'TTCC', 'TTGC', 'TCGC', 'AGCC', 'TTGA', 'ATAT', 'GTGT', 'AAGG', 'AGAC', 'ATTA', 'TAGC', 'AGGT', 'CTAC', 'AATC', 'GTGC', 'AGGC', 'GTGG', 'GTTC', 'AAGC', 'CTCC', 'TTAC', 'ACGA', 'TGGC', 'TTTC', 'ATCA', 'ACTC', 'ACCC', 'ATTC', 'ATGC', 'ATAC', 'AAAC', 'ATGA', 'GCGC', 'ATCT', 'AGGA', 'AAGA', 'ATGG', 'CAGC', 'ATGT', 'ATCG', 'ATCC', 'CTGG', 'CTGC', 'AACC', 'GTGA', 'ACAC', 'AGTC', 'CCGC', 'ATAA', 'CGGC', 'GTAC', 'ATTG', 'ATTT', 'GAGC', 'ATAG', 'GGGC', 'AGGG', 'ACGC', 'CTGA', 'CTGT', 'TTGT']\n",
      "===================================================================\n",
      "Pattern: ATGC , d: 0 , Neighborhood item: ATGG , Neighborhood List: ['GTCC', 'TTGG', 'ACGG', 'CTTC', 'ACGT', 'TTCC', 'TTGC', 'TCGC', 'AGCC', 'TTGA', 'ATAT', 'GTGT', 'AAGG', 'AGAC', 'TTGT', 'ATTA', 'TAGC', 'AGGT', 'CTAC', 'AATC', 'GTGC', 'AGGC', 'GTGG', 'GTTC', 'AAGC', 'CTCC', 'TTAC', 'ACGA', 'TGGC', 'TTTC', 'ATCA', 'ACTC', 'ACCC', 'ATTC', 'ATGC', 'ATAC', 'AAAC', 'ACGC', 'ATGA', 'GCGC', 'ATCT', 'AAGA', 'ATGG', 'CAGC', 'ATGT', 'ATCG', 'ATCC', 'CTGG', 'CTGC', 'AACC', 'GTGA', 'ACAC', 'AGTC', 'CCGC', 'ATAA', 'GTAC', 'ATTG', 'ATTT', 'GAGC', 'ATAG', 'GGGC', 'CTGT', 'AGGG', 'CGGC', 'CTGA', 'AAGT', 'AGGA']\n",
      "===================================================================\n",
      "Pattern: ATGC , d: 0 , Neighborhood item: ATGT , Neighborhood List: ['GTCC', 'TTGG', 'ACGG', 'AAGT', 'CTTC', 'ACGT', 'TTCC', 'TTGC', 'TCGC', 'AGCC', 'TTGA', 'ATAT', 'GTGT', 'AAGG', 'AGAC', 'ATTA', 'TAGC', 'AGGT', 'CTAC', 'AATC', 'GTGC', 'AGGC', 'GTGG', 'GTTC', 'AAGC', 'CTCC', 'TTAC', 'ACGA', 'TGGC', 'TTTC', 'ATCA', 'ACTC', 'ACCC', 'ATTC', 'ATGC', 'ATAC', 'AAAC', 'ATGA', 'GCGC', 'ATCT', 'AGGA', 'AAGA', 'ATGG', 'CAGC', 'ATGT', 'ATCG', 'ATCC', 'CTGG', 'CTGC', 'AACC', 'GTGA', 'ACAC', 'AGTC', 'CCGC', 'ATAA', 'CGGC', 'GTAC', 'ATTG', 'ATTT', 'GAGC', 'ATAG', 'GGGC', 'AGGG', 'ACGC', 'CTGA', 'CTGT', 'TTGT']\n",
      "===================================================================\n"
     ]
    },
    {
     "data": {
      "text/plain": [
       "['GTCC',\n",
       " 'TTGG',\n",
       " 'ACGG',\n",
       " 'AAGT',\n",
       " 'CTTC',\n",
       " 'ACGT',\n",
       " 'TTCC',\n",
       " 'TTGC',\n",
       " 'TCGC',\n",
       " 'AGCC',\n",
       " 'TTGA',\n",
       " 'ATAT',\n",
       " 'GTGT',\n",
       " 'AAGG',\n",
       " 'AGAC',\n",
       " 'ATTA',\n",
       " 'TAGC',\n",
       " 'AGGT',\n",
       " 'CTAC',\n",
       " 'AATC',\n",
       " 'GTGC',\n",
       " 'AGGC',\n",
       " 'GTGG',\n",
       " 'GTTC',\n",
       " 'AAGC',\n",
       " 'CTCC',\n",
       " 'TTAC',\n",
       " 'ACGA',\n",
       " 'TGGC',\n",
       " 'TTTC',\n",
       " 'ATCA',\n",
       " 'ACTC',\n",
       " 'ACCC',\n",
       " 'ATTC',\n",
       " 'ATGC',\n",
       " 'ATAC',\n",
       " 'AAAC',\n",
       " 'ATGA',\n",
       " 'GCGC',\n",
       " 'ATCT',\n",
       " 'AGGA',\n",
       " 'AAGA',\n",
       " 'ATGG',\n",
       " 'CAGC',\n",
       " 'ATGT',\n",
       " 'ATCG',\n",
       " 'ATCC',\n",
       " 'CTGG',\n",
       " 'CTGC',\n",
       " 'AACC',\n",
       " 'GTGA',\n",
       " 'ACAC',\n",
       " 'AGTC',\n",
       " 'CCGC',\n",
       " 'ATAA',\n",
       " 'CGGC',\n",
       " 'GTAC',\n",
       " 'ATTG',\n",
       " 'ATTT',\n",
       " 'GAGC',\n",
       " 'ATAG',\n",
       " 'GGGC',\n",
       " 'AGGG',\n",
       " 'ACGC',\n",
       " 'CTGA',\n",
       " 'CTGT',\n",
       " 'TTGT']"
      ]
     },
     "execution_count": 30,
     "metadata": {},
     "output_type": "execute_result"
    }
   ],
   "source": [
    "IterativeNeighbors(Pattern='ATGC', d=1, verbose = True)"
   ]
  },
  {
   "cell_type": "markdown",
   "metadata": {},
   "source": [
    "--------"
   ]
  },
  {
   "cell_type": "markdown",
   "metadata": {},
   "source": [
    "### ApproximatePatternCount: [page-28]\n",
    "*** This function uses:  ```HammingDistance()```***\n",
    "\n",
    "This function finds frequency of a pattern with neighbours within 'hamming_score'."
   ]
  },
  {
   "cell_type": "code",
   "execution_count": 31,
   "metadata": {},
   "outputs": [],
   "source": [
    "def ApproximatePatternCount(kmer, genome, hamming_score,verbose=False):\n",
    "    \n",
    "    '''This function finds frequency of a pattern with\n",
    "    neighbours within 'hamming_score' '''\n",
    "    \n",
    "    \n",
    "    '''Initiate Approximate Count'''\n",
    "    Count = 0\n",
    "    \n",
    "    '''Set the slidding window'''\n",
    "    for i in range(len(genome) - len(kmer) + 1):\n",
    "\n",
    "        '''kmer within the window is Pattern'''\n",
    "        Pattern = genome[i:i+len(kmer)]\n",
    "        \n",
    "        Score = HammingDistance(kmer,Pattern)\n",
    "        \n",
    "        '''If hmm-dist is below hamming_score, keep increasing  Approximate Count'''\n",
    "        if Score <= hamming_score:\n",
    "            Count += 1\n",
    "            \n",
    "            if verbose:\n",
    "                print(\"window-run::\",i,\"to\",i+len(kmer),\\\n",
    "                      \"Pattern:\", genome[i:i+len(kmer)],\\\n",
    "                      \"count:\",Count)\n",
    "                \n",
    "    return Count"
   ]
  },
  {
   "cell_type": "code",
   "execution_count": 32,
   "metadata": {},
   "outputs": [
    {
     "name": "stdout",
     "output_type": "stream",
     "text": [
      "window-run:: 0 to 2 Pattern: AA count: 1\n",
      "window-run:: 1 to 3 Pattern: AT count: 2\n",
      "window-run:: 4 to 6 Pattern: CA count: 3\n",
      "window-run:: 5 to 7 Pattern: AA count: 4\n",
      "window-run:: 6 to 8 Pattern: AT count: 5\n",
      "window-run:: 7 to 9 Pattern: TA count: 6\n",
      "window-run:: 8 to 10 Pattern: AA count: 7\n",
      "window-run:: 9 to 11 Pattern: AC count: 8\n",
      "window-run:: 10 to 12 Pattern: CA count: 9\n",
      "window-run:: 11 to 13 Pattern: AA count: 10\n",
      "window-run:: 12 to 14 Pattern: AG count: 11\n"
     ]
    }
   ],
   "source": [
    "cnt = ApproximatePatternCount(kmer = \"AA\", genome = \"AATGCAATAACAAG\", hamming_score =1,verbose =True)"
   ]
  },
  {
   "cell_type": "code",
   "execution_count": 33,
   "metadata": {},
   "outputs": [
    {
     "name": "stdout",
     "output_type": "stream",
     "text": [
      "window-run:: 0 to 3 Pattern: AAT count: 1\n",
      "window-run:: 1 to 4 Pattern: ATC count: 2\n",
      "window-run:: 2 to 5 Pattern: TCT count: 3\n",
      "window-run:: 3 to 6 Pattern: CTG count: 4\n",
      "window-run:: 4 to 7 Pattern: TGC count: 5\n",
      "window-run:: 5 to 8 Pattern: GCG count: 6\n",
      "window-run:: 6 to 9 Pattern: CGG count: 7\n",
      "window-run:: 7 to 10 Pattern: GGC count: 8\n",
      "window-run:: 8 to 11 Pattern: GCT count: 9\n",
      "window-run:: 9 to 12 Pattern: CTA count: 10\n",
      "window-run:: 10 to 13 Pattern: TAT count: 11\n",
      "window-run:: 11 to 14 Pattern: ATC count: 12\n",
      "window-run:: 12 to 15 Pattern: TCA count: 13\n",
      "window-run:: 13 to 16 Pattern: CAT count: 14\n",
      "window-run:: 14 to 17 Pattern: ATG count: 15\n",
      "window-run:: 15 to 18 Pattern: TGC count: 16\n",
      "window-run:: 16 to 19 Pattern: GCA count: 17\n",
      "window-run:: 17 to 20 Pattern: CAC count: 18\n",
      "window-run:: 18 to 21 Pattern: ACG count: 19\n",
      "window-run:: 19 to 22 Pattern: CGA count: 20\n",
      "window-run:: 20 to 23 Pattern: GAC count: 21\n",
      "window-run:: 21 to 24 Pattern: ACC count: 22\n",
      "window-run:: 22 to 25 Pattern: CCT count: 23\n",
      "window-run:: 23 to 26 Pattern: CTA count: 24\n",
      "window-run:: 24 to 27 Pattern: TAA count: 25\n",
      "window-run:: 25 to 28 Pattern: AAC count: 26\n",
      "window-run:: 26 to 29 Pattern: ACG count: 27\n"
     ]
    }
   ],
   "source": [
    "cnt = ApproximatePatternCount(kmer = \"ATC\", genome = \"AATCTGCGGCTATCATGCACGACCTAACG\", hamming_score =3,verbose =True)"
   ]
  },
  {
   "cell_type": "markdown",
   "metadata": {},
   "source": [
    "--------"
   ]
  },
  {
   "cell_type": "markdown",
   "metadata": {},
   "source": [
    "## Pattern to Number and Number to Pattern"
   ]
  },
  {
   "cell_type": "code",
   "execution_count": 34,
   "metadata": {},
   "outputs": [],
   "source": [
    "def SymbolToNumber(symbol):\n",
    "        for s in enumerate([\"A\",\"C\",\"G\",\"T\"]):\n",
    "            if s[1]==symbol:\n",
    "                return s[0]"
   ]
  },
  {
   "cell_type": "code",
   "execution_count": 35,
   "metadata": {},
   "outputs": [],
   "source": [
    "def NumberToSymbol(n):\n",
    "    if n==0:\n",
    "        return \"A\"\n",
    "    elif n==1:\n",
    "        return \"C\"\n",
    "    elif n==2:\n",
    "        return \"G\"\n",
    "    else:\n",
    "        return \"T\""
   ]
  },
  {
   "cell_type": "code",
   "execution_count": 36,
   "metadata": {},
   "outputs": [],
   "source": [
    "Genoms = [\"A\",\"C\",\"G\",\"T\"]"
   ]
  },
  {
   "cell_type": "markdown",
   "metadata": {},
   "source": [
    "------------"
   ]
  },
  {
   "cell_type": "markdown",
   "metadata": {},
   "source": [
    "### PatternToNumber ===> Iterative & stupid method! "
   ]
  },
  {
   "cell_type": "code",
   "execution_count": 37,
   "metadata": {},
   "outputs": [],
   "source": [
    "def Pattern_To_Number(Pattern, verbose = False):\n",
    "    \n",
    "    Genoms = [\"A\",\"C\",\"G\",\"T\"]\n",
    "    kmer_size = len(Pattern)\n",
    "   \n",
    "    Multimer = {}\n",
    "    \n",
    "    \n",
    "    if kmer_size == 2:\n",
    "        index = 0\n",
    "        for g1 in Genoms:\n",
    "            for g2 in Genoms:\n",
    "                kmer = g1+g2\n",
    "                \n",
    "                if verbose:\n",
    "                    print(\"kmer =\", kmer,\"index =\", index)\n",
    "                    \n",
    "                Multimer.update({kmer:index})\n",
    "                index = index + 1\n",
    "                \n",
    "        if verbose:\n",
    "            print(\"=======================\")\n",
    "            print(\"Index of your Pattern -\",Pattern,\"is :\",Multimer[Pattern])    \n",
    "            \n",
    "        return Multimer[Pattern]\n",
    "    \n",
    "    \n",
    "    elif kmer_size == 3:\n",
    "        \n",
    "        index = 0\n",
    "        for g1 in Genoms:\n",
    "            for g2 in Genoms:\n",
    "                for g3 in Genoms:\n",
    "                    kmer = g1+g2+g3\n",
    "                \n",
    "                    if verbose:\n",
    "                        print(\"kmer =\", kmer,\"index =\", index)\n",
    "                    \n",
    "                    Multimer.update({kmer:index})\n",
    "                    index = index + 1\n",
    "                \n",
    "        if verbose:\n",
    "            print(\"=======================\")\n",
    "            print(\"Index of your Pattern -\",Pattern,\"is :\", Multimer[Pattern])\n",
    "            \n",
    "        return Multimer[Pattern]\n",
    "                     "
   ]
  },
  {
   "cell_type": "code",
   "execution_count": 38,
   "metadata": {},
   "outputs": [
    {
     "name": "stdout",
     "output_type": "stream",
     "text": [
      "kmer = AA index = 0\n",
      "kmer = AC index = 1\n",
      "kmer = AG index = 2\n",
      "kmer = AT index = 3\n",
      "kmer = CA index = 4\n",
      "kmer = CC index = 5\n",
      "kmer = CG index = 6\n",
      "kmer = CT index = 7\n",
      "kmer = GA index = 8\n",
      "kmer = GC index = 9\n",
      "kmer = GG index = 10\n",
      "kmer = GT index = 11\n",
      "kmer = TA index = 12\n",
      "kmer = TC index = 13\n",
      "kmer = TG index = 14\n",
      "kmer = TT index = 15\n",
      "=======================\n",
      "Index of your Pattern - AT is : 3\n"
     ]
    },
    {
     "data": {
      "text/plain": [
       "3"
      ]
     },
     "execution_count": 38,
     "metadata": {},
     "output_type": "execute_result"
    }
   ],
   "source": [
    "Pattern_To_Number(Pattern = \"AT\", verbose = True)"
   ]
  },
  {
   "cell_type": "code",
   "execution_count": 39,
   "metadata": {},
   "outputs": [
    {
     "name": "stdout",
     "output_type": "stream",
     "text": [
      "kmer = AAA index = 0\n",
      "kmer = AAC index = 1\n",
      "kmer = AAG index = 2\n",
      "kmer = AAT index = 3\n",
      "kmer = ACA index = 4\n",
      "kmer = ACC index = 5\n",
      "kmer = ACG index = 6\n",
      "kmer = ACT index = 7\n",
      "kmer = AGA index = 8\n",
      "kmer = AGC index = 9\n",
      "kmer = AGG index = 10\n",
      "kmer = AGT index = 11\n",
      "kmer = ATA index = 12\n",
      "kmer = ATC index = 13\n",
      "kmer = ATG index = 14\n",
      "kmer = ATT index = 15\n",
      "kmer = CAA index = 16\n",
      "kmer = CAC index = 17\n",
      "kmer = CAG index = 18\n",
      "kmer = CAT index = 19\n",
      "kmer = CCA index = 20\n",
      "kmer = CCC index = 21\n",
      "kmer = CCG index = 22\n",
      "kmer = CCT index = 23\n",
      "kmer = CGA index = 24\n",
      "kmer = CGC index = 25\n",
      "kmer = CGG index = 26\n",
      "kmer = CGT index = 27\n",
      "kmer = CTA index = 28\n",
      "kmer = CTC index = 29\n",
      "kmer = CTG index = 30\n",
      "kmer = CTT index = 31\n",
      "kmer = GAA index = 32\n",
      "kmer = GAC index = 33\n",
      "kmer = GAG index = 34\n",
      "kmer = GAT index = 35\n",
      "kmer = GCA index = 36\n",
      "kmer = GCC index = 37\n",
      "kmer = GCG index = 38\n",
      "kmer = GCT index = 39\n",
      "kmer = GGA index = 40\n",
      "kmer = GGC index = 41\n",
      "kmer = GGG index = 42\n",
      "kmer = GGT index = 43\n",
      "kmer = GTA index = 44\n",
      "kmer = GTC index = 45\n",
      "kmer = GTG index = 46\n",
      "kmer = GTT index = 47\n",
      "kmer = TAA index = 48\n",
      "kmer = TAC index = 49\n",
      "kmer = TAG index = 50\n",
      "kmer = TAT index = 51\n",
      "kmer = TCA index = 52\n",
      "kmer = TCC index = 53\n",
      "kmer = TCG index = 54\n",
      "kmer = TCT index = 55\n",
      "kmer = TGA index = 56\n",
      "kmer = TGC index = 57\n",
      "kmer = TGG index = 58\n",
      "kmer = TGT index = 59\n",
      "kmer = TTA index = 60\n",
      "kmer = TTC index = 61\n",
      "kmer = TTG index = 62\n",
      "kmer = TTT index = 63\n",
      "=======================\n",
      "Index of your Pattern - ATG is : 14\n"
     ]
    },
    {
     "data": {
      "text/plain": [
       "14"
      ]
     },
     "execution_count": 39,
     "metadata": {},
     "output_type": "execute_result"
    }
   ],
   "source": [
    "Pattern_To_Number(Pattern = \"ATG\", verbose = True)"
   ]
  },
  {
   "cell_type": "markdown",
   "metadata": {},
   "source": [
    "---------"
   ]
  },
  {
   "cell_type": "markdown",
   "metadata": {},
   "source": [
    "### PatternToNumber ===> Recursive & wise method\n",
    "\n",
    "**This function uses: ```SymbolToNumber()```***"
   ]
  },
  {
   "cell_type": "code",
   "execution_count": 40,
   "metadata": {},
   "outputs": [],
   "source": [
    "def PatternToNumber(Pattern,verbose=False):\n",
    "    \n",
    "    '''This function returns a index of a 'Pattern' using recursive algorithm'''\n",
    "            \n",
    "    if len(Pattern)==0:\n",
    "        \n",
    "        return 0\n",
    "    \n",
    "    else:\n",
    "    \n",
    "        '''last letter is a symbol'''\n",
    "        Symbol = Pattern[-1]\n",
    "    \n",
    "        '''all but last are prefix pattern'''\n",
    "        Prefix = Pattern[0:-1]\n",
    "    \n",
    "    \n",
    "        if verbose:\n",
    "            print(\"prefixPattern:\",Prefix,\\\n",
    "                  \", Symbol:\",Symbol,\\\n",
    "                  \", prefixIndex:\",PatternToNumber(Prefix),\\\n",
    "                  \", SymbolIndex:\",SymbolToNumber(Symbol),\\\n",
    "                  \"=>\",\\\n",
    "                  \"4*(\",PatternToNumber(Prefix),\\\n",
    "                  \")+(\",SymbolToNumber(Symbol),\\\n",
    "                  \") = \",4*PatternToNumber(Prefix)+SymbolToNumber(Symbol)  )\n",
    "            \n",
    "        \n",
    "    \n",
    "        if verbose:\n",
    "            '''to keep printing in every cycle''' \n",
    "            return 4*PatternToNumber(Prefix,verbose=True)+SymbolToNumber(Symbol)\n",
    "        else:\n",
    "            '''verbose=False id defult here'''\n",
    "            return 4*PatternToNumber(Prefix)+SymbolToNumber(Symbol)  \n",
    "        \n",
    "        \n",
    "        "
   ]
  },
  {
   "cell_type": "code",
   "execution_count": 41,
   "metadata": {},
   "outputs": [
    {
     "name": "stdout",
     "output_type": "stream",
     "text": [
      "prefixPattern: TAC , Symbol: G , prefixIndex: 49 , SymbolIndex: 2 => 4*( 49 )+( 2 ) =  198\n",
      "prefixPattern: TA , Symbol: C , prefixIndex: 12 , SymbolIndex: 1 => 4*( 12 )+( 1 ) =  49\n",
      "prefixPattern: T , Symbol: A , prefixIndex: 3 , SymbolIndex: 0 => 4*( 3 )+( 0 ) =  12\n",
      "prefixPattern:  , Symbol: T , prefixIndex: 0 , SymbolIndex: 3 => 4*( 0 )+( 3 ) =  3\n"
     ]
    },
    {
     "data": {
      "text/plain": [
       "198"
      ]
     },
     "execution_count": 41,
     "metadata": {},
     "output_type": "execute_result"
    }
   ],
   "source": [
    "PatternToNumber(\"TACG\",verbose=True)"
   ]
  },
  {
   "cell_type": "markdown",
   "metadata": {},
   "source": [
    "---------"
   ]
  },
  {
   "cell_type": "markdown",
   "metadata": {
    "collapsed": true
   },
   "source": [
    "### NumberToPattern ===> Recursive & wise method\n",
    "\n",
    "##### This function uses:  ``` NumberToSymbol( )```"
   ]
  },
  {
   "cell_type": "code",
   "execution_count": 42,
   "metadata": {},
   "outputs": [],
   "source": [
    "def NumberToPattern(Index,PatternLength,verbose=False):\n",
    "    \n",
    "        '''This function returns Pattern for given Index'''\n",
    "        \n",
    "        if PatternLength ==1:\n",
    "            return NumberToSymbol(Index)\n",
    "        \n",
    "        else:\n",
    "            \n",
    "            '''Index = 4*quotient+ reminder'''\n",
    "            prefixIndex = int(Index/4)\n",
    "            Reminder = Index%4\n",
    "            \n",
    "            \n",
    "            '''Convert reminder to Symbol'''\n",
    "            Symbol = NumberToSymbol(Reminder)\n",
    "            \n",
    "           \n",
    "            if verbose:\n",
    "                print(\"prefixIndex:\",prefixIndex,\\\n",
    "                      \", Reminder:\",Reminder,\n",
    "                      \", Symbol:\",Symbol,\\\n",
    "                      \"=>\",Index,\"=\",\\\n",
    "                      \"4*\",prefixIndex,\\\n",
    "                      \"+\",Reminder)\n",
    "                \n",
    "                \n",
    "            if verbose:\n",
    "                return NumberToPattern(prefixIndex,PatternLength-1, verbose =True) + Symbol\n",
    "            else:\n",
    "                return NumberToPattern(prefixIndex,PatternLength-1) + Symbol"
   ]
  },
  {
   "cell_type": "code",
   "execution_count": 43,
   "metadata": {},
   "outputs": [
    {
     "name": "stdout",
     "output_type": "stream",
     "text": [
      "prefixIndex: 4837 , Reminder: 0 , Symbol: A => 19348 = 4* 4837 + 0\n",
      "prefixIndex: 1209 , Reminder: 1 , Symbol: C => 4837 = 4* 1209 + 1\n",
      "prefixIndex: 302 , Reminder: 1 , Symbol: C => 1209 = 4* 302 + 1\n",
      "prefixIndex: 75 , Reminder: 2 , Symbol: G => 302 = 4* 75 + 2\n",
      "prefixIndex: 18 , Reminder: 3 , Symbol: T => 75 = 4* 18 + 3\n",
      "prefixIndex: 4 , Reminder: 2 , Symbol: G => 18 = 4* 4 + 2\n"
     ]
    },
    {
     "data": {
      "text/plain": [
       "'TGTGCCA'"
      ]
     },
     "execution_count": 43,
     "metadata": {},
     "output_type": "execute_result"
    }
   ],
   "source": [
    "NumberToPattern(Index = 19348,PatternLength = 7,verbose=True)"
   ]
  },
  {
   "cell_type": "markdown",
   "metadata": {},
   "source": [
    "---------"
   ]
  },
  {
   "cell_type": "code",
   "execution_count": 44,
   "metadata": {},
   "outputs": [],
   "source": [
    "# Queue : [12,4,5,23,45,45,45]  "
   ]
  },
  {
   "cell_type": "code",
   "execution_count": 45,
   "metadata": {},
   "outputs": [
    {
     "name": "stdout",
     "output_type": "stream",
     "text": [
      "ATG\n",
      "GCT\n"
     ]
    }
   ],
   "source": [
    "for nbr in [\"ATG\",\"GCT\"]:\n",
    "    print(nbr)"
   ]
  },
  {
   "cell_type": "markdown",
   "metadata": {},
   "source": [
    "###  FrequentWordsWithMisMatches: [page-48]\n",
    "\n",
    "*** This function uses:    ```FrequencyArray, Neighbourhood( )```***"
   ]
  },
  {
   "cell_type": "code",
   "execution_count": 46,
   "metadata": {},
   "outputs": [],
   "source": [
    "def FrequentWordWithMismatch(Text,k,d, verbose = False):\n",
    "    \n",
    "    \"\"\"Text: genome\n",
    "    k: kmer\n",
    "    d: number of mismatches\n",
    "    \"\"\"\n",
    "    \n",
    "    '''Take an empty Close list'''\n",
    "    Close = []\n",
    "    \n",
    "    \n",
    "    '''Take an empty FrequencyArray list'''\n",
    "    FrequencyArray = []\n",
    "    \n",
    "    \n",
    "    '''Take an empty FrequentPatterns list'''\n",
    "    FrequentPatterns = []\n",
    "    \n",
    "    \n",
    "    '''Iterate over all index'''  \n",
    "    for i in range(4**k):\n",
    "        Close.append(0)\n",
    "        FrequencyArray.append(0)\n",
    "        \n",
    "    #Close = [0 for k in range(4**k-1)]   \n",
    "    #FrequencyArray =[0 for k in range(4**k-1)] \n",
    "    \n",
    "        \n",
    "    '''Iterate over a sliding window of size k'''    \n",
    "    for j in range(len(Text)-k+1):\n",
    "        \n",
    "        '''Find all neighbours within hamming distance d'''\n",
    "        Neighborhood = Neighbors(Text[j:j+k],d)\n",
    "            \n",
    "        \n",
    "        '''Iterate over each element of Neighbourhood list''' \n",
    "        for nbr in Neighborhood:\n",
    "            '''Find index of each nbr'''\n",
    "            Index = PatternToNumber(nbr)\n",
    "            '''Put 1 at index position element of list Close'''\n",
    "            Close[Index] = 1\n",
    "            \n",
    "          \n",
    "        if verbose:\n",
    "            print(\"Pattern:\",Text[j:j+k],\\\n",
    "                  \"Neighbors:\",Neighborhood,\\\n",
    "                  \"\\n\",\"Close:\", Close)\n",
    "            print(\"--------------------------------------------------------------\")\n",
    "            \n",
    "        \n",
    "        \n",
    "        \n",
    "    '''Iterate over all index'''        \n",
    "    for ii in range(4**k):\n",
    "        '''find where close has element 1'''\n",
    "        if Close[ii] == 1:\n",
    "            '''find pattern for that index'''\n",
    "            Pattern = NumberToPattern(ii,k)\n",
    "            '''Add pattern to Frequency Array'''\n",
    "            FrequencyArray[ii] = ApproximatePatternCount(Pattern,Text,d)\n",
    "            \n",
    "            \n",
    "            \n",
    "            \n",
    "    print(\"==================================================\")\n",
    "    if verbose:\n",
    "        print(\"FrequencyArray:\", FrequencyArray)\n",
    "        \n",
    "        \n",
    "        \n",
    "    '''What is maximum element of Frequency Array'''    \n",
    "    MaxCount = max(FrequencyArray)  \n",
    "    \n",
    "    \n",
    "    \n",
    "    '''Iterate over all index''' \n",
    "    for jj in range(4**k):\n",
    "        \n",
    "        '''When maxcount is equal to that element of Frequency array'''\n",
    "        if FrequencyArray[jj] == MaxCount:\n",
    "            \n",
    "            '''Find associated pattern'''\n",
    "            Pattern = NumberToPattern(jj,k)\n",
    "            \n",
    "            '''add that element to Frequent pattern list'''\n",
    "            FrequentPatterns.append(Pattern)\n",
    "            \n",
    "    return FrequentPatterns\n",
    "\n",
    "    '''Note: Work out for d = 0'''"
   ]
  },
  {
   "cell_type": "code",
   "execution_count": 47,
   "metadata": {},
   "outputs": [
    {
     "data": {
      "text/plain": [
       "'TCATC'"
      ]
     },
     "execution_count": 47,
     "metadata": {},
     "output_type": "execute_result"
    }
   ],
   "source": [
    "Text = DNA_generator(5)\n",
    "Text"
   ]
  },
  {
   "cell_type": "code",
   "execution_count": 48,
   "metadata": {
    "scrolled": false
   },
   "outputs": [
    {
     "name": "stdout",
     "output_type": "stream",
     "text": [
      "Pattern: TCA Neighbors: ['TCT', 'TCG', 'TAA', 'ACA', 'CCA', 'GCA', 'TCA', 'TGA', 'TTA', 'TCC'] \n",
      " Close: [0, 0, 0, 0, 1, 0, 0, 0, 0, 0, 0, 0, 0, 0, 0, 0, 0, 0, 0, 0, 1, 0, 0, 0, 0, 0, 0, 0, 0, 0, 0, 0, 0, 0, 0, 0, 1, 0, 0, 0, 0, 0, 0, 0, 0, 0, 0, 0, 1, 0, 0, 0, 1, 1, 1, 1, 1, 0, 0, 0, 1, 0, 0, 0]\n",
      "--------------------------------------------------------------\n",
      "Pattern: CAT Neighbors: ['AAT', 'CAT', 'GAT', 'TAT', 'CCT', 'CGT', 'CTT', 'CAG', 'CAA', 'CAC'] \n",
      " Close: [0, 0, 0, 1, 1, 0, 0, 0, 0, 0, 0, 0, 0, 0, 0, 0, 1, 1, 1, 1, 1, 0, 0, 1, 0, 0, 0, 1, 0, 0, 0, 1, 0, 0, 0, 1, 1, 0, 0, 0, 0, 0, 0, 0, 0, 0, 0, 0, 1, 0, 0, 1, 1, 1, 1, 1, 1, 0, 0, 0, 1, 0, 0, 0]\n",
      "--------------------------------------------------------------\n",
      "Pattern: ATC Neighbors: ['ATT', 'ATG', 'ATA', 'AAC', 'ACC', 'AGC', 'ATC', 'CTC', 'GTC', 'TTC'] \n",
      " Close: [0, 1, 0, 1, 1, 1, 0, 0, 0, 1, 0, 0, 1, 1, 1, 1, 1, 1, 1, 1, 1, 0, 0, 1, 0, 0, 0, 1, 0, 1, 0, 1, 0, 0, 0, 1, 1, 0, 0, 0, 0, 0, 0, 0, 0, 1, 0, 0, 1, 0, 0, 1, 1, 1, 1, 1, 1, 0, 0, 0, 1, 1, 0, 0]\n",
      "--------------------------------------------------------------\n",
      "==================================================\n",
      "FrequencyArray: [0, 1, 0, 1, 1, 1, 0, 0, 0, 1, 0, 0, 1, 1, 1, 1, 1, 1, 1, 1, 1, 0, 0, 1, 0, 0, 0, 1, 0, 1, 0, 1, 0, 0, 0, 1, 1, 0, 0, 0, 0, 0, 0, 0, 0, 1, 0, 0, 1, 0, 0, 1, 1, 1, 1, 1, 1, 0, 0, 0, 1, 1, 0, 0]\n"
     ]
    }
   ],
   "source": [
    "L =FrequentWordWithMismatch(Text,k=3,d=1, verbose =True)"
   ]
  },
  {
   "cell_type": "code",
   "execution_count": 49,
   "metadata": {},
   "outputs": [
    {
     "data": {
      "text/plain": [
       "['AAC',\n",
       " 'AAT',\n",
       " 'ACA',\n",
       " 'ACC',\n",
       " 'AGC',\n",
       " 'ATA',\n",
       " 'ATC',\n",
       " 'ATG',\n",
       " 'ATT',\n",
       " 'CAA',\n",
       " 'CAC',\n",
       " 'CAG',\n",
       " 'CAT',\n",
       " 'CCA',\n",
       " 'CCT',\n",
       " 'CGT',\n",
       " 'CTC',\n",
       " 'CTT',\n",
       " 'GAT',\n",
       " 'GCA',\n",
       " 'GTC',\n",
       " 'TAA',\n",
       " 'TAT',\n",
       " 'TCA',\n",
       " 'TCC',\n",
       " 'TCG',\n",
       " 'TCT',\n",
       " 'TGA',\n",
       " 'TTA',\n",
       " 'TTC']"
      ]
     },
     "execution_count": 49,
     "metadata": {},
     "output_type": "execute_result"
    }
   ],
   "source": [
    "L"
   ]
  },
  {
   "cell_type": "markdown",
   "metadata": {},
   "source": [
    "-------"
   ]
  },
  {
   "cell_type": "markdown",
   "metadata": {},
   "source": [
    "### FindingFrequentWordsBySorting: [page-44] \n",
    "\n",
    "#### This function uses: ```PatternToNumber( )``` and ```Numpy sorting```"
   ]
  },
  {
   "cell_type": "code",
   "execution_count": 50,
   "metadata": {},
   "outputs": [],
   "source": [
    "import numpy as np"
   ]
  },
  {
   "cell_type": "code",
   "execution_count": 51,
   "metadata": {},
   "outputs": [],
   "source": [
    "def FindingFrequentWordsBySorting(Text,k, verbose):\n",
    "    \n",
    "    \n",
    "    '''Take an empty FrequentPattern list'''\n",
    "    FrequentPattern = []\n",
    "    \n",
    "    '''Initiate Count list'''\n",
    "    Count = [0 for i in range(0,len(Text)-k)]\n",
    "    \n",
    "    '''Take an empty Index list'''\n",
    "    Index = []\n",
    "    \n",
    "    \n",
    "    '''Iterate through sliding window of size k'''\n",
    "    for i in range(0,len(Text)-k):\n",
    "        \n",
    "        '''Pattern is the text within the sliding window'''\n",
    "        Pattern = Text[i:i+k]\n",
    "        \n",
    "        '''Add index of pattern to Index list'''\n",
    "        Index.append(PatternToNumber(Pattern))\n",
    "        \n",
    "        '''Increase frequency by 1 in Count list'''\n",
    "        Count[i] = Count[i]+1\n",
    "        \n",
    "        \n",
    "        if verbose:\n",
    "            print(\"Pattern:\",Pattern,\\\n",
    "                  \"ID:\", PatternToNumber(Pattern),\\\n",
    "                  \"Count:\", Count[i])\n",
    "            \n",
    "            \n",
    "            \n",
    "    '''Sort the Index list'''        \n",
    "    SORTEDINDEX = list(np.sort(Index))\n",
    "        \n",
    "    \n",
    "    if verbose:\n",
    "        print(\"----------------------------------\")  \n",
    "        print(\"SORTEDINDEX is:\", SORTEDINDEX)\n",
    "        print(\"--------------------------------\")  \n",
    "    \n",
    "    \n",
    "    \n",
    "    '''If immediate index are doublicate,frequency increases '''\n",
    "    for i in range(1,len(Text)-k):\n",
    "            if SORTEDINDEX[i] == SORTEDINDEX[i-1]:\n",
    "                Count[i] = Count[i-1]+1\n",
    "            \n",
    "            if verbose:\n",
    "                print(\"SORTEDINDEX:\",SORTEDINDEX[i],\"Count:\", Count[i])\n",
    "               \n",
    "    \n",
    "    '''What is maximum frequency?'''\n",
    "    maxCount = max(Count)\n",
    "    \n",
    "    \n",
    "    '''Reverse engineering: \n",
    "    Which pattern is associated with maximum frequency'''\n",
    "    for i in range(0,len(Text)-k):\n",
    "        if Count[i] == maxCount:\n",
    "            Pattern = NumberToPattern(SORTEDINDEX[i],k)\n",
    "            FrequentPattern.append(Pattern)\n",
    "            \n",
    "            \n",
    "            \n",
    "    if verbose:\n",
    "                print(\"your FrequentPattern is:\",FrequentPattern)\n",
    "            \n",
    "            \n",
    "    return  FrequentPattern"
   ]
  },
  {
   "cell_type": "code",
   "execution_count": 52,
   "metadata": {},
   "outputs": [
    {
     "name": "stdout",
     "output_type": "stream",
     "text": [
      "Pattern: ATG ID: 14 Count: 1\n",
      "Pattern: TGC ID: 57 Count: 1\n",
      "Pattern: GCA ID: 36 Count: 1\n",
      "Pattern: CAA ID: 16 Count: 1\n",
      "Pattern: AAT ID: 3 Count: 1\n",
      "Pattern: ATT ID: 15 Count: 1\n",
      "Pattern: TTG ID: 62 Count: 1\n",
      "Pattern: TGC ID: 57 Count: 1\n",
      "Pattern: GCA ID: 36 Count: 1\n",
      "Pattern: CAA ID: 16 Count: 1\n",
      "Pattern: AAT ID: 3 Count: 1\n",
      "Pattern: ATG ID: 14 Count: 1\n",
      "Pattern: TGC ID: 57 Count: 1\n",
      "Pattern: GCC ID: 37 Count: 1\n",
      "Pattern: CCA ID: 20 Count: 1\n",
      "----------------------------------\n",
      "SORTEDINDEX is: [3, 3, 14, 14, 15, 16, 16, 20, 36, 36, 37, 57, 57, 57, 62]\n",
      "--------------------------------\n",
      "SORTEDINDEX: 3 Count: 2\n",
      "SORTEDINDEX: 14 Count: 1\n",
      "SORTEDINDEX: 14 Count: 2\n",
      "SORTEDINDEX: 15 Count: 1\n",
      "SORTEDINDEX: 16 Count: 1\n",
      "SORTEDINDEX: 16 Count: 2\n",
      "SORTEDINDEX: 20 Count: 1\n",
      "SORTEDINDEX: 36 Count: 1\n",
      "SORTEDINDEX: 36 Count: 2\n",
      "SORTEDINDEX: 37 Count: 1\n",
      "SORTEDINDEX: 57 Count: 1\n",
      "SORTEDINDEX: 57 Count: 2\n",
      "SORTEDINDEX: 57 Count: 3\n",
      "SORTEDINDEX: 62 Count: 1\n",
      "your FrequentPattern is: ['TGC']\n"
     ]
    }
   ],
   "source": [
    "Text = \"ATGCAATTGCAATGCCAT\"\n",
    "k = 3\n",
    "Index = FindingFrequentWordsBySorting(Text,k,verbose=True)"
   ]
  },
  {
   "cell_type": "markdown",
   "metadata": {},
   "source": [
    "--------"
   ]
  },
  {
   "cell_type": "markdown",
   "metadata": {},
   "source": [
    "### ComputingFrequencies :  [page-40]"
   ]
  },
  {
   "cell_type": "code",
   "execution_count": 53,
   "metadata": {},
   "outputs": [],
   "source": [
    "def computingFrequrncies(Text,k,verbose=False):\n",
    "    \n",
    "    '''Initiate Frequency Array'''\n",
    "    FrequencyArray = [0 for i in range(4**k)]\n",
    "    \n",
    "    \n",
    "    '''Iterate through sliding window'''\n",
    "    for i in range(len(Text)-k):\n",
    "        \n",
    "        \n",
    "        '''Pattern is the text within the sliding window'''\n",
    "        Pattern = Text[i:i+k]\n",
    "        \n",
    "        \n",
    "        '''Find the index of the selected pattern'''\n",
    "        Index = PatternToNumber(Pattern)\n",
    "        \n",
    "        '''Increase frequency of the pattern in FrequencyArray'''\n",
    "        FrequencyArray[Index] = FrequencyArray[Index]+1\n",
    "        \n",
    "        \n",
    "        \n",
    "        if verbose:\n",
    "            print(\"Pattern:\", Pattern,\\\n",
    "                  \"Index:\",Index, \\\n",
    "                  \"Increasing FrequencyArray:\", FrequencyArray[Index])\n",
    "            \n",
    "            \n",
    "    return FrequencyArray"
   ]
  },
  {
   "cell_type": "code",
   "execution_count": 54,
   "metadata": {},
   "outputs": [
    {
     "name": "stdout",
     "output_type": "stream",
     "text": [
      "Pattern: ATG Index: 14 Increasing FrequencyArray: 1\n",
      "Pattern: TGG Index: 58 Increasing FrequencyArray: 1\n",
      "Pattern: GGA Index: 40 Increasing FrequencyArray: 1\n",
      "Pattern: GAT Index: 35 Increasing FrequencyArray: 1\n",
      "Pattern: ATT Index: 15 Increasing FrequencyArray: 1\n",
      "Pattern: TTC Index: 61 Increasing FrequencyArray: 1\n",
      "Pattern: TCC Index: 53 Increasing FrequencyArray: 1\n",
      "Pattern: CCA Index: 20 Increasing FrequencyArray: 1\n",
      "Pattern: CAG Index: 18 Increasing FrequencyArray: 1\n",
      "Pattern: AGG Index: 10 Increasing FrequencyArray: 1\n",
      "Pattern: GGC Index: 41 Increasing FrequencyArray: 1\n",
      "Pattern: GCC Index: 37 Increasing FrequencyArray: 1\n",
      "Pattern: CCT Index: 23 Increasing FrequencyArray: 1\n",
      "Pattern: CTT Index: 31 Increasing FrequencyArray: 1\n",
      "Pattern: TTA Index: 60 Increasing FrequencyArray: 1\n",
      "Pattern: TAG Index: 50 Increasing FrequencyArray: 1\n",
      "Pattern: AGG Index: 10 Increasing FrequencyArray: 2\n",
      "Pattern: GGA Index: 40 Increasing FrequencyArray: 2\n",
      "Pattern: GAA Index: 32 Increasing FrequencyArray: 1\n",
      "Pattern: AAC Index: 1 Increasing FrequencyArray: 1\n",
      "Pattern: ACC Index: 5 Increasing FrequencyArray: 1\n",
      "Pattern: CCA Index: 20 Increasing FrequencyArray: 2\n",
      "Pattern: CAT Index: 19 Increasing FrequencyArray: 1\n",
      "Pattern: ATG Index: 14 Increasing FrequencyArray: 2\n",
      "Pattern: TGC Index: 57 Increasing FrequencyArray: 1\n",
      "Pattern: GCT Index: 39 Increasing FrequencyArray: 1\n",
      "Pattern: CTA Index: 28 Increasing FrequencyArray: 1\n",
      "Pattern: TAT Index: 51 Increasing FrequencyArray: 1\n",
      "Pattern: ATG Index: 14 Increasing FrequencyArray: 3\n",
      "Pattern: TGT Index: 59 Increasing FrequencyArray: 1\n",
      "Pattern: GTA Index: 44 Increasing FrequencyArray: 1\n",
      "Pattern: TAT Index: 51 Increasing FrequencyArray: 2\n",
      "Pattern: ATC Index: 13 Increasing FrequencyArray: 1\n",
      "Pattern: TCT Index: 55 Increasing FrequencyArray: 1\n",
      "Pattern: CTT Index: 31 Increasing FrequencyArray: 2\n",
      "Pattern: TTG Index: 62 Increasing FrequencyArray: 1\n",
      "Pattern: TGG Index: 58 Increasing FrequencyArray: 2\n",
      "Pattern: GGA Index: 40 Increasing FrequencyArray: 3\n",
      "Pattern: GAA Index: 32 Increasing FrequencyArray: 2\n",
      "Pattern: AAC Index: 1 Increasing FrequencyArray: 2\n"
     ]
    }
   ],
   "source": [
    "text = \"ATGGATTCCAGGCCTTAGGAACCATGCTATGTATCTTGGAACT\"\n",
    "\n",
    "FrequencyArray = computingFrequrncies(Text=text,k=3,verbose=True)"
   ]
  },
  {
   "cell_type": "markdown",
   "metadata": {},
   "source": [
    "### FasterFrequentWords: [page-40]"
   ]
  },
  {
   "cell_type": "markdown",
   "metadata": {},
   "source": [
    "--------"
   ]
  },
  {
   "cell_type": "markdown",
   "metadata": {},
   "source": [
    "### FindingFrequentWordsWithMismatchesBySorting: [page-51]"
   ]
  },
  {
   "cell_type": "code",
   "execution_count": 55,
   "metadata": {},
   "outputs": [],
   "source": [
    "def FindingFrequentWordsWithMismatchesBySorting(Text,k,d,verbose =False):\n",
    "    \n",
    "    \n",
    "    '''This function implements neighbor function to calculate neighborhood list\n",
    "    and counts which pattern has maximum number of neighbors'''\n",
    "    \n",
    "    \n",
    "    '''Take an empty FrequentPattern list'''\n",
    "    FrequentPattern = []\n",
    "    \n",
    "    '''Take an empty Neighborhoods list'''\n",
    "    Neighborhoods = []\n",
    "     \n",
    "    \n",
    "    '''Iterate through sliding window of size k'''\n",
    "    for i in range(len(Text)-k+1):\n",
    "        \n",
    "        '''Add neighbors of selected Pattern to Neighborhoods list'''\n",
    "        Neighborhoods.append(Neighbors(Text[i:i+k],d))\n",
    "        \n",
    "     \n",
    "    '''Create a NeighborhoodArray called NHA'''\n",
    "    NHA = []\n",
    "    '''Iterate over all lists in Neighborhoods'''\n",
    "    for item in Neighborhoods:\n",
    "        '''Iterate over each nbr in selected list of Neighborhoods'''\n",
    "        for nbr in item:\n",
    "            '''add all of them to list NHA'''\n",
    "            NHA.append(nbr)\n",
    "            \n",
    "    \n",
    "    if verbose:\n",
    "            print(\"Neighborhoods:\",Neighborhoods,\\\n",
    "                  \"\\n\",\"----------------------------------------------------\",\"\\n\",\\\n",
    "                  \"NeighborhoodArray:\", NHA, \"\\n NeighborhoodArray has length:\",len(NHA))\n",
    "            print(\"========================================================\")\n",
    "        \n",
    "    \n",
    "    '''Initiate Count list'''\n",
    "    Count = [0 for i in range(len(NHA))]\n",
    "    \n",
    "    '''Initiate Index list'''\n",
    "    Index = [0 for i in range(len(NHA))]\n",
    "        \n",
    "        \n",
    "    '''Iterate over each element of Neighborhood Array'''   \n",
    "    for j in range(len(NHA)):\n",
    "        Pattern = NHA[j]\n",
    "        Index[j] = PatternToNumber(Pattern)\n",
    "        Count[j] = 1\n",
    "        \n",
    "        \n",
    "        if verbose:\n",
    "            print(\"Pattern:\",Pattern,\\\n",
    "                  \"\\n Index:\", Index,\\\n",
    "                  \"\\n Count:\", Count)\n",
    "            \n",
    "            \n",
    "    '''Sort the Index list'''        \n",
    "    SORTEDINDEX = list(np.sort(Index))\n",
    "        \n",
    "    \n",
    "    if verbose:\n",
    "        print(\"----------------------------------\")  \n",
    "        print(\"SORTEDINDEX is:\", SORTEDINDEX)\n",
    "        print(\"--------------------------------\")  \n",
    "    \n",
    "    \n",
    "    \n",
    "    '''If immediate index are doublicate,frequency increases '''\n",
    "    for i in range(len(Neighborhoods)):\n",
    "            if SORTEDINDEX[i] == SORTEDINDEX[i+1]:\n",
    "                Count[i+1] = Count[i]+1\n",
    "           \n",
    "               \n",
    "    '''What is maximum frequency?'''\n",
    "    maxCount = max(Count)\n",
    "    \n",
    "    \n",
    "    '''Reverse engineering: \n",
    "    Which pattern is associated with maximum frequency'''\n",
    "    for i in range(len(Neighborhoods)):\n",
    "        if Count[i] == maxCount:\n",
    "            Pattern = NumberToPattern(SORTEDINDEX[i],k)\n",
    "            FrequentPattern.append(Pattern)\n",
    "            \n",
    "            \n",
    "            \n",
    "    if verbose:\n",
    "                print(\"your FrequentPattern is:\",FrequentPattern)\n",
    "            \n",
    "            \n",
    "    return  FrequentPattern"
   ]
  },
  {
   "cell_type": "code",
   "execution_count": 56,
   "metadata": {},
   "outputs": [],
   "source": [
    "from time import time"
   ]
  },
  {
   "cell_type": "code",
   "execution_count": 57,
   "metadata": {
    "scrolled": false
   },
   "outputs": [
    {
     "name": "stdout",
     "output_type": "stream",
     "text": [
      "DNA taken: AATAACCTGGCTATCGATAGGCACCATATCTCTACATCGTGCGTAGATGTCCCAAGTATGTTCCACTGTTCTTTACGTTGACAGGCACTGTCCACCCATA\n",
      "time taken: 0.0065538883209228516\n"
     ]
    }
   ],
   "source": [
    "Text = DNA_generator(100)\n",
    "print(\"DNA taken:\",Text)\n",
    "\n",
    "st = time()\n",
    "FindingFrequentWordsWithMismatchesBySorting(Text,k =3,d=1, verbose=False)\n",
    "et = time()\n",
    "\n",
    "print('time taken:', et-st)"
   ]
  },
  {
   "cell_type": "markdown",
   "metadata": {},
   "source": [
    "--------"
   ]
  },
  {
   "cell_type": "markdown",
   "metadata": {},
   "source": [
    "### ClumpFinding: [page-45]\n",
    "\n",
    "***This Function uses: ```computingFrequrncies(), NumberToPattern(), PatternToNumber()``` ***"
   ]
  },
  {
   "cell_type": "code",
   "execution_count": 58,
   "metadata": {},
   "outputs": [],
   "source": [
    "def ClumpFinding(Genome,k,t,L,verbose=False):\n",
    "    \n",
    "    \n",
    "    '''L = lenhth of clump\n",
    "       k = length of kmer\n",
    "       t = frequency of kmer'''\n",
    "    \n",
    "\n",
    "    FrequentPatterns = []\n",
    "    CLUMP = []\n",
    "    \n",
    "    \n",
    "    for i in range(4**k):\n",
    "        CLUMP.append(0)\n",
    "        \n",
    "        \n",
    "    if verbose:\n",
    "        print(\"Initial CLUMP:\", CLUMP)\n",
    "        print(\"================================\")\n",
    "        \n",
    "        \n",
    "        \n",
    "    for j in range(len(Genome)-L):\n",
    "            Text = Genome[j:j+L]\n",
    "            FrequencyArray = computingFrequrncies(Text,k)\n",
    "            \n",
    "            \n",
    "            if verbose:\n",
    "                print(\"Text:\", Text,\\\n",
    "                      \"FrequencyArray:\", FrequencyArray)\n",
    "                \n",
    "            \n",
    "            for index in range(4**k):\n",
    "                if FrequencyArray[index]>=t:\n",
    "                    CLUMP[index] =1\n",
    "                    \n",
    "            if verbose:\n",
    "                print(\"Text:\", Text, \"CLUMP:\",CLUMP)\n",
    "                print(\"----------------------------\")          \n",
    "                \n",
    "    for m in range(4**k):\n",
    "        if CLUMP[m]==1:\n",
    "            Pattern = NumberToPattern(m,k)\n",
    "            FrequentPatterns.append(Pattern)\n",
    "                                \n",
    "    return FrequentPatterns"
   ]
  },
  {
   "cell_type": "code",
   "execution_count": 59,
   "metadata": {
    "scrolled": false
   },
   "outputs": [
    {
     "name": "stdout",
     "output_type": "stream",
     "text": [
      "Initial CLUMP: [0, 0, 0, 0, 0, 0, 0, 0, 0, 0, 0, 0, 0, 0, 0, 0, 0, 0, 0, 0, 0, 0, 0, 0, 0, 0, 0, 0, 0, 0, 0, 0, 0, 0, 0, 0, 0, 0, 0, 0, 0, 0, 0, 0, 0, 0, 0, 0, 0, 0, 0, 0, 0, 0, 0, 0, 0, 0, 0, 0, 0, 0, 0, 0]\n",
      "================================\n",
      "Text: AAAAA FrequencyArray: [2, 0, 0, 0, 0, 0, 0, 0, 0, 0, 0, 0, 0, 0, 0, 0, 0, 0, 0, 0, 0, 0, 0, 0, 0, 0, 0, 0, 0, 0, 0, 0, 0, 0, 0, 0, 0, 0, 0, 0, 0, 0, 0, 0, 0, 0, 0, 0, 0, 0, 0, 0, 0, 0, 0, 0, 0, 0, 0, 0, 0, 0, 0, 0]\n",
      "Text: AAAAA CLUMP: [1, 0, 0, 0, 0, 0, 0, 0, 0, 0, 0, 0, 0, 0, 0, 0, 0, 0, 0, 0, 0, 0, 0, 0, 0, 0, 0, 0, 0, 0, 0, 0, 0, 0, 0, 0, 0, 0, 0, 0, 0, 0, 0, 0, 0, 0, 0, 0, 0, 0, 0, 0, 0, 0, 0, 0, 0, 0, 0, 0, 0, 0, 0, 0]\n",
      "----------------------------\n",
      "Text: AAAAT FrequencyArray: [2, 0, 0, 0, 0, 0, 0, 0, 0, 0, 0, 0, 0, 0, 0, 0, 0, 0, 0, 0, 0, 0, 0, 0, 0, 0, 0, 0, 0, 0, 0, 0, 0, 0, 0, 0, 0, 0, 0, 0, 0, 0, 0, 0, 0, 0, 0, 0, 0, 0, 0, 0, 0, 0, 0, 0, 0, 0, 0, 0, 0, 0, 0, 0]\n",
      "Text: AAAAT CLUMP: [1, 0, 0, 0, 0, 0, 0, 0, 0, 0, 0, 0, 0, 0, 0, 0, 0, 0, 0, 0, 0, 0, 0, 0, 0, 0, 0, 0, 0, 0, 0, 0, 0, 0, 0, 0, 0, 0, 0, 0, 0, 0, 0, 0, 0, 0, 0, 0, 0, 0, 0, 0, 0, 0, 0, 0, 0, 0, 0, 0, 0, 0, 0, 0]\n",
      "----------------------------\n",
      "Text: AAATG FrequencyArray: [1, 0, 0, 1, 0, 0, 0, 0, 0, 0, 0, 0, 0, 0, 0, 0, 0, 0, 0, 0, 0, 0, 0, 0, 0, 0, 0, 0, 0, 0, 0, 0, 0, 0, 0, 0, 0, 0, 0, 0, 0, 0, 0, 0, 0, 0, 0, 0, 0, 0, 0, 0, 0, 0, 0, 0, 0, 0, 0, 0, 0, 0, 0, 0]\n",
      "Text: AAATG CLUMP: [1, 0, 0, 0, 0, 0, 0, 0, 0, 0, 0, 0, 0, 0, 0, 0, 0, 0, 0, 0, 0, 0, 0, 0, 0, 0, 0, 0, 0, 0, 0, 0, 0, 0, 0, 0, 0, 0, 0, 0, 0, 0, 0, 0, 0, 0, 0, 0, 0, 0, 0, 0, 0, 0, 0, 0, 0, 0, 0, 0, 0, 0, 0, 0]\n",
      "----------------------------\n",
      "Text: AATGC FrequencyArray: [0, 0, 0, 1, 0, 0, 0, 0, 0, 0, 0, 0, 0, 0, 1, 0, 0, 0, 0, 0, 0, 0, 0, 0, 0, 0, 0, 0, 0, 0, 0, 0, 0, 0, 0, 0, 0, 0, 0, 0, 0, 0, 0, 0, 0, 0, 0, 0, 0, 0, 0, 0, 0, 0, 0, 0, 0, 0, 0, 0, 0, 0, 0, 0]\n",
      "Text: AATGC CLUMP: [1, 0, 0, 0, 0, 0, 0, 0, 0, 0, 0, 0, 0, 0, 0, 0, 0, 0, 0, 0, 0, 0, 0, 0, 0, 0, 0, 0, 0, 0, 0, 0, 0, 0, 0, 0, 0, 0, 0, 0, 0, 0, 0, 0, 0, 0, 0, 0, 0, 0, 0, 0, 0, 0, 0, 0, 0, 0, 0, 0, 0, 0, 0, 0]\n",
      "----------------------------\n",
      "Text: ATGCA FrequencyArray: [0, 0, 0, 0, 0, 0, 0, 0, 0, 0, 0, 0, 0, 0, 1, 0, 0, 0, 0, 0, 0, 0, 0, 0, 0, 0, 0, 0, 0, 0, 0, 0, 0, 0, 0, 0, 0, 0, 0, 0, 0, 0, 0, 0, 0, 0, 0, 0, 0, 0, 0, 0, 0, 0, 0, 0, 0, 1, 0, 0, 0, 0, 0, 0]\n",
      "Text: ATGCA CLUMP: [1, 0, 0, 0, 0, 0, 0, 0, 0, 0, 0, 0, 0, 0, 0, 0, 0, 0, 0, 0, 0, 0, 0, 0, 0, 0, 0, 0, 0, 0, 0, 0, 0, 0, 0, 0, 0, 0, 0, 0, 0, 0, 0, 0, 0, 0, 0, 0, 0, 0, 0, 0, 0, 0, 0, 0, 0, 0, 0, 0, 0, 0, 0, 0]\n",
      "----------------------------\n",
      "Text: TGCAT FrequencyArray: [0, 0, 0, 0, 0, 0, 0, 0, 0, 0, 0, 0, 0, 0, 0, 0, 0, 0, 0, 0, 0, 0, 0, 0, 0, 0, 0, 0, 0, 0, 0, 0, 0, 0, 0, 0, 1, 0, 0, 0, 0, 0, 0, 0, 0, 0, 0, 0, 0, 0, 0, 0, 0, 0, 0, 0, 0, 1, 0, 0, 0, 0, 0, 0]\n",
      "Text: TGCAT CLUMP: [1, 0, 0, 0, 0, 0, 0, 0, 0, 0, 0, 0, 0, 0, 0, 0, 0, 0, 0, 0, 0, 0, 0, 0, 0, 0, 0, 0, 0, 0, 0, 0, 0, 0, 0, 0, 0, 0, 0, 0, 0, 0, 0, 0, 0, 0, 0, 0, 0, 0, 0, 0, 0, 0, 0, 0, 0, 0, 0, 0, 0, 0, 0, 0]\n",
      "----------------------------\n",
      "Text: GCATT FrequencyArray: [0, 0, 0, 0, 0, 0, 0, 0, 0, 0, 0, 0, 0, 0, 0, 0, 0, 0, 0, 1, 0, 0, 0, 0, 0, 0, 0, 0, 0, 0, 0, 0, 0, 0, 0, 0, 1, 0, 0, 0, 0, 0, 0, 0, 0, 0, 0, 0, 0, 0, 0, 0, 0, 0, 0, 0, 0, 0, 0, 0, 0, 0, 0, 0]\n",
      "Text: GCATT CLUMP: [1, 0, 0, 0, 0, 0, 0, 0, 0, 0, 0, 0, 0, 0, 0, 0, 0, 0, 0, 0, 0, 0, 0, 0, 0, 0, 0, 0, 0, 0, 0, 0, 0, 0, 0, 0, 0, 0, 0, 0, 0, 0, 0, 0, 0, 0, 0, 0, 0, 0, 0, 0, 0, 0, 0, 0, 0, 0, 0, 0, 0, 0, 0, 0]\n",
      "----------------------------\n",
      "Text: CATTA FrequencyArray: [0, 0, 0, 0, 0, 0, 0, 0, 0, 0, 0, 0, 0, 0, 0, 1, 0, 0, 0, 1, 0, 0, 0, 0, 0, 0, 0, 0, 0, 0, 0, 0, 0, 0, 0, 0, 0, 0, 0, 0, 0, 0, 0, 0, 0, 0, 0, 0, 0, 0, 0, 0, 0, 0, 0, 0, 0, 0, 0, 0, 0, 0, 0, 0]\n",
      "Text: CATTA CLUMP: [1, 0, 0, 0, 0, 0, 0, 0, 0, 0, 0, 0, 0, 0, 0, 0, 0, 0, 0, 0, 0, 0, 0, 0, 0, 0, 0, 0, 0, 0, 0, 0, 0, 0, 0, 0, 0, 0, 0, 0, 0, 0, 0, 0, 0, 0, 0, 0, 0, 0, 0, 0, 0, 0, 0, 0, 0, 0, 0, 0, 0, 0, 0, 0]\n",
      "----------------------------\n",
      "Text: ATTAA FrequencyArray: [0, 0, 0, 0, 0, 0, 0, 0, 0, 0, 0, 0, 0, 0, 0, 1, 0, 0, 0, 0, 0, 0, 0, 0, 0, 0, 0, 0, 0, 0, 0, 0, 0, 0, 0, 0, 0, 0, 0, 0, 0, 0, 0, 0, 0, 0, 0, 0, 0, 0, 0, 0, 0, 0, 0, 0, 0, 0, 0, 0, 1, 0, 0, 0]\n",
      "Text: ATTAA CLUMP: [1, 0, 0, 0, 0, 0, 0, 0, 0, 0, 0, 0, 0, 0, 0, 0, 0, 0, 0, 0, 0, 0, 0, 0, 0, 0, 0, 0, 0, 0, 0, 0, 0, 0, 0, 0, 0, 0, 0, 0, 0, 0, 0, 0, 0, 0, 0, 0, 0, 0, 0, 0, 0, 0, 0, 0, 0, 0, 0, 0, 0, 0, 0, 0]\n",
      "----------------------------\n",
      "Text: TTAAC FrequencyArray: [0, 0, 0, 0, 0, 0, 0, 0, 0, 0, 0, 0, 0, 0, 0, 0, 0, 0, 0, 0, 0, 0, 0, 0, 0, 0, 0, 0, 0, 0, 0, 0, 0, 0, 0, 0, 0, 0, 0, 0, 0, 0, 0, 0, 0, 0, 0, 0, 1, 0, 0, 0, 0, 0, 0, 0, 0, 0, 0, 0, 1, 0, 0, 0]\n",
      "Text: TTAAC CLUMP: [1, 0, 0, 0, 0, 0, 0, 0, 0, 0, 0, 0, 0, 0, 0, 0, 0, 0, 0, 0, 0, 0, 0, 0, 0, 0, 0, 0, 0, 0, 0, 0, 0, 0, 0, 0, 0, 0, 0, 0, 0, 0, 0, 0, 0, 0, 0, 0, 0, 0, 0, 0, 0, 0, 0, 0, 0, 0, 0, 0, 0, 0, 0, 0]\n",
      "----------------------------\n",
      "Text: TAACC FrequencyArray: [0, 1, 0, 0, 0, 0, 0, 0, 0, 0, 0, 0, 0, 0, 0, 0, 0, 0, 0, 0, 0, 0, 0, 0, 0, 0, 0, 0, 0, 0, 0, 0, 0, 0, 0, 0, 0, 0, 0, 0, 0, 0, 0, 0, 0, 0, 0, 0, 1, 0, 0, 0, 0, 0, 0, 0, 0, 0, 0, 0, 0, 0, 0, 0]\n",
      "Text: TAACC CLUMP: [1, 0, 0, 0, 0, 0, 0, 0, 0, 0, 0, 0, 0, 0, 0, 0, 0, 0, 0, 0, 0, 0, 0, 0, 0, 0, 0, 0, 0, 0, 0, 0, 0, 0, 0, 0, 0, 0, 0, 0, 0, 0, 0, 0, 0, 0, 0, 0, 0, 0, 0, 0, 0, 0, 0, 0, 0, 0, 0, 0, 0, 0, 0, 0]\n",
      "----------------------------\n",
      "Text: AACCG FrequencyArray: [0, 1, 0, 0, 0, 1, 0, 0, 0, 0, 0, 0, 0, 0, 0, 0, 0, 0, 0, 0, 0, 0, 0, 0, 0, 0, 0, 0, 0, 0, 0, 0, 0, 0, 0, 0, 0, 0, 0, 0, 0, 0, 0, 0, 0, 0, 0, 0, 0, 0, 0, 0, 0, 0, 0, 0, 0, 0, 0, 0, 0, 0, 0, 0]\n",
      "Text: AACCG CLUMP: [1, 0, 0, 0, 0, 0, 0, 0, 0, 0, 0, 0, 0, 0, 0, 0, 0, 0, 0, 0, 0, 0, 0, 0, 0, 0, 0, 0, 0, 0, 0, 0, 0, 0, 0, 0, 0, 0, 0, 0, 0, 0, 0, 0, 0, 0, 0, 0, 0, 0, 0, 0, 0, 0, 0, 0, 0, 0, 0, 0, 0, 0, 0, 0]\n",
      "----------------------------\n",
      "Text: ACCGT FrequencyArray: [0, 0, 0, 0, 0, 1, 0, 0, 0, 0, 0, 0, 0, 0, 0, 0, 0, 0, 0, 0, 0, 0, 1, 0, 0, 0, 0, 0, 0, 0, 0, 0, 0, 0, 0, 0, 0, 0, 0, 0, 0, 0, 0, 0, 0, 0, 0, 0, 0, 0, 0, 0, 0, 0, 0, 0, 0, 0, 0, 0, 0, 0, 0, 0]\n",
      "Text: ACCGT CLUMP: [1, 0, 0, 0, 0, 0, 0, 0, 0, 0, 0, 0, 0, 0, 0, 0, 0, 0, 0, 0, 0, 0, 0, 0, 0, 0, 0, 0, 0, 0, 0, 0, 0, 0, 0, 0, 0, 0, 0, 0, 0, 0, 0, 0, 0, 0, 0, 0, 0, 0, 0, 0, 0, 0, 0, 0, 0, 0, 0, 0, 0, 0, 0, 0]\n",
      "----------------------------\n",
      "Text: CCGTT FrequencyArray: [0, 0, 0, 0, 0, 0, 0, 0, 0, 0, 0, 0, 0, 0, 0, 0, 0, 0, 0, 0, 0, 0, 1, 0, 0, 0, 0, 1, 0, 0, 0, 0, 0, 0, 0, 0, 0, 0, 0, 0, 0, 0, 0, 0, 0, 0, 0, 0, 0, 0, 0, 0, 0, 0, 0, 0, 0, 0, 0, 0, 0, 0, 0, 0]\n",
      "Text: CCGTT CLUMP: [1, 0, 0, 0, 0, 0, 0, 0, 0, 0, 0, 0, 0, 0, 0, 0, 0, 0, 0, 0, 0, 0, 0, 0, 0, 0, 0, 0, 0, 0, 0, 0, 0, 0, 0, 0, 0, 0, 0, 0, 0, 0, 0, 0, 0, 0, 0, 0, 0, 0, 0, 0, 0, 0, 0, 0, 0, 0, 0, 0, 0, 0, 0, 0]\n",
      "----------------------------\n",
      "Text: CGTTA FrequencyArray: [0, 0, 0, 0, 0, 0, 0, 0, 0, 0, 0, 0, 0, 0, 0, 0, 0, 0, 0, 0, 0, 0, 0, 0, 0, 0, 0, 1, 0, 0, 0, 0, 0, 0, 0, 0, 0, 0, 0, 0, 0, 0, 0, 0, 0, 0, 0, 1, 0, 0, 0, 0, 0, 0, 0, 0, 0, 0, 0, 0, 0, 0, 0, 0]\n",
      "Text: CGTTA CLUMP: [1, 0, 0, 0, 0, 0, 0, 0, 0, 0, 0, 0, 0, 0, 0, 0, 0, 0, 0, 0, 0, 0, 0, 0, 0, 0, 0, 0, 0, 0, 0, 0, 0, 0, 0, 0, 0, 0, 0, 0, 0, 0, 0, 0, 0, 0, 0, 0, 0, 0, 0, 0, 0, 0, 0, 0, 0, 0, 0, 0, 0, 0, 0, 0]\n",
      "----------------------------\n",
      "Text: GTTAA FrequencyArray: [0, 0, 0, 0, 0, 0, 0, 0, 0, 0, 0, 0, 0, 0, 0, 0, 0, 0, 0, 0, 0, 0, 0, 0, 0, 0, 0, 0, 0, 0, 0, 0, 0, 0, 0, 0, 0, 0, 0, 0, 0, 0, 0, 0, 0, 0, 0, 1, 0, 0, 0, 0, 0, 0, 0, 0, 0, 0, 0, 0, 1, 0, 0, 0]\n",
      "Text: GTTAA CLUMP: [1, 0, 0, 0, 0, 0, 0, 0, 0, 0, 0, 0, 0, 0, 0, 0, 0, 0, 0, 0, 0, 0, 0, 0, 0, 0, 0, 0, 0, 0, 0, 0, 0, 0, 0, 0, 0, 0, 0, 0, 0, 0, 0, 0, 0, 0, 0, 0, 0, 0, 0, 0, 0, 0, 0, 0, 0, 0, 0, 0, 0, 0, 0, 0]\n",
      "----------------------------\n",
      "Text: TTAAC FrequencyArray: [0, 0, 0, 0, 0, 0, 0, 0, 0, 0, 0, 0, 0, 0, 0, 0, 0, 0, 0, 0, 0, 0, 0, 0, 0, 0, 0, 0, 0, 0, 0, 0, 0, 0, 0, 0, 0, 0, 0, 0, 0, 0, 0, 0, 0, 0, 0, 0, 1, 0, 0, 0, 0, 0, 0, 0, 0, 0, 0, 0, 1, 0, 0, 0]\n",
      "Text: TTAAC CLUMP: [1, 0, 0, 0, 0, 0, 0, 0, 0, 0, 0, 0, 0, 0, 0, 0, 0, 0, 0, 0, 0, 0, 0, 0, 0, 0, 0, 0, 0, 0, 0, 0, 0, 0, 0, 0, 0, 0, 0, 0, 0, 0, 0, 0, 0, 0, 0, 0, 0, 0, 0, 0, 0, 0, 0, 0, 0, 0, 0, 0, 0, 0, 0, 0]\n",
      "----------------------------\n",
      "Text: TAACC FrequencyArray: [0, 1, 0, 0, 0, 0, 0, 0, 0, 0, 0, 0, 0, 0, 0, 0, 0, 0, 0, 0, 0, 0, 0, 0, 0, 0, 0, 0, 0, 0, 0, 0, 0, 0, 0, 0, 0, 0, 0, 0, 0, 0, 0, 0, 0, 0, 0, 0, 1, 0, 0, 0, 0, 0, 0, 0, 0, 0, 0, 0, 0, 0, 0, 0]\n",
      "Text: TAACC CLUMP: [1, 0, 0, 0, 0, 0, 0, 0, 0, 0, 0, 0, 0, 0, 0, 0, 0, 0, 0, 0, 0, 0, 0, 0, 0, 0, 0, 0, 0, 0, 0, 0, 0, 0, 0, 0, 0, 0, 0, 0, 0, 0, 0, 0, 0, 0, 0, 0, 0, 0, 0, 0, 0, 0, 0, 0, 0, 0, 0, 0, 0, 0, 0, 0]\n",
      "----------------------------\n",
      "Text: AACCG FrequencyArray: [0, 1, 0, 0, 0, 1, 0, 0, 0, 0, 0, 0, 0, 0, 0, 0, 0, 0, 0, 0, 0, 0, 0, 0, 0, 0, 0, 0, 0, 0, 0, 0, 0, 0, 0, 0, 0, 0, 0, 0, 0, 0, 0, 0, 0, 0, 0, 0, 0, 0, 0, 0, 0, 0, 0, 0, 0, 0, 0, 0, 0, 0, 0, 0]\n",
      "Text: AACCG CLUMP: [1, 0, 0, 0, 0, 0, 0, 0, 0, 0, 0, 0, 0, 0, 0, 0, 0, 0, 0, 0, 0, 0, 0, 0, 0, 0, 0, 0, 0, 0, 0, 0, 0, 0, 0, 0, 0, 0, 0, 0, 0, 0, 0, 0, 0, 0, 0, 0, 0, 0, 0, 0, 0, 0, 0, 0, 0, 0, 0, 0, 0, 0, 0, 0]\n",
      "----------------------------\n",
      "Text: ACCGG FrequencyArray: [0, 0, 0, 0, 0, 1, 0, 0, 0, 0, 0, 0, 0, 0, 0, 0, 0, 0, 0, 0, 0, 0, 1, 0, 0, 0, 0, 0, 0, 0, 0, 0, 0, 0, 0, 0, 0, 0, 0, 0, 0, 0, 0, 0, 0, 0, 0, 0, 0, 0, 0, 0, 0, 0, 0, 0, 0, 0, 0, 0, 0, 0, 0, 0]\n",
      "Text: ACCGG CLUMP: [1, 0, 0, 0, 0, 0, 0, 0, 0, 0, 0, 0, 0, 0, 0, 0, 0, 0, 0, 0, 0, 0, 0, 0, 0, 0, 0, 0, 0, 0, 0, 0, 0, 0, 0, 0, 0, 0, 0, 0, 0, 0, 0, 0, 0, 0, 0, 0, 0, 0, 0, 0, 0, 0, 0, 0, 0, 0, 0, 0, 0, 0, 0, 0]\n",
      "----------------------------\n"
     ]
    },
    {
     "data": {
      "text/plain": [
       "['AAA']"
      ]
     },
     "execution_count": 59,
     "metadata": {},
     "output_type": "execute_result"
    }
   ],
   "source": [
    "ClumpFinding(Genome = 'AAAAATGCATTAACCGTTAACCGGT',\\\n",
    "             k = 3,\\\n",
    "             t = 2,\\\n",
    "             L = 5,\\\n",
    "             verbose=True)\n"
   ]
  },
  {
   "cell_type": "markdown",
   "metadata": {},
   "source": [
    "### BetterClumpFinding: [page-46]"
   ]
  },
  {
   "cell_type": "code",
   "execution_count": 60,
   "metadata": {},
   "outputs": [],
   "source": [
    "def BetterClumpFinding(Genome,k,t,L,verbose=False):\n",
    "    \n",
    "    \n",
    "    '''L = lenhth of clump\n",
    "       k = length of kmer\n",
    "       t = frequency of kmer'''\n",
    "    \n",
    "    '''Take an emply list'''\n",
    "    FrequentPatterns = []\n",
    "    \n",
    "    '''Initiate list CLUMP'''\n",
    "    CLUMP = [0 for i in range(4**k)]\n",
    "    \n",
    "    '''Select a chunk of Genome from 0th letter to Lth letter'''\n",
    "    Text = Genome[0:L]\n",
    "    \n",
    "    '''Find Frequency Array for selected Text'''\n",
    "    FrequencyArray =  computingFrequrncies(Text,k)\n",
    "    \n",
    "    '''Iterate over no of index in frewuency Array'''\n",
    "    for i in range(4**k):\n",
    "        \n",
    "        '''if frequency is greater then t'''\n",
    "        if FrequencyArray[i] >=t:\n",
    "            \n",
    "            '''update clump value'''\n",
    "            CLUMP[i] =1\n",
    "    \n",
    "    \n",
    "    \n",
    "    if verbose:\n",
    "        print(\"Initial Text:\", Text,\\\n",
    "              \"Initial CLUMP:\", CLUMP)\n",
    "        print(\"================================\")\n",
    "    \n",
    "    \n",
    "    \n",
    "    \n",
    "            \n",
    "    '''Iterate over sliding window of length L'''        \n",
    "    for j in range(1,len(Genome)-L+1):\n",
    "        \n",
    "        \n",
    "            FirstPattern = Genome[j-1:k]\n",
    "            Index  = PatternToNumber(FirstPattern)\n",
    "            FrequencyArray[Index] = FrequencyArray[Index]-1\n",
    "            \n",
    "            if verbose:\n",
    "                print(j, \"FirstPattern:\", FirstPattern, \"Index:\", Index)\n",
    "                print(\"-----------------------------------------------\")\n",
    "        \n",
    "        \n",
    "        \n",
    "            LastPattern = Genome[j+L-k:k]\n",
    "            Index = PatternToNumber(LastPattern)\n",
    "            FrequencyArray[Index] = FrequencyArray[Index]+1\n",
    "            \n",
    "            \n",
    "            if verbose:\n",
    "                print(print(j, \"LastPattern:\", LastPattern, \"Index:\", Index))\n",
    "                print(\"------------------------------------------------------\")\n",
    "                \n",
    "                \n",
    "            \n",
    "            if FrequencyArray[Index]>= t:\n",
    "                CLUMP[Index] =1\n",
    "            \n",
    "            \n",
    "    '''Iterate over no of index in frewuency Array'''\n",
    "    for ii in range(4**k):   \n",
    "        if CLUMP[ii] ==1:\n",
    "            Pattern = NumberToPattern(ii,k)\n",
    "            FrequentPatterns.append(Pattern)\n",
    "        \n",
    "                                \n",
    "    return FrequentPatterns"
   ]
  },
  {
   "cell_type": "code",
   "execution_count": 61,
   "metadata": {
    "scrolled": false
   },
   "outputs": [
    {
     "name": "stdout",
     "output_type": "stream",
     "text": [
      "Initial Text: AATGTCGTGTGATTGGAACT Initial CLUMP: [0, 0, 0, 0, 0, 0, 0, 0, 0, 0, 0, 0, 0, 0, 0, 0, 0, 0, 0, 0, 0, 0, 0, 0, 0, 0, 0, 0, 0, 0, 0, 0, 0, 0, 0, 0, 0, 0, 0, 0, 0, 0, 0, 0, 0, 0, 1, 0, 0, 0, 0, 0, 0, 0, 0, 0, 0, 0, 0, 1, 0, 0, 0, 0]\n",
      "================================\n",
      "1 FirstPattern: AAT Index: 3\n",
      "-----------------------------------------------\n",
      "1 LastPattern:  Index: 0\n",
      "None\n",
      "------------------------------------------------------\n",
      "2 FirstPattern: AT Index: 3\n",
      "-----------------------------------------------\n",
      "2 LastPattern:  Index: 0\n",
      "None\n",
      "------------------------------------------------------\n",
      "3 FirstPattern: T Index: 3\n",
      "-----------------------------------------------\n",
      "3 LastPattern:  Index: 0\n",
      "None\n",
      "------------------------------------------------------\n",
      "4 FirstPattern:  Index: 0\n",
      "-----------------------------------------------\n",
      "4 LastPattern:  Index: 0\n",
      "None\n",
      "------------------------------------------------------\n",
      "5 FirstPattern:  Index: 0\n",
      "-----------------------------------------------\n",
      "5 LastPattern:  Index: 0\n",
      "None\n",
      "------------------------------------------------------\n",
      "6 FirstPattern:  Index: 0\n",
      "-----------------------------------------------\n",
      "6 LastPattern:  Index: 0\n",
      "None\n",
      "------------------------------------------------------\n",
      "7 FirstPattern:  Index: 0\n",
      "-----------------------------------------------\n",
      "7 LastPattern:  Index: 0\n",
      "None\n",
      "------------------------------------------------------\n",
      "8 FirstPattern:  Index: 0\n",
      "-----------------------------------------------\n",
      "8 LastPattern:  Index: 0\n",
      "None\n",
      "------------------------------------------------------\n",
      "9 FirstPattern:  Index: 0\n",
      "-----------------------------------------------\n",
      "9 LastPattern:  Index: 0\n",
      "None\n",
      "------------------------------------------------------\n",
      "10 FirstPattern:  Index: 0\n",
      "-----------------------------------------------\n",
      "10 LastPattern:  Index: 0\n",
      "None\n",
      "------------------------------------------------------\n",
      "11 FirstPattern:  Index: 0\n",
      "-----------------------------------------------\n",
      "11 LastPattern:  Index: 0\n",
      "None\n",
      "------------------------------------------------------\n",
      "12 FirstPattern:  Index: 0\n",
      "-----------------------------------------------\n",
      "12 LastPattern:  Index: 0\n",
      "None\n",
      "------------------------------------------------------\n",
      "13 FirstPattern:  Index: 0\n",
      "-----------------------------------------------\n",
      "13 LastPattern:  Index: 0\n",
      "None\n",
      "------------------------------------------------------\n",
      "14 FirstPattern:  Index: 0\n",
      "-----------------------------------------------\n",
      "14 LastPattern:  Index: 0\n",
      "None\n",
      "------------------------------------------------------\n",
      "15 FirstPattern:  Index: 0\n",
      "-----------------------------------------------\n",
      "15 LastPattern:  Index: 0\n",
      "None\n",
      "------------------------------------------------------\n",
      "16 FirstPattern:  Index: 0\n",
      "-----------------------------------------------\n",
      "16 LastPattern:  Index: 0\n",
      "None\n",
      "------------------------------------------------------\n",
      "17 FirstPattern:  Index: 0\n",
      "-----------------------------------------------\n",
      "17 LastPattern:  Index: 0\n",
      "None\n",
      "------------------------------------------------------\n",
      "18 FirstPattern:  Index: 0\n",
      "-----------------------------------------------\n",
      "18 LastPattern:  Index: 0\n",
      "None\n",
      "------------------------------------------------------\n",
      "19 FirstPattern:  Index: 0\n",
      "-----------------------------------------------\n",
      "19 LastPattern:  Index: 0\n",
      "None\n",
      "------------------------------------------------------\n",
      "20 FirstPattern:  Index: 0\n",
      "-----------------------------------------------\n",
      "20 LastPattern:  Index: 0\n",
      "None\n",
      "------------------------------------------------------\n",
      "21 FirstPattern:  Index: 0\n",
      "-----------------------------------------------\n",
      "21 LastPattern:  Index: 0\n",
      "None\n",
      "------------------------------------------------------\n",
      "22 FirstPattern:  Index: 0\n",
      "-----------------------------------------------\n",
      "22 LastPattern:  Index: 0\n",
      "None\n",
      "------------------------------------------------------\n",
      "23 FirstPattern:  Index: 0\n",
      "-----------------------------------------------\n",
      "23 LastPattern:  Index: 0\n",
      "None\n",
      "------------------------------------------------------\n",
      "24 FirstPattern:  Index: 0\n",
      "-----------------------------------------------\n",
      "24 LastPattern:  Index: 0\n",
      "None\n",
      "------------------------------------------------------\n",
      "25 FirstPattern:  Index: 0\n",
      "-----------------------------------------------\n",
      "25 LastPattern:  Index: 0\n",
      "None\n",
      "------------------------------------------------------\n",
      "26 FirstPattern:  Index: 0\n",
      "-----------------------------------------------\n",
      "26 LastPattern:  Index: 0\n",
      "None\n",
      "------------------------------------------------------\n",
      "27 FirstPattern:  Index: 0\n",
      "-----------------------------------------------\n",
      "27 LastPattern:  Index: 0\n",
      "None\n",
      "------------------------------------------------------\n",
      "28 FirstPattern:  Index: 0\n",
      "-----------------------------------------------\n",
      "28 LastPattern:  Index: 0\n",
      "None\n",
      "------------------------------------------------------\n",
      "29 FirstPattern:  Index: 0\n",
      "-----------------------------------------------\n",
      "29 LastPattern:  Index: 0\n",
      "None\n",
      "------------------------------------------------------\n",
      "30 FirstPattern:  Index: 0\n",
      "-----------------------------------------------\n",
      "30 LastPattern:  Index: 0\n",
      "None\n",
      "------------------------------------------------------\n"
     ]
    },
    {
     "data": {
      "text/plain": [
       "['AAA', 'GTG', 'TGT']"
      ]
     },
     "execution_count": 61,
     "metadata": {},
     "output_type": "execute_result"
    }
   ],
   "source": [
    "BetterClumpFinding(Genome = DNA_generator(50),k = 3,t = 2,L = 20,verbose=True)\n"
   ]
  },
  {
   "cell_type": "markdown",
   "metadata": {
    "collapsed": true
   },
   "source": [
    "---------"
   ]
  },
  {
   "cell_type": "markdown",
   "metadata": {
    "collapsed": true
   },
   "source": [
    "### The END"
   ]
  }
 ],
 "metadata": {
  "kernelspec": {
   "display_name": "Python 3",
   "language": "python",
   "name": "python3"
  },
  "language_info": {
   "codemirror_mode": {
    "name": "ipython",
    "version": 3
   },
   "file_extension": ".py",
   "mimetype": "text/x-python",
   "name": "python",
   "nbconvert_exporter": "python",
   "pygments_lexer": "ipython3",
   "version": "3.7.6"
  },
  "widgets": {
   "state": {},
   "version": "1.1.2"
  }
 },
 "nbformat": 4,
 "nbformat_minor": 2
}
