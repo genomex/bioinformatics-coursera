{
 "cells": [
  {
   "cell_type": "markdown",
   "metadata": {},
   "source": [
    "### CH-1-Homework\n",
    "\n",
    "------------------------------"
   ]
  },
  {
   "cell_type": "code",
   "execution_count": null,
   "metadata": {
    "collapsed": true
   },
   "outputs": [],
   "source": [
    "import Counter*"
   ]
  },
  {
   "cell_type": "markdown",
   "metadata": {},
   "source": [
    "### Question 1:  Generate Genome of length 100 and find a frequent word using ```FrequentWords( )``` ."
   ]
  },
  {
   "cell_type": "code",
   "execution_count": 3,
   "metadata": {
    "collapsed": true
   },
   "outputs": [],
   "source": [
    "def DNA_generator(length):\n",
    "        Genome = ['A','C','G','T']\n",
    "        DNA = \"\"\n",
    "        for i in range(length):\n",
    "               DNA = DNA+random.choice(Genome)\n",
    "        return DNA "
   ]
  },
  {
   "cell_type": "code",
   "execution_count": null,
   "metadata": {
    "collapsed": true
   },
   "outputs": [],
   "source": []
  },
  {
   "cell_type": "markdown",
   "metadata": {},
   "source": [
    "-------"
   ]
  },
  {
   "cell_type": "markdown",
   "metadata": {},
   "source": [
    "### Question 2:  Find the Reverse Complement of Genome = 'ATGCGTATCG'"
   ]
  },
  {
   "cell_type": "code",
   "execution_count": null,
   "metadata": {
    "collapsed": true
   },
   "outputs": [],
   "source": []
  },
  {
   "cell_type": "markdown",
   "metadata": {},
   "source": [
    "----------"
   ]
  },
  {
   "cell_type": "markdown",
   "metadata": {},
   "source": [
    "### Question 3:  Generate Genome of length 100 and find Skew and make a SKEW progress plot along the length of genome."
   ]
  },
  {
   "cell_type": "code",
   "execution_count": null,
   "metadata": {
    "collapsed": true
   },
   "outputs": [],
   "source": []
  },
  {
   "cell_type": "markdown",
   "metadata": {},
   "source": [
    "---------"
   ]
  },
  {
   "cell_type": "markdown",
   "metadata": {},
   "source": [
    "### Question 4: What are Neighbors of \"ATCG\" with hamming distance 2?"
   ]
  },
  {
   "cell_type": "code",
   "execution_count": null,
   "metadata": {
    "collapsed": true
   },
   "outputs": [],
   "source": []
  },
  {
   "cell_type": "markdown",
   "metadata": {},
   "source": [
    "---------"
   ]
  },
  {
   "cell_type": "markdown",
   "metadata": {},
   "source": [
    "### Question 5:  Generate Genome of length 100 and find a frequent word  with mis match using ```FrequentWordsWithMisMatch( )``` . How is this different from Question 1?"
   ]
  },
  {
   "cell_type": "code",
   "execution_count": null,
   "metadata": {
    "collapsed": true
   },
   "outputs": [],
   "source": []
  },
  {
   "cell_type": "markdown",
   "metadata": {},
   "source": [
    "----------"
   ]
  },
  {
   "cell_type": "markdown",
   "metadata": {},
   "source": [
    "### Question 6: Generate Genome of length 100 and find a frequent word with Sorting using ```FindingFrequentWordsBySorting( )``` . How is this different from Question 1 and 5?"
   ]
  },
  {
   "cell_type": "code",
   "execution_count": null,
   "metadata": {
    "collapsed": true
   },
   "outputs": [],
   "source": []
  },
  {
   "cell_type": "markdown",
   "metadata": {},
   "source": [
    "----------"
   ]
  },
  {
   "cell_type": "markdown",
   "metadata": {},
   "source": [
    "### Question 7: Generate DNA of length 1000 and present a FrequencyArray."
   ]
  },
  {
   "cell_type": "code",
   "execution_count": null,
   "metadata": {
    "collapsed": true
   },
   "outputs": [],
   "source": []
  },
  {
   "cell_type": "markdown",
   "metadata": {},
   "source": [
    "----------"
   ]
  },
  {
   "cell_type": "markdown",
   "metadata": {},
   "source": [
    "### Question 8: Generate Genome of length 100 and find a frequent word with Sorting using ```FindingFrequentWordsWithMisMatchsBySorting( )``` . How is this different from Question 1, 5, 6?"
   ]
  },
  {
   "cell_type": "code",
   "execution_count": 1,
   "metadata": {
    "collapsed": true
   },
   "outputs": [],
   "source": [
    "def FindingFrequentWordsWithMismatchesBySorting(Text,k,d,verbose =False):\n",
    "    \n",
    "    \n",
    "    '''This function implements neighbor function to calculate neighborhood list\n",
    "    and counts which pattern has maximum number of neighbors'''\n",
    "    \n",
    "    \n",
    "    '''Take an empty FrequentPattern list'''\n",
    "    FrequentPattern = []\n",
    "    \n",
    "    '''Take an empty Neighborhoods list'''\n",
    "    Neighborhoods = []\n",
    "     \n",
    "    \n",
    "    '''Iterate through sliding window of size k'''\n",
    "    for i in range(len(Text)-k+1):\n",
    "        \n",
    "        '''Add neighbors of selected Pattern to Neighborhoods list'''\n",
    "        Neighborhoods.append(Neighbors(Text[i:i+k],d))\n",
    "        \n",
    "     \n",
    "    '''Create a NeighborhoodArray called NHA'''\n",
    "    NHA = []\n",
    "    '''Iterate over all lists in Neighborhoods'''\n",
    "    for item in Neighborhoods:\n",
    "        '''Iterate over each nbr in selected list of Neighborhoods'''\n",
    "        for nbr in item:\n",
    "            '''add all of them to list NHA'''\n",
    "            NHA.append(nbr)\n",
    "            \n",
    "    \n",
    "    if verbose:\n",
    "            print(\"Neighborhoods:\",Neighborhoods,\\\n",
    "                  \"\\n\",\"----------------------------------------------------\",\"\\n\",\\\n",
    "                  \"NeighborhoodArray:\", NHA, \"\\n NeighborhoodArray has length:\",len(NHA))\n",
    "            print(\"========================================================\")\n",
    "        \n",
    "    \n",
    "    '''Initiate Count list'''\n",
    "    Count = [0 for i in range(len(NHA))]\n",
    "    \n",
    "    '''Initiate Index list'''\n",
    "    Index = [0 for i in range(len(NHA))]\n",
    "        \n",
    "        \n",
    "    '''Iterate over each element of Neighborhood Array'''   \n",
    "    for j in range(len(NHA)):\n",
    "        Pattern = NHA[j]\n",
    "        Index[j] = PatternToNumber(Pattern)\n",
    "        Count[j] = 1\n",
    "        \n",
    "        \n",
    "        if verbose:\n",
    "            print(\"Pattern:\",Pattern,\\\n",
    "                  \"\\n Index:\", Index,\\\n",
    "                  \"\\n Count:\", Count)\n",
    "            \n",
    "            \n",
    "    '''Sort the Index list'''        \n",
    "    SORTEDINDEX = list(np.sort(Index))\n",
    "        \n",
    "    \n",
    "    if verbose:\n",
    "        print(\"----------------------------------\")  \n",
    "        print(\"SORTEDINDEX is:\", SORTEDINDEX)\n",
    "        print(\"--------------------------------\")  \n",
    "    \n",
    "    \n",
    "    \n",
    "    '''If immediate index are doublicate,frequency increases '''\n",
    "    for i in range(len(Neighborhoods)):\n",
    "            if SORTEDINDEX[i] == SORTEDINDEX[i+1]:\n",
    "                Count[i+1] = Count[i]+1\n",
    "           \n",
    "               \n",
    "    '''What is maximum frequency?'''\n",
    "    maxCount = max(Count)\n",
    "    \n",
    "    \n",
    "    '''Reverse engineering: \n",
    "    Which pattern is associated with maximum frequency'''\n",
    "    for i in range(len(Neighborhoods)):\n",
    "        if Count[i] == maxCount:\n",
    "            Pattern = NumberToPattern(SORTEDINDEX[i],k)\n",
    "            FrequentPattern.append(Pattern)\n",
    "            \n",
    "            \n",
    "            \n",
    "    if verbose:\n",
    "                print(\"your FrequentPattern is:\",FrequentPattern)"
   ]
  },
  {
   "cell_type": "code",
   "execution_count": 2,
   "metadata": {
    "collapsed": true
   },
   "outputs": [],
   "source": [
    "import time as time"
   ]
  },
  {
   "cell_type": "code",
   "execution_count": null,
   "metadata": {
    "collapsed": true
   },
   "outputs": [],
   "source": [
    "Text = DNA_generator(10000)\n",
    "print(\"DNA taken:\",Text)\n",
    "ts = time.start()\n",
    "frq = FindingFrequentWordsWithMismatchesBySorting(Text,k =3,d=1, verbose=True)\n",
    "te = time.end()\n",
    "print(ts-te)"
   ]
  },
  {
   "cell_type": "code",
   "execution_count": null,
   "metadata": {},
   "outputs": [],
   "source": []
  },
  {
   "cell_type": "code",
   "execution_count": 1,
   "metadata": {},
   "outputs": [],
   "source": [
    "def PatternCount(Text,Pattern,verbose=False):\n",
    "    \n",
    "    '''This function counts the given \"Pattern\" within the supplied \"Text\":\n",
    "        Text: DNA string\n",
    "        Pattern: certain kmer'''\n",
    "   \n",
    "    count = 0\n",
    "    window_step = 0\n",
    "    \n",
    "    \n",
    "    for i in range(len(Text) - len(Pattern) + 1):\n",
    "        \n",
    "        \n",
    "        '''this counts the sliding window of text'''\n",
    "        window_step += 1\n",
    "        \n",
    "        \n",
    "        \n",
    "        if verbose:\n",
    "            print('loop:',i,\\\n",
    "                  'window_step:',window_step,\\\n",
    "                  'count:',count,\\\n",
    "                  \"pattern within window:\",Text[i:i+len(Pattern)])\n",
    "            \n",
    "            \n",
    "            \n",
    "        '''if pattern matches with text within the slidding window then\n",
    "        count is increased by 1'''  \n",
    "        if Text[i:i+len(Pattern)] == Pattern:\n",
    "            count += 1 \n",
    "            \n",
    "    \n",
    "    return count"
   ]
  },
  {
   "cell_type": "code",
   "execution_count": 10,
   "metadata": {},
   "outputs": [
    {
     "data": {
      "text/plain": [
       "5"
      ]
     },
     "execution_count": 10,
     "metadata": {},
     "output_type": "execute_result"
    }
   ],
   "source": [
    "PatternCount(\"CGCGATACGTTACATACATGATAGACCGCGCGCGATCATATCGCGATTATC\", \"CGCG\")"
   ]
  },
  {
   "cell_type": "code",
   "execution_count": null,
   "metadata": {},
   "outputs": [],
   "source": [
    "PatternCount(\"CGCGATACGTTACATACATGATAGACCGCGCGCGATCATATCGCGATTATC\", \"CGCG\")"
   ]
  },
  {
   "cell_type": "code",
   "execution_count": 4,
   "metadata": {},
   "outputs": [],
   "source": [
    "def FrequentWords(Text , k, verbose=False):\n",
    "    \n",
    "    '''This function finds the frequent kmer of size k by utilizing function \"PatternCount()\":\n",
    "        Text: supplied text body of DNA\n",
    "        k: length of kmer '''\n",
    "    \n",
    "    FreqPatterns = []\n",
    "    Counts = []\n",
    "    \n",
    "    \n",
    "    \n",
    "    for i in range(len(Text) - k + 1):\n",
    "        \n",
    "        \n",
    "        '''Pattern picks up the letter within the sliding window[i:i+k] only'''\n",
    "        Pattern = Text[i:i+k]\n",
    "        \n",
    "        \n",
    "        '''Count the pattern frequency within Text'''\n",
    "        Num = PatternCount(Text,Pattern)\n",
    "        \n",
    "        \n",
    "        '''Add count value in Counts list'''\n",
    "        Counts.append(Num)\n",
    "        \n",
    "        \n",
    "        \n",
    "        if verbose:\n",
    "            print('selected pattern:',Pattern)\n",
    "            print('pattern num:', Num)\n",
    "            print('list growth:', Counts)\n",
    "            print('------------------------')\n",
    "            \n",
    "        \n",
    "    '''Find the maximum value of counts'''    \n",
    "    maxcount = max(Counts)\n",
    "    \n",
    "    \n",
    "    \n",
    "    for i in range(len(Text) - k + 1):\n",
    "        \n",
    "        '''Find out the kmer which has count value equal to maxcount'''\n",
    "        if Counts[i] == maxcount:\n",
    "            FreqPatterns.append(Text[i:i+k])\n",
    "            \n",
    "            \n",
    "            \n",
    "            if verbose:\n",
    "                print('frequent pattern:',Text[i:i+k],\\\n",
    "                      \"frequent pattern collection:\",FreqPatterns)\n",
    "            \n",
    "            \n",
    "            \n",
    "    '''Select the unique kmers only'''        \n",
    "    FreqPatterns = set(FreqPatterns)\n",
    "    \n",
    "    \n",
    "    return list(FreqPatterns)"
   ]
  },
  {
   "cell_type": "code",
   "execution_count": 11,
   "metadata": {},
   "outputs": [
    {
     "data": {
      "text/plain": [
       "['CCT']"
      ]
     },
     "execution_count": 11,
     "metadata": {},
     "output_type": "execute_result"
    }
   ],
   "source": [
    "FrequentWords(\"CGCCTAAATAGCCTCGCGGAGCCTTATGTCATACTCGTCCT\" , 3, verbose=False)"
   ]
  },
  {
   "cell_type": "code",
   "execution_count": 6,
   "metadata": {},
   "outputs": [],
   "source": [
    "def ReverseComplement(Text):\n",
    "    '''initiate a vacant string'''\n",
    "    rText =\"\"\n",
    "    '''all letters are replaced by reverse letters'''\n",
    "    for i in range(len(Text)):\n",
    "        if Text[i] == \"A\":\n",
    "              rText = \"T\" + rText\n",
    "        elif Text[i] == \"T\":\n",
    "              rText  = \"A\" + rText\n",
    "        elif Text[i] == \"G\":\n",
    "              rText  = \"C\" + rText\n",
    "        elif Text[i] == \"C\":\n",
    "              rText = \"G\" + rText\n",
    "    return rText.reverse()\n"
   ]
  },
  {
   "cell_type": "code",
   "execution_count": 9,
   "metadata": {},
   "outputs": [
    {
     "data": {
      "text/plain": [
       "'GGTCTAG'"
      ]
     },
     "execution_count": 9,
     "metadata": {},
     "output_type": "execute_result"
    }
   ],
   "source": [
    "ReverseComplement(\"CCAGATC\")"
   ]
  },
  {
   "cell_type": "code",
   "execution_count": 13,
   "metadata": {},
   "outputs": [],
   "source": [
    "def HammingDistance(genome1,genome2):\n",
    "    \n",
    "    '''This function finds the hamming distance by calculating \n",
    "    the number of mismatches between two genomes'''\n",
    "    \n",
    "    \n",
    "    '''Initiate the score'''\n",
    "    score = 0\n",
    "    \n",
    "    '''Are genome length equal? send error otherwise'''\n",
    "    if len(genome1) != len(genome2):\n",
    "        print(\"Error\")\n",
    "        \n",
    "    else:\n",
    "        ''' score increases by 1 when mismatch occurs'''\n",
    "        for i in range(len(genome1)):\n",
    "            if genome1[i] != genome2[i]:\n",
    "                score += 1\n",
    "                \n",
    "    return score"
   ]
  },
  {
   "cell_type": "code",
   "execution_count": 14,
   "metadata": {},
   "outputs": [
    {
     "data": {
      "text/plain": [
       "50"
      ]
     },
     "execution_count": 14,
     "metadata": {},
     "output_type": "execute_result"
    }
   ],
   "source": [
    "D1 = \"TGACCCGTTATGCTCGAGTTCGGTCAGAGCGTCATTGCGAGTAGTCGTTTGCTTTCTCAAACTCC\"\n",
    "D2 = \"GAGCGATTAAGCGTGACAGCCCCAGGGAACCCACAAAACGTGATCGCAGTCCATCCGATCATACA\"\n",
    "HammingDistance(D1,D2)"
   ]
  },
  {
   "cell_type": "code",
   "execution_count": 15,
   "metadata": {},
   "outputs": [],
   "source": [
    "def Skew(Genome, verbose=False):\n",
    "    \n",
    "    '''This function finds the skew score #G-#C of the given Genome'''\n",
    "    \n",
    "    '''SkewList stores current skew for ploting purpose'''\n",
    "    SkewList = [0]\n",
    "    \n",
    "    \n",
    "    '''CurrentSkew keeps changing'''\n",
    "    CurrentSkew = 0\n",
    "    \n",
    "    \n",
    "    '''Iterate through each letter of genome'''\n",
    "    for i in range(len(Genome)):\n",
    "        \n",
    "        \n",
    "        if Genome[i] == 'C':\n",
    "            '''If you meet letter C, CurrentSkew decreases by 1'''\n",
    "            SkewList.append(SkewList[i] - 1)\n",
    "            CurrentSkew -= 1\n",
    "            \n",
    "        \n",
    "            \n",
    "        elif Genome[i] == 'G':\n",
    "            '''If you meet letter G, CurrentSkew increases by 1'''    \n",
    "            SkewList.append(SkewList[i] + 1)\n",
    "            CurrentSkew += 1\n",
    "            \n",
    "            \n",
    "        else:\n",
    "            '''Do nothing otherwise, just keep appending old CurrentSkew''' \n",
    "            SkewList.append(SkewList[i])\n",
    "            \n",
    "            \n",
    "            \n",
    "        if verbose:\n",
    "            print(Genome[i],CurrentSkew)\n",
    "            \n",
    "            \n",
    "            \n",
    "    return SkewList\n"
   ]
  },
  {
   "cell_type": "code",
   "execution_count": 17,
   "metadata": {},
   "outputs": [
    {
     "data": {
      "text/plain": [
       "1"
      ]
     },
     "execution_count": 17,
     "metadata": {},
     "output_type": "execute_result"
    }
   ],
   "source": [
    "max(Skew(\"GCATACACTTCCCAGTAGGTACTG\"))"
   ]
  },
  {
   "cell_type": "code",
   "execution_count": null,
   "metadata": {},
   "outputs": [],
   "source": [
    "Count(\"CATGCCATTCGCATTGTCCCAGTGA\", CCC)"
   ]
  },
  {
   "cell_type": "code",
   "execution_count": 29,
   "metadata": {},
   "outputs": [],
   "source": [
    "def SymbolToNumber(symbol):\n",
    "        for s in enumerate([\"A\",\"C\",\"G\",\"T\"]):\n",
    "            if s[1]==symbol:\n",
    "                return s[0]"
   ]
  },
  {
   "cell_type": "code",
   "execution_count": 30,
   "metadata": {},
   "outputs": [],
   "source": [
    "def PatternToNumber(Pattern,verbose=False):\n",
    "    \n",
    "    '''This function returns a index of a 'Pattern' using recursive algorithm'''\n",
    "            \n",
    "    if len(Pattern)==0:\n",
    "        \n",
    "        return 0\n",
    "    \n",
    "    else:\n",
    "    \n",
    "        '''last letter is a symbol'''\n",
    "        Symbol = Pattern[-1]\n",
    "    \n",
    "        '''all but last are prefix pattern'''\n",
    "        Prefix = Pattern[0:-1]\n",
    "    \n",
    "    \n",
    "        if verbose:\n",
    "            print(\"prefixPattern:\",Prefix,\\\n",
    "                  \", Symbol:\",Symbol,\\\n",
    "                  \", prefixIndex:\",PatternToNumber(Prefix),\\\n",
    "                  \", SymbolIndex:\",SymbolToNumber(Symbol),\\\n",
    "                  \"=>\",\\\n",
    "                  \"4*(\",PatternToNumber(Prefix),\\\n",
    "                  \")+(\",SymbolToNumber(Symbol),\\\n",
    "                  \") = \",4*PatternToNumber(Prefix)+SymbolToNumber(Symbol)  )\n",
    "            \n",
    "        \n",
    "    \n",
    "        if verbose:\n",
    "            '''to keep printing in every cycle''' \n",
    "            return 4*PatternToNumber(Prefix,verbose=True)+SymbolToNumber(Symbol)\n",
    "        else:\n",
    "            '''verbose=False id defult here'''\n",
    "            return 4*PatternToNumber(Prefix)+SymbolToNumber(Symbol)  "
   ]
  },
  {
   "cell_type": "code",
   "execution_count": 35,
   "metadata": {},
   "outputs": [
    {
     "data": {
      "text/plain": [
       "387274188616"
      ]
     },
     "execution_count": 35,
     "metadata": {},
     "output_type": "execute_result"
    }
   ],
   "source": [
    "PatternToNumber(\"CCGGAGGTCCCTAGCTCAGA\", verbose = False)"
   ]
  },
  {
   "cell_type": "code",
   "execution_count": 32,
   "metadata": {},
   "outputs": [],
   "source": [
    "def NumberToSymbol(n):\n",
    "    if n==0:\n",
    "        return \"A\"\n",
    "    elif n==1:\n",
    "        return \"C\"\n",
    "    elif n==2:\n",
    "        return \"G\"\n",
    "    else:\n",
    "        return \"T\""
   ]
  },
  {
   "cell_type": "code",
   "execution_count": 33,
   "metadata": {},
   "outputs": [],
   "source": [
    "def NumberToPattern(Index,PatternLength,verbose=False):\n",
    "    \n",
    "        '''This function returns Pattern for given Index'''\n",
    "        \n",
    "        if PatternLength ==1:\n",
    "            return NumberToSymbol(Index)\n",
    "        \n",
    "        else:\n",
    "            \n",
    "            '''Index = 4*quotient+ reminder'''\n",
    "            prefixIndex = int(Index/4)\n",
    "            Reminder = Index%4\n",
    "            \n",
    "            \n",
    "            '''Convert reminder to Symbol'''\n",
    "            Symbol = NumberToSymbol(Reminder)\n",
    "            \n",
    "           \n",
    "            if verbose:\n",
    "                print(\"prefixIndex:\",prefixIndex,\\\n",
    "                      \", Reminder:\",Reminder,\n",
    "                      \", Symbol:\",Symbol,\\\n",
    "                      \"=>\",Index,\"=\",\\\n",
    "                      \"4*\",prefixIndex,\\\n",
    "                      \"+\",Reminder)\n",
    "                \n",
    "                \n",
    "            if verbose:\n",
    "                return NumberToPattern(prefixIndex,PatternLength-1, verbose =True) + Symbol\n",
    "            else:\n",
    "                return NumberToPattern(prefixIndex,PatternLength-1) + Symbol"
   ]
  },
  {
   "cell_type": "code",
   "execution_count": 34,
   "metadata": {},
   "outputs": [
    {
     "data": {
      "text/plain": [
       "'CCCATTC'"
      ]
     },
     "execution_count": 34,
     "metadata": {},
     "output_type": "execute_result"
    }
   ],
   "source": [
    "NumberToPattern(5437,7,verbose=False)"
   ]
  },
  {
   "cell_type": "code",
   "execution_count": 36,
   "metadata": {},
   "outputs": [
    {
     "data": {
      "text/plain": [
       "'AAAACTGCAAC'"
      ]
     },
     "execution_count": 36,
     "metadata": {},
     "output_type": "execute_result"
    }
   ],
   "source": [
    "NumberToPattern(7745,11,verbose=False)"
   ]
  },
  {
   "cell_type": "code",
   "execution_count": null,
   "metadata": {},
   "outputs": [],
   "source": []
  }
 ],
 "metadata": {
  "kernelspec": {
   "display_name": "Python 3",
   "language": "python",
   "name": "python3"
  },
  "language_info": {
   "codemirror_mode": {
    "name": "ipython",
    "version": 3
   },
   "file_extension": ".py",
   "mimetype": "text/x-python",
   "name": "python",
   "nbconvert_exporter": "python",
   "pygments_lexer": "ipython3",
   "version": "3.7.6"
  },
  "widgets": {
   "state": {},
   "version": "1.1.2"
  }
 },
 "nbformat": 4,
 "nbformat_minor": 2
}
